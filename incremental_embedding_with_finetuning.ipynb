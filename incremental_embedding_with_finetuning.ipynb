{
 "cells": [
  {
   "cell_type": "code",
   "execution_count": null,
   "id": "5ae0a60c",
   "metadata": {},
   "outputs": [],
   "source": [
    "tokenizer.word_index"
   ]
  },
  {
   "cell_type": "markdown",
   "id": "84b81f32",
   "metadata": {},
   "source": [
    "# First Time Window Start"
   ]
  },
  {
   "cell_type": "markdown",
   "id": "76eed701",
   "metadata": {},
   "source": [
    "## 1. Dataset Generation and Pre-processing"
   ]
  },
  {
   "cell_type": "code",
   "execution_count": 2,
   "id": "17cec4e0",
   "metadata": {
    "scrolled": true
   },
   "outputs": [
    {
     "name": "stderr",
     "output_type": "stream",
     "text": [
      "Using TensorFlow backend.\n"
     ]
    },
    {
     "data": {
      "text/plain": [
       "[('spark.eventLog.enabled', 'true'),\n",
       " ('spark.executor.instances', '3'),\n",
       " ('spark.sql.execution.arrow.enabled', 'true'),\n",
       " ('spark.driver.memory', '4g'),\n",
       " ('spark.executor.cores', '5'),\n",
       " ('spark.executor.extraJavaOptions', '-XX:+UseG1GC'),\n",
       " ('spark.driver.extraJavaOptions', '-XX:+UseG1GC'),\n",
       " ('spark.driver.appUIAddress', 'http://kafka1:4041'),\n",
       " ('spark.driver.host', 'kafka1'),\n",
       " ('spark.driver.port', '43319'),\n",
       " ('spark.serializer', 'org.apache.spark.serializer.KryoSerializer'),\n",
       " ('spark.yarn.archive', 'hdfs:///user/spark/conf/spark-libs.jar'),\n",
       " ('spark.app.id', 'application_1643192276452_0118'),\n",
       " ('spark.serializer.objectStreamReset', '100'),\n",
       " ('spark.sql.shuffle.partitions', '200'),\n",
       " ('spark.submit.deployMode', 'client'),\n",
       " ('spark.ui.filters',\n",
       "  'org.apache.hadoop.yarn.server.webproxy.amfilter.AmIpFilter'),\n",
       " ('spark.kryoserializer.buffer.max', '2047'),\n",
       " ('spark.executor.memoryOverhead', '1g'),\n",
       " ('spark.driver.memoryOverhead', '1g'),\n",
       " ('spark.executor.memory', '4g'),\n",
       " ('spark.executor.id', 'driver'),\n",
       " ('spark.history.fs.logDirectory', 'file:///root/spark/eventLog'),\n",
       " ('spark.default.parallelism', '163'),\n",
       " ('spark.app.name', 'PySparkShell'),\n",
       " ('spark.network.timeout', '3600s'),\n",
       " ('spark.executorEnv.PYTHONPATH',\n",
       "  '/root/spark/python/lib/py4j-0.10.7-src.zip:/root/spark/python/:/python:/python/lib/py4j-0.10.7-src.zip:<CPS>{{PWD}}/pyspark.zip<CPS>{{PWD}}/py4j-0.10.7-src.zip'),\n",
       " ('spark.master', 'yarn'),\n",
       " ('spark.org.apache.hadoop.yarn.server.webproxy.amfilter.AmIpFilter.param.PROXY_URI_BASES',\n",
       "  'http://0.0.0.0:8089/proxy/application_1643192276452_0118'),\n",
       " ('spark.sql.catalogImplementation', 'hive'),\n",
       " ('spark.rdd.compress', 'True'),\n",
       " ('spark.org.apache.hadoop.yarn.server.webproxy.amfilter.AmIpFilter.param.PROXY_HOSTS',\n",
       "  '0.0.0.0'),\n",
       " ('spark.ui.proxyBase', '/proxy/application_1643192276452_0118'),\n",
       " ('spark.yarn.isPython', 'true'),\n",
       " ('spark.deploy.mode', 'client'),\n",
       " ('spark.eventLog.dir', 'file:///root/spark/eventLog'),\n",
       " ('spark.ui.showConsoleProgress', 'true')]"
      ]
     },
     "execution_count": 2,
     "metadata": {},
     "output_type": "execute_result"
    }
   ],
   "source": [
    "!export PYSPARK_PYTHON=python3.6.9\n",
    "from tensorflow.keras.models import Sequential\n",
    "from tensorflow.keras.layers import Input, Dense, Conv2D\n",
    "from tensorflow.keras.layers import MaxPooling2D, Dropout,Flatten\n",
    "from tensorflow.keras import backend as K\n",
    "from tensorflow.keras.models import Model\n",
    "import numpy as np\n",
    "import matplotlib.pyplot as plt\n",
    "from tensorflow.keras import layers\n",
    "from tensorflow.keras.layers import Embedding\n",
    "import subprocess\n",
    "import tensorflow as tf\n",
    "from sklearn.feature_extraction import _stop_words\n",
    "from sklearn.feature_extraction.text import CountVectorizer\n",
    "from collections import Counter\n",
    "from nltk.corpus import brown\n",
    "from tensorflow.keras.layers.experimental.preprocessing import TextVectorization\n",
    "from pyspark import SparkContext\n",
    "from pyspark.sql.session import SparkSession\n",
    "from pyspark.streaming import StreamingContext\n",
    "from pyspark.ml import Pipeline\n",
    "from pyspark.ml.feature import StringIndexer, OneHotEncoderEstimator, VectorAssembler\n",
    "from pyspark.ml.feature import StopWordsRemover, Word2Vec, RegexTokenizer, Tokenizer\n",
    "from pyspark.ml.classification import LogisticRegression\n",
    "from pyspark.sql import Row\n",
    "from pyspark.streaming.kafka import KafkaUtils\n",
    "import pyspark.sql.functions as f\n",
    "import json\n",
    "import re\n",
    "from pyspark.sql import SparkSession, SQLContext\n",
    "from pyspark.sql.functions import *\n",
    "import sys\n",
    "from pyspark.sql.types import *\n",
    "from pyspark.sql.types import StructType, StructField, StringType, IntegerType\n",
    "from pyspark.sql.functions import from_json\n",
    "from pyspark.sql.functions import lit\n",
    "import pickle\n",
    "import tensorflow.keras\n",
    "from keras.preprocessing.text import Tokenizer\n",
    "from keras.preprocessing.sequence import pad_sequences\n",
    "from numpy import zeros\n",
    "from keras.models import model_from_json\n",
    "from tensorflow import keras\n",
    "\n",
    "spark.sparkContext.getConf().getAll()"
   ]
  },
  {
   "cell_type": "code",
   "execution_count": null,
   "id": "447e3ce0",
   "metadata": {},
   "outputs": [],
   "source": [
    "# 임시코드\n",
    "csi_pos_neg = spark.read.csv(\"hdfs:///user/spark/datafile/csiposneg.csv\", header=True)\n",
    "csi_pos_neg = csi_pos_neg.withColumn(\"label\",col(\"label\").cast(\"integer\"))"
   ]
  },
  {
   "cell_type": "code",
   "execution_count": null,
   "id": "10ad5d97",
   "metadata": {},
   "outputs": [],
   "source": [
    "f = open('/root/keywordset.txt', 'r', encoding='utf-8')\n",
    "keyfile = f.readline()\n",
    "keyword_list = list()\n",
    "keywords = keyfile.split(',')\n",
    "for keyword in keywords:\n",
    "    keyword_list.append(keyword.strip())"
   ]
  },
  {
   "cell_type": "code",
   "execution_count": null,
   "id": "23617149",
   "metadata": {},
   "outputs": [],
   "source": [
    "t1 = csi_pos_neg.collect()[:44878]\n",
    "t2 = csi_pos_neg.collect()[44878:89756]\n",
    "t3 = csi_pos_neg.collect()[89756:99756]\n",
    "\n",
    "t4 = csi_pos_neg.collect()[99756:144634]\n",
    "t5 = csi_pos_neg.collect()[144634:189512]\n",
    "t6 = csi_pos_neg.collect()[189512:199512]\n",
    "\n",
    "t1 = spark.createDataFrame(t1)\n",
    "t2 = spark.createDataFrame(t2)\n",
    "t3 = spark.createDataFrame(t3)\n",
    "t4 = spark.createDataFrame(t4)\n",
    "t5 = spark.createDataFrame(t5)\n",
    "t6 = spark.createDataFrame(t6)\n",
    "\n",
    "first_df = t2.union(t5) #.union(t3).union(t7) # 179512 \n",
    "first_df_df = t1.union(t4)\n",
    "second_df = t3.union(t6) # 20000 -> unrevealed data for all periods\n",
    "first_df = first_df.drop(col('_c0'))\n",
    "first_df_df = first_df_df.drop(col('_c0'))\n",
    "all_df = t1.union(t5).union(t2).union(t6)\n",
    "second_df = second_df.drop(col('_c0'))"
   ]
  },
  {
   "cell_type": "code",
   "execution_count": null,
   "id": "c2e7eed7",
   "metadata": {},
   "outputs": [],
   "source": [
    "# get_tokens 함수과 같은 용도\n",
    "stage_1 = RegexTokenizer(inputCol= 'text', outputCol='pos_t', pattern= '\\\\W')\n",
    "# get_lemma 함수와 같은 용도\n",
    "stage_2 = StopWordsRemover(inputCol= stage_1.getOutputCol(), outputCol= 'filtered_words')\n",
    "\n",
    "mid_pipeline = Pipeline(stages=[stage_1, stage_2])\n",
    "mid_preprocessing = mid_pipeline.fit(first_df)\n",
    "mid_preprocessed = mid_preprocessing.transform(first_df)"
   ]
  },
  {
   "cell_type": "markdown",
   "id": "8dc403e4",
   "metadata": {},
   "source": [
    "## 2. W2V embedding with pre-trained glove vector"
   ]
  },
  {
   "cell_type": "code",
   "execution_count": null,
   "id": "e7be6948",
   "metadata": {},
   "outputs": [],
   "source": [
    "class vocabulary:\n",
    "    staticList = list()\n",
    "    \n",
    "class label:\n",
    "    staticList = list()"
   ]
  },
  {
   "cell_type": "code",
   "execution_count": null,
   "id": "78dbd94d",
   "metadata": {},
   "outputs": [],
   "source": [
    "from gensim.test.utils import datapath\n",
    "from gensim.test.utils import get_tmpfile, common_dictionary, common_corpus\n",
    "from gensim.models import KeyedVectors\n",
    "from gensim.scripts.glove2word2vec import glove2word2vec\n",
    "\n",
    "# load the vectors. other vector sizes were used but yielded generally less sensible models\n",
    "glove_file = datapath(\"/root/spark/glove.6B.100d.txt\")\n",
    "tmp_file = get_tmpfile(\"test_word2vec.txt\")\n",
    "\n",
    "_ = glove2word2vec(glove_file, tmp_file)\n",
    "\n",
    "glove_vectors = KeyedVectors.load_word2vec_format(tmp_file)"
   ]
  },
  {
   "cell_type": "code",
   "execution_count": null,
   "id": "1b201185",
   "metadata": {},
   "outputs": [],
   "source": [
    "from gensim.utils import simple_preprocess\n",
    "import pandas as pd\n",
    "\n",
    "vocabulary.staticList = [' '.join(sample) for sample in mid_preprocessed.select(\"filtered_words\").rdd.flatMap(lambda x: x).collect()]\n",
    "label.staticList = mid_preprocessed.select(\"label\").rdd.flatMap(lambda x: x).collect()\n",
    "\n",
    "df = pd.DataFrame(zip(vocabulary.staticList, label.staticList), columns = ['sentence_str', 'label'])\n",
    "# using gensim's built-in tokenizer \n",
    "df['gensim_tokenized'] = df['sentence_str'].map(lambda x: simple_preprocess(x.lower(),deacc=True, max_len=100))"
   ]
  },
  {
   "cell_type": "code",
   "execution_count": null,
   "id": "a4632431",
   "metadata": {},
   "outputs": [],
   "source": [
    "# for this to work, your input is going to be a list of tokenized sentences\n",
    "# since my data was in a dataframe, first I selected the appropriate series\n",
    "documents = df[df['label'] == 1]['gensim_tokenized']\n",
    "print(len(documents))\n",
    "# then made it into a list\n",
    "sentences = [sentence for sentence in documents]\n",
    "\n",
    "from sklearn.feature_extraction import _stop_words\n",
    "stopwords = list(_stop_words.ENGLISH_STOP_WORDS)\n",
    "\n",
    "cleaned_sentences = []\n",
    "for sentence in sentences:\n",
    "    cleaned = [word.lower() for word in sentence]\n",
    "    cleaned = [word for word in cleaned if word not in stopwords]\n",
    "    cleaned_sentences.append(cleaned)"
   ]
  },
  {
   "cell_type": "code",
   "execution_count": null,
   "id": "7412d30e",
   "metadata": {},
   "outputs": [],
   "source": [
    "whataboutthis = mid_preprocessed.filter(col('label')==1).select(\"filtered_words\").rdd.flatMap(lambda x: x).collect()"
   ]
  },
  {
   "cell_type": "code",
   "execution_count": null,
   "id": "f2ad56b7",
   "metadata": {},
   "outputs": [],
   "source": [
    "np.array(whataboutthis).shape"
   ]
  },
  {
   "cell_type": "code",
   "execution_count": null,
   "id": "db22f1f9",
   "metadata": {},
   "outputs": [],
   "source": [
    "np.array(cleaned_sentences).shape"
   ]
  },
  {
   "cell_type": "code",
   "execution_count": null,
   "id": "836f40a9",
   "metadata": {},
   "outputs": [],
   "source": [
    "from gensim.models.word2vec import Word2Vec\n",
    "\n",
    "# build a word2vec model on your dataset\n",
    "base_model = Word2Vec(size=100, min_count=3)\n",
    "base_model.build_vocab(whataboutthis) # update를 통해 나중에 업데이트를 하면될듯.\n",
    "total_examples = base_model.corpus_count"
   ]
  },
  {
   "cell_type": "code",
   "execution_count": null,
   "id": "77034de3",
   "metadata": {},
   "outputs": [],
   "source": [
    "# add GloVe's vocabulary & weights\n",
    "base_model.build_vocab([list(glove_vectors.vocab.keys())], update=True) # second time window에서 update시 어떻게 동작하는지 확인\n",
    "\n",
    "# train on your data\n",
    "base_model.train(whataboutthis, total_examples=total_examples, epochs=20) #최적의 eppoch를 찾자\n",
    "base_model_wv = base_model.wv"
   ]
  },
  {
   "cell_type": "code",
   "execution_count": null,
   "id": "f0a6b431",
   "metadata": {},
   "outputs": [],
   "source": [
    "base_model_wv.save_word2vec_format('/root/spark/w2v_for_nn.bin')\n",
    "base_model_wv.save('/root/spark/w2v_for_nn.wordvectors')"
   ]
  },
  {
   "cell_type": "markdown",
   "id": "0b6ad80c",
   "metadata": {},
   "source": [
    "## 3. TextVectorization"
   ]
  },
  {
   "cell_type": "code",
   "execution_count": null,
   "id": "59746830",
   "metadata": {},
   "outputs": [],
   "source": [
    "class voc:\n",
    "    staticList = list() # 현재는 계속해서 incremental하게 사이즈가 커지고 있다\n",
    "\n",
    "class word_index:\n",
    "    staticDict = dict() # 현재는 계속해서 incremental하게 사이즈가 커지고 있다\n",
    "    \n",
    "class x_train:\n",
    "    data = None"
   ]
  },
  {
   "cell_type": "code",
   "execution_count": null,
   "id": "edf61e01",
   "metadata": {},
   "outputs": [],
   "source": [
    "class a:\n",
    "    length = len(voc.staticList) # 현재는 계속해서 incremental하게 사이즈가 커지고 있다\n",
    "\n",
    "class b:\n",
    "    length = len(word_index.staticDict) # 현재는 계속해서 incremental하게 사이즈가 커지고 있다"
   ]
  },
  {
   "cell_type": "code",
   "execution_count": null,
   "id": "d8641136",
   "metadata": {},
   "outputs": [],
   "source": [
    "nb_words = len(base_model.wv.vocab.keys())\n",
    "print(nb_words)"
   ]
  },
  {
   "cell_type": "code",
   "execution_count": null,
   "id": "17b16c2e",
   "metadata": {},
   "outputs": [],
   "source": [
    "samples = [' '.join(sample) for sample in mid_preprocessed.select(\"filtered_words\").rdd.flatMap(lambda x: x).collect()]"
   ]
  },
  {
   "cell_type": "code",
   "execution_count": null,
   "id": "155a8bf0",
   "metadata": {},
   "outputs": [],
   "source": [
    "from tensorflow.keras.preprocessing.sequence import pad_sequences\n",
    "\n",
    "tokenizer = Tokenizer(num_words=10000)\n",
    "tokenizer.fit_on_texts(whataboutthis)\n",
    "train_sequences = tokenizer.texts_to_sequences(samples)\n",
    "x_train = pad_sequences(train_sequences, maxlen=200, padding='post')"
   ]
  },
  {
   "cell_type": "code",
   "execution_count": null,
   "id": "d0c6ede0",
   "metadata": {},
   "outputs": [],
   "source": [
    "from tensorflow.keras.utils import to_categorical\n",
    "y_train = to_categorical(label.staticList)"
   ]
  },
  {
   "cell_type": "code",
   "execution_count": null,
   "id": "36ea5b78",
   "metadata": {},
   "outputs": [],
   "source": [
    "consider_num = 10000\n",
    "\n",
    "# from keras.layers import Embedding\n",
    "\n",
    "word_index = tokenizer.word_index\n",
    "i = 0\n",
    "\n",
    "embedding_matrix = np.zeros((consider_num, 100))\n",
    "for word, i in word_index.items():\n",
    "    if i == consider_num:\n",
    "        break\n",
    "        \n",
    "    if word in base_model_wv.vocab:\n",
    "        embedding_matrix[i] = base_model_wv.word_vec(word)\n",
    "    i = i + 1\n",
    "\n",
    "print('Null word embeddings: %d' % np.sum(np.sum(embedding_matrix, axis=1) == 0))\n",
    "\n",
    "embedding_layer = Embedding(embedding_matrix.shape[0], # or len(word_index) + 1\n",
    "                            embedding_matrix.shape[1], # or EMBEDDING_DIM,\n",
    "                            weights=[embedding_matrix],\n",
    "                            input_length=200,\n",
    "                            trainable=False)"
   ]
  },
  {
   "cell_type": "code",
   "execution_count": 22,
   "id": "fe2cdc52",
   "metadata": {},
   "outputs": [],
   "source": [
    "from tensorflow.keras.models import Sequential\n",
    "from tensorflow.keras.layers import Conv1D, GlobalMaxPooling1D, Flatten\n",
    "from tensorflow.keras.layers import Dense, Input, LSTM, Embedding, Dropout, Activation, MaxPooling1D\n",
    "\n",
    "model = Sequential()\n",
    "model.add(embedding_layer)\n",
    "model.add(Conv1D(filters=32, kernel_size=8, activation='relu'))\n",
    "model.add(MaxPooling1D(pool_size=2))\n",
    "model.add(Conv1D(filters=32, kernel_size=8, activation='relu'))\n",
    "model.add(Flatten())\n",
    "model.add(Dense(100, activation='relu'))\n",
    "model.add(Dense(2, activation='softmax'))"
   ]
  },
  {
   "cell_type": "code",
   "execution_count": 24,
   "id": "44b06bd9",
   "metadata": {
    "scrolled": true
   },
   "outputs": [],
   "source": [
    "# from tensorflow.keras.models import Sequential\n",
    "# from tensorflow.keras.layers import Conv1D, GlobalMaxPooling1D, Flatten\n",
    "# from tensorflow.keras.layers import Dense, Input, LSTM, Embedding, Dropout, Activation, MaxPooling1D\n",
    "\n",
    "\n",
    "# model = Sequential()\n",
    "# model.add(embedding_layer)\n",
    "# model.add(Dropout(0.2))\n",
    "# model.add(Conv1D(300, 3, padding='valid',activation='relu',strides=2))\n",
    "# model.add(MaxPooling1D(5))\n",
    "# model.add(Conv1D(150, 3, padding='valid',activation='relu',strides=2))\n",
    "# # model.add(MaxPooling1D(5))\n",
    "# model.add(Conv1D(75, 3, padding='valid',activation='relu',strides=2))\n",
    "# model.add(Flatten())\n",
    "# model.add(Dropout(0.2))\n",
    "# model.add(Dense(150,activation='relu'))\n",
    "# model.add(Dropout(0.2))\n",
    "# model.add(Dense(2,activation='softmax'))\n",
    "# # model.compile(loss='categorical_crossentropy',optimizer='rmsprop',metrics=['acc'])\n",
    "# # model.summary()"
   ]
  },
  {
   "cell_type": "code",
   "execution_count": 23,
   "id": "ee34cb90",
   "metadata": {},
   "outputs": [
    {
     "name": "stdout",
     "output_type": "stream",
     "text": [
      "Model: \"sequential\"\n",
      "_________________________________________________________________\n",
      "Layer (type)                 Output Shape              Param #   \n",
      "=================================================================\n",
      "embedding (Embedding)        (None, 200, 100)          1000000   \n",
      "_________________________________________________________________\n",
      "conv1d (Conv1D)              (None, 193, 32)           25632     \n",
      "_________________________________________________________________\n",
      "max_pooling1d (MaxPooling1D) (None, 96, 32)            0         \n",
      "_________________________________________________________________\n",
      "conv1d_1 (Conv1D)            (None, 89, 32)            8224      \n",
      "_________________________________________________________________\n",
      "flatten (Flatten)            (None, 2848)              0         \n",
      "_________________________________________________________________\n",
      "dense (Dense)                (None, 100)               284900    \n",
      "_________________________________________________________________\n",
      "dense_1 (Dense)              (None, 2)                 202       \n",
      "=================================================================\n",
      "Total params: 1,318,958\n",
      "Trainable params: 318,958\n",
      "Non-trainable params: 1,000,000\n",
      "_________________________________________________________________\n"
     ]
    }
   ],
   "source": [
    "first_optimizer = tensorflow.keras.optimizers.Adam(learning_rate=0.001)\n",
    "model.compile(loss='categorical_crossentropy',optimizer=first_optimizer,metrics=['acc'])\n",
    "model.summary()"
   ]
  },
  {
   "cell_type": "code",
   "execution_count": 24,
   "id": "7e700951",
   "metadata": {},
   "outputs": [],
   "source": [
    "from sklearn.model_selection import train_test_split\n",
    "x_train, x_valid, y_train, y_valid = train_test_split(x_train, y_train, test_size=0.25, shuffle=True)"
   ]
  },
  {
   "cell_type": "code",
   "execution_count": 25,
   "id": "70c1d661",
   "metadata": {},
   "outputs": [
    {
     "name": "stdout",
     "output_type": "stream",
     "text": [
      "Epoch 1/6\n",
      "263/263 [==============================] - 14s 54ms/step - loss: 0.3230 - acc: 0.8528 - val_loss: 0.2748 - val_acc: 0.8864\n",
      "Epoch 2/6\n",
      "263/263 [==============================] - 14s 53ms/step - loss: 0.2472 - acc: 0.8969 - val_loss: 0.2542 - val_acc: 0.8934\n",
      "Epoch 3/6\n",
      "263/263 [==============================] - 14s 53ms/step - loss: 0.2233 - acc: 0.9071 - val_loss: 0.2512 - val_acc: 0.8951\n",
      "Epoch 4/6\n",
      "263/263 [==============================] - 14s 53ms/step - loss: 0.2063 - acc: 0.9150 - val_loss: 0.2474 - val_acc: 0.8987\n",
      "Epoch 5/6\n",
      "263/263 [==============================] - 14s 53ms/step - loss: 0.1912 - acc: 0.9201 - val_loss: 0.2469 - val_acc: 0.8985\n",
      "Epoch 6/6\n",
      "263/263 [==============================] - 14s 53ms/step - loss: 0.1814 - acc: 0.9248 - val_loss: 0.2493 - val_acc: 0.9023\n",
      "[0.3229740858078003, 0.2471819967031479, 0.2233375459909439, 0.20627638697624207, 0.1912093460559845, 0.18141254782676697]\n",
      "[0.8527712225914001, 0.8969205617904663, 0.907051682472229, 0.9149694442749023, 0.9201241731643677, 0.9247887134552002]\n",
      "[0.2748410999774933, 0.2541828453540802, 0.25124192237854004, 0.24735498428344727, 0.24691350758075714, 0.2493075132369995]\n",
      "[0.8863585591316223, 0.8933553099632263, 0.8950933814048767, 0.8987031579017639, 0.8985248804092407, 0.9023129343986511]\n"
     ]
    }
   ],
   "source": [
    "hist = model.fit(x_train, y_train, validation_data=(x_valid, y_valid), epochs=6, batch_size=256)\n",
    "\n",
    "print(hist.history['loss'])\n",
    "print(hist.history['acc'])\n",
    "print(hist.history['val_loss'])\n",
    "print(hist.history['val_acc'])"
   ]
  },
  {
   "cell_type": "code",
   "execution_count": 26,
   "id": "24d948da",
   "metadata": {},
   "outputs": [
    {
     "data": {
      "text/plain": [
       "<matplotlib.legend.Legend at 0x7f9ea13d20b8>"
      ]
     },
     "execution_count": 26,
     "metadata": {},
     "output_type": "execute_result"
    },
    {
     "data": {
      "image/png": "[encoded data removed]",
      "text/plain": [
       "<Figure size 432x288 with 2 Axes>"
      ]
     },
     "metadata": {
      "needs_background": "light"
     },
     "output_type": "display_data"
    }
   ],
   "source": [
    "import matplotlib.pyplot as plt\n",
    "\n",
    "fig, loss_ax = plt.subplots()\n",
    "acc_ax = loss_ax.twinx()\n",
    "\n",
    "loss_ax.plot(hist.history['loss'], 'y', label='train loss')\n",
    "loss_ax.plot(hist.history['val_loss'], 'r', label='val loss')\n",
    "loss_ax.set_xlabel('epoch')\n",
    "loss_ax.set_ylabel('loss')\n",
    "loss_ax.legend(loc='upper left')\n"
   ]
  },
  {
   "cell_type": "code",
   "execution_count": 27,
   "id": "bd6fec7e",
   "metadata": {},
   "outputs": [
    {
     "data": {
      "image/png": "[encoded data removed]",
      "text/plain": [
       "<Figure size 432x288 with 2 Axes>"
      ]
     },
     "metadata": {
      "needs_background": "light"
     },
     "output_type": "display_data"
    }
   ],
   "source": [
    "import matplotlib.pyplot as plt\n",
    "\n",
    "fig, loss_ax = plt.subplots()\n",
    "acc_ax = loss_ax.twinx()\n",
    "acc_ax.plot(hist.history['acc'], 'b', label='train acc')\n",
    "acc_ax.plot(hist.history['val_acc'], 'g', label='val acc')\n",
    "acc_ax.set_ylabel('accuracy')\n",
    "acc_ax.legend(loc='upper left')\n",
    "\n",
    "plt.show()"
   ]
  },
  {
   "cell_type": "code",
   "execution_count": 28,
   "id": "9431405c",
   "metadata": {},
   "outputs": [],
   "source": [
    "mid_preprocessing_test = mid_pipeline.fit(second_df)\n",
    "mid_preprocessed_test = mid_preprocessing_test.transform(second_df)\n",
    "test_samples = [' '.join(sample) for sample in mid_preprocessed_test.select(\"filtered_words\").rdd.flatMap(lambda x: x).collect()]\n",
    "test_sequences = tokenizer.texts_to_sequences(test_samples)\n",
    "x_test = pad_sequences(test_sequences, maxlen=200, padding='post')\n",
    "\n",
    "from tensorflow.keras.utils import to_categorical\n",
    "y_test = to_categorical(mid_preprocessed_test.select(\"label\").rdd.flatMap(lambda x: x).collect())"
   ]
  },
  {
   "cell_type": "code",
   "execution_count": 29,
   "id": "bb114e70",
   "metadata": {},
   "outputs": [
    {
     "name": "stdout",
     "output_type": "stream",
     "text": [
      "Test loss: 0.2612599730491638\n",
      "Test accuracy: 0.8992499709129333\n"
     ]
    }
   ],
   "source": [
    "score = model.evaluate(x_test, y_test, verbose=0)\n",
    "print('Test loss:', score[0])\n",
    "print('Test accuracy:', score[1])"
   ]
  },
  {
   "cell_type": "code",
   "execution_count": 32,
   "id": "86b1769b",
   "metadata": {},
   "outputs": [
    {
     "name": "stdout",
     "output_type": "stream",
     "text": [
      "WARNING:tensorflow:From /usr/local/lib/python3.6/dist-packages/tensorflow/python/training/tracking/tracking.py:111: Model.state_updates (from tensorflow.python.keras.engine.training) is deprecated and will be removed in a future version.\n",
      "Instructions for updating:\n",
      "This property should not be used in TensorFlow 2.0, as updates are applied automatically.\n",
      "WARNING:tensorflow:From /usr/local/lib/python3.6/dist-packages/tensorflow/python/training/tracking/tracking.py:111: Layer.updates (from tensorflow.python.keras.engine.base_layer) is deprecated and will be removed in a future version.\n",
      "Instructions for updating:\n",
      "This property should not be used in TensorFlow 2.0, as updates are applied automatically.\n",
      "INFO:tensorflow:Assets written to: model_1_ckpt/assets\n"
     ]
    }
   ],
   "source": [
    "model.save(\"model_1_ckpt\")\n",
    "model.save_weights(\"pretrained_1_ckpt\")"
   ]
  },
  {
   "cell_type": "markdown",
   "id": "15be7af9",
   "metadata": {},
   "source": [
    "# Second Time Window Start"
   ]
  },
  {
   "cell_type": "code",
   "execution_count": 30,
   "id": "21262f14",
   "metadata": {},
   "outputs": [],
   "source": [
    "def text_to_word_sequence(text,\n",
    "                          filters='!\"#$%&()*+,-./:;<=>?@[\\\\]^_`{|}~\\t\\n',\n",
    "                          lower=True, split=\" \"):\n",
    "    \"\"\"Converts a text to a sequence of words (or tokens).\n",
    "    # Arguments\n",
    "        text: Input text (string).\n",
    "        filters: list (or concatenation) of characters to filter out, such as\n",
    "            punctuation. Default: ``!\"#$%&()*+,-./:;<=>?@[\\\\]^_`{|}~\\\\t\\\\n``,\n",
    "            includes basic punctuation, tabs, and newlines.\n",
    "        lower: boolean. Whether to convert the input to lowercase.\n",
    "        split: str. Separator for word splitting.\n",
    "    # Returns\n",
    "        A list of words (or tokens).\n",
    "    \"\"\"\n",
    "    if lower:\n",
    "        text = text.lower()\n",
    "\n",
    "    if sys.version_info < (3,):\n",
    "        if isinstance(text, unicode):  # noqa: F821\n",
    "            translate_map = {\n",
    "                ord(c): unicode(split) for c in filters  # noqa: F821\n",
    "            }\n",
    "            text = text.translate(translate_map)\n",
    "        elif len(split) == 1:\n",
    "            translate_map = maketrans(filters, split * len(filters))\n",
    "            text = text.translate(translate_map)\n",
    "        else:\n",
    "            for c in filters:\n",
    "                text = text.replace(c, split)\n",
    "    else:\n",
    "        translate_dict = {c: split for c in filters}\n",
    "        translate_map = maketrans(translate_dict)\n",
    "        text = text.translate(translate_map)\n",
    "\n",
    "    seq = text.split(split)\n",
    "    return [i for i in seq if i]\n",
    "\n",
    "\n",
    "def one_hot(text, n,\n",
    "            filters='!\"#$%&()*+,-./:;<=>?@[\\\\]^_`{|}~\\t\\n',\n",
    "            lower=True,\n",
    "            split=' '):\n",
    "    \"\"\"One-hot encodes a text into a list of word indexes of size n.\n",
    "    This is a wrapper to the `hashing_trick` function using `hash` as the\n",
    "    hashing function; unicity of word to index mapping non-guaranteed.\n",
    "    # Arguments\n",
    "        text: Input text (string).\n",
    "        n: int. Size of vocabulary.\n",
    "        filters: list (or concatenation) of characters to filter out, such as\n",
    "            punctuation. Default: ``!\"#$%&()*+,-./:;<=>?@[\\\\]^_`{|}~\\\\t\\\\n``,\n",
    "            includes basic punctuation, tabs, and newlines.\n",
    "        lower: boolean. Whether to set the text to lowercase.\n",
    "        split: str. Separator for word splitting.\n",
    "    # Returns\n",
    "        List of integers in [1, n]. Each integer encodes a word\n",
    "        (unicity non-guaranteed).\n",
    "    \"\"\"\n",
    "    return hashing_trick(text, n,\n",
    "                         hash_function=hash,\n",
    "                         filters=filters,\n",
    "                         lower=lower,\n",
    "                         split=split)\n",
    "\n",
    "\n",
    "def hashing_trick(text, n,\n",
    "                  hash_function=None,\n",
    "                  filters='!\"#$%&()*+,-./:;<=>?@[\\\\]^_`{|}~\\t\\n',\n",
    "                  lower=True,\n",
    "                  split=' '):\n",
    "    \"\"\"Converts a text to a sequence of indexes in a fixed-size hashing space.\n",
    "    # Arguments\n",
    "        text: Input text (string).\n",
    "        n: Dimension of the hashing space.\n",
    "        hash_function: defaults to python `hash` function, can be 'md5' or\n",
    "            any function that takes in input a string and returns a int.\n",
    "            Note that 'hash' is not a stable hashing function, so\n",
    "            it is not consistent across different runs, while 'md5'\n",
    "            is a stable hashing function.\n",
    "        filters: list (or concatenation) of characters to filter out, such as\n",
    "            punctuation. Default: ``!\"#$%&()*+,-./:;<=>?@[\\\\]^_`{|}~\\\\t\\\\n``,\n",
    "            includes basic punctuation, tabs, and newlines.\n",
    "        lower: boolean. Whether to set the text to lowercase.\n",
    "        split: str. Separator for word splitting.\n",
    "    # Returns\n",
    "        A list of integer word indices (unicity non-guaranteed).\n",
    "    `0` is a reserved index that won't be assigned to any word.\n",
    "    Two or more words may be assigned to the same index, due to possible\n",
    "    collisions by the hashing function.\n",
    "    The [probability](\n",
    "        https://en.wikipedia.org/wiki/Birthday_problem#Probability_table)\n",
    "    of a collision is in relation to the dimension of the hashing space and\n",
    "    the number of distinct objects.\n",
    "    \"\"\"\n",
    "    if hash_function is None:\n",
    "        hash_function = hash\n",
    "    elif hash_function == 'md5':\n",
    "        def hash_function(w):\n",
    "            return int(md5(w.encode()).hexdigest(), 16)\n",
    "\n",
    "    seq = text_to_word_sequence(text,\n",
    "                                filters=filters,\n",
    "                                lower=lower,\n",
    "                                split=split)\n",
    "    return [(hash_function(w) % (n - 1) + 1) for w in seq]\n"
   ]
  },
  {
   "cell_type": "code",
   "execution_count": 31,
   "id": "ad6d1e48",
   "metadata": {},
   "outputs": [],
   "source": [
    "import string\n",
    "import sys\n",
    "import warnings\n",
    "from collections import OrderedDict\n",
    "from collections import defaultdict\n",
    "from hashlib import md5\n",
    "import json\n",
    "\n",
    "import numpy as np\n",
    "from six.moves import range\n",
    "from six.moves import zip\n",
    "\n",
    "if sys.version_info < (3,):\n",
    "    maketrans = string.maketrans\n",
    "else:\n",
    "    maketrans = str.maketrans\n",
    "    \n",
    "class Tokenizer(object):\n",
    "    \"\"\"Text tokenization utility class.\n",
    "    This class allows to vectorize a text corpus, by turning each\n",
    "    text into either a sequence of integers (each integer being the index\n",
    "    of a token in a dictionary) or into a vector where the coefficient\n",
    "    for each token could be binary, based on word count, based on tf-idf...\n",
    "    # Arguments\n",
    "        num_words: the maximum number of words to keep, based\n",
    "            on word frequency. Only the most common `num_words-1` words will\n",
    "            be kept.\n",
    "        filters: a string where each element is a character that will be\n",
    "            filtered from the texts. The default is all punctuation, plus\n",
    "            tabs and line breaks, minus the `'` character.\n",
    "        lower: boolean. Whether to convert the texts to lowercase.\n",
    "        split: str. Separator for word splitting.\n",
    "        char_level: if True, every character will be treated as a token.\n",
    "        oov_token: if given, it will be added to word_index and used to\n",
    "            replace out-of-vocabulary words during text_to_sequence calls\n",
    "    By default, all punctuation is removed, turning the texts into\n",
    "    space-separated sequences of words\n",
    "    (words maybe include the `'` character). These sequences are then\n",
    "    split into lists of tokens. They will then be indexed or vectorized.\n",
    "    `0` is a reserved index that won't be assigned to any word.\n",
    "    \"\"\"\n",
    "\n",
    "    def __init__(self, num_words=None,\n",
    "                 previous_document_count=None,\n",
    "                 previous_word_counts=None,\n",
    "                 previous_word_docs=None,\n",
    "                 previous_index_docs=None,\n",
    "                 vocabulary=None,\n",
    "                 now_count=0,\n",
    "                 pword_index=None,\n",
    "                 filters='!\"#$%&()*+,-./:;<=>?@[\\\\]^_`{|}~\\t\\n',\n",
    "                 lower=True,\n",
    "                 split=' ',\n",
    "                 char_level=False,\n",
    "                 oov_token=None,\n",
    "                 document_count=0,\n",
    "                 **kwargs):\n",
    "        # Legacy support\n",
    "        if 'nb_words' in kwargs:\n",
    "            warnings.warn('The `nb_words` argument in `Tokenizer` '\n",
    "                          'has been renamed `num_words`.')\n",
    "            num_words = kwargs.pop('nb_words')\n",
    "        if kwargs:\n",
    "            raise TypeError('Unrecognized keyword arguments: ' + str(kwargs))\n",
    "        self.previous_document_count = previous_document_count\n",
    "        self.previous_word_counts = previous_word_counts\n",
    "        self.previous_word_docs = previous_word_docs\n",
    "        self.previous_index_docs = previous_index_docs\n",
    "        self.word_counts = OrderedDict()\n",
    "        self.word_docs = defaultdict(int)\n",
    "        self.filters = filters\n",
    "        self.split = split\n",
    "        self.lower = lower\n",
    "        self.num_words = num_words\n",
    "        self.vocabulary = vocabulary\n",
    "        self.document_count = document_count\n",
    "        self.char_level = char_level\n",
    "        self.oov_token = oov_token\n",
    "        self.index_docs = defaultdict(int)\n",
    "        self.word_index = {}\n",
    "        self.now_count = now_count\n",
    "        self.pword_index = pword_index\n",
    "        self.index_word = {}\n",
    "\n",
    "    def fit_on_texts(self, texts):\n",
    "        \"\"\"Updates internal vocabulary based on a list of texts.\n",
    "        In the case where texts contains lists,\n",
    "        we assume each entry of the lists to be a token.\n",
    "        Required before using `texts_to_sequences` or `texts_to_matrix`.\n",
    "        # Arguments\n",
    "            texts: can be a list of strings,\n",
    "                a generator of strings (for memory-efficiency),\n",
    "                or a list of list of strings.\n",
    "        \"\"\"\n",
    "        for text in texts:\n",
    "            self.document_count += 1\n",
    "            if self.char_level or isinstance(text, list): # true\n",
    "                if self.lower: # true\n",
    "                    if isinstance(text, list): # true\n",
    "                        text = [text_elem.lower() for text_elem in text]\n",
    "                    else:\n",
    "                        text = text.lower()\n",
    "                seq = text\n",
    "            else:\n",
    "                seq = text_to_word_sequence(text,\n",
    "                                            self.filters,\n",
    "                                            self.lower,\n",
    "                                            self.split)\n",
    "            for w in seq:\n",
    "                if w in self.previous_word_counts: # 첫번째 time window에 대한 word_counts정보 유지해야할듯\n",
    "                    self.previous_word_counts[w] += 1 # orderedDict의 형태\n",
    "                else:\n",
    "                    self.previous_word_counts[w] = 1 # 처음으로 등장한 단어는 사전에 추가\n",
    "            for w in set(seq):\n",
    "                # In how many documents each word occurs\n",
    "                self.previous_word_docs[w] += 1 # 하나의 문장에 두번 등장하더라도 한번으로 카운트\n",
    "\n",
    "        wcounts = list(self.previous_word_counts.items())\n",
    "        wcounts.sort(key=lambda x: x[1], reverse=True)\n",
    "        \n",
    "        # forcing the oov_token to index 1 if it exists\n",
    "        if self.oov_token is None:\n",
    "            sorted_voc = []\n",
    "        else:\n",
    "            sorted_voc = [self.oov_token]\n",
    "        # list의 원소를 sorted_voc에 넣는다\n",
    "        sorted_voc.extend(wc[0] for wc in wcounts)\n",
    "\n",
    "        # note that index 0 is reserved, never assigned to an existing word\n",
    "        # word_index와 index_word는 시간에 따라 변화하므로 previous time window 정보 필요 x\n",
    "        self.word_index = dict(\n",
    "            zip(sorted_voc, list(range(1, len(sorted_voc) + 1))))\n",
    "\n",
    "        self.index_word = {c: w for w, c in self.word_index.items()}\n",
    "\n",
    "        for w, c in list(self.previous_word_docs.items()):\n",
    "            self.index_docs[self.word_index[w]] = c\n",
    "\n",
    "    def fit_on_sequences(self, sequences):\n",
    "        \"\"\"Updates internal vocabulary based on a list of sequences.\n",
    "        Required before using `sequences_to_matrix`\n",
    "        (if `fit_on_texts` was never called).\n",
    "        # Arguments\n",
    "            sequences: A list of sequence.\n",
    "                A \"sequence\" is a list of integer word indices.\n",
    "        \"\"\"\n",
    "        self.document_count += len(sequences)\n",
    "        for seq in sequences:\n",
    "            seq = set(seq)\n",
    "            for i in seq:\n",
    "                self.index_docs[i] += 1\n",
    "\n",
    "    def texts_to_sequences(self, texts):\n",
    "        \"\"\"Transforms each text in texts to a sequence of integers.\n",
    "        Only top `num_words-1` most frequent words will be taken into account.\n",
    "        Only words known by the tokenizer will be taken into account.\n",
    "        # Arguments\n",
    "            texts: A list of texts (strings).\n",
    "        # Returns\n",
    "            A list of sequences.\n",
    "        \"\"\"\n",
    "        return list(self.texts_to_sequences_generator(texts))\n",
    "\n",
    "    def texts_to_sequences_generator(self, texts):\n",
    "        \"\"\"Transforms each text in `texts` to a sequence of integers.\n",
    "        Each item in texts can also be a list,\n",
    "        in which case we assume each item of that list to be a token.\n",
    "        Only top `num_words-1` most frequent words will be taken into account.\n",
    "        Only words known by the tokenizer will be taken into account.\n",
    "        # Arguments\n",
    "            texts: A list of texts (strings).\n",
    "        # Yields\n",
    "            Yields individual sequences.\n",
    "        \"\"\"\n",
    "        num_words = self.num_words\n",
    "        oov_token_index = self.word_index.get(self.oov_token)\n",
    "        for text in texts:\n",
    "            if self.char_level or isinstance(text, list): # true\n",
    "                if self.lower: # true\n",
    "                    if isinstance(text, list): # true\n",
    "                        text = [text_elem.lower() for text_elem in text]\n",
    "                    else:\n",
    "                        text = text.lower()\n",
    "                seq = text\n",
    "            else:\n",
    "                seq = text_to_word_sequence(text,\n",
    "                                            self.filters,\n",
    "                                            self.lower,\n",
    "                                            self.split)\n",
    "            vect = []\n",
    "            for w in seq:\n",
    "                i = self.word_index.get(w)\n",
    "                if i is not None:\n",
    "                    if num_words and i >= num_words:\n",
    "                        if oov_token_index is not None:\n",
    "                            vect.append(oov_token_index)\n",
    "                    else:\n",
    "                        vect.append(i)\n",
    "                elif self.oov_token is not None:\n",
    "                    vect.append(oov_token_index)\n",
    "            yield vect\n",
    "\n",
    "    def sequences_to_texts(self, sequences):\n",
    "        \"\"\"Transforms each sequence into a list of text.\n",
    "        Only top `num_words-1` most frequent words will be taken into account.\n",
    "        Only words known by the tokenizer will be taken into account.\n",
    "        # Arguments\n",
    "            sequences: A list of sequences (list of integers).\n",
    "        # Returns\n",
    "            A list of texts (strings)\n",
    "        \"\"\"\n",
    "        return list(self.sequences_to_texts_generator(sequences))\n",
    "\n",
    "    def sequences_to_texts_generator(self, sequences):\n",
    "        \"\"\"Transforms each sequence in `sequences` to a list of texts(strings).\n",
    "        Each sequence has to a list of integers.\n",
    "        In other words, sequences should be a list of sequences\n",
    "        Only top `num_words-1` most frequent words will be taken into account.\n",
    "        Only words known by the tokenizer will be taken into account.\n",
    "        # Arguments\n",
    "            sequences: A list of sequences.\n",
    "        # Yields\n",
    "            Yields individual texts.\n",
    "        \"\"\"\n",
    "        num_words = self.num_words\n",
    "        oov_token_index = self.word_index.get(self.oov_token)\n",
    "        for seq in sequences:\n",
    "            vect = []\n",
    "            for num in seq:\n",
    "                word = self.index_word.get(num)\n",
    "                if word is not None:\n",
    "                    if num_words and num >= num_words:\n",
    "                        if oov_token_index is not None:\n",
    "                            vect.append(self.index_word[oov_token_index])\n",
    "                    else:\n",
    "                        vect.append(word)\n",
    "                elif self.oov_token is not None:\n",
    "                    vect.append(self.index_word[oov_token_index])\n",
    "            vect = ' '.join(vect)\n",
    "            yield vect\n",
    "\n",
    "    def texts_to_matrix(self, texts, mode='binary'):\n",
    "        \"\"\"Convert a list of texts to a Numpy matrix.\n",
    "        # Arguments\n",
    "            texts: list of strings.\n",
    "            mode: one of \"binary\", \"count\", \"tfidf\", \"freq\".\n",
    "        # Returns\n",
    "            A Numpy matrix.\n",
    "        \"\"\"\n",
    "        sequences = self.texts_to_sequences(texts)\n",
    "        return self.sequences_to_matrix(sequences, mode=mode)\n",
    "\n",
    "    def sequences_to_matrix(self, sequences, mode='binary'):\n",
    "        \"\"\"Converts a list of sequences into a Numpy matrix.\n",
    "        # Arguments\n",
    "            sequences: list of sequences\n",
    "                (a sequence is a list of integer word indices).\n",
    "            mode: one of \"binary\", \"count\", \"tfidf\", \"freq\"\n",
    "        # Returns\n",
    "            A Numpy matrix.\n",
    "        # Raises\n",
    "            ValueError: In case of invalid `mode` argument,\n",
    "                or if the Tokenizer requires to be fit to sample data.\n",
    "        \"\"\"\n",
    "        if not self.num_words:\n",
    "            if self.word_index:\n",
    "                num_words = len(self.word_index) + 1\n",
    "            else:\n",
    "                raise ValueError('Specify a dimension (`num_words` argument), '\n",
    "                                 'or fit on some text data first.')\n",
    "        else:\n",
    "            num_words = self.num_words\n",
    "\n",
    "        if mode == 'tfidf' and not self.document_count:\n",
    "            raise ValueError('Fit the Tokenizer on some data '\n",
    "                             'before using tfidf mode.')\n",
    "\n",
    "        x = np.zeros((len(sequences), num_words))\n",
    "        for i, seq in enumerate(sequences):\n",
    "            if not seq:\n",
    "                continue\n",
    "            counts = defaultdict(int)\n",
    "            for j in seq:\n",
    "                if j >= num_words:\n",
    "                    continue\n",
    "                counts[j] += 1\n",
    "            for j, c in list(counts.items()):\n",
    "                if mode == 'count':\n",
    "                    x[i][j] = c\n",
    "                elif mode == 'freq':\n",
    "                    x[i][j] = c / len(seq)\n",
    "                elif mode == 'binary':\n",
    "                    x[i][j] = 1\n",
    "                elif mode == 'tfidf':\n",
    "                    # Use weighting scheme 2 in\n",
    "                    # https://en.wikipedia.org/wiki/Tf%E2%80%93idf\n",
    "                    tf = 1 + np.log(c)\n",
    "                    idf = np.log(1 + self.document_count /\n",
    "                                 (1 + self.index_docs.get(j, 0)))\n",
    "                    x[i][j] = tf * idf\n",
    "                else:\n",
    "                    raise ValueError('Unknown vectorization mode:', mode)\n",
    "        return x\n",
    "\n",
    "    def get_config(self):\n",
    "        '''Returns the tokenizer configuration as Python dictionary.\n",
    "        The word count dictionaries used by the tokenizer get serialized\n",
    "        into plain JSON, so that the configuration can be read by other\n",
    "        projects.\n",
    "        # Returns\n",
    "            A Python dictionary with the tokenizer configuration.\n",
    "        '''\n",
    "        json_word_counts = json.dumps(self.word_counts)\n",
    "        json_word_docs = json.dumps(self.word_docs)\n",
    "        json_index_docs = json.dumps(self.index_docs)\n",
    "        json_word_index = json.dumps(self.word_index)\n",
    "        json_index_word = json.dumps(self.index_word)\n",
    "\n",
    "        return {\n",
    "            'num_words': self.num_words,\n",
    "            'filters': self.filters,\n",
    "            'lower': self.lower,\n",
    "            'split': self.split,\n",
    "            'char_level': self.char_level,\n",
    "            'oov_token': self.oov_token,\n",
    "            'document_count': self.document_count,\n",
    "            'word_counts': json_word_counts,\n",
    "            'word_docs': json_word_docs,\n",
    "            'index_docs': json_index_docs,\n",
    "            'index_word': json_index_word,\n",
    "            'word_index': json_word_index\n",
    "        }\n",
    "\n",
    "    def to_json(self, **kwargs):\n",
    "        \"\"\"Returns a JSON string containing the tokenizer configuration.\n",
    "        To load a tokenizer from a JSON string, use\n",
    "        `keras.preprocessing.text.tokenizer_from_json(json_string)`.\n",
    "        # Arguments\n",
    "            **kwargs: Additional keyword arguments\n",
    "                to be passed to `json.dumps()`.\n",
    "        # Returns\n",
    "            A JSON string containing the tokenizer configuration.\n",
    "        \"\"\"\n",
    "        config = self.get_config()\n",
    "        tokenizer_config = {\n",
    "            'class_name': self.__class__.__name__,\n",
    "            'config': config\n",
    "        }\n",
    "        return json.dumps(tokenizer_config, **kwargs)\n",
    "\n",
    "\n",
    "def tokenizer_from_json(json_string):\n",
    "    \"\"\"Parses a JSON tokenizer configuration file and returns a\n",
    "    tokenizer instance.\n",
    "    # Arguments\n",
    "        json_string: JSON string encoding a tokenizer configuration.\n",
    "    # Returns\n",
    "        A Keras Tokenizer instance\n",
    "    \"\"\"\n",
    "    tokenizer_config = json.loads(json_string)\n",
    "    config = tokenizer_config.get('config')\n",
    "\n",
    "    word_counts = json.loads(config.pop('word_counts'))\n",
    "    word_docs = json.loads(config.pop('word_docs'))\n",
    "    index_docs = json.loads(config.pop('index_docs'))\n",
    "    # Integer indexing gets converted to strings with json.dumps()\n",
    "    index_docs = {int(k): v for k, v in index_docs.items()}\n",
    "    index_word = json.loads(config.pop('index_word'))\n",
    "    index_word = {int(k): v for k, v in index_word.items()}\n",
    "    word_index = json.loads(config.pop('word_index'))\n",
    "\n",
    "    tokenizer = Tokenizer(**config)\n",
    "    tokenizer.word_counts = word_counts\n",
    "    tokenizer.word_docs = word_docs\n",
    "    tokenizer.index_docs = index_docs\n",
    "    tokenizer.word_index = word_index\n",
    "    tokenizer.index_word = index_word\n",
    "\n",
    "    return tokenizer"
   ]
  },
  {
   "cell_type": "markdown",
   "id": "73997d5c",
   "metadata": {},
   "source": [
    "## 1. W2V update"
   ]
  },
  {
   "cell_type": "code",
   "execution_count": 32,
   "id": "72edbb44",
   "metadata": {},
   "outputs": [],
   "source": [
    "mid_preprocessing2 = mid_pipeline.fit(first_df_df)\n",
    "mid_preprocessed2 = mid_preprocessing.transform(first_df_df)"
   ]
  },
  {
   "cell_type": "code",
   "execution_count": 33,
   "id": "ee76be9b",
   "metadata": {},
   "outputs": [],
   "source": [
    "class vocabulary:\n",
    "    staticList = list()\n",
    "\n",
    "class label:\n",
    "    staticList = list()"
   ]
  },
  {
   "cell_type": "code",
   "execution_count": 34,
   "id": "eb1629b4",
   "metadata": {},
   "outputs": [],
   "source": [
    "from gensim.models import KeyedVectors\n",
    "glove_vectors = KeyedVectors.load('/root/spark/w2v_for_nn.wordvectors')"
   ]
  },
  {
   "cell_type": "code",
   "execution_count": 35,
   "id": "f82651c6",
   "metadata": {},
   "outputs": [],
   "source": [
    "from gensim.utils import simple_preprocess\n",
    "import pandas as pd\n",
    "\n",
    "vocabulary.staticList = [' '.join(sample) for sample in mid_preprocessed2.select(\"filtered_words\").rdd.flatMap(lambda x: x).collect()]\n",
    "label.staticList = mid_preprocessed2.select(\"label\").rdd.flatMap(lambda x: x).collect()\n",
    "\n",
    "df = pd.DataFrame(zip(vocabulary.staticList, label.staticList), columns = ['sentence_str', 'label'])\n",
    "# using gensim's built-in tokenizer \n",
    "df['gensim_tokenized'] = df['sentence_str'].map(lambda x: simple_preprocess(x.lower(),deacc=True, max_len=100))"
   ]
  },
  {
   "cell_type": "code",
   "execution_count": 36,
   "id": "892e7380",
   "metadata": {},
   "outputs": [
    {
     "name": "stdout",
     "output_type": "stream",
     "text": [
      "44878\n"
     ]
    }
   ],
   "source": [
    "# for this to work, your input is going to be a list of tokenized sentences\n",
    "# since my data was in a dataframe, first I selected the appropriate series\n",
    "documents = df[df['label'] == 1]['gensim_tokenized']\n",
    "print(len(documents))\n",
    "# then made it into a list\n",
    "sentences = [sentence for sentence in documents]\n",
    "\n",
    "from sklearn.feature_extraction import _stop_words\n",
    "stopwords = list(_stop_words.ENGLISH_STOP_WORDS)\n",
    "\n",
    "cleaned_sentences2 = []\n",
    "for sentence in sentences:\n",
    "    cleaned = [word.lower() for word in sentence]\n",
    "    cleaned = [word for word in cleaned if word not in stopwords]\n",
    "    cleaned_sentences2.append(cleaned)"
   ]
  },
  {
   "cell_type": "code",
   "execution_count": 37,
   "id": "0246d179",
   "metadata": {},
   "outputs": [],
   "source": [
    "whataboutthis2 = mid_preprocessed2.filter(col('label')==1).select(\"filtered_words\").rdd.flatMap(lambda x: x).collect()"
   ]
  },
  {
   "cell_type": "code",
   "execution_count": 38,
   "id": "069dca4c",
   "metadata": {},
   "outputs": [],
   "source": [
    "samples2 = [' '.join(sample) for sample in mid_preprocessed2.select(\"filtered_words\").rdd.flatMap(lambda x: x).collect()]"
   ]
  },
  {
   "cell_type": "code",
   "execution_count": 39,
   "id": "f14fa126",
   "metadata": {},
   "outputs": [
    {
     "data": {
      "text/plain": [
       "(44878,)"
      ]
     },
     "execution_count": 39,
     "metadata": {},
     "output_type": "execute_result"
    }
   ],
   "source": [
    "np.array(whataboutthis2).shape"
   ]
  },
  {
   "cell_type": "code",
   "execution_count": 40,
   "id": "6839a43f",
   "metadata": {},
   "outputs": [
    {
     "data": {
      "text/plain": [
       "(44878,)"
      ]
     },
     "execution_count": 40,
     "metadata": {},
     "output_type": "execute_result"
    }
   ],
   "source": [
    "np.array(cleaned_sentences2).shape"
   ]
  },
  {
   "cell_type": "code",
   "execution_count": 41,
   "id": "cc67f5bb",
   "metadata": {},
   "outputs": [],
   "source": [
    "from gensim.models.word2vec import Word2Vec\n",
    "\n",
    "# build a word2vec model on your dataset\n",
    "base_model = Word2Vec(size=100, min_count=3)\n",
    "base_model.build_vocab(whataboutthis2) # update를 통해 나중에 업데이트를 하면될듯.\n",
    "#total_examples = base_model.corpus_count\n",
    "total_examples=base_model.corpus_count"
   ]
  },
  {
   "cell_type": "code",
   "execution_count": 42,
   "id": "41b194f2",
   "metadata": {},
   "outputs": [
    {
     "data": {
      "text/plain": [
       "14029"
      ]
     },
     "execution_count": 42,
     "metadata": {},
     "output_type": "execute_result"
    }
   ],
   "source": [
    "len(base_model.wv.vocab.keys())"
   ]
  },
  {
   "cell_type": "code",
   "execution_count": 43,
   "id": "3c1f47e0",
   "metadata": {},
   "outputs": [
    {
     "name": "stdout",
     "output_type": "stream",
     "text": [
      "[('marvel', 0.37642768025398254), ('spreading', 0.35681360960006714), ('nicolasbrulez', 0.32490628957748413), ('ni', 0.32277053594589233), ('pquotes', 0.3173757791519165), ('soho', 0.3148268461227417), ('footage', 0.31234291195869446), ('deployments', 0.3036871552467346), ('president', 0.30267661809921265), ('runasand', 0.3025776743888855)]\n"
     ]
    },
    {
     "name": "stderr",
     "output_type": "stream",
     "text": [
      "/usr/local/lib/python3.6/dist-packages/ipykernel_launcher.py:1: DeprecationWarning: Call to deprecated `most_similar` (Method will be removed in 4.0.0, use self.wv.most_similar() instead).\n",
      "  \"\"\"Entry point for launching an IPython kernel.\n"
     ]
    }
   ],
   "source": [
    "print(base_model.most_similar(\"hacker\"))"
   ]
  },
  {
   "cell_type": "markdown",
   "id": "29198cf9",
   "metadata": {},
   "source": [
    "# Keyword in/out 알고리즘 구현\n",
    "-> build_vocab(update=True, trim_rule='별도 선언 필요')\n",
    "\n",
    "trim_rule should be passed to model.build_vocab() NOT during model initialization"
   ]
  },
  {
   "cell_type": "code",
   "execution_count": 44,
   "id": "77d4cb95",
   "metadata": {},
   "outputs": [],
   "source": [
    "exclude_set_v = [] # 제외할 단어 'rt'이런것들\n",
    "\n",
    "import gensim\n",
    "def my_rule(word, count, min_count):\n",
    "    return gensim.utils.RULE_KEEP"
   ]
  },
  {
   "cell_type": "code",
   "execution_count": 45,
   "id": "00a69f5d",
   "metadata": {},
   "outputs": [],
   "source": [
    "exclude_set_v = [] # 제외할 단어 'rt'이런것들\n",
    "\n",
    "def trim_rule(word, count, min_count):\n",
    "    \"\"\"Exist in the randomly sampled exclude_set, then DISCARD\"\"\"\n",
    "    if word in exclude_set_v: #== \"impressed\":  # keep entity token\n",
    "        return gensim.utils.RULE_DISCARD\n",
    "    else:\n",
    "        return gensim.utils.RULE_KEEP"
   ]
  },
  {
   "cell_type": "code",
   "execution_count": 46,
   "id": "5ecd25b7",
   "metadata": {},
   "outputs": [],
   "source": [
    "# add GloVe's vocabulary & weights\n",
    "base_model.build_vocab([list(glove_vectors.vocab.keys())], update=True, trim_rule=my_rule) # second time window에서 update시 어떻게 동작하는지 확인\n",
    "# base_model.intersect_word2vec_format('/root/spark/w2v_for_nn.bin', binary=True)\n",
    "# start_alpha=0.001, end_alpha=0.00001\n",
    "# train on your data\n",
    "base_model.train(whataboutthis2, total_examples=total_examples, epochs=20) #최적의 eppoch를 찾자\n",
    "base_model_wv = base_model.wv"
   ]
  },
  {
   "cell_type": "code",
   "execution_count": 99,
   "id": "a6ce8953",
   "metadata": {},
   "outputs": [
    {
     "data": {
      "text/plain": [
       "17960"
      ]
     },
     "execution_count": 99,
     "metadata": {},
     "output_type": "execute_result"
    }
   ],
   "source": [
    "len(base_model_wv.index2word) # 10666 - 1173"
   ]
  },
  {
   "cell_type": "code",
   "execution_count": 101,
   "id": "10adf594",
   "metadata": {},
   "outputs": [
    {
     "data": {
      "text/plain": [
       "14120"
      ]
     },
     "execution_count": 101,
     "metadata": {},
     "output_type": "execute_result"
    }
   ],
   "source": [
    "len(glove_vectors.index2word)"
   ]
  },
  {
   "cell_type": "code",
   "execution_count": 100,
   "id": "fc8f4192",
   "metadata": {},
   "outputs": [
    {
     "name": "stdout",
     "output_type": "stream",
     "text": [
      "[('cyberwarbooks', 0.6760294437408447), ('reviews', 0.6101169586181641), ('guide', 0.5891528129577637), ('cwa', 0.5561687350273132), ('book', 0.5283864140510559), ('pioneers', 0.5282431840896606), ('symanteccomconnectblogs', 0.5169950127601624), ('basics', 0.515626847743988), ('techniques', 0.5116923451423645), ('tobemcomcyberwarcyber', 0.5109221339225769)]\n"
     ]
    },
    {
     "name": "stderr",
     "output_type": "stream",
     "text": [
      "/usr/local/lib/python3.6/dist-packages/ipykernel_launcher.py:1: DeprecationWarning: Call to deprecated `most_similar` (Method will be removed in 4.0.0, use self.wv.most_similar() instead).\n",
      "  \"\"\"Entry point for launching an IPython kernel.\n",
      "/usr/local/lib/python3.6/dist-packages/gensim/models/keyedvectors.py:2385: RuntimeWarning: overflow encountered in square\n",
      "  dist = sqrt((m ** 2).sum(-1))[..., newaxis]\n"
     ]
    }
   ],
   "source": [
    "print(base_model.most_similar(\"hacker\"))"
   ]
  },
  {
   "cell_type": "markdown",
   "id": "78db0f3a",
   "metadata": {},
   "source": [
    "keyword 제거 rule 선언하지 않았을때"
   ]
  },
  {
   "cell_type": "code",
   "execution_count": 102,
   "id": "27c1a600",
   "metadata": {},
   "outputs": [
    {
     "name": "stdout",
     "output_type": "stream",
     "text": [
      "처음개수 : 14120 둘째개수 : 17960\n",
      "둘 사이에 겹치는 keyword : 14120\n",
      "사라진 keyword : 0\n",
      "새로 생긴 keyword : 3840\n"
     ]
    }
   ],
   "source": [
    "print('처음개수 :',len(set(list(glove_vectors.vocab.keys()))),'둘째개수 :', len(set(list(base_model.wv.vocab.keys()))))\n",
    "\n",
    "same = len(set(list(glove_vectors.vocab.keys())) & set(list(base_model.wv.vocab.keys())))\n",
    "print('둘 사이에 겹치는 keyword :', same)\n",
    "\n",
    "first = len(set(list(glove_vectors.vocab.keys())) - set(list(base_model.wv.vocab.keys())))\n",
    "print('사라진 keyword :', first)\n",
    "\n",
    "second = len(set(list(base_model.wv.vocab.keys())) - set(list(glove_vectors.vocab.keys())))\n",
    "print('새로 생긴 keyword :', second)"
   ]
  },
  {
   "cell_type": "markdown",
   "id": "84390a34",
   "metadata": {},
   "source": [
    "default rule인 word_count<min_count 일때"
   ]
  },
  {
   "cell_type": "code",
   "execution_count": 74,
   "id": "dcfdf104",
   "metadata": {},
   "outputs": [
    {
     "name": "stdout",
     "output_type": "stream",
     "text": [
      "처음개수 : 9493 둘째개수 : 8204\n",
      "둘 사이에 겹치는 keyword : 7031\n",
      "사라진 keyword : 2462\n",
      "새로 생긴 keyword : 1173\n"
     ]
    }
   ],
   "source": [
    "print('처음개수 :',len(set(list(glove_vectors.vocab.keys()))),'둘째개수 :', len(set(list(base_model_wv.vocab.keys()))))\n",
    "\n",
    "same = len(set(list(glove_vectors.vocab.keys())) & set(list(base_model_wv.vocab.keys())))\n",
    "print('둘 사이에 겹치는 keyword :', same)\n",
    "\n",
    "first = len(set(list(glove_vectors.vocab.keys())) - set(list(base_model_wv.vocab.keys())))\n",
    "print('사라진 keyword :', first)\n",
    "\n",
    "second = len(set(list(base_model_wv.vocab.keys())) - set(list(glove_vectors.vocab.keys())))\n",
    "print('새로 생긴 keyword :', second)"
   ]
  },
  {
   "cell_type": "code",
   "execution_count": 51,
   "id": "cfbac5db",
   "metadata": {},
   "outputs": [
    {
     "name": "stdout",
     "output_type": "stream",
     "text": [
      "사라진 keyword : 1173\n"
     ]
    }
   ],
   "source": [
    "first_set = set(list(base_model_wv.vocab.keys())) - set(list(glove_vectors.vocab.keys()))\n",
    "print('사라진 keyword :', len(first_set))"
   ]
  },
  {
   "cell_type": "code",
   "execution_count": 50,
   "id": "5c7fdb05",
   "metadata": {},
   "outputs": [
    {
     "data": {
      "text/plain": [
       "10666"
      ]
     },
     "execution_count": 50,
     "metadata": {},
     "output_type": "execute_result"
    }
   ],
   "source": [
    "len(set(list(base_model_wv.vocab.keys())))"
   ]
  },
  {
   "cell_type": "code",
   "execution_count": 67,
   "id": "27ec713b",
   "metadata": {},
   "outputs": [
    {
     "name": "stdout",
     "output_type": "stream",
     "text": [
      "17960\n"
     ]
    }
   ],
   "source": [
    "nb_words = len(base_model.wv.vocab.keys())\n",
    "print(nb_words)"
   ]
  },
  {
   "cell_type": "code",
   "execution_count": 200,
   "id": "f70f65fa",
   "metadata": {},
   "outputs": [],
   "source": [
    "base_model_wv.save_word2vec_format('/root/spark/w2v_for_nn2.bin')\n",
    "base_model_wv.save('/root/spark/w2v_for_nn2.wordvectors')"
   ]
  },
  {
   "cell_type": "markdown",
   "id": "13b21e01",
   "metadata": {},
   "source": [
    "기존의 text.Tokenizer 라이브러리 customize"
   ]
  },
  {
   "cell_type": "code",
   "execution_count": 47,
   "id": "12f8a84f",
   "metadata": {},
   "outputs": [],
   "source": [
    "document_count = tokenizer.document_count\n",
    "word_counts = tokenizer.word_counts\n",
    "word_docs = tokenizer.word_docs\n",
    "index_docs = tokenizer.index_docs"
   ]
  },
  {
   "cell_type": "code",
   "execution_count": 48,
   "id": "1f276959",
   "metadata": {},
   "outputs": [],
   "source": [
    "from tensorflow.keras.preprocessing.sequence import pad_sequences\n",
    "\n",
    "tokenizer2 = Tokenizer(num_words=10000, previous_document_count=document_count, \\\n",
    "                       previous_word_counts=word_counts, previous_word_docs=word_docs, \\\n",
    "                       previous_index_docs=index_docs, vocabulary=exclude_set_v, \\\n",
    "                       pword_index=tokenizer.word_counts, now_count = 8204) \n",
    "# 여기에 추가로 포함되는 1173개가 이전 텍스트에서 frequency가 높은 corpus가 아님\n",
    "\n",
    "tokenizer2.fit_on_texts(whataboutthis2)\n",
    "train_sequences = tokenizer2.texts_to_sequences(samples2)"
   ]
  },
  {
   "cell_type": "code",
   "execution_count": 49,
   "id": "1010ca01",
   "metadata": {},
   "outputs": [],
   "source": [
    "x_train = pad_sequences(train_sequences, maxlen=200, padding='post')"
   ]
  },
  {
   "cell_type": "code",
   "execution_count": 50,
   "id": "27b958ab",
   "metadata": {},
   "outputs": [],
   "source": [
    "from tensorflow.keras.utils import to_categorical\n",
    "y_train = to_categorical(label.staticList)"
   ]
  },
  {
   "cell_type": "code",
   "execution_count": 51,
   "id": "6bfc5a5b",
   "metadata": {},
   "outputs": [
    {
     "data": {
      "text/plain": [
       "array([[  31,   67,  527, ...,    0,    0,    0],\n",
       "       [  96,   21,   12, ...,    0,    0,    0],\n",
       "       [ 159,  579, 1627, ...,    0,    0,    0],\n",
       "       ...,\n",
       "       [4224,  781,  142, ...,    0,    0,    0],\n",
       "       [ 519,  885, 4397, ...,    0,    0,    0],\n",
       "       [ 267, 4684,    0, ...,    0,    0,    0]], dtype=int32)"
      ]
     },
     "execution_count": 51,
     "metadata": {},
     "output_type": "execute_result"
    }
   ],
   "source": [
    "x_train"
   ]
  },
  {
   "cell_type": "code",
   "execution_count": 52,
   "id": "323192fa",
   "metadata": {},
   "outputs": [],
   "source": [
    "# from keras.layers import Embedding\n",
    "word_index2 = tokenizer2.word_index"
   ]
  },
  {
   "cell_type": "code",
   "execution_count": 53,
   "id": "5824eeda",
   "metadata": {},
   "outputs": [
    {
     "name": "stdout",
     "output_type": "stream",
     "text": [
      "Null word embeddings: 1\n"
     ]
    }
   ],
   "source": [
    "consider_num2 = 10000\n",
    "\n",
    "embedding_matrix = np.zeros((consider_num2, 100))\n",
    "\n",
    "i = 0\n",
    "for word, i in word_index2.items():\n",
    "    if i == consider_num2:\n",
    "        break\n",
    "        \n",
    "    if word in base_model_wv.vocab:\n",
    "        embedding_matrix[i] = base_model_wv.word_vec(word)\n",
    "    else:\n",
    "        print(word)\n",
    "    i = i + 1\n",
    "    \n",
    "print('Null word embeddings: %d' % np.sum(np.sum(embedding_matrix, axis=1) == 0))\n",
    "\n",
    "embedding_layer = Embedding(embedding_matrix.shape[0], # or len(word_index) + 1\n",
    "                            embedding_matrix.shape[1], # or EMBEDDING_DIM,\n",
    "                            weights=[embedding_matrix],\n",
    "                            input_length=200,\n",
    "                            trainable=False)"
   ]
  },
  {
   "cell_type": "code",
   "execution_count": 54,
   "id": "5f743a70",
   "metadata": {
    "scrolled": true
   },
   "outputs": [],
   "source": [
    "from tensorflow.keras.models import Sequential\n",
    "from tensorflow.keras.layers import Conv1D, GlobalMaxPooling1D, Flatten\n",
    "from tensorflow.keras.layers import Dense, Input, LSTM, Embedding, Dropout, Activation, MaxPooling1D\n",
    "\n",
    "model2 = Sequential()\n",
    "model2.add(embedding_layer)\n",
    "model2.add(Conv1D(filters=32, kernel_size=8, activation='relu'))\n",
    "model2.add(MaxPooling1D(pool_size=2))\n",
    "model2.add(Conv1D(filters=32, kernel_size=8, activation='relu'))\n",
    "model2.add(Flatten())\n",
    "model2.add(Dense(100, activation='relu'))\n",
    "model2.add(Dense(2, activation='softmax'))"
   ]
  },
  {
   "cell_type": "code",
   "execution_count": 55,
   "id": "4b5fa00d",
   "metadata": {},
   "outputs": [],
   "source": [
    "pretrained_model = tf.keras.models.load_model(\"model_1_ckpt\")\n",
    "weights_list = pretrained_model.get_weights()"
   ]
  },
  {
   "cell_type": "code",
   "execution_count": 56,
   "id": "9bf8aefa",
   "metadata": {},
   "outputs": [
    {
     "name": "stdout",
     "output_type": "stream",
     "text": [
      "0 \t False \t  : embedding_1\n",
      "1 \t True \t  : conv1d_2\n",
      "2 \t True \t  : max_pooling1d_1\n",
      "3 \t True \t  : conv1d_3\n",
      "4 \t True \t  : flatten_1\n",
      "5 \t True \t  : dense_2\n",
      "6 \t True \t  : dense_3\n"
     ]
    }
   ],
   "source": [
    "for i, layer in enumerate(model2.layers):\n",
    "    print(i,'\\t',layer.trainable,'\\t  :',layer.name)"
   ]
  },
  {
   "cell_type": "code",
   "execution_count": 57,
   "id": "8553daac",
   "metadata": {},
   "outputs": [
    {
     "name": "stdout",
     "output_type": "stream",
     "text": [
      "0 \t True \t  : embedding\n",
      "1 \t True \t  : conv1d\n",
      "2 \t True \t  : max_pooling1d\n",
      "3 \t True \t  : conv1d_1\n",
      "4 \t True \t  : flatten\n",
      "5 \t True \t  : dense\n",
      "6 \t True \t  : dense_1\n"
     ]
    }
   ],
   "source": [
    "for i, layer in enumerate(pretrained_model.layers):\n",
    "    print(i,'\\t',layer.trainable,'\\t  :',layer.name)"
   ]
  },
  {
   "cell_type": "code",
   "execution_count": 58,
   "id": "39fcc307",
   "metadata": {},
   "outputs": [
    {
     "name": "stdout",
     "output_type": "stream",
     "text": [
      "(10000, 100)\n",
      "(8, 100, 32)\n",
      "(32,)\n",
      "(8, 32, 32)\n",
      "(32,)\n",
      "(2848, 100)\n",
      "(100,)\n",
      "(100, 2)\n",
      "(2,)\n"
     ]
    }
   ],
   "source": [
    "for i in range(len(model2.get_weights())):\n",
    "    print(model2.get_weights()[i].shape)"
   ]
  },
  {
   "cell_type": "code",
   "execution_count": 59,
   "id": "4219c201",
   "metadata": {},
   "outputs": [
    {
     "name": "stdout",
     "output_type": "stream",
     "text": [
      "(10000, 100)\n",
      "(8, 100, 32)\n",
      "(32,)\n",
      "(8, 32, 32)\n",
      "(32,)\n",
      "(2848, 100)\n",
      "(100,)\n",
      "(100, 2)\n",
      "(2,)\n"
     ]
    }
   ],
   "source": [
    "for i in range(len(weights_list)):\n",
    "    print(weights_list[i].shape)"
   ]
  },
  {
   "cell_type": "code",
   "execution_count": 60,
   "id": "ab4e5f1f",
   "metadata": {},
   "outputs": [
    {
     "name": "stdout",
     "output_type": "stream",
     "text": [
      "conv1d_2 (8, 100, 32) conv1d_2 (8, 100, 32)\n",
      "conv1d_3 (8, 32, 32) conv1d_3 (8, 32, 32)\n",
      "dense_2 (2848, 100) dense_2 (2848, 100)\n",
      "dense_3 (100,) dense_3 (100,)\n"
     ]
    }
   ],
   "source": [
    "for i, layer in enumerate(model2.layers):\n",
    "    if layer.trainable_weights:\n",
    "        print(layer.name, weights_list[i].shape, model2.layers[i].name, model2.get_weights()[i].shape)\n",
    "        layer.set_weights(pretrained_model.layers[i].get_weights())"
   ]
  },
  {
   "cell_type": "code",
   "execution_count": 61,
   "id": "4d31d8bb",
   "metadata": {},
   "outputs": [
    {
     "name": "stdout",
     "output_type": "stream",
     "text": [
      "embedding_1\n"
     ]
    }
   ],
   "source": [
    "model2.layers[0].set_weights([embedding_matrix])\n",
    "model2.layers[0].trainable = False\n",
    "print(model2.layers[0].name)"
   ]
  },
  {
   "cell_type": "code",
   "execution_count": 62,
   "id": "1363c415",
   "metadata": {},
   "outputs": [
    {
     "name": "stdout",
     "output_type": "stream",
     "text": [
      "예외가 발생했습니다. \n",
      "Not equal to tolerance rtol=1e-07, atol=0\n",
      "\n",
      "Mismatched elements: 999900 / 1000000 (100%)\n",
      "Max absolute difference: 7.777217\n",
      "Max relative difference: 2456377.\n",
      " x: array([[ 0.      ,  0.      ,  0.      , ...,  0.      ,  0.      ,\n",
      "         0.      ],\n",
      "       [ 2.508922,  5.491651,  0.945865, ..., -3.557696, -0.605767,...\n",
      " y: array([[ 0.      ,  0.      ,  0.      , ...,  0.      ,  0.      ,\n",
      "         0.      ],\n",
      "       [ 0.668028,  1.366067,  0.195992, ..., -0.805233, -0.575496,...\n",
      "성공!!!!!!!!!!!!!!!\n",
      "성공!!!!!!!!!!!!!!!\n",
      "성공!!!!!!!!!!!!!!!\n",
      "성공!!!!!!!!!!!!!!!\n",
      "성공!!!!!!!!!!!!!!!\n",
      "성공!!!!!!!!!!!!!!!\n",
      "성공!!!!!!!!!!!!!!!\n",
      "성공!!!!!!!!!!!!!!!\n"
     ]
    }
   ],
   "source": [
    "# Check that all of the pretrained weights have been loaded.\n",
    "for a, b in zip(model2.weights, pretrained_model.weights):\n",
    "    try:\n",
    "        np.testing.assert_allclose(a.numpy(), b.numpy())\n",
    "        print(\"성공!!!!!!!!!!!!!!!\")\n",
    "    except Exception as e:\n",
    "        print('예외가 발생했습니다.', e)"
   ]
  },
  {
   "cell_type": "code",
   "execution_count": 63,
   "id": "e409b9dc",
   "metadata": {},
   "outputs": [
    {
     "name": "stdout",
     "output_type": "stream",
     "text": [
      "model를 동결하기 전 훈련되는 가중치의 수: 8\n",
      "model를 동결한 후 훈련되는 가중치의 수: 8\n"
     ]
    }
   ],
   "source": [
    "# print('model를 동결하기 전 훈련되는 가중치의 수:',\n",
    "#      len(model.trainable_weights))\n",
    "print('model를 동결하기 전 훈련되는 가중치의 수:',\n",
    "     len(model2.trainable_weights))\n",
    "\n",
    "for layer in model2.layers[1:]: \n",
    "    layer.trainable = True\n",
    "    \n",
    "# print('model를 동결한 후 훈련되는 가중치의 수:',\n",
    "#      len(model.trainable_weights))\n",
    "print('model를 동결한 후 훈련되는 가중치의 수:',\n",
    "     len(model2.trainable_weights))"
   ]
  },
  {
   "cell_type": "code",
   "execution_count": 64,
   "id": "911f73d9",
   "metadata": {},
   "outputs": [
    {
     "name": "stdout",
     "output_type": "stream",
     "text": [
      "0 \t False \t  : embedding_1\n",
      "1 \t True \t  : conv1d_2\n",
      "2 \t True \t  : max_pooling1d_1\n",
      "3 \t True \t  : conv1d_3\n",
      "4 \t True \t  : flatten_1\n",
      "5 \t True \t  : dense_2\n",
      "6 \t True \t  : dense_3\n"
     ]
    }
   ],
   "source": [
    "for i, layer in enumerate(model2.layers):\n",
    "    print(i,'\\t',layer.trainable,'\\t  :',layer.name)"
   ]
  },
  {
   "cell_type": "code",
   "execution_count": 65,
   "id": "b45fb502",
   "metadata": {},
   "outputs": [],
   "source": [
    "from sklearn.model_selection import train_test_split\n",
    "x_train2, x_valid2, y_train2, y_valid2 = train_test_split(x_train, y_train, test_size=0.25, shuffle=True)"
   ]
  },
  {
   "cell_type": "code",
   "execution_count": 66,
   "id": "bd9b636b",
   "metadata": {
    "scrolled": true
   },
   "outputs": [
    {
     "name": "stdout",
     "output_type": "stream",
     "text": [
      "Model: \"sequential_1\"\n",
      "_________________________________________________________________\n",
      "Layer (type)                 Output Shape              Param #   \n",
      "=================================================================\n",
      "embedding_1 (Embedding)      (None, 200, 100)          1000000   \n",
      "_________________________________________________________________\n",
      "conv1d_2 (Conv1D)            (None, 193, 32)           25632     \n",
      "_________________________________________________________________\n",
      "max_pooling1d_1 (MaxPooling1 (None, 96, 32)            0         \n",
      "_________________________________________________________________\n",
      "conv1d_3 (Conv1D)            (None, 89, 32)            8224      \n",
      "_________________________________________________________________\n",
      "flatten_1 (Flatten)          (None, 2848)              0         \n",
      "_________________________________________________________________\n",
      "dense_2 (Dense)              (None, 100)               284900    \n",
      "_________________________________________________________________\n",
      "dense_3 (Dense)              (None, 2)                 202       \n",
      "=================================================================\n",
      "Total params: 1,318,958\n",
      "Trainable params: 318,958\n",
      "Non-trainable params: 1,000,000\n",
      "_________________________________________________________________\n"
     ]
    }
   ],
   "source": [
    "second_optimizer = tensorflow.keras.optimizers.Adam(learning_rate=0.001)\n",
    "model2.compile(loss='categorical_crossentropy', optimizer=second_optimizer,metrics=['acc'])\n",
    "\n",
    "model2.summary()"
   ]
  },
  {
   "cell_type": "code",
   "execution_count": 67,
   "id": "33cd7ca6",
   "metadata": {
    "scrolled": true
   },
   "outputs": [
    {
     "name": "stdout",
     "output_type": "stream",
     "text": [
      "Epoch 1/6\n",
      "526/526 [==============================] - 15s 29ms/step - loss: 0.2613 - acc: 0.8933 - val_loss: 0.2371 - val_acc: 0.9036\n",
      "Epoch 2/6\n",
      "526/526 [==============================] - 15s 29ms/step - loss: 0.2165 - acc: 0.9107 - val_loss: 0.2263 - val_acc: 0.9082\n",
      "Epoch 3/6\n",
      "526/526 [==============================] - 15s 29ms/step - loss: 0.1969 - acc: 0.9186 - val_loss: 0.2213 - val_acc: 0.9106\n",
      "Epoch 4/6\n",
      "526/526 [==============================] - 15s 29ms/step - loss: 0.1836 - acc: 0.9232 - val_loss: 0.2209 - val_acc: 0.9117\n",
      "Epoch 5/6\n",
      "526/526 [==============================] - 15s 29ms/step - loss: 0.1719 - acc: 0.9282 - val_loss: 0.2360 - val_acc: 0.9029\n",
      "Epoch 6/6\n",
      "526/526 [==============================] - 15s 29ms/step - loss: 0.1618 - acc: 0.9336 - val_loss: 0.2291 - val_acc: 0.9094\n"
     ]
    }
   ],
   "source": [
    "hist2 = model2.fit(x_train2, y_train2, validation_data=(x_valid2, y_valid2), epochs=6, batch_size=128)"
   ]
  },
  {
   "cell_type": "code",
   "execution_count": 68,
   "id": "fd20acc1",
   "metadata": {},
   "outputs": [
    {
     "data": {
      "text/plain": [
       "<matplotlib.legend.Legend at 0x7f9ea10e9f60>"
      ]
     },
     "execution_count": 68,
     "metadata": {},
     "output_type": "execute_result"
    },
    {
     "data": {
      "image/png": "[encoded data removed]",
      "text/plain": [
       "<Figure size 432x288 with 2 Axes>"
      ]
     },
     "metadata": {
      "needs_background": "light"
     },
     "output_type": "display_data"
    }
   ],
   "source": [
    "import matplotlib.pyplot as plt\n",
    "\n",
    "fig, loss_ax = plt.subplots()\n",
    "acc_ax = loss_ax.twinx()\n",
    "\n",
    "loss_ax.plot(hist2.history['loss'], 'y', label='train loss')\n",
    "loss_ax.plot(hist2.history['val_loss'], 'r', label='val loss')\n",
    "loss_ax.set_xlabel('epoch')\n",
    "loss_ax.set_ylabel('loss')\n",
    "loss_ax.legend(loc='upper left')\n"
   ]
  },
  {
   "cell_type": "code",
   "execution_count": 69,
   "id": "3137da4e",
   "metadata": {},
   "outputs": [
    {
     "data": {
      "image/png": "[encoded data removed]",
      "text/plain": [
       "<Figure size 432x288 with 2 Axes>"
      ]
     },
     "metadata": {
      "needs_background": "light"
     },
     "output_type": "display_data"
    }
   ],
   "source": [
    "import matplotlib.pyplot as plt\n",
    "\n",
    "fig, loss_ax = plt.subplots()\n",
    "acc_ax = loss_ax.twinx()\n",
    "acc_ax.plot(hist2.history['acc'], 'b', label='train acc')\n",
    "acc_ax.plot(hist2.history['val_acc'], 'g', label='val acc')\n",
    "acc_ax.set_ylabel('accuracy')\n",
    "acc_ax.legend(loc='upper left')\n",
    "\n",
    "plt.show()"
   ]
  },
  {
   "cell_type": "code",
   "execution_count": 70,
   "id": "6aade16e",
   "metadata": {},
   "outputs": [],
   "source": [
    "mid_preprocessing_test = mid_pipeline.fit(second_df)\n",
    "mid_preprocessed_test = mid_preprocessing_test.transform(second_df)\n",
    "test_samples = [' '.join(sample) for sample in mid_preprocessed_test.select(\"filtered_words\").rdd.flatMap(lambda x: x).collect()]\n",
    "test_sequences = tokenizer2.texts_to_sequences(test_samples)\n",
    "x_test = pad_sequences(test_sequences, maxlen=200, padding='post')\n",
    "\n",
    "from tensorflow.keras.utils import to_categorical\n",
    "y_test = to_categorical(mid_preprocessed_test.select(\"label\").rdd.flatMap(lambda x: x).collect())"
   ]
  },
  {
   "cell_type": "code",
   "execution_count": 71,
   "id": "f2efcf98",
   "metadata": {},
   "outputs": [
    {
     "name": "stdout",
     "output_type": "stream",
     "text": [
      "Test loss: 0.2713027596473694\n",
      "Test accuracy: 0.894349992275238\n"
     ]
    }
   ],
   "source": [
    "score = model2.evaluate(x_test, y_test, verbose=0) # 89% 이상\n",
    "print('Test loss:', score[0])\n",
    "print('Test accuracy:', score[1]) # lr=0.001 -> 0.84"
   ]
  },
  {
   "cell_type": "code",
   "execution_count": 138,
   "id": "45640d8c",
   "metadata": {},
   "outputs": [
    {
     "name": "stdout",
     "output_type": "stream",
     "text": [
      "INFO:tensorflow:Assets written to: model_2_ckpt/assets\n"
     ]
    }
   ],
   "source": [
    "model2.save(\"model_2_ckpt\")\n",
    "model2.save_weights(\"pretrained_2_ckpt\")"
   ]
  },
  {
   "cell_type": "code",
   "execution_count": null,
   "id": "5639c085",
   "metadata": {},
   "outputs": [],
   "source": [
    "## embedding layer의 크기는 큰 영향이 없는것으로 보인다."
   ]
  },
  {
   "cell_type": "code",
   "execution_count": null,
   "id": "eda91e75",
   "metadata": {},
   "outputs": [],
   "source": []
  },
  {
   "cell_type": "code",
   "execution_count": null,
   "id": "5cd77bc7",
   "metadata": {},
   "outputs": [],
   "source": []
  },
  {
   "cell_type": "code",
   "execution_count": null,
   "id": "9a3aee4a",
   "metadata": {},
   "outputs": [],
   "source": []
  },
  {
   "cell_type": "code",
   "execution_count": null,
   "id": "11c1b0ab",
   "metadata": {},
   "outputs": [],
   "source": []
  },
  {
   "cell_type": "code",
   "execution_count": null,
   "id": "e1aa5e92",
   "metadata": {},
   "outputs": [],
   "source": []
  },
  {
   "cell_type": "code",
   "execution_count": null,
   "id": "0f88cad3",
   "metadata": {},
   "outputs": [],
   "source": []
  },
  {
   "cell_type": "code",
   "execution_count": null,
   "id": "52f045fa",
   "metadata": {},
   "outputs": [],
   "source": []
  },
  {
   "cell_type": "code",
   "execution_count": null,
   "id": "578274c2",
   "metadata": {},
   "outputs": [],
   "source": []
  },
  {
   "cell_type": "code",
   "execution_count": null,
   "id": "9372931d",
   "metadata": {},
   "outputs": [],
   "source": []
  },
  {
   "cell_type": "code",
   "execution_count": null,
   "id": "992076b6",
   "metadata": {},
   "outputs": [],
   "source": []
  },
  {
   "cell_type": "code",
   "execution_count": null,
   "id": "98246c1c",
   "metadata": {},
   "outputs": [],
   "source": []
  },
  {
   "cell_type": "code",
   "execution_count": null,
   "id": "c8e0fadb",
   "metadata": {},
   "outputs": [],
   "source": []
  },
  {
   "cell_type": "code",
   "execution_count": null,
   "id": "2742842b",
   "metadata": {},
   "outputs": [],
   "source": []
  },
  {
   "cell_type": "code",
   "execution_count": null,
   "id": "91c59dae",
   "metadata": {},
   "outputs": [],
   "source": []
  },
  {
   "cell_type": "code",
   "execution_count": null,
   "id": "569fef7b",
   "metadata": {},
   "outputs": [],
   "source": [
    "from pyspark.ml import Transformer\n",
    "from tensorflow.keras.preprocessing.text import Tokenizer\n",
    "from tensorflow.keras.preprocessing.sequence import pad_sequences\n",
    "import pandas as pd\n",
    "from typing import Dict\n",
    "from pyspark.sql import DataFrame\n",
    "from tensorflow.keras.preprocessing import sequence\n",
    "\n",
    "class TextToSequence(Transformer):\n",
    "    #vectorizer = TextVectorization(output_sequence_length=200, vocabulary=list(base_model.wv.vocab.keys()))#max_tokens=20000, \n",
    "    tokenizer = Tokenizer(num_words=nb_words)\n",
    "    \n",
    "    def __init__(self):\n",
    "        super(TextToSequence, self).__init__()\n",
    "        \n",
    "    def _transform(self, df: DataFrame):\n",
    "        # 우리가 해야할 일은 dataframe을 순서통일해서 text와 label 리스트로 나누는것\n",
    "        samples = [' '.join(sample) for sample in df.select(\"filtered_words\").rdd.flatMap(lambda x: x).collect()]\n",
    "        labels = df.select(\"label\").rdd.flatMap(lambda x: x).collect()\n",
    "        \n",
    "        # train_x = [' '.join(sample) for sample in df.filter(col('label')==1).select(\"filtered_words\").rdd.flatMap(lambda x: x).collect()]\n",
    "        \n",
    "        self.tokenizer.fit_on_texts(cleaned_sentences)\n",
    "        train_sequences = self.tokenizer.texts_to_sequences(samples)\n",
    "        x_train.data = sequence.pad_sequences(train_sequences, maxlen=200, padding='post')\n",
    "        \n",
    "        words = df.select(\"filtered_words\").rdd.flatMap(lambda x: x).collect()\n",
    "        # 200의 길이로 상위 2만개의 토큰만 반영\n",
    "#         text_ds = tf.data.Dataset.from_tensor_slices(samples).batch(128)\n",
    "#         self.vectorizer.adapt(text_ds)\n",
    "        \n",
    "        temp = voc.staticList\n",
    "        print(len(temp))\n",
    "        # 엄데이트 하는 식으로 구현 동작 바꾸기!\n",
    "        voc.staticList = self.vectorizer.get_vocabulary() #list(set(voc.staticList + self.vectorizer.get_vocabulary()))\n",
    "        \n",
    "        aa = self.vectorizer.get_vocabulary()# list(set(self.vectorizer.get_vocabulary())-set(temp))\n",
    "        print(len(aa),\"!\")\n",
    "        \n",
    "        post_length = len(voc.staticList)\n",
    "        word_index.staticDict.update(dict(zip(aa, range(a.length, a.length+len(aa)))))\n",
    "        \n",
    "        #x_train.data = self.vectorizer(np.array([[s] for s in samples])).numpy()\n",
    "        zip_array = list(zip(samples, labels, x_train.data.tolist()))\n",
    "        rdd = sc.parallelize(zip_array, 306) #, numSlices=306\n",
    "        fdf = rdd.toDF(['text','label','feature'])\n",
    "        \n",
    "        return fdf"
   ]
  }
 ],
 "metadata": {
  "kernelspec": {
   "display_name": "Python 3",
   "language": "python",
   "name": "python3"
  },
  "language_info": {
   "codemirror_mode": {
    "name": "ipython",
    "version": 3
   },
   "file_extension": ".py",
   "mimetype": "text/x-python",
   "name": "python",
   "nbconvert_exporter": "python",
   "pygments_lexer": "ipython3",
   "version": "3.6.9"
  }
 },
 "nbformat": 4,
 "nbformat_minor": 5
}
