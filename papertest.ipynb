{
 "cells": [
  {
   "cell_type": "code",
   "execution_count": 1,
   "id": "0c904830",
   "metadata": {},
   "outputs": [
    {
     "name": "stderr",
     "output_type": "stream",
     "text": [
      "Using TensorFlow backend.\n"
     ]
    }
   ],
   "source": [
    "from pyspark import SparkContext\n",
    "from pyspark.sql.session import SparkSession\n",
    "from pyspark.streaming import StreamingContext\n",
    "from pyspark.ml import Pipeline\n",
    "from pyspark.ml.feature import StringIndexer, OneHotEncoderEstimator, VectorAssembler\n",
    "from pyspark.ml.feature import StopWordsRemover, Word2Vec, RegexTokenizer, Tokenizer\n",
    "from pyspark.ml.classification import LogisticRegression\n",
    "from pyspark.sql import Row\n",
    "from pyspark.streaming.kafka import KafkaUtils\n",
    "import pyspark.sql.functions as f\n",
    "import json\n",
    "import re\n",
    "from pyspark.sql import SparkSession, SQLContext\n",
    "from pyspark.sql.functions import *\n",
    "import sys\n",
    "from pyspark.sql.types import *\n",
    "from pyspark.sql.types import StructType, StructField, StringType, IntegerType\n",
    "from pyspark.sql.functions import from_json\n",
    "from pyspark.sql.functions import lit\n",
    "\n",
    "import pickle\n",
    "import keras\n",
    "from keras.preprocessing.text import Tokenizer\n",
    "from keras.preprocessing.sequence import pad_sequences\n",
    "from numpy import zeros\n",
    "from keras.models import model_from_json"
   ]
  },
  {
   "cell_type": "code",
   "execution_count": 2,
   "id": "ea497ad7",
   "metadata": {},
   "outputs": [
    {
     "data": {
      "text/html": [
       "\n",
       "        <div>\n",
       "            <p><b>SparkContext</b></p>\n",
       "\n",
       "            <p><a href=\"http://kafka1:4040\">Spark UI</a></p>\n",
       "\n",
       "            <dl>\n",
       "              <dt>Version</dt>\n",
       "                <dd><code>v2.4.7</code></dd>\n",
       "              <dt>Master</dt>\n",
       "                <dd><code>yarn</code></dd>\n",
       "              <dt>AppName</dt>\n",
       "                <dd><code>PySparkShell</code></dd>\n",
       "            </dl>\n",
       "        </div>\n",
       "        "
      ],
      "text/plain": [
       "<SparkContext master=yarn appName=PySparkShell>"
      ]
     },
     "execution_count": 2,
     "metadata": {},
     "output_type": "execute_result"
    }
   ],
   "source": [
    "sc"
   ]
  },
  {
   "cell_type": "code",
   "execution_count": 3,
   "id": "258bd0ba",
   "metadata": {
    "scrolled": true
   },
   "outputs": [
    {
     "data": {
      "text/html": [
       "\n",
       "            <div>\n",
       "                <p><b>SparkSession - hive</b></p>\n",
       "                \n",
       "        <div>\n",
       "            <p><b>SparkContext</b></p>\n",
       "\n",
       "            <p><a href=\"http://kafka1:4040\">Spark UI</a></p>\n",
       "\n",
       "            <dl>\n",
       "              <dt>Version</dt>\n",
       "                <dd><code>v2.4.7</code></dd>\n",
       "              <dt>Master</dt>\n",
       "                <dd><code>yarn</code></dd>\n",
       "              <dt>AppName</dt>\n",
       "                <dd><code>PySparkShell</code></dd>\n",
       "            </dl>\n",
       "        </div>\n",
       "        \n",
       "            </div>\n",
       "        "
      ],
      "text/plain": [
       "<pyspark.sql.session.SparkSession at 0x7f82e8b4fba8>"
      ]
     },
     "execution_count": 3,
     "metadata": {},
     "output_type": "execute_result"
    }
   ],
   "source": [
    "spark"
   ]
  },
  {
   "cell_type": "code",
   "execution_count": 4,
   "id": "877070a4",
   "metadata": {},
   "outputs": [
    {
     "data": {
      "text/plain": [
       "[('spark.eventLog.enabled', 'true'),\n",
       " ('spark.executor.instances', '3'),\n",
       " ('spark.sql.execution.arrow.enabled', 'true'),\n",
       " ('spark.driver.memory', '4g'),\n",
       " ('spark.executor.cores', '5'),\n",
       " ('spark.executor.extraJavaOptions', '-XX:+UseG1GC'),\n",
       " ('spark.driver.extraJavaOptions', '-XX:+UseG1GC'),\n",
       " ('spark.driver.host', 'kafka1'),\n",
       " ('spark.driver.port', '35313'),\n",
       " ('spark.serializer', 'org.apache.spark.serializer.KryoSerializer'),\n",
       " ('spark.yarn.archive', 'hdfs:///user/spark/conf/spark-libs.jar'),\n",
       " ('spark.app.id', 'application_1641116526368_0119'),\n",
       " ('spark.ui.proxyBase', '/proxy/application_1641116526368_0119'),\n",
       " ('spark.serializer.objectStreamReset', '100'),\n",
       " ('spark.sql.shuffle.partitions', '200'),\n",
       " ('spark.submit.deployMode', 'client'),\n",
       " ('spark.ui.filters',\n",
       "  'org.apache.hadoop.yarn.server.webproxy.amfilter.AmIpFilter'),\n",
       " ('spark.kryoserializer.buffer.max', '2047'),\n",
       " ('spark.executor.memoryOverhead', '1g'),\n",
       " ('spark.driver.memoryOverhead', '1g'),\n",
       " ('spark.executor.memory', '4g'),\n",
       " ('spark.executor.id', 'driver'),\n",
       " ('spark.history.fs.logDirectory', 'file:///root/spark/eventLog'),\n",
       " ('spark.default.parallelism', '163'),\n",
       " ('spark.app.name', 'PySparkShell'),\n",
       " ('spark.network.timeout', '3600s'),\n",
       " ('spark.driver.appUIAddress', 'http://kafka1:4040'),\n",
       " ('spark.executorEnv.PYTHONPATH',\n",
       "  '/root/spark/python/lib/py4j-0.10.7-src.zip:/root/spark/python/:/python:/python/lib/py4j-0.10.7-src.zip:<CPS>{{PWD}}/pyspark.zip<CPS>{{PWD}}/py4j-0.10.7-src.zip'),\n",
       " ('spark.master', 'yarn'),\n",
       " ('spark.sql.catalogImplementation', 'hive'),\n",
       " ('spark.rdd.compress', 'True'),\n",
       " ('spark.org.apache.hadoop.yarn.server.webproxy.amfilter.AmIpFilter.param.PROXY_HOSTS',\n",
       "  '0.0.0.0'),\n",
       " ('spark.org.apache.hadoop.yarn.server.webproxy.amfilter.AmIpFilter.param.PROXY_URI_BASES',\n",
       "  'http://0.0.0.0:8089/proxy/application_1641116526368_0119'),\n",
       " ('spark.yarn.isPython', 'true'),\n",
       " ('spark.deploy.mode', 'client'),\n",
       " ('spark.eventLog.dir', 'file:///root/spark/eventLog'),\n",
       " ('spark.ui.showConsoleProgress', 'true')]"
      ]
     },
     "execution_count": 4,
     "metadata": {},
     "output_type": "execute_result"
    }
   ],
   "source": [
    "spark.sparkContext.getConf().getAll()"
   ]
  },
  {
   "cell_type": "code",
   "execution_count": 5,
   "id": "8d5398a6",
   "metadata": {},
   "outputs": [],
   "source": [
    "csi_pos_neg = spark.read.csv(\"hdfs:///user/spark/datafile/csiposneg.csv\", header=True)"
   ]
  },
  {
   "cell_type": "code",
   "execution_count": 7,
   "id": "7f858ee9",
   "metadata": {
    "scrolled": true
   },
   "outputs": [
    {
     "data": {
      "text/plain": [
       "DataFrame[_c0: string, text: string, label: string]"
      ]
     },
     "execution_count": 7,
     "metadata": {},
     "output_type": "execute_result"
    }
   ],
   "source": [
    "csi_pos_neg"
   ]
  },
  {
   "cell_type": "code",
   "execution_count": 7,
   "id": "6edc3b97",
   "metadata": {},
   "outputs": [
    {
     "data": {
      "text/plain": [
       "pyspark.sql.dataframe.DataFrame"
      ]
     },
     "execution_count": 7,
     "metadata": {},
     "output_type": "execute_result"
    }
   ],
   "source": [
    "type(csi_pos_neg)"
   ]
  },
  {
   "cell_type": "code",
   "execution_count": 8,
   "id": "65d4ad3b",
   "metadata": {},
   "outputs": [
    {
     "data": {
      "text/plain": [
       "5"
      ]
     },
     "execution_count": 8,
     "metadata": {},
     "output_type": "execute_result"
    }
   ],
   "source": [
    "csi_pos_neg.rdd.getNumPartitions()"
   ]
  },
  {
   "cell_type": "code",
   "execution_count": 6,
   "id": "509b6562",
   "metadata": {},
   "outputs": [
    {
     "name": "stdout",
     "output_type": "stream",
     "text": [
      "+---+--------------------+-----+\n",
      "|_c0|                text|label|\n",
      "+---+--------------------+-----+\n",
      "|  0|threatmeter hacke...|    1|\n",
      "|  1|first android mal...|    1|\n",
      "|  2|adobe fixes six c...|    1|\n",
      "|  3| scienceporn  in ...|    1|\n",
      "|  4|riskware hmoyfzb ...|    1|\n",
      "+---+--------------------+-----+\n",
      "only showing top 5 rows\n",
      "\n"
     ]
    }
   ],
   "source": [
    "csi_pos_neg.show(5)"
   ]
  },
  {
   "cell_type": "code",
   "execution_count": 10,
   "id": "173169f2",
   "metadata": {},
   "outputs": [
    {
     "name": "stderr",
     "output_type": "stream",
     "text": [
      "/root/spark/python/pyspark/sql/dataframe.py:2151: UserWarning: toPandas attempted Arrow optimization because 'spark.sql.execution.arrow.enabled' is set to true, but has reached the error below and can not continue. Note that 'spark.sql.execution.arrow.fallback.enabled' does not have an effect on failures in the middle of computation.\n",
      "  'MultiIndex' object has no attribute 'labels'\n",
      "  warnings.warn(msg)\n"
     ]
    },
    {
     "ename": "AttributeError",
     "evalue": "'MultiIndex' object has no attribute 'labels'",
     "output_type": "error",
     "traceback": [
      "\u001b[0;31m---------------------------------------------------------------------------\u001b[0m",
      "\u001b[0;31mAttributeError\u001b[0m                            Traceback (most recent call last)",
      "\u001b[0;32m<ipython-input-10-e9b2c6d28eff>\u001b[0m in \u001b[0;36m<module>\u001b[0;34m\u001b[0m\n\u001b[0;32m----> 1\u001b[0;31m \u001b[0mdfdf\u001b[0m \u001b[0;34m=\u001b[0m \u001b[0mcsi_pos_neg\u001b[0m\u001b[0;34m.\u001b[0m\u001b[0mtoPandas\u001b[0m\u001b[0;34m(\u001b[0m\u001b[0;34m)\u001b[0m\u001b[0;34m\u001b[0m\u001b[0;34m\u001b[0m\u001b[0m\n\u001b[0m\u001b[1;32m      2\u001b[0m \u001b[0mtest_df\u001b[0m \u001b[0;34m=\u001b[0m \u001b[0mdfdf\u001b[0m\u001b[0;34m[\u001b[0m\u001b[0mdfdf\u001b[0m\u001b[0;34m[\u001b[0m\u001b[0;34m'text'\u001b[0m\u001b[0;34m]\u001b[0m\u001b[0;34m.\u001b[0m\u001b[0mstr\u001b[0m\u001b[0;34m.\u001b[0m\u001b[0mcontains\u001b[0m\u001b[0;34m(\u001b[0m\u001b[0;34m'baseboard'\u001b[0m\u001b[0;34m)\u001b[0m\u001b[0;34m]\u001b[0m\u001b[0;34m\u001b[0m\u001b[0;34m\u001b[0m\u001b[0m\n",
      "\u001b[0;32m~/spark/python/pyspark/sql/dataframe.py\u001b[0m in \u001b[0;36mtoPandas\u001b[0;34m(self)\u001b[0m\n\u001b[1;32m   2133\u001b[0m                     \u001b[0;32mif\u001b[0m \u001b[0mlen\u001b[0m\u001b[0;34m(\u001b[0m\u001b[0mbatches\u001b[0m\u001b[0;34m)\u001b[0m \u001b[0;34m>\u001b[0m \u001b[0;36m0\u001b[0m\u001b[0;34m:\u001b[0m\u001b[0;34m\u001b[0m\u001b[0;34m\u001b[0m\u001b[0m\n\u001b[1;32m   2134\u001b[0m                         \u001b[0mtable\u001b[0m \u001b[0;34m=\u001b[0m \u001b[0mpyarrow\u001b[0m\u001b[0;34m.\u001b[0m\u001b[0mTable\u001b[0m\u001b[0;34m.\u001b[0m\u001b[0mfrom_batches\u001b[0m\u001b[0;34m(\u001b[0m\u001b[0mbatches\u001b[0m\u001b[0;34m)\u001b[0m\u001b[0;34m\u001b[0m\u001b[0;34m\u001b[0m\u001b[0m\n\u001b[0;32m-> 2135\u001b[0;31m                         \u001b[0mpdf\u001b[0m \u001b[0;34m=\u001b[0m \u001b[0mtable\u001b[0m\u001b[0;34m.\u001b[0m\u001b[0mto_pandas\u001b[0m\u001b[0;34m(\u001b[0m\u001b[0;34m)\u001b[0m\u001b[0;34m\u001b[0m\u001b[0;34m\u001b[0m\u001b[0m\n\u001b[0m\u001b[1;32m   2136\u001b[0m                         \u001b[0;31m# Rename back to the original column names.\u001b[0m\u001b[0;34m\u001b[0m\u001b[0;34m\u001b[0m\u001b[0;34m\u001b[0m\u001b[0m\n\u001b[1;32m   2137\u001b[0m                         \u001b[0mpdf\u001b[0m\u001b[0;34m.\u001b[0m\u001b[0mcolumns\u001b[0m \u001b[0;34m=\u001b[0m \u001b[0mself\u001b[0m\u001b[0;34m.\u001b[0m\u001b[0mcolumns\u001b[0m\u001b[0;34m\u001b[0m\u001b[0;34m\u001b[0m\u001b[0m\n",
      "\u001b[0;32m/usr/local/lib/python3.6/dist-packages/pyarrow/table.pxi\u001b[0m in \u001b[0;36mpyarrow.lib.Table.to_pandas (/arrow/python/build/temp.linux-x86_64-3.6/lib.cxx:46331)\u001b[0;34m()\u001b[0m\n",
      "\u001b[0;32m/usr/local/lib/python3.6/dist-packages/pyarrow/pandas_compat.py\u001b[0m in \u001b[0;36mtable_to_blockmanager\u001b[0;34m(options, table, memory_pool, nthreads, categoricals)\u001b[0m\n\u001b[1;32m    568\u001b[0m \u001b[0;34m\u001b[0m\u001b[0m\n\u001b[1;32m    569\u001b[0m     \u001b[0;31m# ARROW-1751: flatten a single level column MultiIndex for pandas 0.21.0\u001b[0m\u001b[0;34m\u001b[0m\u001b[0;34m\u001b[0m\u001b[0;34m\u001b[0m\u001b[0m\n\u001b[0;32m--> 570\u001b[0;31m     \u001b[0mcolumns\u001b[0m \u001b[0;34m=\u001b[0m \u001b[0m_flatten_single_level_multiindex\u001b[0m\u001b[0;34m(\u001b[0m\u001b[0mcolumns\u001b[0m\u001b[0;34m)\u001b[0m\u001b[0;34m\u001b[0m\u001b[0;34m\u001b[0m\u001b[0m\n\u001b[0m\u001b[1;32m    571\u001b[0m \u001b[0;34m\u001b[0m\u001b[0m\n\u001b[1;32m    572\u001b[0m     \u001b[0maxes\u001b[0m \u001b[0;34m=\u001b[0m \u001b[0;34m[\u001b[0m\u001b[0mcolumns\u001b[0m\u001b[0;34m,\u001b[0m \u001b[0mindex\u001b[0m\u001b[0;34m]\u001b[0m\u001b[0;34m\u001b[0m\u001b[0;34m\u001b[0m\u001b[0m\n",
      "\u001b[0;32m/usr/local/lib/python3.6/dist-packages/pyarrow/pandas_compat.py\u001b[0m in \u001b[0;36m_flatten_single_level_multiindex\u001b[0;34m(index)\u001b[0m\n\u001b[1;32m    626\u001b[0m     \u001b[0;32mif\u001b[0m \u001b[0misinstance\u001b[0m\u001b[0;34m(\u001b[0m\u001b[0mindex\u001b[0m\u001b[0;34m,\u001b[0m \u001b[0mpd\u001b[0m\u001b[0;34m.\u001b[0m\u001b[0mMultiIndex\u001b[0m\u001b[0;34m)\u001b[0m \u001b[0;32mand\u001b[0m \u001b[0mindex\u001b[0m\u001b[0;34m.\u001b[0m\u001b[0mnlevels\u001b[0m \u001b[0;34m==\u001b[0m \u001b[0;36m1\u001b[0m\u001b[0;34m:\u001b[0m\u001b[0;34m\u001b[0m\u001b[0;34m\u001b[0m\u001b[0m\n\u001b[1;32m    627\u001b[0m         \u001b[0mlevels\u001b[0m\u001b[0;34m,\u001b[0m \u001b[0;34m=\u001b[0m \u001b[0mindex\u001b[0m\u001b[0;34m.\u001b[0m\u001b[0mlevels\u001b[0m\u001b[0;34m\u001b[0m\u001b[0;34m\u001b[0m\u001b[0m\n\u001b[0;32m--> 628\u001b[0;31m         \u001b[0mlabels\u001b[0m\u001b[0;34m,\u001b[0m \u001b[0;34m=\u001b[0m \u001b[0mindex\u001b[0m\u001b[0;34m.\u001b[0m\u001b[0mlabels\u001b[0m\u001b[0;34m\u001b[0m\u001b[0;34m\u001b[0m\u001b[0m\n\u001b[0m\u001b[1;32m    629\u001b[0m \u001b[0;34m\u001b[0m\u001b[0m\n\u001b[1;32m    630\u001b[0m         \u001b[0;31m# Cheaply check that we do not somehow have duplicate column names\u001b[0m\u001b[0;34m\u001b[0m\u001b[0;34m\u001b[0m\u001b[0;34m\u001b[0m\u001b[0m\n",
      "\u001b[0;31mAttributeError\u001b[0m: 'MultiIndex' object has no attribute 'labels'"
     ]
    }
   ],
   "source": [
    "dfdf = csi_pos_neg.toPandas()\n",
    "test_df = dfdf[dfdf['text'].str.contains('baseboard')]"
   ]
  },
  {
   "cell_type": "code",
   "execution_count": 8,
   "id": "d9637547",
   "metadata": {},
   "outputs": [
    {
     "name": "stderr",
     "output_type": "stream",
     "text": [
      "/root/spark/python/pyspark/sql/session.py:714: UserWarning: createDataFrame attempted Arrow optimization because 'spark.sql.execution.arrow.enabled' is set to true; however, failed by the reason below:\n",
      "  PyArrow >= 0.8.0 must be installed; however, it was not found.\n",
      "Attempting non-optimization as 'spark.sql.execution.arrow.fallback.enabled' is set to true.\n",
      "  warnings.warn(msg)\n"
     ]
    }
   ],
   "source": [
    "test_df = spark.createDataFrame(test_df)"
   ]
  },
  {
   "cell_type": "code",
   "execution_count": 83,
   "id": "baa96db5",
   "metadata": {},
   "outputs": [
    {
     "name": "stdout",
     "output_type": "stream",
     "text": [
      "+-----+----------------------------------------------------------------------------------------------------------------------------------------------------------------------------------------------------------------------------------------------------------------+-----+\n",
      "|_c0  |text                                                                                                                                                                                                                                                            |label|\n",
      "+-----+----------------------------------------------------------------------------------------------------------------------------------------------------------------------------------------------------------------------------------------------------------------+-----+\n",
      "|59263|cve out of bound read in intelr baseboard management controller firmware may allow an unauthenticated user to potentially enable information disclosure via network access  cgibincvenam ecginamecve                                                            |1    |\n",
      "|81181|cve insufficient session validation in intelr baseboard management controller firmware may allow an unauthenticated user to potentially enable information disclosure andor denial of service via network access  cgibincvenam ecginamecve                      |1    |\n",
      "|89847|intel baseboard management controller outofbounds memory corruption a vulnerability has been found in intel baseboard management controller forum software the affected version is unknown and classified as critical this vulnerability affects an unk  kluvhj |1    |\n",
      "+-----+----------------------------------------------------------------------------------------------------------------------------------------------------------------------------------------------------------------------------------------------------------------+-----+\n",
      "\n"
     ]
    }
   ],
   "source": [
    "test_df.show(truncate=False)"
   ]
  },
  {
   "cell_type": "code",
   "execution_count": 7,
   "id": "0cf5f70c",
   "metadata": {},
   "outputs": [],
   "source": [
    "csi_pos_neg_test = spark.read.csv(\"hdfs:///user/spark/datafile/csiposnegtest.csv\", header=True)"
   ]
  },
  {
   "cell_type": "code",
   "execution_count": 9,
   "id": "ec48f040",
   "metadata": {},
   "outputs": [
    {
     "name": "stdout",
     "output_type": "stream",
     "text": [
      "+-----+-----+\n",
      "|label|count|\n",
      "+-----+-----+\n",
      "|    1|99756|\n",
      "|    0|99756|\n",
      "+-----+-----+\n",
      "\n"
     ]
    }
   ],
   "source": [
    "csi_pos_neg.groupBy('label').count().orderBy('count').show()"
   ]
  },
  {
   "cell_type": "code",
   "execution_count": 9,
   "id": "fdbce7cc",
   "metadata": {},
   "outputs": [
    {
     "name": "stdout",
     "output_type": "stream",
     "text": [
      "+-----+-----+\n",
      "|label|count|\n",
      "+-----+-----+\n",
      "|    0|24939|\n",
      "|    1|24939|\n",
      "+-----+-----+\n",
      "\n"
     ]
    }
   ],
   "source": [
    "csi_pos_neg_test.groupBy('label').count().orderBy('count').show()"
   ]
  },
  {
   "cell_type": "code",
   "execution_count": 7,
   "id": "8fafb50d",
   "metadata": {},
   "outputs": [],
   "source": [
    "csi_pos_neg = csi_pos_neg.drop('_c0')"
   ]
  },
  {
   "cell_type": "code",
   "execution_count": 44,
   "id": "c794ee91",
   "metadata": {},
   "outputs": [],
   "source": [
    "csi_pos_neg_test = csi_pos_neg_test.drop('_c0')"
   ]
  },
  {
   "cell_type": "code",
   "execution_count": 45,
   "id": "289a7f71",
   "metadata": {},
   "outputs": [],
   "source": [
    "qq = csi_pos_neg_test.collect()[:24939]\n",
    "qq = spark.createDataFrame(qq)"
   ]
  },
  {
   "cell_type": "code",
   "execution_count": 46,
   "id": "f9a71d41",
   "metadata": {},
   "outputs": [
    {
     "name": "stdout",
     "output_type": "stream",
     "text": [
      "+-----+-----+\n",
      "|label|count|\n",
      "+-----+-----+\n",
      "|    1|24939|\n",
      "+-----+-----+\n",
      "\n"
     ]
    }
   ],
   "source": [
    "qq.groupBy('label').count().orderBy('count').show()"
   ]
  },
  {
   "cell_type": "code",
   "execution_count": 78,
   "id": "e0bd4209",
   "metadata": {},
   "outputs": [
    {
     "data": {
      "text/plain": [
       "DataFrame[text: string, label: string]"
      ]
     },
     "execution_count": 78,
     "metadata": {},
     "output_type": "execute_result"
    }
   ],
   "source": [
    "qq"
   ]
  },
  {
   "cell_type": "code",
   "execution_count": 6,
   "id": "3a73c458",
   "metadata": {},
   "outputs": [],
   "source": [
    "t1 = csi_pos_neg.collect()[:24939]\n",
    "t2 = csi_pos_neg.collect()[24939:49878]\n",
    "t3 = csi_pos_neg.collect()[49878:74817]\n",
    "t4 = csi_pos_neg.collect()[74817:99756]\n",
    "\n",
    "t5 = csi_pos_neg.collect()[99756:124695]\n",
    "t6 = csi_pos_neg.collect()[124695:149634]\n",
    "t7 = csi_pos_neg.collect()[149634:174573]\n",
    "t8 = csi_pos_neg.collect()[174573:199512]"
   ]
  },
  {
   "cell_type": "code",
   "execution_count": 7,
   "id": "76da4944",
   "metadata": {},
   "outputs": [
    {
     "data": {
      "text/plain": [
       "[Row(_c0='0', text='threatmeter hacked emails of san francisco muni rail system hacker reveals clues about identity and tactics kr  fin ', label='1'),\n",
       " Row(_c0='1', text='first android malware targeting pcs uncovered  fbxtynm ', label='1'),\n",
       " Row(_c0='2', text='adobe fixes six code execution bugs in flash  mokgxr ', label='1'),\n",
       " Row(_c0='3', text=' scienceporn  in a vacuum i guess', label='1'),\n",
       " Row(_c0='4', text='riskware hmoyfzb  fbjaz ', label='1'),\n",
       " Row(_c0='5', text='rt exploithunt  wzemae   data protection in fusion itsec  databreach  news   wzenei  ', label='1'),\n",
       " Row(_c0='6', text='webroot  spamvertised you have  lost message on facebook campaign leads to pharmaceutical scams  xunah ', label='1'),\n",
       " Row(_c0='7', text=' cybersecurity  hacker  privacy and big data   rmge ', label='1'),\n",
       " Row(_c0='8', text='postsnag gingcredsfromlockedmachines  ', label='1'),\n",
       " Row(_c0='9', text='ddos  t  mvrzcc ', label='1'),\n",
       " Row(_c0='10', text='top  actions for runtime application protection  fbodttge ', label='1'),\n",
       " Row(_c0='11', text='   watch  aqvqvy   ', label='1'),\n",
       " Row(_c0='12', text='threatmeter the facebook algorithm is watching you  loetua ', label='1'),\n",
       " Row(_c0='13', text='product model v product name forensic ultradock v product ty  rltxbn   cybersecurity  bitcoin ', label='1'),\n",
       " Row(_c0='14', text='rt securitytube  video ettercap beef mashup ', label='1'),\n",
       " Row(_c0='15', text='you never know when a moment and a few sincere words can have an impact on a life thezigziglar  success  leadership', label='1'),\n",
       " Row(_c0='16', text='cvechrome google chrome before  allows remote atta ', label='1'),\n",
       " Row(_c0='17', text='cve in schneider electric umotion builder software versions prior to v a cross site scripting xss vulnerability exists which could allow injection of malicious scripts   tsmrng ', label='1'),\n",
       " Row(_c0='18', text=' coresecuritycom  ', label='1'),\n",
       " Row(_c0='19', text='mikko hyppnen warns the isis has a credible offensive cyber capability ebfjwkb  securityaffairs  isis  hacking  security', label='1'),\n",
       " Row(_c0='20', text='bm none of my google accounts are connected theyre kept deprecate for opsec reasons some even have dedicate hardware ', label='1'),\n",
       " Row(_c0='21', text='how ai and machine learning can help you defend the enterprise fromcyberattacks  itsecuritynewsinfohowaiandmac hinelearningcanhelpyoudefendtheenterprisefromcyberattacks  ', label='1'),\n",
       " Row(_c0='22', text='us military veterans join standing rock protests in n dakota  pnusd ', label='1'),\n",
       " Row(_c0='23', text='malware based attack hit japanese monju nuclear power plant  dgzdrv ', label='1'),\n",
       " Row(_c0='24', text='windows  egghunter wow and more  corelanbeindexphp windowsegghunter  ', label='1'),\n",
       " Row(_c0='25', text='mandriva linux security advisory   fbmfya ', label='1'),\n",
       " Row(_c0='26', text='cvewindowsserver windows windowsserver windowsserver windows the opentype ', label='1'),\n",
       " Row(_c0='27', text='digicert works with its partners to move past google s distrust of symantec  tls certificates   rhelpnetsecu rityagttqv    helpnetsecurity', label='1'),\n",
       " Row(_c0='28', text='the security analyst series from eccouncil  press is comprised o  pptbc   cybersecurity  bitcoin ', label='1'),\n",
       " Row(_c0='29', text='hacking is something that many people fall victim to at some point  lllc   cybersecurity  bitcoin ', label='1'),\n",
       " Row(_c0='30', text='mid level surfacing engineer design engineer withheld edgewater njsource coroflot ', label='1'),\n",
       " Row(_c0='31', text='lynis  releases  open source auditing in linux system lynisopensou rceauditinglinuxsystem  ', label='1'),\n",
       " Row(_c0='32', text='trumps new plan to save jobs', label='1'),\n",
       " Row(_c0='33', text=' for au  mtfqyg       ', label='1'),\n",
       " Row(_c0='34', text='yup thegrugqstatu s  ', label='1'),\n",
       " Row(_c0='35', text='na  cve  in blackberry qnx software development platform  zjqvmp   in blackberry qnx software development pla', label='1'),\n",
       " Row(_c0='36', text='cve crosssite scripting xss vulnerability in jsviewerpaneljs in the file previewer plugin in   tjzhul ', label='1'),\n",
       " Row(_c0='37', text='iasielloe counter cyber terrorism analysis of growth trends progress and challenges  wmeqle ', label='1'),\n",
       " Row(_c0='38', text='hacking with new diy google dorks based hacking tool funjf  securityaffairs  diy  cybercrime  hacking  google', label='1'),\n",
       " Row(_c0='39', text='kaspersky mobile security for blackberry   netsecuorgidbfbf   security', label='1'),\n",
       " Row(_c0='40', text='nakedsecurity policetaunting facebook selfie poster jailed  naked security  ifabab   security', label='1'),\n",
       " Row(_c0='41', text='w shizgobptrbdr  fbvwtgt ', label='1'),\n",
       " Row(_c0='42', text='     doubling down on security sunday business post  qgpckd ', label='1'),\n",
       " Row(_c0='43', text='  eebfol     mm', label='1'),\n",
       " Row(_c0='44', text='bugtraq kl  barracuda waf internal development credential disclosure  tproyz ', label='1'),\n",
       " Row(_c0='45', text='dlink dgstc cross site request forgery  files   exploit', label='1'),\n",
       " Row(_c0='46', text='when your vision is clear jesse lyn stoner quote ', label='1'),\n",
       " Row(_c0='47', text='xindi coldfusion   gkjx ', label='1'),\n",
       " Row(_c0='48', text='can you really have anonymity on the internet    linkedincomtodaypostart iclecanyoureallyhaveanonymityontheinternet  ', label='1'),\n",
       " Row(_c0='49', text='jvndbisc bind named validator  ', label='1'),\n",
       " Row(_c0='50', text='prnewswire onetrust acquires leading website auditing and cookie compliance solution  ied   security', label='1'),\n",
       " Row(_c0='51', text='ip webcam turns your android phone into a remote camera video ', label='1'),\n",
       " Row(_c0='52', text='alleged jpmorgan hacker arrested in new york  joshua aaron was deported from russia and cuffed on entry to us   vduocyaa ', label='1'),\n",
       " Row(_c0='53', text='eventdyson  eye  mlc   dyson  eye ', label='1'),\n",
       " Row(_c0='54', text='     troj cerberabv  nbwww ', label='1'),\n",
       " Row(_c0='55', text='facebook removes eu referendum status suggestions  facebook removes proleave and proremain status update sug  ccejphu ', label='1'),\n",
       " Row(_c0='56', text='cve the inet module in freebsd x before prerelease betap rcp x before   uwzwgc ', label='1'),\n",
       " Row(_c0='57', text='     facebook privacy hoax chain letter rises from the grave again  mtgpsv ', label='1'),\n",
       " Row(_c0='58', text=' ubuntu  security  notice usn  filesu sntxt    packetstorm', label='1'),\n",
       " Row(_c0='59', text=' euleros   sp  binutils eulerossa   tenablecompluginsnessus     nessus', label='1'),\n",
       " Row(_c0='60', text='opdevsec rt cyberhitchhiker cyberthieves seek to cash in on bitcoin boom  cyb erthievesseekcashbitcoinboom    infosec  malware', label='1'),\n",
       " Row(_c0='61', text=' truekonrads  i disagree i think  is better and  is probably even better they can cross over with the penetration team', label='1'),\n",
       " Row(_c0='62', text='     pos malware treasurehunter source code leaked  qsrvnw ', label='1'),\n",
       " Row(_c0='63', text='job outlook for cisa professionals  hlkphc ', label='1'),\n",
       " Row(_c0='64', text='ransommatrix  fbjozm ', label='1'),\n",
       " Row(_c0='65', text='pci set to ban ssl protocol  fbnjpcez ', label='1'),\n",
       " Row(_c0='66', text='cve ibm bigfix platform  through  and  through  does not set the httponly attribute on authorization tokens or session cookies if a crosssite scripting vulnerability also existed attackers may be able to get the cookie va  qnoasj ', label='1'),\n",
       " Row(_c0='67', text='threatmeter pulse secure pulse one onpremise up to  information disclosure  xelyy ', label='1'),\n",
       " Row(_c0='68', text='cve realplayer  allows remote attackers to cause a denial of service dividebyzero error   rggtan ', label='1'),\n",
       " Row(_c0='69', text='re executable installers are vulnerablewevil case fsecureonlinescannerexe allows arbitra  fulldisclosure dec    fulldisclosure', label='1'),\n",
       " Row(_c0='70', text='hacker interviews  speaking with ghostshell egsgtwq  securityaffairs  ghostshell  hacking', label='1'),\n",
       " Row(_c0='71', text='how service manager can throw an xml spanner in the orchestrator works  yx    microsofttechnet', label='1'),\n",
       " Row(_c0='72', text='water wars a sinking feeling in philippinechina relations  itsecuritynewsinfowaterwarsas inkingfeelinginphilippinechinarelations  ', label='1'),\n",
       " Row(_c0='73', text='nokias network profits drop raise concerns over alcatel deal by jussi rosendahl and leila abboud helsinkipa  eujiib ', label='1'),\n",
       " Row(_c0='74', text='its star wars day in australia and asia and people are going interstellar crazy thanks to the wonders of   dyzwjy ', label='1'),\n",
       " Row(_c0='75', text='new ads in google maps might suggest a pit stop at mcdonalds  irdelg ', label='1'),\n",
       " Row(_c0='76', text='hacker who exposed facebook bug to get reward from unexpected source times of india hacker  fbgklf ', label='1'),\n",
       " Row(_c0='77', text='india has emerged as a hub of the it industry due to the phenomena  lleme   cybersecurity  bitcoin ', label='1'),\n",
       " Row(_c0='78', text='azealia banks twitter account suspended after racist rant targeting zayn malik  niltemf ', label='1'),\n",
       " Row(_c0='79', text='medsec goes its own way with medical device flaw eschewing the bug bounty route a cybersecurity fi  bunck   infosec', label='1'),\n",
       " Row(_c0='80', text='windows  update  release date may arrive aug   digital trends   netsecuorgicf   security', label='1'),\n",
       " Row(_c0='81', text='big data is pushing d printing to its tipping point', label='1'),\n",
       " Row(_c0='82', text='washalsec rt isaudit introducing windows defender application control  windows  native whitelisting  mmpc introducingwindowsdefenderapplicationcontrol  ', label='1'),\n",
       " Row(_c0='83', text='understanding account creation and privilege escalation vulnerability in joomla  epayt ', label='1'),\n",
       " Row(_c0='84', text='appseceu   tin zaw scott matsumoto  threat modeling a brief history and the unified approach   securitytubenetvideo   securitytube', label='1'),\n",
       " Row(_c0='85', text=' techcrunch  sony s rd massive leak   million users personal info hacked in japan    hacked  infosec  anonymous', label='1'),\n",
       " Row(_c0='86', text='cve  iihwhz ', label='1'),\n",
       " Row(_c0='87', text=' cybersecurity  hacker  informationskrieg und cyber war   vvfyn ', label='1'),\n",
       " Row(_c0='88', text='     after facebooks data blowup are daos leveraging blockchain the future  qqdzch ', label='1'),\n",
       " Row(_c0='89', text='rotating iframe urls  one a minute  mbrlf ', label='1'),\n",
       " Row(_c0='90', text='cve wireshark wireshark  score in wireshark  to  and  to  the ixveriwave file parser could crash this was addressed in wiretapvwrc by correcting the signature timestamp bou vulnerabilityd etailsqidcve  ', label='1'),\n",
       " Row(_c0='91', text='une rvolution cinmatographique  rt lepost  james cameron vatil entrer dans lhistoire ce  juillet  ', label='1'),\n",
       " Row(_c0='92', text='marcus aka wntn is only seventeen years old but he figur  vuvcg   cybersecurity  bitcoin ', label='1'),\n",
       " Row(_c0='93', text='gchq ran dos attack on chatrooms used by anonymous and lulzsec drzxakp  securityaffairs  gchq  anonymous  lulzsec', label='1'),\n",
       " Row(_c0='94', text='     what is shingles a look at the virus after linmanuel mirandas diagnosis cbs news  qpjdjq ', label='1'),\n",
       " Row(_c0='95', text='jqueryuirails   jqsy ', label='1'),\n",
       " Row(_c0='96', text='a groundbreaking exploration of how to identify and fight security  qsputl   cybersecurity  bitcoin ', label='1'),\n",
       " Row(_c0='97', text='massive epsilon email breach hits citi chase more dvfdh', label='1'),\n",
       " Row(_c0='98', text='rt securityaffairs oracle january  critical patch update also addresses spectre and meltdown bcott  securityaffairs ', label='1'),\n",
       " Row(_c0='99', text=' cybersecurity  hacker  the antivirus hackers handbook   fdpthm ', label='1'),\n",
       " Row(_c0='100', text='     wuzhicms  multiple cross site scripting vulnerabilities  qttscg ', label='1'),\n",
       " Row(_c0='101', text=' cybersecurity  hacker  cybersecurity for everyone securing your home or small business network   ksvwa  ', label='1'),\n",
       " Row(_c0='102', text='this is a guy who knows how to make a deal', label='1'),\n",
       " Row(_c0='103', text='cve cisco unified communications manager realtime monitoring tool information disclosure  threats   mcafee', label='1'),\n",
       " Row(_c0='104', text='shopping apps', label='1'),\n",
       " Row(_c0='105', text='ctinglobal rt securityaffairs terabytes of us military social media surveillance miserably left wide open in aws s buckets  axveky  ', label='1'),\n",
       " Row(_c0='106', text='cyberexaminer security  cve  pmbthy   infosec', label='1'),\n",
       " Row(_c0='107', text='jvndbpragyan cms  sql   khqhu   pragyan cms sql vulnerability analysis s', label='1'),\n",
       " Row(_c0='108', text='joomla comacymailing components  database  backup disclosure   issuewlb     cxsecurity', label='1'),\n",
       " Row(_c0='109', text='cso online  a new wordpress plugin exploit endangers thousands of websites  tbggb ', label='1'),\n",
       " Row(_c0='110', text='exploit alert researchers track subway riders using smartphone malware  egmxk ', label='1'),\n",
       " Row(_c0='111', text='a fantastic book for anyone looking to learn the tools and techni  llflca   cybersecurity  bitcoin ', label='1'),\n",
       " Row(_c0='112', text=' voulnet  theres  firefox extentsions  no longer supported on   and  copycat chrome extension already the power of open sores ', label='1'),\n",
       " Row(_c0='113', text='tagtaggerjs   cvwvy ', label='1'),\n",
       " Row(_c0='114', text='honeypots have demonstrated immense value in internet security but  ifrajc   hacker  cybersecurity ', label='1'),\n",
       " Row(_c0='115', text='mahara up to x url denial of service  hfkrxb ', label='1'),\n",
       " Row(_c0='116', text=' microsoft  issues outofband fix for intel s broken spectre patch  newsmicrosoftoutofbandfixintels infosecuritymagazinecomnewsmicrosoft    infosecmag', label='1'),\n",
       " Row(_c0='117', text='eff to supreme court strike social media ban for sex offenders  pzdrqob ', label='1'),\n",
       " Row(_c0='118', text='symantec unveils the industrys most complete cloud security solution to address the  fbvrveb ', label='1'),\n",
       " Row(_c0='119', text='dont let your beliefs limit your possibilities ', label='1'),\n",
       " Row(_c0='120', text='good news oauth is almost secure  boffins turn up a couple of protocol vulns in facebooks login stanard germ  qca ', label='1'),\n",
       " Row(_c0='121', text='rt falkvinge everyone needs to read the true correct story of what happened at trumps inauguration   washingtonpostcomblogscompost wpthetruecorrectstoryofwhathappenedatdonaldtrumpsinauguration  ', label='1'),\n",
       " Row(_c0='122', text='ptable provides an indepth interactive periodic table of elements  soecvb  if youre a student hoping to conquer chemi', label='1'),\n",
       " Row(_c0='123', text='rt anoninsider  what you should know about acta   xzzamx   anonymous', label='1'),\n",
       " Row(_c0='124', text='trkischer minister plant facebook  zensur    unwatchedorgtuerk ischerministerplantfacebookzensur  ', label='1'),\n",
       " Row(_c0='125', text='rt nrgfx  automated penetration testing and auditing tool security  privacy  cloud   escw  ', label='1'),\n",
       " Row(_c0='126', text=' xabaddea  youre probably too young to remember it', label='1'),\n",
       " Row(_c0='127', text=' ochsenmeier  awesome', label='1'),\n",
       " Row(_c0='128', text='  oaobeb   tbs', label='1'),\n",
       " Row(_c0='129', text=' epic   sim card flaw said to allow hijacking of millions of phones security rkxe ', label='1'),\n",
       " Row(_c0='130', text='cve the windows kernel in windows  sp and windows server  r sp allows an elevation of privilege vulnerability due to the way it handles objects in memory aka windows kernel elevation of privilege vulnerability   gqyxqv ', label='1'),\n",
       " Row(_c0='131', text='threatmeter starting page  outgoingphp linkid sql injection  jbuv ', label='1'),\n",
       " Row(_c0='132', text='     android adware and ransomware found preinstalled on highend  bleepingcomputer  nbqtbp ', label='1'),\n",
       " Row(_c0='133', text='thevarguy microsoft preloading windows  installation code without permission business technolog  idbe ', label='1'),\n",
       " Row(_c0='134', text='  qdglnt  dumb little man', label='1'),\n",
       " Row(_c0='135', text='     apple ios iboot secure bootloader code leaked online  qfhsw ', label='1'),\n",
       " Row(_c0='136', text='european commission doesnt plan to comply with gdpr  well sort of  rnakedsecuri tyjlsbcvfc    nakedsecurity', label='1'),\n",
       " Row(_c0='137', text='oneplus   dtxcgb   oneplus oneplus ', label='1'),\n",
       " Row(_c0='138', text='thai radio did you go to songkran at khao sahn or silomcaller no way i cant stand it anymore crazy foreigners also it was raining', label='1'),\n",
       " Row(_c0='139', text=' microsoft  edge windows   info leak  type confusion remote  code  execution  issuewlb     cxsecurity', label='1'),\n",
       " Row(_c0='140', text='typo multiple vulnerabilities  secunia advisories  vulnerability information  secuniacom  typo mult ', label='1'),\n",
       " Row(_c0='141', text=' cybersecurity  hacker  programmable logic controller automated teller machine linear motor scada   kaqmq ', label='1'),\n",
       " Row(_c0='142', text=' emerging it security vendors to look out for in  we have completed our selection of the final  fbjwtxoe   infosec', label='1'),\n",
       " Row(_c0='143', text='new post mooltipass open source offline password keeper  ryqvt ', label='1'),\n",
       " Row(_c0='144', text='create malicious excel files using metasploit and shellcodevbscript ', label='1'),\n",
       " Row(_c0='145', text='alert on ofertomatbg vulnerable websites websecurity  bugbounty  exploits  hacking  security    alert ', label='1'),\n",
       " Row(_c0='146', text='      yomiuri online  wweu ', label='1'),\n",
       " Row(_c0='147', text=' beist  jduck  cool', label='1'),\n",
       " Row(_c0='148', text='discovering a session hijacking vulnerability in gitlab   incapsulacomblogblocking sessionhijackingongitlabhtml    infosec  cybersecurity', label='1'),\n",
       " Row(_c0='149', text='popular hacking toolkit metasploit adds hardware testing capabilities dgigbp  securityaffairs  cisco  hacking', label='1'),\n",
       " Row(_c0='150', text=' cybersecurity  hacker  inside network perimeter security the definitive guide to firewalls vpns routers and intrusion detection systems inside new riders   aofiwu ', label='1'),\n",
       " Row(_c0='151', text=' cybersecurity  hacker  underground tales of hacking madness and obsession on the electronic frontier   ihhxrn  ', label='1'),\n",
       " Row(_c0='152', text='israel is doing a great job of training cybersecurity experts june    vprdk ', label='1'),\n",
       " Row(_c0='153', text='opdevsec rt kevinjoneshc hackers  exploit msoffice  to spread selfreplicating malware   hackersexploi tmsofficespreadselfreplicatingmalware  ', label='1'),\n",
       " Row(_c0='154', text='whatever you hold in your mind tony robbins quote  quotes  tweetjukebox     ', label='1'),\n",
       " Row(_c0='155', text='dyreza banking trojan uses browser hooking to defeat ssl dncmzwf  securityaffairs  malware  dyreza  banking', label='1'),\n",
       " Row(_c0='156', text='osssec re linux  kernel   stack buffer   overflow  with controlled payload   in getoptions function     osssecq utmsourcedlvritutmmediumtwitter  ', label='1'),\n",
       " Row(_c0='157', text='google finds malicious sites pushing ios exploits for years security researchers at google said they found fbkuxb ', label='1'),\n",
       " Row(_c0='158', text='now you can find out if the nsa and gchq spied on you   wiredcomnowca nfindnsagchqspied  ', label='1'),\n",
       " Row(_c0='159', text='rt secuobsrevueus  tuluka kernel inspector rootkit detector rootkit  kernel  tor  security  ', label='1'),\n",
       " Row(_c0='160', text='     android warning fake google maps app loaded with malware downloaded from google play  qtfnm ', label='1'),\n",
       " Row(_c0='161', text='pr  s drive  vglng ', label='1'),\n",
       " Row(_c0='162', text='     six methods to create a secure password youll actually remember  qyhnqn ', label='1'),\n",
       " Row(_c0='163', text='kabul bomb afghan leader condemns cowardly attack  a massive truck bomb rocked the diplomatic area of the a  jgjjbqobh ', label='1'),\n",
       " Row(_c0='164', text=' headhntr  yes if the info exchange happens in english or can happen in english its first world all of europe is first world', label='1'),\n",
       " Row(_c0='165', text='trisacatrinei  eclatage de croissants et de buffet brunch faon rssil  je confirme que tris mange comme dix', label='1'),\n",
       " Row(_c0='166', text='cve dcccurrlist is initialized with a default invalid value that is expected to be programmed by the user through a sysfs node which could lead to an invalid access in all android releases from caf android for msm   lsovch ', label='1'),\n",
       " Row(_c0='167', text='rt securityaffairs phishme authors of locky  ransomware  are big fans game of thrones series ylyyss  securityaffairs ', label='1'),\n",
       " Row(_c0='168', text='     a nucleus of informationsharing mastercards fusion center  qfgmx ', label='1'),\n",
       " Row(_c0='169', text=' hadoopnext  accelerate data science with hadoop', label='1'),\n",
       " Row(_c0='170', text='rt mikko  it is not a myth surfing for porn can get you infected  toppo rnsitesleadtomalwarehtml   porn sites have a higher malware rate', label='1'),\n",
       " Row(_c0='171', text=' cybersecurity  hacker  cyber warfare and the new world order world war iii series book iv     tobemcomcyberwarcyber warfareandthenewworldorderworldwariiiseriesbookiv       cyberwarbooks   america is on the brink russian and chinese soldiers still occupy alaska and now a joint chinesejapanese ', label='1'),\n",
       " Row(_c0='172', text='tim fargo alphabetsuccess    tweetjukeboxcom   quote  socialmedia  tweetjukebox  mkcima  ', label='1'),\n",
       " Row(_c0='173', text='capital markets pivots to big data in ', label='1'),\n",
       " Row(_c0='174', text='setting goals is the first step in turning the invisible into the visible  tony robbins quote', label='1'),\n",
       " Row(_c0='175', text='after pcs and mobile a chip battle for vr devices is brewing  ctxc ', label='1'),\n",
       " Row(_c0='176', text='belevgevgeny download the best training courses and ebooks on cybersecurity for free  kxcrgzmsx    infosec  cybersecurity  ebooks  training  security  information  cybersecurity  computerscience  riskmanagement  encryption  iot  ai  datapr  ', label='1'),\n",
       " Row(_c0='177', text='myce avg we collect and sell browsing history of free antivirus users       ibbbdba   security', label='1'),\n",
       " Row(_c0='178', text=' cybersecurity  hacker  cyberspace in peace and war transforming war   sukc ', label='1'),\n",
       " Row(_c0='179', text='esb  suse docker and containerd multiple vulnerabilities  hbflgl ', label='1'),\n",
       " Row(_c0='180', text='i have found that if you give your staff a problem and do not tell them how to solve it you end up with a better solution leadership', label='1'),\n",
       " Row(_c0='181', text='android  vs  ', label='1'),\n",
       " Row(_c0='182', text='google pulls  apps in android malware scare  ', label='1'),\n",
       " Row(_c0='183', text='   watch  ni   poqnv ', label='1'),\n",
       " Row(_c0='184', text=' oler  ist den schon wieder hamburger dom', label='1'),\n",
       " Row(_c0='185', text='south korea launches first internet of things network south korea launches first internet  fbrikek ', label='1'),\n",
       " Row(_c0='186', text='docker attention hpediscover  attendees you can reduce your it costs by  when you use the docker  modernize traditional applications program visit booth  hpediscover   see you there ', label='1'),\n",
       " Row(_c0='187', text='anonymous releases  mb of fbi contractor data ', label='1'),\n",
       " Row(_c0='188', text='redmine up to  markup cross site scripting  xdxx ', label='1'),\n",
       " Row(_c0='189', text='rapid scada    insecure permissions posted by filipe on mar   tempest security intelligence  adv  fbdzruqk ', label='1'),\n",
       " Row(_c0='190', text='one weird trick to beat the password thieves stop worrying so much  oliver burkeman  xehqo   infosec', label='1'),\n",
       " Row(_c0='191', text='anonymous philippines hacked the comelec it is the biggest government related data breach  wordpress databreachanonymousphilippinesdatabreachhtml  ', label='1'),\n",
       " Row(_c0='192', text='nethammer inducing rowhammer faults through network requests  abs ', label='1'),\n",
       " Row(_c0='193', text='im not getting what part is secret the practice is publicly known for years now   theatlanticcominternational archivethecreepylongstandingpracticeofunderseacabletapping  ', label='1'),\n",
       " Row(_c0='194', text='law neiman marcus data breach suit revived by th circ  law  idabde   security', label='1'),\n",
       " Row(_c0='195', text='damn if this is true then china just gave itself the same legal authority the fbi and australian police exploit  lawfareblogcomdidchinaquie tlyauthorizelawenforcementaccessdataanywhereworld  ', label='1'),\n",
       " Row(_c0='196', text='how rude form him not respecting the voting system of an other country cia  killlist', label='1'),\n",
       " Row(_c0='197', text='     economic development be sure to protect your business from cyber attack billings gazette  nwsymg ', label='1'),\n",
       " Row(_c0='198', text='kaspersky removed from gsa schedule limiting federal sales for its security software urdcxx ', label='1'),\n",
       " Row(_c0='199', text='  ngofr  all time reques', label='1'),\n",
       " Row(_c0='200', text='network world  terrorists are winning the digital arms race experts say  jvhrlm ', label='1'),\n",
       " Row(_c0='201', text='google android mediatek performance service privilege escalation  iyfk ', label='1'),\n",
       " Row(_c0='202', text='ctinglobal rt securityaffairs malwageddon malwrhunterteam sambacry  is reality crooks are abusing cve  spwoe  ', label='1'),\n",
       " Row(_c0='203', text='darknet  fluxion  automated evilap attack tool  jaulpu ', label='1'),\n",
       " Row(_c0='204', text='data data everywhere  cio   netsecuorgic   security', label='1'),\n",
       " Row(_c0='205', text='greek navy heads to ship near corfu after distress signal sent  rmashable bipxqfae  ', label='1'),\n",
       " Row(_c0='206', text='   ogkvb  ', label='1'),\n",
       " Row(_c0='207', text='alienvault  how malware sandboxes and siems work in tandem to effectively detect malware  etkpdd ', label='1'),\n",
       " Row(_c0='208', text='rt matrosov  very useful service shellcode to exe ', label='1'),\n",
       " Row(_c0='209', text='sophos free virus removal tool  antivirus and malware removal tool for confickerrootkits and v  idf ', label='1'),\n",
       " Row(_c0='210', text='i tried to associate vodafone mobile with twitter account but sorry twitter  dont have a connection to my carrier yet fail  security', label='1'),\n",
       " Row(_c0='211', text='rt virusbtn  researcher goes full disclosure as moonpig vulnerability remains unpatched for  months   ifcnfigcommoonpigvulner ability  ', label='1'),\n",
       " Row(_c0='212', text='gfi max adds functionality and extends mobile device management support to windows phone    netsecuorgiabde ', label='1'),\n",
       " Row(_c0='213', text='a hacker says he knows how to take over a police drone   wwwinverseco martitsc  ', label='1'),\n",
       " Row(_c0='214', text='understanding dark networks a strategic framework for the use of social networkanalysis   tobemcomcyberwarunder standingdarknetworksastrategicframeworkfortheuseofsocialnetworkanalysis  ', label='1'),\n",
       " Row(_c0='215', text='dj  ohtyos  djtvdjwebdj', label='1'),\n",
       " Row(_c0='216', text='imagination is more important than knowledge  albert einstein quote', label='1'),\n",
       " Row(_c0='217', text='oracle mysql server up to  replication denial of service  thh ', label='1'),\n",
       " Row(_c0='218', text='  oojprf   ', label='1'),\n",
       " Row(_c0='219', text='darkreading dealing with due diligence  cybersecurity    darkreadingcomclouddealing withduediligenceadidpiddlmsgid   ', label='1'),\n",
       " Row(_c0='220', text=' esb  appliance f bigip and enterprise manager administrator compromise  existing  pdyqq ', label='1'),\n",
       " Row(_c0='221', text='dockercon eu software testing with docker  eeseve ', label='1'),\n",
       " Row(_c0='222', text='opdevsec rt domainologyde report destructive malware  and targeted cyberattacks  on the rise in   fqnqgx   cyberawa ', label='1'),\n",
       " Row(_c0='223', text=' cybersecurity  hacker  bitmain antminer s bitcoin miner  jgh power efficiency ths   codif  ', label='1'),\n",
       " Row(_c0='224', text='     iphone  iphone  plus are the bestselling smartphones in us again  nkx ', label='1'),\n",
       " Row(_c0='225', text='next generation managed security service provider herjavec group  xvueoug ', label='1'),\n",
       " Row(_c0='226', text='ransomware demanded m after takes offline the hollywood presbyterian medical centersecurity affairs  zmdsu ', label='1'),\n",
       " Row(_c0='227', text='senator notifies attorney general jeff sessions that stingrays may disrupt  emergency services   scmagazinecomsenatorquesti onsattorneygeneraljeffsessionsonstingraysaffectonemergencyservicesarticle    scmagazine', label='1'),\n",
       " Row(_c0='228', text='microsoft to close its social network on a weeks notice  and six people complain  the register  iusv ', label='1'),\n",
       " Row(_c0='229', text='what do led zeppelin and your baby have in common', label='1'),\n",
       " Row(_c0='230', text='     rainbow  database game hacked  psmy ', label='1'),\n",
       " Row(_c0='231', text='say no  to surveillance state video   usathankyou snowdenbuses  ', label='1'),\n",
       " Row(_c0='232', text='ios  code suggests next iphone may have a p front camera now that developers finally have their hands on  qqalms ', label='1'),\n",
       " Row(_c0='233', text='how to add change and remove file property details in windows   fbwhpn ', label='1'),\n",
       " Row(_c0='234', text='mattblazestat us  ', label='1'),\n",
       " Row(_c0='235', text='rt sansisc  juniper routers may crash on certain malformed packets storyid', label='1'),\n",
       " Row(_c0='236', text='postponing the tough questions until its too late how not to assist the rebels in syria us navy photo by   tyqih ', label='1'),\n",
       " Row(_c0='237', text='sentinelsource cyber threats every day at every moment someone is trying to hack your life  cybersecurity    sentinelsourcecomopinioneditor ialcyberthreatseverydayateverymomentsomeoneistryingarticleeedadcbcdcdchtml   ', label='1'),\n",
       " Row(_c0='238', text='stocks  things to know before the open', label='1'),\n",
       " Row(_c0='239', text='exploitdb dos microsoft edge chakra  incorrect usage of pushpopframehelper in  pfntb ', label='1'),\n",
       " Row(_c0='240', text='csv   xtech atclnxtcolum n  ', label='1'),\n",
       " Row(_c0='241', text='rt keystoneengine  the slides of our presentation keystone next generation assembler framework is now online   keystoneengineorgdocsbhusa keystonepdf  ', label='1'),\n",
       " Row(_c0='242', text='discover the nononsense starter guide to mastering bitcoin block  iwljud   cybersecurity  bitcoin ', label='1'),\n",
       " Row(_c0='243', text='two clementine fords join forces against trolls create feminist powerhouse its hard out there on the intern  pxwavp ', label='1'),\n",
       " Row(_c0='244', text='nova systems software logistica ghidoproduction sql  injection   issuewlb     cxsecurity', label='1'),\n",
       " Row(_c0='245', text='cloud security concerns depend on the industry it business edge blog cloud security  fbekq ', label='1'),\n",
       " Row(_c0='246', text='ftcs chief technologist was victim of id theft someone hijacked her phone number  eayqq ', label='1'),\n",
       " Row(_c0='247', text='an easy way to test your disaster recovery plan  the business journals   netsecuorgicb   security', label='1'),\n",
       " Row(_c0='248', text='microsoft has seen the light and its not silverlight ', label='1'),\n",
       " Row(_c0='249', text=' toy car upgraded to record the ride in hd  pklnnab   via hackaday', label='1'),\n",
       " Row(_c0='250', text='efast browser hijacks file associations  malwarebytes unpacked  bkl ', label='1'),\n",
       " Row(_c0='251', text='rt itinaction  teaming cluster on a laptop using xen ocfs and linux virtual services  bm', label='1'),\n",
       " Row(_c0='252', text=' miaubiz  winocm  that can be abbreviated w', label='1'),\n",
       " Row(_c0='253', text='wikileaks protest could carry twoyear jail stretch  pc pro xbbo', label='1'),\n",
       " Row(_c0='254', text='knusperli a deblocking jpeg decoder  googleknusper li  ', label='1'),\n",
       " Row(_c0='255', text=' cybersecurity  hacker  cyberwar and cyberattack how is our strongest network at risk of becoming our weakest link   tkay  ', label='1'),\n",
       " Row(_c0='256', text='the emergence of the world wide web smartphones and computers ha  klvn   cybersecurity  bitcoin ', label='1'),\n",
       " Row(_c0='257', text='xrz schatzschild and ceh ', label='1'),\n",
       " Row(_c0='258', text='how to build and how not to build a secure remember me feature  uil ', label='1'),\n",
       " Row(_c0='259', text='  loavqu   ljavi ', label='1'),\n",
       " Row(_c0='260', text='cyberexaminer cybersecurity  the dirty hackers who steal passwords for jealous lovers  pkcjz   infosec', label='1'),\n",
       " Row(_c0='261', text=' cybersecurity  hacker  malware forensics field guide for linux systems digital forensics field guides   shmmdj ', label='1'),\n",
       " Row(_c0='262', text='total av  insecure permissions  uupywa ', label='1'),\n",
       " Row(_c0='263', text='threatmeter one channel partners with acronis  myrr ', label='1'),\n",
       " Row(_c0='264', text='axis communications xss  content inclusion  ntgtz ', label='1'),\n",
       " Row(_c0='265', text=' security  breach  at israel consulate   thehinducomnewscitiesba ngaloresecuritybreachatisraelconsulatearticleece    securitybreach', label='1'),\n",
       " Row(_c0='266', text='     sophia the robot wants a baby and says family is really important  qxwgj ', label='1'),\n",
       " Row(_c0='267', text='easy file sharing web server  seh buffer overflow   filese fsoverflowtxt    packetstorm', label='1'),\n",
       " Row(_c0='268', text='munition  mandiantblack hat usa wrapup  qrithp ', label='1'),\n",
       " Row(_c0='269', text='naked security  do terrorists use spam to shroud their secrets  ycqifn ', label='1'),\n",
       " Row(_c0='270', text='patience is not a virtue it is an achievement lollydaskal   quote', label='1'),\n",
       " Row(_c0='271', text='cve under certain conditions on f bigip   or  hf virtual servers configured with client ssl or server ssl profiles which make use of network hardware security module   lgsks ', label='1'),\n",
       " Row(_c0='272', text='the pretty little liars cast got pretty little matching tattoos  fswvcb ', label='1'),\n",
       " Row(_c0='273', text='albanydailystar steams security breach unsettled user accounts today  washington dc teknotime  idaaee ', label='1'),\n",
       " Row(_c0='274', text='      decrease in ddos attacks in q  verisign  qmxhq ', label='1'),\n",
       " Row(_c0='275', text='orientdb python   th ', label='1'),\n",
       " Row(_c0='276', text=' juliocesarfort  also truecrypt is not that easy to replace based on their original approach i dont trust veracrypt', label='1'),\n",
       " Row(_c0='277', text=' cybersecurity  hacker  do the principles of war apply to cyber war     tobemcomcyberwardoth eprinciplesofwarapplytocyberwar       cyberwarbooks   the purpose of this monograph is to examine whether the principles of war as defined within the us militarys joint publication  ', label='1'),\n",
       " Row(_c0='278', text='wordpress plugin abtest vulnerable to a directorytraversal attack  wxroti ', label='1'),\n",
       " Row(_c0='279', text=' years  million good files and counting', label='1'),\n",
       " Row(_c0='280', text='zdnet over  data breaches voluntarily reported to oaic in past year  zdnet  iaecdd   security', label='1'),\n",
       " Row(_c0='281', text='rt securityaffairs microsoftiot inteliot do you want your own iot botnet  wificonnected cameras are op  moceju  ', label='1'),\n",
       " Row(_c0='282', text='  gvitph   ', label='1'),\n",
       " Row(_c0='283', text='     overnight cybersecurity flynn fallout trump trudeau pledge cyber cooperation dems want  nmtft ', label='1'),\n",
       " Row(_c0='284', text=' cybersecurity  hacker  cyberespace et acteurs du cyberconflit french edition   knix ', label='1'),\n",
       " Row(_c0='285', text='thanks for rts and mentions cybershmiber  lak  thdgt  netrusion  ', label='1'),\n",
       " Row(_c0='286', text='this book provides a scientific modeling approach for conducting me  lkzgmt   hacker  cybersecurity ', label='1'),\n",
       " Row(_c0='287', text='guest editorial the dnc hack and dump is what cyberwar looks like guest editorial the dnc  fbqfmemd ', label='1'),\n",
       " Row(_c0='288', text='newsmax trump putin agree to tackle cybersecurity together  cybersecurity    newsmaxcomheadlinetrump putincybersecurityid   ', label='1'),\n",
       " Row(_c0='289', text='the first zika vaccine trials are underway but research funding is running out  pvwbpo ', label='1'),\n",
       " Row(_c0='290', text='tfg introduccin de aspectos de seguridad en la internet de las cosas en el mbito de las viviendas inteligentes  ctmj ', label='1'),\n",
       " Row(_c0='291', text='experts dismantle grum botnet july      ttxm ', label='1'),\n",
       " Row(_c0='292', text='interview with chk chk chkaboutshake the shudder  yvuaai  ', label='1'),\n",
       " Row(_c0='293', text='  jhusnr  ', label='1'),\n",
       " Row(_c0='294', text='     refer to these five tips to avoid ransomware deccan chronicle  nkdrql ', label='1'),\n",
       " Row(_c0='295', text='android malware googligan infection spread via phones  gpxvm ', label='1'),\n",
       " Row(_c0='296', text='the big data dudes and the lost in las vegas mystery feature film', label='1'),\n",
       " Row(_c0='297', text='company adds new income stream by letting staff operate remotely forbes  qdgyl ', label='1'),\n",
       " Row(_c0='298', text='tripwire  dynamic security in an elastic world wrzhf ', label='1'),\n",
       " Row(_c0='299', text='it security news daily summary   itsecuritynewsinfoitsecurityne wsdailysummary  ', label='1'),\n",
       " Row(_c0='300', text='tony robbins how to pull yourself out of a funk at some point or another all of us have experienced a r  rbexz ', label='1'),\n",
       " Row(_c0='301', text='security affairs newsletter round   best of the week from best sources ewhwuxk  securityaffairs  newsletter  security', label='1'),\n",
       " Row(_c0='302', text=' cybersecurity  hacker  defeating ransomware wannacry and other challenges   rdqwg  ', label='1'),\n",
       " Row(_c0='303', text='comments on kids smartwatch leaking location data security researchers found that a cheap smartwatch  fbpcwjk   infosec', label='1'),\n",
       " Row(_c0='304', text='missed so many people at defcon    but everyone i did finally put faces to handles was great until next time', label='1'),\n",
       " Row(_c0='305', text='potential compatibility issue between gb fc host bus adapters and fibre channel tape products ', label='1'),\n",
       " Row(_c0='306', text='engadget hacking team boss thinks that he runs the good guys  idaee   security', label='1'),\n",
       " Row(_c0='307', text='a predictive analytics tool can save your customers time and help the economy', label='1'),\n",
       " Row(_c0='308', text='jen q public uncovering cybersecurity threats with critical intelligence', label='1'),\n",
       " Row(_c0='309', text='success isnt permanent and failure isnt fatal  mike ditka quote', label='1'),\n",
       " Row(_c0='310', text='new chinese hacker group targets governments and nuclear facilities cnn new chinese hacker  fbcci ', label='1'),\n",
       " Row(_c0='311', text='meet the internet of things', label='1'),\n",
       " Row(_c0='312', text=' cybersecurity  hacker  raspberry pi hardware reference   imk  ', label='1'),\n",
       " Row(_c0='313', text='famous is now open source  famousfamous ', label='1'),\n",
       " Row(_c0='314', text='alert on   uuezifwecn   malware providers detected websecurity  bugbounty  exploits  hacking  security    alert ', label='1'),\n",
       " Row(_c0='315', text='opera web browser dtoa remote code execution vulnerability   securityfocuscombid ', label='1'),\n",
       " Row(_c0='316', text='half of it professionals struggle with enterprise patching  many businesses struggle with the volume of softwa  cctfa ', label='1'),\n",
       " Row(_c0='317', text='threatmeter     adverts removal  gkmbz ', label='1'),\n",
       " Row(_c0='318', text='i just recommended kim s topic computer forensics and cyber crime on scoopit   gg   curatethecurators', label='1'),\n",
       " Row(_c0='319', text='protecting the heart of america small business  fbirsc ', label='1'),\n",
       " Row(_c0='320', text='groupib detected malware that hit russian stocktrading platform  wordpress cybercrimegroupibdetectedmalwarethathitrussianstocktradingplatformhtml  ', label='1'),\n",
       " Row(_c0='321', text='     the interactive simulator that shows you exactly what youll see on august st as  pmlqr ', label='1'),\n",
       " Row(_c0='322', text='would you like to profit from the fastest growing digital currency  znjma   cybersecurity  bitcoin ', label='1'),\n",
       " Row(_c0='323', text='nmapr cookbook the fatfree guide to network scanning provides  lmrhsx   cybersecurity  bitcoin ', label='1'),\n",
       " Row(_c0='324', text='threatmeter andrzuk finecms up to  andrzukfinecms sitename cross site scripting  rbujnv ', label='1'),\n",
       " Row(_c0='325', text='security affairs on pinterest securityaffair ssecurityaffairs   security  warfare  hacking  cybercrime  malware  socialmedia  digitalid', label='1'),\n",
       " Row(_c0='326', text='securityweek  corporate data lingering on old drives advice from the professionals  mynd ', label='1'),\n",
       " Row(_c0='327', text='paul ryan says he wont run for president as romney gears up rep paul ryan of wisconsin the  republican  fnixnm ', label='1'),\n",
       " Row(_c0='328', text='jennifer lawrence says photo hacking is sex crime  magazine reuters   netsecuorgicdfbaf   security', label='1'),\n",
       " Row(_c0='329', text='better to fight for something than live for nothing general patton quote', label='1'),\n",
       " Row(_c0='330', text='python for data analysis is concerned with the nuts and bolts of m  lbtev   cybersecurity  bitcoin ', label='1'),\n",
       " Row(_c0='331', text='rt linuxpower  linuxtoday convert any computer to a virtual machine with linux and clonezilla linux distillery ', label='1'),\n",
       " Row(_c0='332', text='talking about telco backdoors cisco nexus  series fabric switches application centric infrastructure mode default ssh key vulnerability securitycente rcontentciscosecurityadvisoryciscosanexusksshkey  ', label='1'),\n",
       " Row(_c0='333', text='mandriva linux security advisory   xgivjg   mandriva linux security advisory   updated python packages fix', label='1'),\n",
       " Row(_c0='334', text='exploiting  cve   a linux   kernel  vulnerability in the waitid syscall for  versions  exp loitingcve  ', label='1'),\n",
       " Row(_c0='335', text='addressing challenges in content moderation a series addressing challenges in content moderation a  fbxhlg   infosec', label='1'),\n",
       " Row(_c0='336', text='dont look for ideas to confirm your thinking rather look for trends that will disrupt your thinking  rich simmonds quote', label='1'),\n",
       " Row(_c0='337', text='dont assume that  you have to add something to your life danvforbes  leadwithgiants  leadership  coaching ', label='1'),\n",
       " Row(_c0='338', text=' cybersecurity  hacker  emerging cyber threats to the united states   rdfpi  ', label='1'),\n",
       " Row(_c0='339', text=' twitter  inadvertently collected and shared ios  location data wordpress breakingnewstwittersharedioslocationdathtml   securityaffairs  mobile  privacy', label='1'),\n",
       " Row(_c0='340', text='xabaddea  dont dm thegrugq  for advice on boys as he apparently doesnt know  asking me for relationship advice seriously', label='1'),\n",
       " Row(_c0='341', text='lookout  now available the practical guide to enterprise mobile security  abozs ', label='1'),\n",
       " Row(_c0='342', text='the more you are grateful for what you have the more you will have to be grateful for thezigziglar  success  leadership', label='1'),\n",
       " Row(_c0='343', text='announcing apache pig ', label='1'),\n",
       " Row(_c0='344', text='cyberexaminer cybersecurity  it vet matthew mcfadden named csra cyber service area director  pwprtj   forensics', label='1'),\n",
       " Row(_c0='345', text=' thehackersnews  swiftonsecurity  teslacrypt decryption tool allows victims to restore their files wordpress malwareteslacryptdecryptiontoolhtml   securityaffairs', label='1'),\n",
       " Row(_c0='346', text=' ncweaver  dick pick and an unfortunate name', label='1'),\n",
       " Row(_c0='347', text=' cybersecurity  hacker  learning ios forensics   gjiojy ', label='1'),\n",
       " Row(_c0='348', text='     data aggregator localblox exposes  million records  qqcyy ', label='1'),\n",
       " Row(_c0='349', text='espionnage des avions disral et de lautorit palestinienne  nouvelles rvlations snowden   lemondefrpixelsarticle espionnagedairfrancedisraeletdelautoritepalestiniennecequapportentlesnouvellesrevelationssnowdenhtml  ', label='1'),\n",
       " Row(_c0='350', text='if they knew he was in malaysia from the th i cant even figure why they waited had to be deliberate provocation following ', label='1'),\n",
       " Row(_c0='351', text='cnn denies airing porn on thanksgiving night  cnet  technically incorrect it seems that the rcn cable provid  usathli ', label='1'),\n",
       " Row(_c0='352', text='cso online  need for cyberinsurance heats up but the market remains immature  wjlzg ', label='1'),\n",
       " Row(_c0='353', text='re java deployment toolkit performs insufficientvalidation of parameters posted by nick boyce on apr ju ', label='1'),\n",
       " Row(_c0='354', text='securely managing employee turnover  tips  fbpahf ', label='1'),\n",
       " Row(_c0='355', text='its not the man that   makes the vision its the vision that makes the man leadwithgiants  leadership ', label='1'),\n",
       " Row(_c0='356', text='nanog punky dueros root dnssec ksk rollover  fbgjoe ', label='1'),\n",
       " Row(_c0='357', text='good read from brannondorsey detailing how attacker can exploit your private networks from the internet using dnsrebinding  attacks brannondorsey attackingprivatenetworksfromtheinternetwithdnsrebindingeaad   a wrong link could allow remote attackers to control your wifi router google home roku ho ', label='1'),\n",
       " Row(_c0='358', text='this excellent report has been professionally converted for accura  dyqlt   cybersecurity  bitcoin ', label='1'),\n",
       " Row(_c0='359', text='people may not always tell you how they feel about you but they will always show you pay attention  kim garst quote', label='1'),\n",
       " Row(_c0='360', text='logicaldoc   ftuud ', label='1'),\n",
       " Row(_c0='361', text='nipperng  remote buffer overflow nipperng version  suffers from a remote buffer overflow  fbdhte ', label='1'),\n",
       " Row(_c0='362', text=' chomsowhat  rynwrites  cc violetblue', label='1'),\n",
       " Row(_c0='363', text='as death toll hits  world health organization says mers outbreak is slowing the death toll in the ongoing   hqivr ', label='1'),\n",
       " Row(_c0='364', text='     webapps joomla component community quiz  sql injection  ntzn ', label='1'),\n",
       " Row(_c0='365', text='secmash data breach could affect m us consumers credit tracking firm says  nbc washington  gmrae  data breach coul', label='1'),\n",
       " Row(_c0='366', text='you have the power to reframe what youre thinking or feeling  danvforbes  leadwithgiants  leadership ', label='1'),\n",
       " Row(_c0='367', text='let go of the i cant syndrome danvforbes  leadwithgiants  leadership  coaching ', label='1'),\n",
       " Row(_c0='368', text='discover all the security risks and exploits that can threaten ios  lnz   cybersecurity  bitcoin ', label='1'),\n",
       " Row(_c0='369', text='nmap  latest version out now  nmap network mapper is a free and open source utility for network ', label='1'),\n",
       " Row(_c0='370', text='apache fineract query sqlsearch sql injection  bnlyrr ', label='1'),\n",
       " Row(_c0='371', text='rt securityaffairs security issue in intels active management technology amt allows to gain full remote access to corporate devices  dpp  ', label='1'),\n",
       " Row(_c0='372', text='openemr up to  access restriction letterphp newtemplatenameformbody privilege escalation a vulnerability  fbaaukkc ', label='1'),\n",
       " Row(_c0='373', text='crisis leadership the missing link in cyberattack defense  fbouilvj ', label='1'),\n",
       " Row(_c0='374', text='cvejeus  fix and jeus fix versions contains a directory traversal vulnerability caused by improper input parameter check when uploading installation file in administration web page that leads vulnerabilityd etailsqidcve  ', label='1'),\n",
       " Row(_c0='375', text='businessinsider zentera systems named in multiple gartner hype cycle reports    cybersecurity   newsstocksze nterasystemsnamedinmultiplegartnerhypecyclereports   ', label='1'),\n",
       " Row(_c0='376', text='malware built to hack building automationsystems  itsecuritynewsinfomalwarebuilt tohackbuildingautomationsystems  ', label='1'),\n",
       " Row(_c0='377', text='top tips for time stretched admins  fbdwizf ', label='1'),\n",
       " Row(_c0='378', text=' cybersecurity  hacker  hacking  tor the complete beginners guide to hacking tor  accessing the deep web  dark web hacking how to hack penetration testing computer  internet privacy darknet bitcoin   eyepma ', label='1'),\n",
       " Row(_c0='379', text='wireshark network analysis second edition the official wireshark certified network analyst study guide has been published on cyberwar    tobemcomcyberwarwires harknetworkanalysissecondeditiontheofficialwiresharkcertifiednetworkanalyststudyguide  ', label='1'),\n",
       " Row(_c0='380', text='exploiting password recovery functionalities  scoopit   frcxh ', label='1'),\n",
       " Row(_c0='381', text=' docker  hub suffers a databreach exposes sensitive information of  usersusers should reset passwordsgithub  tokens and access keys have been revokedcheck your github  bitbucket repos for unauthorised access docker hubdatabreachhtml   by securitywang ', label='1'),\n",
       " Row(_c0='382', text='infosecnewsbot designing zachtronics tis    wuqni   infosec  cybersecurity', label='1'),\n",
       " Row(_c0='383', text='quagga eine schwachstelle ermglicht einen denialofserviceangriff und das ausfhren beliebigen programmcodes  fbmcqtq ', label='1'),\n",
       " Row(_c0='384', text=' cybersecurity  hacker  raspberry pi super cluster   mssj  ', label='1'),\n",
       " Row(_c0='385', text='the latest the anonymous operations daily  anonopsse editionidacaddeeccccadb    thanks to olfashdeb realthulsadoom cockneyactivist intelgroup  wikileaks', label='1'),\n",
       " Row(_c0='386', text='rt criptored  seminario gratuito la evolucin de los servicios de soc seguridad a medida en barcelona y madrid ', label='1'),\n",
       " Row(_c0='387', text='threatmeter na  cve  the patch for directory traversal  jgvbmj ', label='1'),\n",
       " Row(_c0='388', text='connected devices will challenge user attitudes toward privacy trust passwords report says report shows   fhbxu ', label='1'),\n",
       " Row(_c0='389', text='daily report tech resolutions for  by puiwing tam via nytimes   iittao   technology  news', label='1'),\n",
       " Row(_c0='390', text='nasa unprepared for cyber attacks mcyz  nasa  hacking  cybersecurity  warfare', label='1'),\n",
       " Row(_c0='391', text='mobile mania ibm maas unveils new benchmarks and security index  fbbcuwk ', label='1'),\n",
       " Row(_c0='392', text='sabrent usbdsc usb  sata ide hd converter  kvuu   hacker  cybersecurity ', label='1'),\n",
       " Row(_c0='393', text=' dinodaizovi  square  its some sort of advanced topology thing isnt it and the negative space square thats deep', label='1'),\n",
       " Row(_c0='394', text='new post anybody see problems with this setup  owncloud   njspv ', label='1'),\n",
       " Row(_c0='395', text=' cybersecurity  hacker  fuzzing for software security testing and quality assurance   llgfe ', label='1'),\n",
       " Row(_c0='396', text=' fedora    dropbear ebdcbb   nessusorgpluginsindex phpviewsingleid    nessus', label='1'),\n",
       " Row(_c0='397', text=' bcrypt  octal  congrats', label='1'),\n",
       " Row(_c0='398', text='microsoft excel  sp sp sp rt sp buffer overflow  xwxxi ', label='1'),\n",
       " Row(_c0='399', text='for some people your light will always shine too bright let them wear sunglasses theathelite  quote', label='1'),\n",
       " Row(_c0='400', text='revealed numbers show extent of security fears about security biz kaspersky lab global sales up  but  fbiqp   infosec', label='1'),\n",
       " Row(_c0='401', text='a national bestseller a programmer musician and father of virtua  vmrjfp   hacker  cybersecurity ', label='1'),\n",
       " Row(_c0='402', text='this  rt alexcpsec   dont look at the problem as a black box you cant teach a machine what you dont know', label='1'),\n",
       " Row(_c0='403', text='disk encryption a security layer that is easy to break  fbystv ', label='1'),\n",
       " Row(_c0='404', text='     lawmakers urge att to cut ties with huawei over security concerns idrop news  qbctn ', label='1'),\n",
       " Row(_c0='405', text='windows registry forensics advanced digital forensic analysis of t  iuxop   hacker  cybersecurity ', label='1'),\n",
       " Row(_c0='406', text='uk needs a digital twin to keep track of its data assets  report   and companies need to share their info nicely the uk needs highquality standardised and more o  flvhfjjgd ', label='1'),\n",
       " Row(_c0='407', text='x exploitation  house of force  jedi overflow  gbmasters devnull   x exploitationhouseofforcejedioverflow  ', label='1'),\n",
       " Row(_c0='408', text='     ubuntu security notice usn  qrltq   securitybloggernews', label='1'),\n",
       " Row(_c0='409', text='how to build a cybersecurity incident response plan   darkreadingcomattacksbreach eshowtobuildacybersecurityincidentresponseplanadidmcrssxdrredtauddrxxrsssimple    darkreading', label='1'),\n",
       " Row(_c0='410', text='technical analysis of the checkm exploitdsecru encompanydse cblog  ', label='1'),\n",
       " Row(_c0='411', text=' imaguid  noticed the exact same thing this morning bartblazestat us  ', label='1'),\n",
       " Row(_c0='412', text='chuckdbrooks nist cybersecurity framework the smart persons guide  sxktyn ', label='1'),\n",
       " Row(_c0='413', text='android n borrows chrome os code for seamless update installation  wnwrqgv ', label='1'),\n",
       " Row(_c0='414', text='charting the data lake model normalization patterns for data lakes', label='1'),\n",
       " Row(_c0='415', text='rhel   php rhsa   nessusorgpluginsindex phpviewsingleid    nessus', label='1'),\n",
       " Row(_c0='416', text='fancy bears hacked mh crash investigators with spearphishing campaign   hackreadcomfancybearsha ckedmhcrashinvestigators  ', label='1'),\n",
       " Row(_c0='417', text='scmagazine microsoft windows defender flaw found and fixed  cybersecurity    scmagazinecommicrosoftwind owsdefenderflawfoundandfixedarticle   ', label='1'),\n",
       " Row(_c0='418', text=' jz  phishing scam targeting dhl customers discovered a new phishing campaign targeting dhl delivery   qmdlxq   infosec', label='1'),\n",
       " Row(_c0='419', text='optimize your rvm ruby  blog optimizeyourruby  ', label='1'),\n",
       " Row(_c0='420', text='sony mobilexperiaaosp rom  fxm  sony mobile     xperia  aosp rom sony m', label='1'),\n",
       " Row(_c0='421', text='iphonear   ', label='1'),\n",
       " Row(_c0='422', text='how blockchain can help fight cyberattacks  magine a computing platform that would have no single point of fai  lefnjd ', label='1'),\n",
       " Row(_c0='423', text='galaxy nexusscdradioimgscdomlaradioimgscdomkkd   cfv ', label='1'),\n",
       " Row(_c0='424', text='skype translator preview breaks down the language barrier skype translator preview breaks  fbfvhaui ', label='1'),\n",
       " Row(_c0='425', text='october  patch tuesday higher user rights at risk', label='1'),\n",
       " Row(_c0='426', text='rare silverlight zeroday uncovered in hacking team saga infosecurity magazine  fbxazcnv ', label='1'),\n",
       " Row(_c0='427', text='jtrtresponsivetables plugin up to  on wordpress classjtrtresponsivetablesadminphp tableid sql  fbsjuq ', label='1'),\n",
       " Row(_c0='428', text='high achievers often experience imposter syndrome because we strive to be the best theathelite  quote', label='1'),\n",
       " Row(_c0='429', text='cyber crime is on the increase and with small to medium business   wejlfd   hacker  cybersecurity ', label='1'),\n",
       " Row(_c0='430', text='hancom office  hangul hshow document integer buffer overflow  jezyw ', label='1'),\n",
       " Row(_c0='431', text='   hammonds blockchain plan wont solve the brexit irish border issue  qmql   globalsecuritynews', label='1'),\n",
       " Row(_c0='432', text=' cybersecurity  hacker  cyberwars   nhamj ', label='1'),\n",
       " Row(_c0='433', text='failing is an event not a person yesterday ended last night thezigziglar  success  leadership', label='1'),\n",
       " Row(_c0='434', text='beauty starts in your head not in your mirror  joubert botha quote', label='1'),\n",
       " Row(_c0='435', text='gchq used fake linkedin and slashdot to hack grx providers and opec bbedqq  securityaffairs  gchq  malware  socialmedia  l ', label='1'),\n",
       " Row(_c0='436', text=' techneophyte  hehe cheers for the link  havent seen employers giving away a cow before as part of a job peak hopes it catches on', label='1'),\n",
       " Row(_c0='437', text='the issue of privacy on the internet has long been a difficult one  llde   cybersecurity  bitcoin ', label='1'),\n",
       " Row(_c0='438', text='esecurityplanet  nessus pen testing product overview and analysis  lvhorj ', label='1'),\n",
       " Row(_c0='439', text='scientific linux  security  update  rsyslog and rsyslog on slx slx ix   nessusorgpluginsindex phpviewsingleid    nessus', label='1'),\n",
       " Row(_c0='440', text='research methods for cyber security teaches the needed scientific  dmjmh   cybersecurity  bitcoin ', label='1'),\n",
       " Row(_c0='441', text='another tmobile website bug allowed anyone to access customer info using just a phone number  qvcckg ', label='1'),\n",
       " Row(_c0='442', text='cessna  hits fence after bounced landing the pilot reported that the cessna  bounced on landing at the   ggslp ', label='1'),\n",
       " Row(_c0='443', text='     another baby monitor is allowing strangers to spy on children naked security  qhvjy ', label='1'),\n",
       " Row(_c0='444', text='lazyconsultant remove the     search redirect  bleepingcomputer  yltw   cybersecurity', label='1'),\n",
       " Row(_c0='445', text='vietnams tpbank says thwarted cyber hacking attempt late last year  peaiplq ', label='1'),\n",
       " Row(_c0='446', text='a new shamoon   sample uploaded to virustotal from france wordpress malwareshamoonfrancehtml   securityaffairs  malware', label='1'),\n",
       " Row(_c0='447', text='turla apt group adds  topinambour trojan to its arsenal wordpress aptturlaapttopinambourtrojanhtml  ', label='1'),\n",
       " Row(_c0='448', text=' cybersecurity  hacker  facebook nation total information awareness   lmmgcu  ', label='1'),\n",
       " Row(_c0='449', text=' gldrim  i think its your code ', label='1'),\n",
       " Row(_c0='450', text='freemat portable  scientific prototyping released  aede ', label='1'),\n",
       " Row(_c0='451', text='tp all how to leak data from airgapped computers with a usb device researchers at bengurion university o  bdncen ', label='1'),\n",
       " Row(_c0='452', text='rsaconference rt benrothke my rsac  blog review of understanding the digital world by brian kernighan of princeton  ', label='1'),\n",
       " Row(_c0='453', text='itactive mail  itmedia   faukqs   ', label='1'),\n",
       " Row(_c0='454', text='ceo of voip biz admits in court it was all a bn ponzi scheme  hyqtmq ', label='1'),\n",
       " Row(_c0='455', text='ekkosense offers d real time view of data center heat  thermal risk expert ekkosense based in nottingham uk  dflqf ', label='1'),\n",
       " Row(_c0='456', text='realtime fraud prevention with ibm safer payments', label='1'),\n",
       " Row(_c0='457', text='heres the press conference where us authorities announced the opening of an investigation into eas predatory tactics in the star wars battlefront  game regarding gamblingrewardspoints system   youtubecomwatchtimecon tinuevakwfrulos  ', label='1'),\n",
       " Row(_c0='458', text='iphoneapple  itmedia   qclx   applenttnttiphone si', label='1'),\n",
       " Row(_c0='459', text='mxgraph   kuely ', label='1'),\n",
       " Row(_c0='460', text='gaps in corporate network security ad networks  vwhvhw   malvertising is a relatively new term for a technique used to ', label='1'),\n",
       " Row(_c0='461', text='     how to turn on or off dynamic lock in windows   nnx ', label='1'),\n",
       " Row(_c0='462', text='red hat security advisory   roqrq  begin pgp signed messagehash sha', label='1'),\n",
       " Row(_c0='463', text='understanding rootkits using memory dump analysis for rootkit detection  scoopit   wjr ', label='1'),\n",
       " Row(_c0='464', text='wordpress popular posts   smlm ', label='1'),\n",
       " Row(_c0='465', text='as cyberattacks dominate frontpage news as hackers displace ter  rxwng   cybersecurity  bitcoin ', label='1'),\n",
       " Row(_c0='466', text='varnish  before  was vulnerable to http smuggling issues double content length and bad eol  gmanecompsec urityossgeneral  ', label='1'),\n",
       " Row(_c0='467', text='rt rgaidot  introducing the fan  simpler container networking   markshuttleworthcomarchives ', label='1'),\n",
       " Row(_c0='468', text='jpost security forces arrest hamas cell for april bus bombing in jerusalem  arabisraeli confli  iad ', label='1'),\n",
       " Row(_c0='469', text='the computer world is like an intellectual wild west in which you  xsmcpo   hacker  cybersecurity ', label='1'),\n",
       " Row(_c0='470', text='blacows    jgaej   blacows', label='1'),\n",
       " Row(_c0='471', text='bottle   fqzn ', label='1'),\n",
       " Row(_c0='472', text='searchenterprisedesktop win oem keyfinder  windows enterprise desktop  iaea   security', label='1'),\n",
       " Row(_c0='473', text='threatmeter the one hire facebook really needs to make to curb violence  qvng ', label='1'),\n",
       " Row(_c0='474', text='threatmeter serviio media server checkstreamurl command execution  rpnjq ', label='1'),\n",
       " Row(_c0='475', text='fake crypto microsoft outlook smime cleartext disclosure cve  sec consult  fhezwi ', label='1'),\n",
       " Row(_c0='476', text='an ounce of action can crush a ton of fear  tim fargo quote', label='1'),\n",
       " Row(_c0='477', text='chuckdbrooks trend micro  security roundup reveals  percent increase in ransomware  threatbriefco mbsslj    via threatbrief', label='1'),\n",
       " Row(_c0='478', text='scmagazine google updates chrome  pays out k in bug bounty  sc magazine  idfc   security', label='1'),\n",
       " Row(_c0='479', text='ifixit profile cross site scripting  filesv ltxt    packetstorm', label='1'),\n",
       " Row(_c0='480', text='mediadukzkw aajfyjpg  ', label='1'),\n",
       " Row(_c0='481', text='     using data protection guidelines to balance security and compliance in   qgccq ', label='1'),\n",
       " Row(_c0='482', text='  ylmzil  nhk', label='1'),\n",
       " Row(_c0='483', text='new android malware steals credentials impersonating uber app deccan chronicle new android  fbkdwiyx ', label='1'),\n",
       " Row(_c0='484', text='podis hacer vuestras recomendaciones sobre pelis para adictos a la ciberseguridad tuiteando con el hashtag peliseguridad', label='1'),\n",
       " Row(_c0='485', text='rt securityaffairs meltdown and spectre patches a story of delays lies and failures eex  securityaffairs   nywvx  ', label='1'),\n",
       " Row(_c0='486', text='secmash bt heads down under to open new cyber security base  european communications press release registrati  wzkmg ', label='1'),\n",
       " Row(_c0='487', text='beckershospitalreview  trump advisers used personal email accounts  things to know  cybersecurity    beckershospitalreviewcomcybersecurity trumpadvisersusedpersonalemailaccountsthingstoknowhtml   ', label='1'),\n",
       " Row(_c0='488', text='  vol  mffv   tsutaya oeast  vol', label='1'),\n",
       " Row(_c0='489', text='     aws re invent  hackproof your cloud responding to  threats  mwp ', label='1'),\n",
       " Row(_c0='490', text='samsungs galaxy mega phablets may go too far samsung is rumored to be working on two more big smartphones e  kcl ', label='1'),\n",
       " Row(_c0='491', text='     ziften enters united kingdom uk and ireland with endpoint protection platform partners with microsoft windows   qlxkc   latestsecuritynews', label='1'),\n",
       " Row(_c0='492', text='dixie chicks', label='1'),\n",
       " Row(_c0='493', text='flash playerweb     waegw ', label='1'),\n",
       " Row(_c0='494', text='introduction to memory addressing mode  mem oryaddressingmodeiabitsystemaddressingmodeiapaemodeaddressingmodeiaeaddressingmode  ', label='1'),\n",
       " Row(_c0='495', text='speakoutbarackobamacom xss ', label='1'),\n",
       " Row(_c0='496', text='fossil has a ton of new smartwatches coming out later this year  cnet  wwanfq ', label='1'),\n",
       " Row(_c0='497', text=' fbi  beware more americans are losing money to ransomware    tripwirecomcompanynewsi nthenewsfbibewaremoreamericansarelosingmoneytoransomware    tripwire', label='1'),\n",
       " Row(_c0='498', text='damicms  cross site request forgery damicms version  suffers from an add administrator cross site  fbcvdu ', label='1'),\n",
       " Row(_c0='499', text='in photos a brief history of apple hacking   forbescompicturesekhf fdmdjelkkloner  ', label='1'),\n",
       " Row(_c0='500', text=' rantyben  haroonmeer  heh im gonna get blamed for this too', label='1'),\n",
       " Row(_c0='501', text='warfare and conflict are no longer just about the clash of unifor  nhjyn   cybersecurity  bitcoin ', label='1'),\n",
       " Row(_c0='502', text=' twitter  fixed bug could have exposed  direct messages to thirdparty apps  wordpress socialnetworkstwitterbugdmexposurehtml    securityaffairs', label='1'),\n",
       " Row(_c0='503', text='london woman perfectly shuts down tinder date who wanted his  back london  the dating scene in britain  hmscz ', label='1'),\n",
       " Row(_c0='504', text='bloggerjapanesebloggersinfo ', label='1'),\n",
       " Row(_c0='505', text='itr  bhjs ', label='1'),\n",
       " Row(_c0='506', text='pci addresses insurance gaps involving transportation network companies in north carolina   netsecuorgiac ', label='1'),\n",
       " Row(_c0='507', text='openwrt   second service release releases notes  ', label='1'),\n",
       " Row(_c0='508', text='from asmjs to webassembly    zlnzd   cc  brendaneich', label='1'),\n",
       " Row(_c0='509', text='the cloud security rules book  technology is your friends  enemy  fbzusl   security  thn', label='1'),\n",
       " Row(_c0='510', text='lets encrypt   a certificate authority to provide free ssl certificates for    netsecuorgic ', label='1'),\n",
       " Row(_c0='511', text='cve a new flash exploit  included in magnitude exploit kit   fireeyecomblogthreatre searchcveanewhtml    fireeye', label='1'),\n",
       " Row(_c0='512', text='cyberexaminer cybersecurity  be boring when you need to innovate when it makes sense gsa cto says  pqyx   infosec', label='1'),\n",
       " Row(_c0='513', text='  zdnet japan article   ', label='1'),\n",
       " Row(_c0='514', text='microsoft office file processing flaw lets remote users execute arbitrary code  gboz ', label='1'),\n",
       " Row(_c0='515', text='     potential for procedural concessions as eu repeal bill passes first commons vote  pmfyf ', label='1'),\n",
       " Row(_c0='516', text='mailsohucom xss ', label='1'),\n",
       " Row(_c0='517', text='an exclusive look into spirits frillsfree corporate hq and occ  efkv ', label='1'),\n",
       " Row(_c0='518', text='engadget laugh the pain away with s best infosec memes  ibbae   security', label='1'),\n",
       " Row(_c0='519', text='what is going on in british politics a guide for the confused  lmaomjr ', label='1'),\n",
       " Row(_c0='520', text='alert on   ergotherapieschleswigde   malware providers detected websecurity  bugbounty  exploits  hacking  security                               alert ', label='1'),\n",
       " Row(_c0='521', text='where there is love there is life  mahatma gandhi quote', label='1'),\n",
       " Row(_c0='522', text='moto xip  phjgx    moto x   motorola  bai', label='1'),\n",
       " Row(_c0='523', text='wpad name collision vulnerability from uscert verisign wpad name collision vulnerability  fbkbyzjs ', label='1'),\n",
       " Row(_c0='524', text='the festive complexities of sigintcapable threat actors  securelist  fipqkg ', label='1'),\n",
       " Row(_c0='525', text='cve  pyfz ', label='1'),\n",
       " Row(_c0='526', text='good news for users of opendns no more ads  wbxto  good news for users of opendns no more ads ads were previously i', label='1'),\n",
       " Row(_c0='527', text='secmash extra  million pledged to boost cyber security across nhs  herald scotlandherald scotlandextra   uxmq ', label='1'),\n",
       " Row(_c0='528', text='u  abgn   umandelalong walk to freedom', label='1'),\n",
       " Row(_c0='529', text='jvndbytnef  libytnefc  decompressrtf  dos   suot   ytnef  libytnefc  decompressrt', label='1'),\n",
       " Row(_c0='530', text='rt securityall  oracle patches include  new security vulnerability fixes of which may be remotely exploited w ', label='1'),\n",
       " Row(_c0='531', text='tcr is a unified satasas signalpower cable that connects to  pfvxtm   hacker  cybersecurity ', label='1'),\n",
       " Row(_c0='532', text='why you should study security in college  emerging demands on todays cybersecurity leaders image by picograph amkamgym ', label='1'),\n",
       " Row(_c0='533', text='washingtontimes yevgeniy nikulin internationallysought hacking suspect will go to eitherus or russia judge    washingtontimescomnewsmay czechjudgeapprovesusandrussianextraditionre   ', label='1'),\n",
       " Row(_c0='534', text='   dnnyj  ', label='1'),\n",
       " Row(_c0='535', text='cmt music awards', label='1'),\n",
       " Row(_c0='536', text='wired  things you need to know about the future of cybersecurity   cybersecurity    wiredcoukarticlewired securityhighlightsdarkwebencryptionterrorism   ', label='1'),\n",
       " Row(_c0='537', text='cve awesomefilterableportfolio the awesomefilterableportfolio plugin before  for wordpress has  fbvmrkcy ', label='1'),\n",
       " Row(_c0='538', text='over  migrants land on shores of indonesia and thailand amid growing crisis more than  migrants have la  jjihkc ', label='1'),\n",
       " Row(_c0='539', text='cvean issue has been found in jpegencoder through  it is a heapbased buffer overflow in the function readfrombmp in jpegencodercpp vulnerabilityd etailsqidcve  ', label='1'),\n",
       " Row(_c0='540', text=' djkweezes  quand tu vois le nombre de gens quils vont foutre dans la merde', label='1'),\n",
       " Row(_c0='541', text='     troj fareiteaw  qwgyn ', label='1'),\n",
       " Row(_c0='542', text='chrome stable channel update  twqb ', label='1'),\n",
       " Row(_c0='543', text='collabnet subversion edge management local file inclusion  syite   the collabnet subversion edge management frontend allows', label='1'),\n",
       " Row(_c0='544', text='lets run down the  five end credits scenes in guardians of the galaxy vol   dzbjfx ', label='1'),\n",
       " Row(_c0='545', text='in defense of the flipflop  flipflops may be natures most enduring sandal  but wearers of the item face un  lljcdsr ', label='1'),\n",
       " Row(_c0='546', text='  cnet japan  oxdtbe ', label='1'),\n",
       " Row(_c0='547', text='rt webupd  animated gmail notifier based on adobe air ', label='1'),\n",
       " Row(_c0='548', text='the most challenging states to retire in  hefnga   the state you work in may not be the state you want to retire in when d', label='1'),\n",
       " Row(_c0='549', text='  ytcwdg  fa', label='1'),\n",
       " Row(_c0='550', text='newtimes th africafrance summit concludes in mali  the new times  rwanda  ie   security', label='1'),\n",
       " Row(_c0='551', text='     panasonic debuts the fzq semirugged in tablet with enterprisegrade features  nczw ', label='1'),\n",
       " Row(_c0='552', text='some android vpn apps require unnecessary access to your device google play store for android users  fbuaywxs   infosec', label='1'),\n",
       " Row(_c0='553', text='fancybox     iiawg ', label='1'),\n",
       " Row(_c0='554', text='rt openflows  social media  privacy  transparency  and new metrics   slaw ', label='1'),\n",
       " Row(_c0='555', text=' cybersecurity  hacker  hacking for defense using silicon valley innovation to fight the worlds most dangerous   pqaqqh  ', label='1'),\n",
       " Row(_c0='556', text=' cybersecurity  hacker  trendnet tus usb to serial converter   rtiyws  ', label='1'),\n",
       " Row(_c0='557', text='decadesold pgp bug allowed hackers to spoof just about anyones signature  informationte chnologydecadesoldpgpbugallowedhackerstospoofjustaboutanyonessignature   ', label='1'),\n",
       " Row(_c0='558', text='cissp test  of  new  kctihv ', label='1'),\n",
       " Row(_c0='559', text='adobe readeracrobat  jpcertcc  mewntb  jpcertccadobe readeracrobatapsb', label='1'),\n",
       " Row(_c0='560', text='null pointer dos in mshtmlcmarkupinitcollections  xuikxs ', label='1'),\n",
       " Row(_c0='561', text='scmagazine kontrolfreek customers payment card data accessed obtained by third party  iecfad   security', label='1'),\n",
       " Row(_c0='562', text='featurizing data spark and beyond', label='1'),\n",
       " Row(_c0='563', text='more postheartbleed love cash for openssl  fbqnjxd ', label='1'),\n",
       " Row(_c0='564', text='selling online gaming currency how it makes way for attacks against enterprises', label='1'),\n",
       " Row(_c0='565', text='rt dchest  interesting story about trying to commercialize product in academia  sho uldiresignfrommyfullprofessorjobtoworkfulltimeoncocalchtml  ', label='1'),\n",
       " Row(_c0='566', text='bugtraq security dsa  php security update   netsecuorgifae   security', label='1'),\n",
       " Row(_c0='567', text=' legind  trevortimm  you can keep it self contained on a usb and have the usb stored offsite dont sell no crack where you rest at', label='1'),\n",
       " Row(_c0='568', text='operational tested information security and privacy practices for  xxxmf   hacker  cybersecurity ', label='1'),\n",
       " Row(_c0='569', text=' microsoft  pals up with partners for threathunting  feedwwwthere gistercoukwindowsdefenderatppartners    theregister', label='1'),\n",
       " Row(_c0='570', text='threatmeter emby mediaserver  password reset vulnerability  pkobt ', label='1'),\n",
       " Row(_c0='571', text='share the love kaceandkidd  courtneyelmer  resolver  thanks for being top new followers this week ', label='1'),\n",
       " Row(_c0='572', text='singlecue  lcitqd  ', label='1'),\n",
       " Row(_c0='573', text='igel integrates imprivata onesign proveid embedded into thin clients to enhance secure access  fbowm ', label='1'),\n",
       " Row(_c0='574', text=' cybersecurity  hacker  glastopfng a web attack honeypot   pqwup  ', label='1'),\n",
       " Row(_c0='575', text='kioptrix vms challenge walkthrough kcgpo ', label='1'),\n",
       " Row(_c0='576', text='hackerfanatic zuratbot as soon as i saw that it was using sound as a cc it made an extra cool factor but i dont see how that works', label='1'),\n",
       " Row(_c0='577', text='mongodb nativehelperapply remote  code execution  issuewlb     cxsecurity', label='1'),\n",
       " Row(_c0='578', text='the spy cobra deluxe is the deluxe version of our most popular pc  llawp   cybersecurity  bitcoin ', label='1'),\n",
       " Row(_c0='579', text='penetration testers simulate cyber attacks to find security weaknes  ptscat   hacker  cybersecurity ', label='1'),\n",
       " Row(_c0='580', text='cybercrime is a legal workbook for anyone involved in the rapidly d  txifu   hacker  cybersecurity ', label='1'),\n",
       " Row(_c0='581', text='katu security breach prompts oregon to take hunting fishing licensing systemoffline  katu  ifabad   security', label='1'),\n",
       " Row(_c0='582', text='rt ryah  nodejs  v released ', label='1'),\n",
       " Row(_c0='583', text='on lawful criminal investigation that respects st c data protectioneuropol   enisaeu  joint statement  europoleuropaeusitesdefault filespublicationsonlawfulcriminalinvestigationrespectingstcenturypdf    pdf', label='1'),\n",
       " Row(_c0='584', text='orange range  wkbui   orange rangede ', label='1'),\n",
       " Row(_c0='585', text='rt pwcau   of aus organisations experienced cybercrime  in the last  years read more   jivtg  ', label='1'),\n",
       " Row(_c0='586', text='ipad minitomac  itmedia   pzhs ', label='1'),\n",
       " Row(_c0='587', text='security dsa  isc dhcp security update ', label='1'),\n",
       " Row(_c0='588', text='cisco launches app store for its cius tablet apphq lets enterprise it personnel control app acquisition instal ', label='1'),\n",
       " Row(_c0='589', text='solving the entire dam problem  its quite remarkable when you look back at how we got where we are in securit  sbminfxt ', label='1'),\n",
       " Row(_c0='590', text='anonymous makes a laughing stock of hbgary ', label='1'),\n",
       " Row(_c0='591', text='techaeris  best tech funds that hold fang  cybersecurity    besttechfundsthatholdfang   ', label='1'),\n",
       " Row(_c0='592', text='signal forced call acceptance there is a logic error in signal that can cause an incoming call to be answered  fbaaqgfd ', label='1'),\n",
       " Row(_c0='593', text='ransomware attacks why and when it makes sense to pay theransom   itsecuritynewsinforansomwareatt ackswhyandwhenitmakessensetopaytheransom  ', label='1'),\n",
       " Row(_c0='594', text='betterretailing shreddies knitting nana comes to capel news surrey  betterretailing  cybersecurity    betterretailingcomshreddiesknit tingnanacapelnewssurrey   ', label='1'),\n",
       " Row(_c0='595', text='so long sidecar and thanks  sunilpaulso longsidecarandthankscatuycgkixz  ', label='1'),\n",
       " Row(_c0='596', text='secmash facebooks mark zuckerberg sorry for vr tour of puerto rico      cnet  xxettp ', label='1'),\n",
       " Row(_c0='597', text='nasdaq nxp unveils next generation security platform that protects citizen identityand private information in the   nasdaqcompressrelease nxpunveilsnextgenerationsecurityplatformthatprotectscitizenidentityandprivate   ', label='1'),\n",
       " Row(_c0='598', text='xperia z solxperia z ultra solkddi  ewam ', label='1'),\n",
       " Row(_c0='599', text='zdnet  american library association blasts linkedin for intrusive tos changes jnzxe ', label='1'),\n",
       " Row(_c0='600', text=' hijacked  nasa kepler twitter  feed tweets entirely new type of moon shot  rnakedsecuri tyihuboxtobo    nakedsecurity', label='1'),\n",
       " Row(_c0='601', text=' cybersecurity  hacker  cyber survival manual from identity theft to the digital apocalypse and everything in   egltoz  ', label='1'),\n",
       " Row(_c0='602', text='the tu is the first tableau portable family forensic bridge that s  ndumvl   hacker  cybersecurity ', label='1'),\n",
       " Row(_c0='603', text='lxml   fu ', label='1'),\n",
       " Row(_c0='604', text='the joy of tech the cost ofnetflix   itsecuritynewsinfothejoyoftec hthecostofnetflix   ', label='1'),\n",
       " Row(_c0='605', text='kevinmitnick  i just cracked the security directors ntlm hash during an ongoing pentesthimitnickhahahahaha', label='1'),\n",
       " Row(_c0='606', text='escaping docker container using waitid  cve  twistlockcomesc apingdockercontainerusingwaitidcve  ', label='1'),\n",
       " Row(_c0='607', text='secmash cyber security in small businesses  emphasis health care practices  wina am cyber security in sm  unlo ', label='1'),\n",
       " Row(_c0='608', text=' dns  hijacking  campaigns target gmail  netflix  and paypal  users wordpress iotdnshijackingcampaignshtml   securityaffairs  hacking', label='1'),\n",
       " Row(_c0='609', text='microsoft holding oct  event is the surface pro  on tap get ready for some more microsoft windows  har  oqqmcn ', label='1'),\n",
       " Row(_c0='610', text='na  cve  apache struts x before  allows remote  vhill   apache struts x before  allows r', label='1'),\n",
       " Row(_c0='611', text='new post united airlines frequent flyer app can be hacked to reveal passenger info  tohys ', label='1'),\n",
       " Row(_c0='612', text='a computer repair utility kit you can run from a thumb drive ', label='1'),\n",
       " Row(_c0='613', text='  myueml  ', label='1'),\n",
       " Row(_c0='614', text='red hat security advisory   gbku   red hat security advisory   the wpasupplicant package contain', label='1'),\n",
       " Row(_c0='615', text='trickbot banking trojan could be dyre rewrite  mbenlakhouare adhttpsaffthreatpostcomftrickbotbankingtrojancouldbedyrerewriteff  ', label='1'),\n",
       " Row(_c0='616', text=' krfsm  arawnsley  im not sure but we should dump the waste for both in the antarctic', label='1'),\n",
       " Row(_c0='617', text='threatmeter iot growing faster than the ability to defend it  ffukgo ', label='1'),\n",
       " Row(_c0='618', text='a journey to abused ftp sites story of shells malware bots ddos  spam  incl cloudflare evasion  redditcomrnetseccomme ntskoajourneytoabusedftpsitesstoryofshells  ', label='1'),\n",
       " Row(_c0='619', text='a thumbsup for nsa internet spying on foreigners  the denver post   netsecuorgiabe   security', label='1'),\n",
       " Row(_c0='620', text='     trend micro launches xgen for multilayered endpoint protection  mvtmw ', label='1'),\n",
       " Row(_c0='621', text='  zabun   ', label='1'),\n",
       " Row(_c0='622', text='dangerous rce flaws found in popular ecom software   infosecuritymagazinecomnewsdangerous rceflawsfoundpopular    infosecmag', label='1'),\n",
       " Row(_c0='623', text='iran blames us israel for stuxnet computer worm ap uprqv', label='1'),\n",
       " Row(_c0='624', text=' cybersecurity  hacker  cyberactivism online activism in theory and practice   zeio ', label='1'),\n",
       " Row(_c0='625', text='zdnet chinese hackers lay cybersnares for us uk firms  zdnet  iafce   security', label='1'),\n",
       " Row(_c0='626', text=' daytoday  windows  k sp  tcpip ioctl privilege escalation ms exploit day  exploit    hdmwl ', label='1'),\n",
       " Row(_c0='627', text='linux kernel kvm vm ioctl assign device function dev kym local dos linux kernel kvm vm ioctl  fbgnth ', label='1'),\n",
       " Row(_c0='628', text='itcgi  web  cve    aibz  httpproxyhttpweb', label='1'),\n",
       " Row(_c0='629', text='millions of public twitter streams harbor a wealth of data and onc  kiorg   hacker  cybersecurity ', label='1'),\n",
       " Row(_c0='630', text='windows  tip protect removable storage devices with bitlocker encryption windows  tip  fbsndoqc ', label='1'),\n",
       " Row(_c0='631', text='get breach body ready  ways to say we value your securityinfoseccosmo', label='1'),\n",
       " Row(_c0='632', text='  joiki   ', label='1'),\n",
       " Row(_c0='633', text='cvecve slickquiz for wordpress  wpadminadminphppageslickquiz multiple stored xss vulnerabilityd etailsqidcve  ', label='1'),\n",
       " Row(_c0='634', text=' cybersecurity  hacker  cyber defamation laws theory and practices in pakistan   itdwb  ', label='1'),\n",
       " Row(_c0='635', text=' i meant make it look like a plausible accident michaeldweiss status  ', label='1'),\n",
       " Row(_c0='636', text='hyper focused iphone hacking campaign using mdm software is broader than previously known via rnetsec  lgoup   infosec', label='1'),\n",
       " Row(_c0='637', text='ebook network audit unix testing auditing cisco and pentestingdownload aokqxweu    koldoj ', label='1'),\n",
       " Row(_c0='638', text='sym symantec endpoint protection management vulnerabilities   cbukex   fri feb th  cbukut   chr', label='1'),\n",
       " Row(_c0='639', text='alert on   onlinemovielivestream   malicious websites websecurity  bugbounty  exploits  hacking  security                               alert ', label='1'),\n",
       " Row(_c0='640', text='  nvhpr  privacyvis', label='1'),\n",
       " Row(_c0='641', text='opdevsec new tool debuts for hacking back at hackers in your    darkreadingcomattacksbreach esnewtooldebutsforhackingbackathackersinyournetworkddid    via darkreading', label='1'),\n",
       " Row(_c0='642', text='cathay pacific hack airline admits techies fought off cybersiege for months  theregistercoukcat haypacifichackdatasiegemonths  ', label='1'),\n",
       " Row(_c0='643', text='network world  ai will transform information security but it wont happen overnight  nlejy ', label='1'),\n",
       " Row(_c0='644', text='zdi indusoft webstudio unauthenticated remote operations remote code execution vulnerability  wlpgk ', label='1'),\n",
       " Row(_c0='645', text=' sneakin  tailslive  well uploading it in clear text to remote servers is pretty bad', label='1'),\n",
       " Row(_c0='646', text='jcast  snsz   jcast', label='1'),\n",
       " Row(_c0='647', text='web app hacking overview and strategy for beginners webapphacking  cybersecurity   yxdeo  ', label='1'),\n",
       " Row(_c0='648', text=' cybersecurity  hacker  la dsinformation  les armes du faux   gpvttv  ', label='1'),\n",
       " Row(_c0='649', text=' fabionatalucci  di che hackton parli nomi', label='1'),\n",
       " Row(_c0='650', text='what matters most is how well you walk through the fire  charles bukowski quote', label='1'),\n",
       " Row(_c0='651', text='cve loadspecificdebugsection in objdumpc in gnu binutils through  contains an integer overflow vulnerability that can trigger a heapbased buffer overflow via a crafted section size   rxrson ', label='1'),\n",
       " Row(_c0='652', text='twitter has been keeping deleted dms foryears  itsecuritynewsinfotwitterhasbe enkeepingdeleteddmsforyears  ', label='1'),\n",
       " Row(_c0='653', text='chuckdbrooks  ludicrously advanced technologies we can expect by the year   gizmodo australia via gizmodo  wwwgizmodoco maubeyh  ', label='1'),\n",
       " Row(_c0='654', text='protecting our future volume  completes the comprehensive examin  fyhpd   hacker  cybersecurity ', label='1'),\n",
       " Row(_c0='655', text='tor internetvirus   ', label='1'),\n",
       " Row(_c0='656', text='naruto  xynpad  narutocshueisha inc all rights reserved', label='1'),\n",
       " Row(_c0='657', text='another huge bitcoin heist worth  million  when bitcoin poofed from bitfinex   networkworldcomarticle securityanotherhugebitcoinheistworthmillionwhenbitcoinpoofedfrombitfinexhtmltkrsssecurity    networkworld', label='1'),\n",
       " Row(_c0='658', text='how to exploit iframed based traffic eshop for illegal activities byyigb  securityaffairs  cybercrime  hacking  malware', label='1'),\n",
       " Row(_c0='659', text='internetofthingsagenda bring futureproof iot solutions to market faster  iot agenda  cybersecurity   blogiotagend abringfutureproofiotsolutionstomarketfaster   ', label='1'),\n",
       " Row(_c0='660', text='darkreading researchers find multiple critical flaws in confide secure messaging app  cybersecurity    darkreadingcomvulnerabilitie sthreatsresearchersfindmultiplecriticalflawsinconfidesecuremessagingappddid    ', label='1'),\n",
       " Row(_c0='661', text='there is no better exercise for strengthening the heart than reaching down and lifting people up leadwithgiants ', label='1'),\n",
       " Row(_c0='662', text=' theosint  yes i have loads of their manuals on my tumblr', label='1'),\n",
       " Row(_c0='663', text='why data portability is practiced by bestinclass companies', label='1'),\n",
       " Row(_c0='664', text='predictive business tools for bending the future in your direction', label='1'),\n",
       " Row(_c0='665', text='script to fetch install update and search wordlist archives from websites offering wordlists with more than  wordlists available blackarchword listctlblobmasterreadmemd  ', label='1'),\n",
       " Row(_c0='666', text='threatscape media highlights update  week of april th the following is this weeks sample of threatscape   eqhqu ', label='1'),\n",
       " Row(_c0='667', text='verifying myself i am jedisct on keybaseio stmuiymhaoomctapwmqscjlftldojv   jedisctsigs stmuiymhaoomctapwmqscjlftldojv  ', label='1'),\n",
       " Row(_c0='668', text='   hkdsqj  interfmxmas special live', label='1'),\n",
       " Row(_c0='669', text='tripwire  the internets freshest wounds my thoughts on ticketbleed cloudbleed and https  lopeud ', label='1'),\n",
       " Row(_c0='670', text=' mikko  timohirvonen  thanks a bunch mikko will take a look soon', label='1'),\n",
       " Row(_c0='671', text='infosecnewsbot  l st dod contractor to complete gps military code security certification l communications n ', label='1'),\n",
       " Row(_c0='672', text='is smount scored as mount in ibjjf', label='1'),\n",
       " Row(_c0='673', text='the biggest security  threats well face in    wiredcomthebi ggestsecuritythreatswellfacein    wired', label='1'),\n",
       " Row(_c0='674', text='net legalit disconnect threatens data breach compliance  idm magazine  icc   security', label='1'),\n",
       " Row(_c0='675', text='you can change everything about your business by changing your thinking about your business thezigziglar  success  leadership', label='1'),\n",
       " Row(_c0='676', text='newtonnews firework poster competition winners  newton news  ifcdf   security', label='1'),\n",
       " Row(_c0='677', text='akamai square  inch diagonally measured  privacy screen for square computer monitors ap has been published on cyberwar  keep   tobemcomcyberwarakama isquareinchdiagonallymeasuredprivacyscreenforsquarecomputermonitorsap  ', label='1'),\n",
       " Row(_c0='678', text='lagging ipv security features vulnerabilities could hamper transition lagging ipv security cidx', label='1'),\n",
       " Row(_c0='679', text='you have the power to reframe what youre thinking or feeling  danvforbes  leadwithgiants  leadership ', label='1'),\n",
       " Row(_c0='680', text='ngt  yxq  akbngt', label='1'),\n",
       " Row(_c0='681', text='report irs phone scam sweeping nation report irs phone scam sweeping nation  fbptyye ', label='1'),\n",
       " Row(_c0='682', text='the register  facebook hands hackers k for breaking browsers  pblrw ', label='1'),\n",
       " Row(_c0='683', text='nsa contractors use linkedin profiles to cash in on national security  al jazeera america   netsecuorgided ', label='1'),\n",
       " Row(_c0='684', text='watch march madness', label='1'),\n",
       " Row(_c0='685', text='is eemail a new beginning or the end for google s endtoend  rnakedsecuri tykloggytvkq    nakedsecurity', label='1'),\n",
       " Row(_c0='686', text='independent war on fentanyl the drug that killed prince is linked to  deaths in the uksince    security    independentcouklifestylehea lthandfamiliesfentanydruglinkedtodeathsuksinceopioidsahtml   ', label='1'),\n",
       " Row(_c0='687', text='shamoon reloaded the mysterious return of the dreaded wiper dgtwwn  securityaffairs  shamoon  malware', label='1'),\n",
       " Row(_c0='688', text='sans internet storm center why firewalls are not recommended for securing scada systems techrepublic  gccaam ', label='1'),\n",
       " Row(_c0='689', text='cve in moodle x and x searching of arbitrary blogs is possible because a capability check is missin  qlpldx ', label='1'),\n",
       " Row(_c0='690', text='eset  vulnerabilities reached a historic peak in   eqjjx ', label='1'),\n",
       " Row(_c0='691', text='dont try to be original just try to be good  paul rand quote  startup', label='1'),\n",
       " Row(_c0='692', text='only half of those who paid a ransomware ransom could recover their data bleepingcomputer  fbjqjss ', label='1'),\n",
       " Row(_c0='693', text='   us lawmakers say irs too focused on enforcement should provide clarity for crypto taxation  qkwbx   globalsecuritynews', label='1'),\n",
       " Row(_c0='694', text='     report apple supplier exposed workers to hazards poor working conditions zdnet  qbcrl ', label='1'),\n",
       " Row(_c0='695', text='xrz tallderbyguy dm me', label='1'),\n",
       " Row(_c0='696', text=' cybersecurity  hacker  hacking world class hacking python and cyber security strategies for upandcoming hackers   idsool  ', label='1'),\n",
       " Row(_c0='697', text='     data security solutions for small businesses  qfkrn ', label='1'),\n",
       " Row(_c0='698', text='cryptowall blamed for possible data breach at benjamin f edwards  co   csoonlinecomarticle compliancecryptowallblamedforpossibledatabreachatbenjaminfedwardshtmltkrssdataprotection    cso', label='1'),\n",
       " Row(_c0='699', text='ptbrcrackingwpa ', label='1'),\n",
       " Row(_c0='700', text='yeah you can just cut off the left side of that slab base thenyoull have a clear i l  distinction its very easy to do in font forge', label='1'),\n",
       " Row(_c0='701', text='data breach at dental practice exposes  patients personal info  gixoy   names social security numbers birthdates', label='1'),\n",
       " Row(_c0='702', text='  ofwfio   ', label='1'),\n",
       " Row(_c0='703', text=' cybersecurity  hacker  mastering windows network forensics and investigation   scjvy  ', label='1'),\n",
       " Row(_c0='704', text='fedora   pythoncryptography  pythoncryptographyvectors dabce  gdzxc ', label='1'),\n",
       " Row(_c0='705', text='github  trimstraysandmap nmap on steroids simple cli with the ability to run pure nmap engine  modules with  scan profiles trimstraysand map  ', label='1'),\n",
       " Row(_c0='706', text=' cybersecurity  hacker  bitcoin blueprint bitcoin book for beginners bitcoin blueprint bitcoin technology bitcoin beginners guide bitcoin mining process how to get paid  future of payroll  recruitment process    vonxpy ', label='1'),\n",
       " Row(_c0='707', text='teen hacker says he jailbroke the iphone  in just  hours   readiphone jailbreak    cc lorenzofb   qwertyoruiopz', label='1'),\n",
       " Row(_c0='708', text='alert on wqgikxgyfzycn malware providers detected websecurity  bugbounty  exploits  hacking  security    alert ', label='1'),\n",
       " Row(_c0='709', text='this book is intended to be an exceptionally delicate yet exhausti  kpr   cybersecurity  bitcoin ', label='1'),\n",
       " Row(_c0='710', text='im in your stakz overflowin your heapz', label='1'),\n",
       " Row(_c0='711', text='  wbtqx   ', label='1'),\n",
       " Row(_c0='712', text='rt techlg  linkedin aims to keep hackers out with twofactor login add linkedin to the   xjwvv ', label='1'),\n",
       " Row(_c0='713', text='rt cybersecboardrm  senate votes to upgrade cyber command into warfighting unit cybersecu   ggkbg  ', label='1'),\n",
       " Row(_c0='714', text='vuln hola vpn cve local privilege escalation vulnerability  hola vpn cve local privilege escalation vulnerability  advertise on it security news read the complete article vuln hola vpn cve local privilege escalat kssflods ', label='1'),\n",
       " Row(_c0='715', text=' raed  octal  addelindh  bugcrowd  c isnt going to solve memory problems but its more realistic alternative', label='1'),\n",
       " Row(_c0='716', text='cyber attacks on satellites could spark global catastrophe experts warn  contentcyber attackssatellitescouldsparkglobalcatastropheexpertswarn    hitb', label='1'),\n",
       " Row(_c0='717', text='cve huawei cloudengine  with software vrc vrc vrc vrc vrc  nunpm ', label='1'),\n",
       " Row(_c0='718', text='     google to require android devicemakers to roll out os security patches regularly  qtfj ', label='1'),\n",
       " Row(_c0='719', text='erpscan sap netweaver   sql injection  vulnerability   fulldisclosure dec    fulldisclosure', label='1'),\n",
       " Row(_c0='720', text='ashley madison site still growing ashley madison says hundreds of thousands of new members are joining de  iyclq ', label='1'),\n",
       " Row(_c0='721', text='     core security improves network visibility simplifies investigations pr newswire press  pxd ', label='1'),\n",
       " Row(_c0='722', text='nmap beta released  citrix scanning  xmas greetings ', label='1'),\n",
       " Row(_c0='723', text=' cybersecurity  hacker  the end of intelligence espionage and state power in the information age   mbcjsr  ', label='1'),\n",
       " Row(_c0='724', text='carl zeiss jena lenses issue date by serial number  nbsrd    iejksx ', label='1'),\n",
       " Row(_c0='725', text='threatmeter webapps  gr tutorial script  sql injection  nvvm ', label='1'),\n",
       " Row(_c0='726', text='how google map hackers can destroy a business at will   wiredcomhackin ggooglemaps    wired', label='1'),\n",
       " Row(_c0='727', text='cve oracle mysql  score vulnerability in the mysql server component of oracle mysql subcomponent server optimizer supported versions that are affected are  and prior  and prior an vulnerabilityd etailsqidcve  ', label='1'),\n",
       " Row(_c0='728', text='logic will get you from a to z imagination will get you everywhere  albert einstein quote', label='1'),\n",
       " Row(_c0='729', text='rt securityaffairs mcdonalds mcdelivery app leaks details of over  million customers  nxfn  ', label='1'),\n",
       " Row(_c0='730', text='when a cab didnt show this guy gave public enemy a ride to their own gig if your taxi fails to show up it  hdxvdh ', label='1'),\n",
       " Row(_c0='731', text='module  ethical hacking has been published on cyberwar  every thing is in book cybersecurity  cyberwarfare    tobemcomcyberwarmodul eethicalhacking  ', label='1'),\n",
       " Row(_c0='732', text='sans isc  microsoft december  black tuesday update  overview tue dec th  vragee ', label='1'),\n",
       " Row(_c0='733', text='rod is busy ripping up hydrogen as a crypto analysis case study for the infiltrate  master class sign up now before it fills up', label='1'),\n",
       " Row(_c0='734', text='skylake cpuwindows   bncdcb ', label='1'),\n",
       " Row(_c0='735', text='cyber security awareness for corporate directors and board members  wcfrgf   hacker  cybersecurity ', label='1'),\n",
       " Row(_c0='736', text=' securityaffairs  posted securityaffair sstatus  ', label='1'),\n",
       " Row(_c0='737', text='bash  itmedia   zca ', label='1'),\n",
       " Row(_c0='738', text='cve adobe coldfusion update  and earlier versions coldfusion  update  and earlier versions have an exploitable crosssite scripting vulnerability successful exploitation could lead to information disclosure   iwnnz ', label='1'),\n",
       " Row(_c0='739', text='cvs actualizados hoy y maana sgrupo  estar a la caza de talento en ciberseguridad en el foro de empleo de la upv  bscanos empleo', label='1'),\n",
       " Row(_c0='740', text='na  cve   disputed  the traveloka application   disputed  the traveloka application  fbfmrrkn ', label='1'),\n",
       " Row(_c0='741', text='schoolboy arrested over spamhaus ddos worlds biggest cyber attack  sch oolboyarrestedoverspamhausddosworldsbiggestcyberattackutmsourcefeedburnerutmmediumfeedutmcampaignfeedanakedsecuritynakedsecuritysophos    via digg', label='1'),\n",
       " Row(_c0='742', text=' cybersecurity  hacker  the dark net black book linking you to the other side   vmkkpf ', label='1'),\n",
       " Row(_c0='743', text='rt giuliosiamonoi  dopo la revoca hackingteam  altra azienda italiana ha venduto software   ocyiq  ', label='1'),\n",
       " Row(_c0='744', text='ibm partners with mit for  million fundamental ai research project  zodupz ', label='1'),\n",
       " Row(_c0='745', text='apparently new hp printers store the install media on an internal flash device now what could possibly go wrong', label='1'),\n",
       " Row(_c0='746', text='analyzing tnef files sun dec st  diaryrss ', label='1'),\n",
       " Row(_c0='747', text='hortonworks system integrator partner program announcement', label='1'),\n",
       " Row(_c0='748', text='introducing availability of hdp   part ', label='1'),\n",
       " Row(_c0='749', text='rt securityaffairs rt rwainwright paneuropean police operation against people smuggling network europol  kldygf  ', label='1'),\n",
       " Row(_c0='750', text='official list  of hacker  and cyber   crime movies  cso online   csoonlinecomarticle securityofficiallistofhackerandcybercrimemovieshtmlutmcontentbuffereutmmediumsocialutmsourcetwittercomutmcampaignbuffer   ', label='1'),\n",
       " Row(_c0='751', text='   iota ends september with steepest decline among top crypto assets  qmbxc   globalsecuritynews', label='1'),\n",
       " Row(_c0='752', text='php ziparchiveextractto zip files directory traversal vulnerability bugtraq  vuln php ziparchiveextr ', label='1'),\n",
       " Row(_c0='753', text=' ncy   post thememoirsofeleusis    read that', label='1'),\n",
       " Row(_c0='754', text='windows  protoughpad  pdfzn ', label='1'),\n",
       " Row(_c0='755', text='irishexaminer uk radio station struggling to catch hacker after he hijacks broadcasts withrude song   security    irishexaminercomexamviralukr adiostationstrugglingtocatchhackerafterhehijacksbroadcastswithrudesonghtml   ', label='1'),\n",
       " Row(_c0='756', text='bsides las vegas  day  common ground many thanks for bsides las vegas posting their remarkable  fbqnt   infosec', label='1'),\n",
       " Row(_c0='757', text='intel announces self encrypting solid state drives to fight data breaches  contentintel announcesselfencryptingsolidstatedrivesfightdatabreaches    hitb', label='1'),\n",
       " Row(_c0='758', text='jburnsconsult jburnsconsult jburnsconsult jburnsconsult jburnsconsult marcvdc  was the year of the databreach  lets see what ', label='1'),\n",
       " Row(_c0='759', text='  chibabankcojpkojinservice credittopic   ', label='1'),\n",
       " Row(_c0='760', text='   livetree announces four massive blockchain partnerships ahead of blossom tv launch  qlkd   globalsecuritynews', label='1'),\n",
       " Row(_c0='761', text='cve an elevation of privilege vulnerability exists when the windows kernel api improperly handles registry objects in memory aka windows registry elevation of privilege vulnerability this affects windows  windows   pfqj ', label='1'),\n",
       " Row(_c0='762', text='hindustantimes no takers for evm hacking challenge yet aap bsp cong quiet as deadlinelooms   cybersecurity    hindustantimescomindianewsec sourcessaynopartyhascomeforwardtotakepartinevmhackathonyetstoryzqqhxytammnvgxauglhtml   ', label='1'),\n",
       " Row(_c0='763', text='businessinsider countertack welcomes rapid to its digital dna ecosystem product licensingprogram for advanced t  newsstocksco untertackwelcomesrapidtoitsdigitaldnaecosystemproductlicensingprogramforadvancedthreatprotectionanalysiscapabilities   ', label='1'),\n",
       " Row(_c0='764', text='this plane can take off like a helicopter the osprey just completed its longest flight in history flying fro  savcrz ', label='1'),\n",
       " Row(_c0='765', text='three years ago protonmail  was launched today it is launching protonvpn  dwdmck  securityaffairs', label='1'),\n",
       " Row(_c0='766', text='jvndbilias   rjclw   ilias vulnerability analysis summaryan', label='1'),\n",
       " Row(_c0='767', text='oracle solaris  express ', label='1'),\n",
       " Row(_c0='768', text='us coast guard rescues  fishermen from burning boat a hawaiibased coast guard crew rescued  fishermen   jodgi ', label='1'),\n",
       " Row(_c0='769', text='zdnet what else is coming in windows  iot core with the creators update  zdnet  iedeb   security', label='1'),\n",
       " Row(_c0='770', text='       hvnstd ', label='1'),\n",
       " Row(_c0='771', text='     north korean university asks help from texas am university with food security university  nhlh ', label='1'),\n",
       " Row(_c0='772', text='lumia    go    microsofttechnet', label='1'),\n",
       " Row(_c0='773', text='distrochecker cross distribution exploit testing tool  redhat local privilege escalation cve via rnetsec ', label='1'),\n",
       " Row(_c0='774', text='     data privacy vs data protection reflections on privacy day and gdpr  qckwpc ', label='1'),\n",
       " Row(_c0='775', text='russian banks targeted in ddos cyber attack  a coordinated ddos cyber attack against at least five russian ban  evuuolx ', label='1'),\n",
       " Row(_c0='776', text='india has emerged as a hub of the it industry due to the phenomena  wuvao   cybersecurity  bitcoin ', label='1'),\n",
       " Row(_c0='777', text='freeware advanced audio decoder  mp file commonmpffmpatomc mpffreadstco denial of service  tjvq ', label='1'),\n",
       " Row(_c0='778', text='us insurers face sec probe over webaccess bungle that exposed up to  million files  feedwwwthere gistercoukfirstamericanfinancialcorpmdatabreachsec    theregister', label='1'),\n",
       " Row(_c0='779', text=' cybersecurity  hacker  introduo ao pentest em portuguese do brasil   kvgau ', label='1'),\n",
       " Row(_c0='780', text=' cybersecurity  hacker  antminer d  top miner for dash  hash rate  ghs     tobemcomcyberwarantmi nerdtopminerfordashhashrateghs       cyberwarbooks    specifications of the antminer d are as follows a hash rate  ghs variation of  is expected b power  ', label='1'),\n",
       " Row(_c0='781', text='bitcoin investing bitcoin has taken the world by storm and its on  jbvfz   cybersecurity  bitcoin ', label='1'),\n",
       " Row(_c0='782', text='if youve ever been responsible for a network you know that sinki  nnpcom   cybersecurity  bitcoin ', label='1'),\n",
       " Row(_c0='783', text='whatsapp  indian cyberlaw india is already undergoing a huge mobi  jjnboi   hacker  cybersecurity ', label='1'),\n",
       " Row(_c0='784', text=' dakami  technically its not viagra', label='1'),\n",
       " Row(_c0='785', text=' cybersecurity  hacker  information assurance handbook effective computer security and risk management strategies networking  comm  omg   xgjiqg ', label='1'),\n",
       " Row(_c0='786', text='using powershell for client side attacks   eayoik ', label='1'),\n",
       " Row(_c0='787', text='   senior apple execs deny allegations of icloud server chinese spy chips in new report  qmzpn   globalsecuritynews', label='1'),\n",
       " Row(_c0='788', text='infosecnewsbot paradise papers new leak from offshore finance firm   zipb   infosec  cybersecurity', label='1'),\n",
       " Row(_c0='789', text=' apple  faceid confidence runs high   infosecuritymagazinecomnewsapplefac eidconfidencerunshigh    infosecmag', label='1'),\n",
       " Row(_c0='790', text='cnet from stocks to airplanes to newspapers its just been a bad day for tech cne  ibefdf   security', label='1'),\n",
       " Row(_c0='791', text='    has created a decentralized or dweb version of their site  gxott ', label='1'),\n",
       " Row(_c0='792', text='little glee monster nhk  gjlxer  rdli', label='1'),\n",
       " Row(_c0='793', text='aircrackng wireless network tools  rc  filesa ircrackngrctargz    packetstorm', label='1'),\n",
       " Row(_c0='794', text='cybersleuths uncover year spy operation targeting governments others  nkvgb ', label='1'),\n",
       " Row(_c0='795', text='htc  pro photos ', label='1'),\n",
       " Row(_c0='796', text='sizma testleri alaninda uzmanlasmak isteyenler temel basvuru kayna  pulhuw   cybersecurity  bitcoin ', label='1'),\n",
       " Row(_c0='797', text='datenbank mit nsaunterlagen gestartet  netzwelt  medien  nachrichten  goettinger   netsecuorgidfe ', label='1'),\n",
       " Row(_c0='798', text='cissp exam cram fourth edition is the perfect study guide to hel  fptrjs   cybersecurity  bitcoin ', label='1'),\n",
       " Row(_c0='799', text='hacker selling  million cell phone details of us cellular customers  hackreadcomhackerselling millionuscellularcustomersdata  ', label='1'),\n",
       " Row(_c0='800', text='infosecnewsbot  rt erikloman  tool against wannacry   dutchinnovation  madeintwente   qdhy  ', label='1'),\n",
       " Row(_c0='801', text='cvevulnerability in avataruploader vxbeta  the code in viewphp doesnt verify users or sanitize the file path vulnerabilityd etailsqidcve  ', label='1'),\n",
       " Row(_c0='802', text='fast smart and secure ibm analytics on the cloud', label='1'),\n",
       " Row(_c0='803', text='chinese hackers spying on european diplomats djaye  securityaffairs  fireeye  cyberespionage  g  china', label='1'),\n",
       " Row(_c0='804', text='aero snap winwindow manager ', label='1'),\n",
       " Row(_c0='805', text='study claims a link between diet sodas and stroke and dementia  wmxlbo ', label='1'),\n",
       " Row(_c0='806', text='reuters rescuers search rubble of school as mexican quake toll hits    cybersecurity    reuterscomarticleusmex icoquakerescuerssearchrubbleofschoolasmexicanquaketollhitsiduskcnbvoril   ', label='1'),\n",
       " Row(_c0='807', text='tracing bugs in wireshark  tra cingbugsinwireshark  ', label='1'),\n",
       " Row(_c0='808', text='lte shows it can slim down like the cool kids for iot  lte is the champion for smartphone service but in the   bpcbh ', label='1'),\n",
       " Row(_c0='809', text='uc berkeley announces another data breach  fbcaets ', label='1'),\n",
       " Row(_c0='810', text='as if miners werent enough roboto condensed attack now pushing crapware  crzzx ', label='1'),\n",
       " Row(_c0='811', text=' hackjapan  ', label='1'),\n",
       " Row(_c0='812', text='joke video from gsas las vegas bash ill never be under oig investigation  pcqyk ', label='1'),\n",
       " Row(_c0='813', text='kuo iphone se  to feature improved antenna design production will begin in early  the socalled  fbwtytz   infosec', label='1'),\n",
       " Row(_c0='814', text='darkreading former director of nsa and cia says us cybersecurity policy mia  ifeaf   security', label='1'),\n",
       " Row(_c0='815', text='na  cve  an issue was discovered in foxit phantompdf this vulnerability is currently undergoing analysis and not all information is available please check back soon to view the completed vulnerability summaryan issue was discovered in   ynjm ', label='1'),\n",
       " Row(_c0='816', text='mozilla adds persistent private browsing to firefox forios  itsecuritynewsinfomozillaaddsp ersistentprivatebrowsingtofirefoxforios  ', label='1'),\n",
       " Row(_c0='817', text=' cybersecurity  hacker  password security tips  tips secrets ideas suggestions tricks methods and techniques   plonpg ', label='1'),\n",
       " Row(_c0='818', text='each new print copy includes navigate  advantage access that unlo  uppcck   cybersecurity  bitcoin ', label='1'),\n",
       " Row(_c0='819', text='apache struts  bug bites canada cisco vmware and others  canuck tax and stats outages revealed as patch pau  kjjaaeyg ', label='1'),\n",
       " Row(_c0='820', text='white house will not repeat allegations that gchq spied on trump  mdiuj ', label='1'),\n",
       " Row(_c0='821', text='secure your systems using the latest it auditing techniques fully  wien   hacker  cybersecurity ', label='1'),\n",
       " Row(_c0='822', text='ibm big data in a minute big data driving business decisions', label='1'),\n",
       " Row(_c0='823', text='facebook kills lecpetex botnet which hit  computers   csoonlinecomarticle securityfacebookkillslecpetexbotnetwhichhitcomputershtmltkrssdataprotection    cso', label='1'),\n",
       " Row(_c0='824', text='is icd more important than meaningful use advisory board health it boss dave garets tells cios to make icd  vokprj ', label='1'),\n",
       " Row(_c0='825', text='unique malware  that hides cc server on dropbox  detected targets hong kong prodemocracy news outlets  xulbao   security', label='1'),\n",
       " Row(_c0='826', text=' afreak  i wanted an x out if stock yoga pro  out if stock x no longer available got the x and hate it', label='1'),\n",
       " Row(_c0='827', text='toptechnews macos sierra update  things to look for  applemac on top tech news  iccdaf   security', label='1'),\n",
       " Row(_c0='828', text='webapps  wordpress  abtest plugin  local file inclusion   exploitdbcomexploits   exploitdb', label='1'),\n",
       " Row(_c0='829', text='phishing scam that penetrated wall street just might work against you too phishing scam  fbovzcie ', label='1'),\n",
       " Row(_c0='830', text='xbox  reset glitch hack  oeqjzq     reset glitch hack  free  ndrke ', label='1'),\n",
       " Row(_c0='831', text='day training   a practical approach to malware analysis and memory forensics hitbsecconf amssessionsdaytrainingapracticalapproachtomalwareanalysisandmemoryforensics  ', label='1'),\n",
       " Row(_c0='832', text='misifts ray is the slender more fashionable cousin of its shine fitness bandmisfithasannounced its newest dev ', label='1'),\n",
       " Row(_c0='833', text='cve vulnerability in the oracle trade management component of oracle ebusiness suite subcomponent   gvskb ', label='1'),\n",
       " Row(_c0='834', text='gunshot victims to be suspended between life and death  health   march   new scie   netsecuorgibef ', label='1'),\n",
       " Row(_c0='835', text='rt securityaffairs secureworks secureworks shed light on bronze butler group that targets japanese enterprises  ggay  ', label='1'),\n",
       " Row(_c0='836', text='have you ever turned down a job offer  ffy ', label='1'),\n",
       " Row(_c0='837', text='cve  etyzu  references to advisories solutions and toolsby selecting these links you will be leaving nist', label='1'),\n",
       " Row(_c0='838', text=' o  und e plus telefnica  hat weiter probleme auerhalb von stdten  golemdenewsounde plustelefonicahatweiterproblemeausserhalbvonstaedtenhtml  ', label='1'),\n",
       " Row(_c0='839', text='infosec island  a tenuous grasp on reality  uvjvlp ', label='1'),\n",
       " Row(_c0='840', text='threatmeter vuln typo code highlighter extension multiple security vulnerabilities  fnguh ', label='1'),\n",
       " Row(_c0='841', text='stacey on iot  mxna ', label='1'),\n",
       " Row(_c0='842', text='asb  winunixlinux mozilla firefox execute arbitrary codecommands  remote with user interaction  elucis ', label='1'),\n",
       " Row(_c0='843', text='chinese cyber crime is the first comprehensive book describing the  mxfsr   cybersecurity  bitcoin ', label='1'),\n",
       " Row(_c0='844', text='rt vince  facebook open switching system fboss and wedge in the open   posts facebookopenswitchingsystemfbossandwedgeintheopen  ', label='1'),\n",
       " Row(_c0='845', text=' cybersecurity  hacker  handbook on securing cyberphysical critical infrastructure   lmhts ', label='1'),\n",
       " Row(_c0='846', text='secmash what it takes to be a security incident responder  itworldwhat it takes to be a security incident resp  sczngv ', label='1'),\n",
       " Row(_c0='847', text='windowswindows windows update   itmedia pc user   mjbpg ', label='1'),\n",
       " Row(_c0='848', text='headed over to telephreakparty  bearing snacks for the line', label='1'),\n",
       " Row(_c0='849', text='a second round of cyber attacks against iran underway ', label='1'),\n",
       " Row(_c0='850', text=' ttoyota  ty have a wonderfull  peaceful weekend respect', label='1'),\n",
       " Row(_c0='851', text='link  wwwcnncom gbqr    by cnnbrk  is the most popular tweet in my news feed today', label='1'),\n",
       " Row(_c0='852', text=' cve     jpcertorjpatat html  ', label='1'),\n",
       " Row(_c0='853', text='rt smrseginf  diario smrseguridad informtica   top stories today via psdhtml  securityartwork  lorenridinger', label='1'),\n",
       " Row(_c0='854', text='cimetrics bacstac routing service f local privilege escalation  kzshwl ', label='1'),\n",
       " Row(_c0='855', text='insulin pump security flaws could be used to set off hypoglycemic reactions  dnmd   security  healthcare  medical ', label='1'),\n",
       " Row(_c0='856', text='cbsnews commentary when trump fires mueller  cbs news  cybersecurity    cbsnewscomnewscommentar ywhentrumpfiresmueller   ', label='1'),\n",
       " Row(_c0='857', text='no man has a good enough memory to be a successful liar abraham lincoln quote', label='1'),\n",
       " Row(_c0='858', text='rt nmess  openshot video editing su linux ', label='1'),\n",
       " Row(_c0='859', text='amazon and ebay pull hackable cloudpets   bbccomnewstechnolog y  ', label='1'),\n",
       " Row(_c0='860', text='dont worry about what im doing worry about why youre worried about what im doing theathelite  quote', label='1'),\n",
       " Row(_c0='861', text='hospital email security in critical condition as dmarc adoption lags  fbjpaitt ', label='1'),\n",
       " Row(_c0='862', text='glenn greenwald edward snowden has not leaked a single document in  months  grrzth ', label='1'),\n",
       " Row(_c0='863', text='sim sim  zulron         sim   sim   ', label='1'),\n",
       " Row(_c0='864', text='race to security  the trend micro security guide to major sporting events   netsecuorgidfc   security', label='1'),\n",
       " Row(_c0='865', text='radware opicarus phase  opsacred opicarus ddosthreatsa ttacksthreatadvisoriesattackreportsopicarus  ', label='1'),\n",
       " Row(_c0='866', text='last week at the military commissions presentencing hearings continue in united states v khan last  fbgjyqmr   infosec', label='1'),\n",
       " Row(_c0='867', text='attackers tapping on snmp door to see if its open  feedwwwthere gistercoukattackerstappingonsnmpdoortoseeifitsopen    theregister', label='1'),\n",
       " Row(_c0='868', text=' anonymouspress  in  someone still believe in kkk  disconcerting', label='1'),\n",
       " Row(_c0='869', text='sibos day  the financial industry is going through a cycle of change bobsguide press  fbvtev ', label='1'),\n",
       " Row(_c0='870', text='     bitcoin price live btc to fall after massive  million hack heist in south korea  qypdb ', label='1'),\n",
       " Row(_c0='871', text='add modular counter space to your kitchen with a simple folding bracket  bkvlw   most of us could use more counter space ', label='1'),\n",
       " Row(_c0='872', text='no escape microsoft injects get windows  nagware into biz pcs  ahsd ', label='1'),\n",
       " Row(_c0='873', text=' cybersecurity  hacker  body of secrets anatomy of the ultrasecret national security agency   ssia  ', label='1'),\n",
       " Row(_c0='874', text='     why thinking like your enemy is a valuable strategy for your cybersecurity portfolio  qyfjl ', label='1'),\n",
       " Row(_c0='875', text='security affairs on facebook  facebookcompagessecurity affairs   securityaffairs  security  warfare  hacking  cybercrime  malware  digitalid', label='1'),\n",
       " Row(_c0='876', text='zdi day sap sybase esp espparse connectionsetparams remote code execution vulnerability  rzdipublish edadvisoriescsuwabwelm    zdi', label='1'),\n",
       " Row(_c0='877', text='more police departments acknowledge paying ransom to unlock their systems  fbtm ', label='1'),\n",
       " Row(_c0='878', text='     atm scammer is uploading skimmer device blueprints online after fleeing country  qgcttt ', label='1'),\n",
       " Row(_c0='879', text='rt securitygeek  twitter outage via dns hijacking  ', label='1'),\n",
       " Row(_c0='880', text='digital and forensics investigators corporate it staff technicia  lzxlpo   cybersecurity  bitcoin ', label='1'),\n",
       " Row(_c0='881', text='red october cyberspies sucked data from diplomatic agencies worldwide researchers say  vwvyqm   via zite', label='1'),\n",
       " Row(_c0='882', text='rt securityaffairs us defense is working on new multifactor authentication  systems roiy  securityaffairs  darpa ', label='1'),\n",
       " Row(_c0='883', text='moonpig jeopardizes data  of millions of customers through insecure api   networkworldcomarticle securitymoonpigjeopardizesdataofmillionsofcustomersthroughinsecureapihtmltkrsssecurity    networkworld', label='1'),\n",
       " Row(_c0='884', text='criminal activities in cyberspace are increasingly facilitated by  nhwzun   cybersecurity  bitcoin ', label='1'),\n",
       " Row(_c0='885', text='     ransomware key insights from infosec experts welivesecurity we live security blog  nftpd ', label='1'),\n",
       " Row(_c0='886', text='are your business operations secure  qszc ', label='1'),\n",
       " Row(_c0='887', text='     the cyber intelligence landscape is evolving  qrzkm ', label='1'),\n",
       " Row(_c0='888', text='debian security advisory   jlcnn ', label='1'),\n",
       " Row(_c0='889', text='klfm   news  hugh grant happy to be out of hollywood   netsecuorgidfea   security', label='1'),\n",
       " Row(_c0='890', text='google play apps drop anubis banking malware use motionbased evasiontactics  itsecuritynewsinfogoogleplayap psdropanubisbankingmalwareusemotionbasedevasiontactics  ', label='1'),\n",
       " Row(_c0='891', text='jvndbapple mac os x  ssh  ', label='1'),\n",
       " Row(_c0='892', text='upwind begins accepting scholarship applications  san carlos california  the upwind foundation now in its f  efdcbxjq ', label='1'),\n",
       " Row(_c0='893', text='toptechnews hacking team breach reveals two new critical flash zeroday exploits  datasecurity on to  ifadbf ', label='1'),\n",
       " Row(_c0='894', text='emirates dubai police arrest hackers targeting us officials from the white house emirates   cybersecurity    emiratescomcrimelocaldu baipolicearresthackerstargetingusofficialsfromthewhitehouse   ', label='1'),\n",
       " Row(_c0='895', text='ecco la mappa dei computer violati dalla nsa riappaiono i misteriosi hacker shadow brokers  emdchu ', label='1'),\n",
       " Row(_c0='896', text='what you need to know about superfish   netsecuorgiaa   security', label='1'),\n",
       " Row(_c0='897', text=' cybersecurity  hacker  digital virtual currency and bitcoins the dark web financial markets  exchanges  secrets   ucbcf  ', label='1'),\n",
       " Row(_c0='898', text='threatmeter daytoday  barracuda  load balancer firmware lt   remote command injection exp day  e   tamrkm ', label='1'),\n",
       " Row(_c0='899', text='prweb nortech rolls out dedicated enterpriseclass clusters for big data analytics  icbfcddc   security', label='1'),\n",
       " Row(_c0='900', text='there are a lot of assumptions about hackers and a lot of the ass  ekmott   hacker  cybersecurity ', label='1'),\n",
       " Row(_c0='901', text='     how to manage audio focus across tabs in google chrome in windows  qyllll ', label='1'),\n",
       " Row(_c0='902', text='  jumzc   ', label='1'),\n",
       " Row(_c0='903', text='rt malwaremustdie  i can go all night long announcing per asn but the overall list is here  tjryv    malwaremustdie ', label='1'),\n",
       " Row(_c0='904', text=' cybersecurity  hacker  cryptocurrency bitcoin ethereum blockchain and the future of money   jgwweh ', label='1'),\n",
       " Row(_c0='905', text='open enterprise hadoop roadshow seminars coming to a city near you', label='1'),\n",
       " Row(_c0='906', text=' cybersecurity  hacker  netcat power tools   nhiel ', label='1'),\n",
       " Row(_c0='907', text='     mobilesecurity chip combines nfc controller secure element and esim  qlzkmn   androidsecuritynews', label='1'),\n",
       " Row(_c0='908', text='sophos web gateway  cross site scripting  dwocze ', label='1'),\n",
       " Row(_c0='909', text='the new dhs rule to surveil immigrants social media data is part of a larger process of hightech surveillance  buzzfeedcomadolfofloresp eopleareworriedaboutdhsplanstogathersocialmedia  ', label='1'),\n",
       " Row(_c0='910', text=' vrybdpkt  that one is particularly vile', label='1'),\n",
       " Row(_c0='911', text='reuters fitch affirms banco de credito e inversiones idrs at a outlook revised topositive   iaccc ', label='1'),\n",
       " Row(_c0='912', text='so long hipster barbie the parody instagram account is calling it quits well at least now you no longer hav  ntnwn ', label='1'),\n",
       " Row(_c0='913', text='i have  new followers from usa kenya uk and more last week see  securityblog  ', label='1'),\n",
       " Row(_c0='914', text='cbsnews eye opener obama and democrats take down trump  videos  cbs news  iccec   security', label='1'),\n",
       " Row(_c0='915', text='icelandic commentator disses england in most enthusiastic way possible  oafqie ', label='1'),\n",
       " Row(_c0='916', text='ohio school district has teach the controversy evolution lesson plan  kxoyqon ', label='1'),\n",
       " Row(_c0='917', text='foxtv business information solutions offers free lunch  learn on cybe  fox news wala  iafd   security', label='1'),\n",
       " Row(_c0='918', text='igamingcmssqltxt ', label='1'),\n",
       " Row(_c0='919', text='wkrb daniel j warmenhoven sells  shares of palo alto networks stock panw wkrb news   iddbd ', label='1'),\n",
       " Row(_c0='920', text=' cybersecurity  hacker  the age of reason xist classics   rbcerg  ', label='1'),\n",
       " Row(_c0='921', text='bitcoin investing  invest in digital gold   iyvkid   hacker  cybersecurity ', label='1'),\n",
       " Row(_c0='922', text='microsoft pushes a dozen security updates  micros oftpushesadozensecurityupdates  ', label='1'),\n",
       " Row(_c0='923', text='simple jquery popup  a lightweight jquery plugin for showing simple modal dialog windows a simple tool  wwxxr ', label='1'),\n",
       " Row(_c0='924', text='secmash how to freeze your credit to protect your identity  usa todaylincoln journal starhow to freeze your   xyyrxp ', label='1'),\n",
       " Row(_c0='925', text='proactive defense humans or machines  thats the question xdkwbj  cyberwarfare  dhs  scada  zero day vulnerabilities', label='1'),\n",
       " Row(_c0='926', text='the  best iphone photography apps of all time video mashable editorial videothe iphones camera has com  qevkmj ', label='1'),\n",
       " Row(_c0='927', text='bugtraq security dsa  dokuwiki regression fix  qflg ', label='1'),\n",
       " Row(_c0='928', text='new post most of the alternate web browsers dont have fraud and malware protection stick with mainstream brows  bkmrz ', label='1'),\n",
       " Row(_c0='929', text='technewstoday is microsoft corporation windows  anything more than the emperor in newclothes  iedcfcee ', label='1'),\n",
       " Row(_c0='930', text='panda cloud antivirus pro achieves virus bulletin vb certification  dcff ', label='1'),\n",
       " Row(_c0='931', text='cyberespionage and new opportunities for cybercrime wordpress cybercrimecyberespionageandnewopportunitiesforcybercrimehtml  ', label='1'),\n",
       " Row(_c0='932', text='nytrorst  bypassing application whitelisting by using windbgcdb as a shellcode runner   exploitmondaycomwindbg cdbshellcoderunnerhtml   ', label='1'),\n",
       " Row(_c0='933', text=' best practices to improve security in industrial iot  dell emcs senior product manager for iot security ro  uiqnbqeim ', label='1'),\n",
       " Row(_c0='934', text='ifagan news in brief hollywood fights piracy covfefe not a typo kim dotcom loses  qxbu   in   xdsppqzh ', label='1'),\n",
       " Row(_c0='935', text='the diy butcher block and pipe workstation  cylyx   redditor ksmithbaylor built this gorgeous butcher block and steel pip', label='1'),\n",
       " Row(_c0='936', text='lazyconsultant bilderberg association annual report   rtsjbk   cybersecurity', label='1'),\n",
       " Row(_c0='937', text='gfi blog  embedded tech  wearable techs next frontier  ndtme ', label='1'),\n",
       " Row(_c0='938', text='esb  cisco cisco firepower  series nextgeneration firewall ngfw root compromise  existing ac  zoyinp ', label='1'),\n",
       " Row(_c0='939', text='cbc goldcorp breached by hackers trying to extort money  business  cbc news  icbdc   security', label='1'),\n",
       " Row(_c0='940', text='the best syncing notetaker for mac video ', label='1'),\n",
       " Row(_c0='941', text='palo alto networks buys cybersecurity company  fbdwsb ', label='1'),\n",
       " Row(_c0='942', text='this mans point twitter thread about what its like to live with just girls has gone super viral  youd think observations about what its like to live with the opposite sex would be pretty much old hat by now surely now that were in  it  zzskfrj ', label='1'),\n",
       " Row(_c0='943', text='is  million enough to save the web from ads mozilla creative commons and coil are teaming up to  fbqdguh   infosec', label='1'),\n",
       " Row(_c0='944', text='dumping hashes on win with metasploit ', label='1'),\n",
       " Row(_c0='945', text='helk valpha releases the hunting elk  helk   opensource  infosec  security  pentest', label='1'),\n",
       " Row(_c0='946', text='vuln openssl cve security bypass vulnerability  ixaa ', label='1'),\n",
       " Row(_c0='947', text='ibm loses chunky atm contract reaches for staff eject button  qijgfkas ', label='1'),\n",
       " Row(_c0='948', text='handson tour of apache spark in  minutes', label='1'),\n",
       " Row(_c0='949', text='police demands waze stop pinpointing theircheckpoints   itsecuritynewsinfopolicedemands wazestoppinpointingtheircheckpoints  ', label='1'),\n",
       " Row(_c0='950', text='     troj msilkcn  pxdbh ', label='1'),\n",
       " Row(_c0='951', text='alert on   bulacangovphninjahtm   hacked websites websecurity  bugbounty  exploits  hacking  security                               alert ', label='1'),\n",
       " Row(_c0='952', text='     zombie whatsapp downloaded more than  million times  pzhwbj ', label='1'),\n",
       " Row(_c0='953', text='xrz infosec tldr  dmoberhaussta tus  ', label='1'),\n",
       " Row(_c0='954', text='blackhole dns servers los agujeros negros de internet  hackplayers  scoopit   zswin ', label='1'),\n",
       " Row(_c0='955', text='everything you need to know about the canadian economy  solid banks formthe foundation of every stable econom  opyowyy ', label='1'),\n",
       " Row(_c0='956', text='malware attacks on hospitals are rising fast malware attacks on hospitals are rising fast advertise on  fbpqtmdg   infosec', label='1'),\n",
       " Row(_c0='957', text='appreciate your recent retweets deividrobbles  exdirectory brainchatbot  have a great wednesday ', label='1'),\n",
       " Row(_c0='958', text='getting computer infections more often youre not alone computer malware infections are dramatically incre  dkjhzj ', label='1'),\n",
       " Row(_c0='959', text='symantec vip access dll preloading  vsry ', label='1'),\n",
       " Row(_c0='960', text='fdrss re onapsis security advisory onapsis sap trex remote command execution posted by onapsis  cnblo ', label='1'),\n",
       " Row(_c0='961', text='      musthave certifications for support professionals  prjkj ', label='1'),\n",
       " Row(_c0='962', text='nomoreransomtwo free decrypters available for wildfire ransomware  newstwofree decryptersavailableforwildfireransomwareshtml  ', label='1'),\n",
       " Row(_c0='963', text='channelbiz kaspersky lab appoints exertis as uk vad  iedfed   security', label='1'),\n",
       " Row(_c0='964', text=' cybersecurity  hacker  revolution  the power of the people is greater than the people in power a memoir   ghla  ', label='1'),\n",
       " Row(_c0='965', text='rt martinralbrecht  statement from the international association for cryptologic research iacr on immigration ban   iacrorgmiscusimmigr ationbanhtml  ', label='1'),\n",
       " Row(_c0='966', text='embedlyruby   ixig ', label='1'),\n",
       " Row(_c0='967', text='spyware in custody battles experts criticise covert use of children to  dailytelegraph  fbtnwb ', label='1'),\n",
       " Row(_c0='968', text='     spyware disguised as system update survived on play store for almost three years  nxj ', label='1'),\n",
       " Row(_c0='969', text=' xabaddea  neither do most people in thailand theres no reason to stop serving breakfast when people wake up at pm', label='1'),\n",
       " Row(_c0='970', text='forbes passwords leak   kaspersky lab official blog   forbespasswor dsleak  ', label='1'),\n",
       " Row(_c0='971', text='  aqydww  miracle', label='1'),\n",
       " Row(_c0='972', text='webroot  the opm data breach was probably inevitable  qtqjx ', label='1'),\n",
       " Row(_c0='973', text='digital forensics part  recovering deleted files dfir  digitalforensics  cybersecurity  infosec  ndxtwx  ', label='1'),\n",
       " Row(_c0='974', text='estoy pa pegarme un tiroes todo postureo ', label='1'),\n",
       " Row(_c0='975', text=' sidfm id hp openview storage data protector  cell manager  ', label='1'),\n",
       " Row(_c0='976', text='iii us house panel unveils bill to fund usmexico border wall   cybersecurity    iiicoukalliancenews ushousepanelunveilsbilltofundusmexicoborderwall   ', label='1'),\n",
       " Row(_c0='977', text='malicious acts against or within the chemical industrial sector pos  fjeaw   hacker  cybersecurity ', label='1'),\n",
       " Row(_c0='978', text='security incident information  augusta universit  augustaedunotice ', label='1'),\n",
       " Row(_c0='979', text='     russian hacking group fancy bear may have spied on germanys government  qjjpf ', label='1'),\n",
       " Row(_c0='980', text=' cybersecurity  hacker  growth hacking silicon valleys best kept secret   tpfnqw ', label='1'),\n",
       " Row(_c0='981', text='dczg    dpzvgx ', label='1'),\n",
       " Row(_c0='982', text='rt mcfaul  why this is a really bad decision we need to be doing more on cyber security policy  not less  gaougs  ', label='1'),\n",
       " Row(_c0='983', text='hdp in the cloud accelerates symantecs time to protection', label='1'),\n",
       " Row(_c0='984', text='vxers exploit intels active management for malwareoverlan  kondcyyc ', label='1'),\n",
       " Row(_c0='985', text='blogs the morning risk report iran sanctions to get more complex  risk compliance  wsj  iba   security', label='1'),\n",
       " Row(_c0='986', text='my little forum  file disclosure   issuewlb     cxsecurity', label='1'),\n",
       " Row(_c0='987', text='silk road us agent jailed over bitcoin theft   pnbl ', label='1'),\n",
       " Row(_c0='988', text='the myth of security enabling your business  organizations that do not invest even in baseline security are re  hpjrfpod ', label='1'),\n",
       " Row(_c0='989', text='amor verdadero ', label='1'),\n",
       " Row(_c0='990', text='people who accomplish great things work toward their objectives every day thezigziglar  success  leadership', label='1'),\n",
       " Row(_c0='991', text='macrumors hardened security features of iphone s successfully hacked in lapd murderinvestigation   iddd ', label='1'),\n",
       " Row(_c0='992', text=' sempersecurus  dont want to receive these mails just click our totally legit unsubscribe link', label='1'),\n",
       " Row(_c0='993', text='its a spectre container', label='1'),\n",
       " Row(_c0='994', text='ac optimus pad lc  ehgtnu   ac optimus pad lc', label='1'),\n",
       " Row(_c0='995', text='securityaffairs huge blow to the criminal underground in the dark web authorities shut down alphabay and hansa b  udseof ', label='1'),\n",
       " Row(_c0='996', text='indiana couple gets  in settlement over police officers excessive force an indianapolis couple who i  xrzg ', label='1'),\n",
       " Row(_c0='997', text='caltech kicks off anomalybased data  security  research program   infosecuritymagazinecomnewscaltecha nomalybaseddatasecurity    infosecmag', label='1'),\n",
       " Row(_c0='998', text='why the agreement between enisa and eurpol is strategic drdthx  securityaffairs  enisa  europol  cybercrime', label='1'),\n",
       " Row(_c0='999', text='like maybe nro didnt sign off on it because you cant photograph hacking from space ', label='1'),\n",
       " ...]"
      ]
     },
     "execution_count": 7,
     "metadata": {},
     "output_type": "execute_result"
    }
   ],
   "source": [
    "t1"
   ]
  },
  {
   "cell_type": "code",
   "execution_count": 8,
   "id": "6a346e3e",
   "metadata": {},
   "outputs": [],
   "source": [
    "t1 = spark.createDataFrame(t1)\n",
    "t2 = spark.createDataFrame(t2)\n",
    "t3 = spark.createDataFrame(t3)\n",
    "t4 = spark.createDataFrame(t4)\n",
    "\n",
    "t5 = spark.createDataFrame(t5)\n",
    "t6 = spark.createDataFrame(t6)\n",
    "t7 = spark.createDataFrame(t7)\n",
    "t8 = spark.createDataFrame(t8)"
   ]
  },
  {
   "cell_type": "code",
   "execution_count": 9,
   "id": "bb926aa4",
   "metadata": {},
   "outputs": [
    {
     "ename": "NameError",
     "evalue": "name 'test_df' is not defined",
     "output_type": "error",
     "traceback": [
      "\u001b[0;31m---------------------------------------------------------------------------\u001b[0m",
      "\u001b[0;31mNameError\u001b[0m                                 Traceback (most recent call last)",
      "\u001b[0;32m<ipython-input-9-5baefb561a34>\u001b[0m in \u001b[0;36m<module>\u001b[0;34m\u001b[0m\n\u001b[0;32m----> 1\u001b[0;31m \u001b[0mfirst_train\u001b[0m\u001b[0;34m=\u001b[0m\u001b[0mtest_df\u001b[0m\u001b[0;34m.\u001b[0m\u001b[0munion\u001b[0m\u001b[0;34m(\u001b[0m\u001b[0mt1\u001b[0m\u001b[0;34m)\u001b[0m\u001b[0;34m.\u001b[0m\u001b[0munion\u001b[0m\u001b[0;34m(\u001b[0m\u001b[0mt5\u001b[0m\u001b[0;34m)\u001b[0m \u001b[0;31m#word_counts_1 t1\u001b[0m\u001b[0;34m\u001b[0m\u001b[0;34m\u001b[0m\u001b[0m\n\u001b[0m\u001b[1;32m      2\u001b[0m \u001b[0mfirst_test\u001b[0m\u001b[0;34m=\u001b[0m\u001b[0mt2\u001b[0m\u001b[0;34m.\u001b[0m\u001b[0munion\u001b[0m\u001b[0;34m(\u001b[0m\u001b[0mt6\u001b[0m\u001b[0;34m)\u001b[0m\u001b[0;34m\u001b[0m\u001b[0;34m\u001b[0m\u001b[0m\n\u001b[1;32m      3\u001b[0m \u001b[0;31m# second_train=first_train.union(first_test) #word_counts_1 t1, t2\u001b[0m\u001b[0;34m\u001b[0m\u001b[0;34m\u001b[0m\u001b[0;34m\u001b[0m\u001b[0m\n\u001b[1;32m      4\u001b[0m \u001b[0;31m# second_test=t3.union(t7)\u001b[0m\u001b[0;34m\u001b[0m\u001b[0;34m\u001b[0m\u001b[0;34m\u001b[0m\u001b[0m\n\u001b[1;32m      5\u001b[0m \u001b[0;31m# third_train=second_train.union(second_test)\u001b[0m\u001b[0;34m\u001b[0m\u001b[0;34m\u001b[0m\u001b[0;34m\u001b[0m\u001b[0m\n",
      "\u001b[0;31mNameError\u001b[0m: name 'test_df' is not defined"
     ]
    }
   ],
   "source": [
    "first_train=test_df.union(t1).union(t5) #word_counts_1 t1\n",
    "first_test=t2.union(t6)\n",
    "# second_train=first_train.union(first_test) #word_counts_1 t1, t2\n",
    "# second_test=t3.union(t7)\n",
    "# third_train=second_train.union(second_test)\n",
    "# third_test=t4.union(t8)\n",
    "# fourth_train=third_train.union(third_test)\n",
    "# #fourth_test"
   ]
  },
  {
   "cell_type": "code",
   "execution_count": 11,
   "id": "58fd1887",
   "metadata": {},
   "outputs": [],
   "source": [
    "first_test = first_train.union(first_test)"
   ]
  },
  {
   "cell_type": "code",
   "execution_count": 11,
   "id": "9c29cec5",
   "metadata": {},
   "outputs": [],
   "source": [
    "a=t1.union(t2)\n",
    "b=t5.union(t6)\n",
    "second_train = a.union(b)"
   ]
  },
  {
   "cell_type": "code",
   "execution_count": 12,
   "id": "44f1cd96",
   "metadata": {},
   "outputs": [],
   "source": [
    "second_test=t3.union(t7)"
   ]
  },
  {
   "cell_type": "code",
   "execution_count": 46,
   "id": "314fd7e9",
   "metadata": {},
   "outputs": [],
   "source": [
    "second_test = second_train.union(second_test)"
   ]
  },
  {
   "cell_type": "code",
   "execution_count": 12,
   "id": "895affaa",
   "metadata": {},
   "outputs": [],
   "source": [
    "a=t1.union(t2).union(t3)\n",
    "b=t5.union(t6).union(t7)\n",
    "third_train = a.union(b)"
   ]
  },
  {
   "cell_type": "code",
   "execution_count": 45,
   "id": "a894b141",
   "metadata": {},
   "outputs": [],
   "source": [
    "third_test = t4.union(t8)\n",
    "third_test = third_train.union(third_test)"
   ]
  },
  {
   "cell_type": "code",
   "execution_count": 46,
   "id": "1c1332a9",
   "metadata": {
    "scrolled": true
   },
   "outputs": [
    {
     "data": {
      "text/plain": [
       "199512"
      ]
     },
     "execution_count": 46,
     "metadata": {},
     "output_type": "execute_result"
    }
   ],
   "source": [
    "third_test.count()"
   ]
  },
  {
   "cell_type": "code",
   "execution_count": 12,
   "id": "a76bd4ea",
   "metadata": {},
   "outputs": [],
   "source": [
    "a=test_df.union(t1).union(t2).union(t3).union(t4)\n",
    "b=t5.union(t6).union(t7).union(t8)\n",
    "fourth_train = a.union(b)"
   ]
  },
  {
   "cell_type": "code",
   "execution_count": 13,
   "id": "95fa6918",
   "metadata": {},
   "outputs": [
    {
     "data": {
      "text/plain": [
       "199515"
      ]
     },
     "execution_count": 13,
     "metadata": {},
     "output_type": "execute_result"
    }
   ],
   "source": [
    "fourth_train.count()"
   ]
  },
  {
   "cell_type": "code",
   "execution_count": 51,
   "id": "ef48b255",
   "metadata": {},
   "outputs": [],
   "source": [
    "t8 = t8.drop('_c0')"
   ]
  },
  {
   "cell_type": "code",
   "execution_count": 52,
   "id": "809e23db",
   "metadata": {},
   "outputs": [],
   "source": [
    "ee = qq.union(t8)"
   ]
  },
  {
   "cell_type": "code",
   "execution_count": 53,
   "id": "8d9c60b9",
   "metadata": {},
   "outputs": [
    {
     "name": "stdout",
     "output_type": "stream",
     "text": [
      "+-----+-----+\n",
      "|label|count|\n",
      "+-----+-----+\n",
      "|    1|24939|\n",
      "|    0|24939|\n",
      "+-----+-----+\n",
      "\n"
     ]
    }
   ],
   "source": [
    "ee.groupBy('label').count().orderBy('count').show()"
   ]
  },
  {
   "cell_type": "code",
   "execution_count": 56,
   "id": "e6945ded",
   "metadata": {},
   "outputs": [],
   "source": [
    "fourth_train = fourth_train.drop('_c0')"
   ]
  },
  {
   "cell_type": "code",
   "execution_count": 57,
   "id": "8530a5a6",
   "metadata": {},
   "outputs": [],
   "source": [
    "fourth_test=fourth_train.union(ee)"
   ]
  },
  {
   "cell_type": "code",
   "execution_count": 13,
   "id": "9dce69b8",
   "metadata": {},
   "outputs": [
    {
     "name": "stdout",
     "output_type": "stream",
     "text": [
      "+--------------------+-----+\n",
      "|                text|label|\n",
      "+--------------------+-----+\n",
      "|threatmeter hacke...|    1|\n",
      "|first android mal...|    1|\n",
      "|adobe fixes six c...|    1|\n",
      "| scienceporn  in ...|    1|\n",
      "|riskware hmoyfzb ...|    1|\n",
      "+--------------------+-----+\n",
      "only showing top 5 rows\n",
      "\n"
     ]
    }
   ],
   "source": [
    "second_train.show(5)"
   ]
  },
  {
   "cell_type": "code",
   "execution_count": 60,
   "id": "f447071c",
   "metadata": {},
   "outputs": [
    {
     "name": "stdout",
     "output_type": "stream",
     "text": [
      "+--------------------+-----+\n",
      "|                text|label|\n",
      "+--------------------+-----+\n",
      "|threatmeter hacke...|    1|\n",
      "|first android mal...|    1|\n",
      "|adobe fixes six c...|    1|\n",
      "| scienceporn  in ...|    1|\n",
      "|riskware hmoyfzb ...|    1|\n",
      "+--------------------+-----+\n",
      "only showing top 5 rows\n",
      "\n"
     ]
    }
   ],
   "source": [
    "first_train.show(5)"
   ]
  },
  {
   "cell_type": "code",
   "execution_count": 61,
   "id": "f77f65df",
   "metadata": {},
   "outputs": [
    {
     "name": "stdout",
     "output_type": "stream",
     "text": [
      "+--------------------+-----+\n",
      "|                text|label|\n",
      "+--------------------+-----+\n",
      "|threatmeter hacke...|    1|\n",
      "|first android mal...|    1|\n",
      "|adobe fixes six c...|    1|\n",
      "| scienceporn  in ...|    1|\n",
      "|riskware hmoyfzb ...|    1|\n",
      "+--------------------+-----+\n",
      "only showing top 5 rows\n",
      "\n"
     ]
    }
   ],
   "source": [
    "first_test.show(5)"
   ]
  },
  {
   "cell_type": "code",
   "execution_count": 16,
   "id": "f206a88f",
   "metadata": {
    "scrolled": true
   },
   "outputs": [
    {
     "name": "stdout",
     "output_type": "stream",
     "text": [
      "+-----+-----+\n",
      "|label|count|\n",
      "+-----+-----+\n",
      "|    0|99756|\n",
      "|    1|99756|\n",
      "+-----+-----+\n",
      "\n"
     ]
    }
   ],
   "source": [
    "fourth_train.groupBy('label').count().orderBy('count').show()"
   ]
  },
  {
   "cell_type": "code",
   "execution_count": 6,
   "id": "b58295ac",
   "metadata": {},
   "outputs": [
    {
     "ename": "NameError",
     "evalue": "name 'first_test' is not defined",
     "output_type": "error",
     "traceback": [
      "\u001b[0;31m---------------------------------------------------------------------------\u001b[0m",
      "\u001b[0;31mNameError\u001b[0m                                 Traceback (most recent call last)",
      "\u001b[0;32m<ipython-input-6-8851954f68eb>\u001b[0m in \u001b[0;36m<module>\u001b[0;34m\u001b[0m\n\u001b[0;32m----> 1\u001b[0;31m \u001b[0mfirst_test\u001b[0m\u001b[0;34m.\u001b[0m\u001b[0mgroupBy\u001b[0m\u001b[0;34m(\u001b[0m\u001b[0;34m'label'\u001b[0m\u001b[0;34m)\u001b[0m\u001b[0;34m.\u001b[0m\u001b[0mcount\u001b[0m\u001b[0;34m(\u001b[0m\u001b[0;34m)\u001b[0m\u001b[0;34m.\u001b[0m\u001b[0morderBy\u001b[0m\u001b[0;34m(\u001b[0m\u001b[0;34m'count'\u001b[0m\u001b[0;34m)\u001b[0m\u001b[0;34m.\u001b[0m\u001b[0mshow\u001b[0m\u001b[0;34m(\u001b[0m\u001b[0;34m)\u001b[0m\u001b[0;34m\u001b[0m\u001b[0;34m\u001b[0m\u001b[0m\n\u001b[0m",
      "\u001b[0;31mNameError\u001b[0m: name 'first_test' is not defined"
     ]
    }
   ],
   "source": [
    "first_test.groupBy('label').count().orderBy('count').show()"
   ]
  },
  {
   "cell_type": "code",
   "execution_count": 13,
   "id": "371e83cd",
   "metadata": {},
   "outputs": [],
   "source": [
    "with open('/root/word_counts1.json') as json_file:\n",
    "    json_data = json.load(json_file)\n",
    "\n",
    "word_counts_1 = {}\n",
    "for i in json_data:\n",
    "    word_counts_1.update({i[0]:i[1]})"
   ]
  },
  {
   "cell_type": "code",
   "execution_count": 14,
   "id": "4567d0d2",
   "metadata": {},
   "outputs": [
    {
     "data": {
      "text/plain": [
       "{'allow': 105727,\n",
       " 'attacker': 90501,\n",
       " 'via': 82323,\n",
       " 'vulnerability': 80391,\n",
       " 'remote': 78973,\n",
       " 'arbitrary': 52410,\n",
       " 'cve': 39210,\n",
       " 'user': 36471,\n",
       " 'execute': 33511,\n",
       " 'file': 32873,\n",
       " 'code': 30863,\n",
       " 'service': 29505,\n",
       " 'script': 28010,\n",
       " 'cause': 27498,\n",
       " 'parameter': 25566,\n",
       " 'server': 25181,\n",
       " 'denial': 24858,\n",
       " 'craft': 23383,\n",
       " 'version': 22915,\n",
       " 'web': 21729,\n",
       " 'access': 20831,\n",
       " 'earlier': 20587,\n",
       " 'vector': 20532,\n",
       " 'unspecified': 20528,\n",
       " 'information': 18209,\n",
       " 'windows': 17445,\n",
       " 'affect': 16799,\n",
       " 'aka': 15656,\n",
       " 'x': 15573,\n",
       " 'sql': 15292,\n",
       " 'privilege': 15242,\n",
       " 'local': 15007,\n",
       " 'could': 14985,\n",
       " 'command': 14982,\n",
       " 'oracle': 14765,\n",
       " 'application': 14611,\n",
       " 'attack': 14514,\n",
       " 'crosssite': 14312,\n",
       " 'memory': 14155,\n",
       " 'function': 14089,\n",
       " 'overflow': 13750,\n",
       " 'issue': 13572,\n",
       " 'request': 13418,\n",
       " 'use': 13171,\n",
       " 'buffer': 13046,\n",
       " 'data': 12762,\n",
       " 'html': 12548,\n",
       " 'obtain': 12177,\n",
       " 'inject': 11741,\n",
       " 'crash': 10967,\n",
       " 'multiple': 10759,\n",
       " 'system': 10717,\n",
       " 'authenticate': 10656,\n",
       " 'id': 10489,\n",
       " 'sp': 10488,\n",
       " 'injection': 10455,\n",
       " 'component': 10160,\n",
       " 'relate': 9408,\n",
       " 'android': 9269,\n",
       " 'sensitive': 9050,\n",
       " 'possibly': 8698,\n",
       " 'sd': 8696,\n",
       " 'impact': 8677,\n",
       " 'read': 8636,\n",
       " 'prior': 8371,\n",
       " 'directory': 8172,\n",
       " 'microsoft': 8112,\n",
       " 'properly': 7948,\n",
       " 'unknown': 7829,\n",
       " 'php': 7587,\n",
       " 'http': 7351,\n",
       " 'product': 7331,\n",
       " 'bypass': 7255,\n",
       " 'execution': 7197,\n",
       " 'exploit': 7113,\n",
       " 'result': 7098,\n",
       " 'note': 6958,\n",
       " 'different': 6953,\n",
       " 'network': 6937,\n",
       " 'corruption': 6918,\n",
       " 'ibm': 6809,\n",
       " 'url': 6793,\n",
       " 'cisco': 6722,\n",
       " 'successful': 6611,\n",
       " 'gain': 6580,\n",
       " 'exist': 6411,\n",
       " 'password': 6387,\n",
       " 'kernel': 6338,\n",
       " 'may': 6318,\n",
       " 'discover': 6163,\n",
       " 'device': 6159,\n",
       " 'certain': 6113,\n",
       " 'os': 5996,\n",
       " 'vrc': 5903,\n",
       " 'authentication': 5876,\n",
       " 'security': 5843,\n",
       " 'management': 5701,\n",
       " 'linux': 5580,\n",
       " 'software': 5506,\n",
       " 'cv': 5470,\n",
       " 'page': 5331,\n",
       " 'control': 5304,\n",
       " 'manager': 5303,\n",
       " 'message': 5235,\n",
       " 'adobe': 5196,\n",
       " 'java': 5181,\n",
       " 'malicious': 5113,\n",
       " 'using': 5106,\n",
       " 'trigger': 5074,\n",
       " 'certificate': 4976,\n",
       " 'module': 4928,\n",
       " 'contain': 4928,\n",
       " 'unauthorized': 4889,\n",
       " 'packet': 4780,\n",
       " 'due': 4619,\n",
       " 'lead': 4582,\n",
       " 'process': 4555,\n",
       " 'traversal': 4495,\n",
       " 'long': 4399,\n",
       " 'interface': 4395,\n",
       " 'devices': 4347,\n",
       " 'object': 4341,\n",
       " 'dot': 4306,\n",
       " 'enterprise': 4264,\n",
       " 'site': 4230,\n",
       " 'action': 4191,\n",
       " 'apple': 4115,\n",
       " 'bug': 4112,\n",
       " 'name': 4092,\n",
       " 'plugin': 4048,\n",
       " 'demonstrate': 4010,\n",
       " 'disclosure': 3994,\n",
       " 'confidentiality': 3967,\n",
       " 'integrity': 3963,\n",
       " 'unauthenticated': 3947,\n",
       " 'base': 3881,\n",
       " 'handle': 3851,\n",
       " 'exploitable': 3836,\n",
       " 'vulnerable': 3820,\n",
       " 'update': 3800,\n",
       " 'client': 3777,\n",
       " 'enable': 3720,\n",
       " 'error': 3719,\n",
       " 'internet': 3715,\n",
       " 'snapdragon': 3686,\n",
       " 'modify': 3680,\n",
       " 'support': 3656,\n",
       " 'input': 3644,\n",
       " 'firmware': 3616,\n",
       " 'address': 3613,\n",
       " 'value': 3557,\n",
       " 'path': 3549,\n",
       " 'check': 3510,\n",
       " 'permission': 3489,\n",
       " 'configuration': 3483,\n",
       " 'compromise': 3451,\n",
       " 'firefox': 3449,\n",
       " 'io': 3432,\n",
       " 'spoof': 3377,\n",
       " 'include': 3364,\n",
       " 'administrator': 3329,\n",
       " 'store': 3265,\n",
       " 'accessible': 3261,\n",
       " 'indexphp': 3253,\n",
       " 'require': 3252,\n",
       " 'root': 3149,\n",
       " 'integer': 3126,\n",
       " 'call': 3122,\n",
       " 'field': 3097,\n",
       " 'create': 3076,\n",
       " 'acrobat': 3071,\n",
       " 'reader': 3056,\n",
       " 'write': 3054,\n",
       " 'might': 3041,\n",
       " 'score': 3006,\n",
       " 'session': 2995,\n",
       " 'string': 2992,\n",
       " 'explorer': 2982,\n",
       " 'availability': 2943,\n",
       " 'upload': 2935,\n",
       " 'image': 2935,\n",
       " 'header': 2933,\n",
       " 'within': 2916,\n",
       " 'javascript': 2888,\n",
       " 'implementation': 2870,\n",
       " 'account': 2846,\n",
       " 'driver': 2833,\n",
       " 'potentially': 2812,\n",
       " 'delete': 2762,\n",
       " 'engine': 2761,\n",
       " 'validation': 2758,\n",
       " 'database': 2747,\n",
       " 'interaction': 2740,\n",
       " 'csrf': 2725,\n",
       " 'credentials': 2671,\n",
       " 'se': 2653,\n",
       " 'wordpress': 2633,\n",
       " 'maninthemiddle': 2604,\n",
       " 'series': 2604,\n",
       " 'conduct': 2602,\n",
       " 'pointer': 2595,\n",
       " 'heapbased': 2585,\n",
       " 'make': 2577,\n",
       " 'ssl': 2562,\n",
       " 'exploitation': 2562,\n",
       " 'details': 2560,\n",
       " 'mac': 2553,\n",
       " 'intend': 2552,\n",
       " 'open': 2550,\n",
       " 'involve': 2549,\n",
       " 'services': 2529,\n",
       " 'mysql': 2529,\n",
       " 'google': 2508,\n",
       " 'content': 2489,\n",
       " 'chrome': 2441,\n",
       " 'build': 2440,\n",
       " 'fix': 2439,\n",
       " 'mdm': 2438,\n",
       " 'release': 2426,\n",
       " 'party': 2424,\n",
       " 'context': 2422,\n",
       " 'argument': 2406,\n",
       " 'key': 2401,\n",
       " 'third': 2396,\n",
       " 'verify': 2394,\n",
       " 'suite': 2385,\n",
       " 'email': 2374,\n",
       " 'log': 2373,\n",
       " 'stackbased': 2372,\n",
       " 'outofbounds': 2357,\n",
       " 'library': 2353,\n",
       " 'perform': 2337,\n",
       " 'restriction': 2334,\n",
       " 'search': 2330,\n",
       " 'easily': 2325,\n",
       " 'document': 2323,\n",
       " 'null': 2323,\n",
       " 'extension': 2307,\n",
       " 'protocol': 2271,\n",
       " 'method': 2264,\n",
       " 'feature': 2253,\n",
       " 'functionality': 2245,\n",
       " 'office': 2202,\n",
       " 'large': 2200,\n",
       " 'default': 2180,\n",
       " 'invalid': 2177,\n",
       " 'port': 2171,\n",
       " 'inclusion': 2159,\n",
       " 'app': 2147,\n",
       " 'condition': 2125,\n",
       " 'malformed': 2122,\n",
       " 'player': 2119,\n",
       " 'type': 2116,\n",
       " 'validate': 2111,\n",
       " 'gold': 2090,\n",
       " 'xml': 2087,\n",
       " 'set': 2080,\n",
       " 'need': 2076,\n",
       " 'dos': 2073,\n",
       " 'additional': 2063,\n",
       " 'running': 2061,\n",
       " 'change': 2060,\n",
       " 'forgery': 2059,\n",
       " 'variable': 2032,\n",
       " 'without': 2029,\n",
       " 'protection': 2025,\n",
       " 'subcomponent': 2008,\n",
       " 'leveraging': 1994,\n",
       " 'program': 1991,\n",
       " 'consumption': 1985,\n",
       " 'host': 1983,\n",
       " 'sdm': 1980,\n",
       " 'possible': 1976,\n",
       " 'sending': 1973,\n",
       " 'character': 1970,\n",
       " 'specially': 1959,\n",
       " 'api': 1935,\n",
       " 'improper': 1926,\n",
       " 'list': 1921,\n",
       " 'dereference': 1920,\n",
       " 'elevation': 1909,\n",
       " 'leading': 1909,\n",
       " 'connection': 1902,\n",
       " 'format': 1899,\n",
       " 'cm': 1892,\n",
       " 'incorrect': 1891,\n",
       " 'easy': 1883,\n",
       " 'setting': 1872,\n",
       " 'platform': 1853,\n",
       " 'direct': 1848,\n",
       " 'resource': 1846,\n",
       " 'send': 1837,\n",
       " 'overwrite': 1835,\n",
       " 'embed': 1824,\n",
       " 'insufficient': 1811,\n",
       " 'installation': 1802,\n",
       " 'sequence': 1792,\n",
       " 'msm': 1783,\n",
       " 'cookie': 1778,\n",
       " 'mobile': 1778,\n",
       " 'useafterfree': 1776,\n",
       " 'handling': 1770,\n",
       " 'admin': 1737,\n",
       " 'free': 1736,\n",
       " 'login': 1736,\n",
       " 'restrict': 1720,\n",
       " 'response': 1717,\n",
       " 'number': 1716,\n",
       " 'username': 1714,\n",
       " 'browser': 1696,\n",
       " 'apache': 1692,\n",
       " 'ip': 1685,\n",
       " 'mozilla': 1677,\n",
       " 'hijack': 1671,\n",
       " 'insert': 1662,\n",
       " 'shell': 1642,\n",
       " 'uri': 1627,\n",
       " 'leak': 1623,\n",
       " 'specific': 1621,\n",
       " 'daemon': 1608,\n",
       " 'xforce': 1606,\n",
       " 'peoplesoft': 1595,\n",
       " 'tcp': 1586,\n",
       " 'target': 1581,\n",
       " 'lack': 1577,\n",
       " 'edition': 1568,\n",
       " 'administrative': 1558,\n",
       " 'values': 1549,\n",
       " 'view': 1548,\n",
       " 'processing': 1545,\n",
       " 'flaw': 1545,\n",
       " 'download': 1543,\n",
       " 'appliance': 1525,\n",
       " 'unique': 1522,\n",
       " 'length': 1521,\n",
       " 'air': 1498,\n",
       " 'complete': 1491,\n",
       " 'mode': 1489,\n",
       " 'guest': 1488,\n",
       " 'flash': 1488,\n",
       " 'occur': 1485,\n",
       " 'webkit': 1484,\n",
       " 'outside': 1478,\n",
       " 'token': 1466,\n",
       " 'current': 1465,\n",
       " 'domain': 1463,\n",
       " 'framework': 1453,\n",
       " 'untrusted': 1444,\n",
       " 'solaris': 1404,\n",
       " 'cpu': 1396,\n",
       " 'patch': 1394,\n",
       " 'filename': 1390,\n",
       " 'redirect': 1377,\n",
       " 'query': 1375,\n",
       " 'operations': 1373,\n",
       " 'package': 1363,\n",
       " 'filter': 1355,\n",
       " 'option': 1354,\n",
       " 'environment': 1349,\n",
       " 'configure': 1345,\n",
       " 'provide': 1343,\n",
       " 'internal': 1335,\n",
       " 'reference': 1334,\n",
       " 'link': 1320,\n",
       " 'critical': 1315,\n",
       " 'router': 1315,\n",
       " 'leverage': 1315,\n",
       " 'parse': 1314,\n",
       " 'center': 1309,\n",
       " 'sdk': 1305,\n",
       " 'connect': 1301,\n",
       " 'form': 1298,\n",
       " 'run': 1293,\n",
       " 'source': 1291,\n",
       " 'escalation': 1290,\n",
       " 'bounds': 1290,\n",
       " 'add': 1286,\n",
       " 'hp': 1285,\n",
       " 'core': 1284,\n",
       " 'policy': 1283,\n",
       " 'controller': 1275,\n",
       " 'sun': 1275,\n",
       " 'heap': 1271,\n",
       " 'safari': 1251,\n",
       " 'medium': 1249,\n",
       " 'vrcspc': 1246,\n",
       " 'reading': 1245,\n",
       " 'well': 1238,\n",
       " 'rc': 1234,\n",
       " 'found': 1232,\n",
       " 'portal': 1230,\n",
       " 'size': 1230,\n",
       " 'thunderbird': 1225,\n",
       " 'mishandle': 1224,\n",
       " 'ability': 1224,\n",
       " 'get': 1223,\n",
       " 'mechanism': 1211,\n",
       " 'ftp': 1205,\n",
       " 'traffic': 1203,\n",
       " 'beta': 1191,\n",
       " 'stack': 1189,\n",
       " 'new': 1188,\n",
       " 'r': 1185,\n",
       " 'hang': 1179,\n",
       " 'technology': 1161,\n",
       " 'trust': 1160,\n",
       " 'secure': 1159,\n",
       " 'jenkins': 1152,\n",
       " 'vm': 1151,\n",
       " 'attribute': 1146,\n",
       " 'ui': 1143,\n",
       " 'post': 1142,\n",
       " 'switch': 1138,\n",
       " 'external': 1138,\n",
       " 'console': 1135,\n",
       " 'way': 1133,\n",
       " 'improperly': 1129,\n",
       " 'able': 1125,\n",
       " 'drupal': 1122,\n",
       " 'entity': 1107,\n",
       " 'report': 1106,\n",
       " 'one': 1105,\n",
       " 'activex': 1105,\n",
       " 'display': 1105,\n",
       " 'symlink': 1104,\n",
       " 'virtual': 1100,\n",
       " 'human': 1098,\n",
       " 'tag': 1097,\n",
       " 'userassisted': 1097,\n",
       " 'would': 1086,\n",
       " 'qualcomm': 1086,\n",
       " 'edge': 1085,\n",
       " 'pro': 1083,\n",
       " 'joomla': 1083,\n",
       " 'loop': 1081,\n",
       " 'operate': 1080,\n",
       " 'provenance': 1080,\n",
       " 'sap': 1077,\n",
       " 'high': 1073,\n",
       " 'fail': 1050,\n",
       " 'pdf': 1046,\n",
       " 'victim': 1041,\n",
       " 'significantly': 1034,\n",
       " 'rt': 1031,\n",
       " 'low': 1031,\n",
       " 'tool': 1030,\n",
       " 'person': 1026,\n",
       " 'cf': 1026,\n",
       " 'valid': 1025,\n",
       " 'smart': 1020,\n",
       " 'line': 1019,\n",
       " 'must': 1019,\n",
       " 'esr': 1019,\n",
       " 'location': 1017,\n",
       " 'miss': 1013,\n",
       " 'contract': 1005,\n",
       " 'contextdependent': 1004,\n",
       " 'gateway': 1000,\n",
       " 'advance': 997,\n",
       " 'group': 995,\n",
       " 'element': 989,\n",
       " 'excel': 987,\n",
       " 'specify': 987,\n",
       " 'level': 985,\n",
       " 'virtualbox': 981,\n",
       " 'fields': 979,\n",
       " 'temporary': 971,\n",
       " 'xd': 966,\n",
       " 'xp': 959,\n",
       " 'pass': 955,\n",
       " 'solely': 954,\n",
       " 'text': 950,\n",
       " 'identify': 942,\n",
       " 'property': 937,\n",
       " 'iot': 937,\n",
       " 'mail': 936,\n",
       " 'agent': 936,\n",
       " 'overread': 934,\n",
       " 'array': 930,\n",
       " 'event': 929,\n",
       " 'dns': 925,\n",
       " 'attempt': 925,\n",
       " 'db': 925,\n",
       " 'business': 918,\n",
       " 'antivirus': 915,\n",
       " 'private': 913,\n",
       " 'time': 911,\n",
       " 'binary': 907,\n",
       " 'also': 905,\n",
       " 'table': 896,\n",
       " 'macos': 896,\n",
       " 'cache': 890,\n",
       " 'endpoint': 889,\n",
       " 'know': 886,\n",
       " 'nexus': 886,\n",
       " 'infinite': 886,\n",
       " 'node': 884,\n",
       " 'another': 882,\n",
       " 'class': 880,\n",
       " 'project': 877,\n",
       " 'fusion': 877,\n",
       " 'full': 875,\n",
       " 'vista': 873,\n",
       " 'first': 870,\n",
       " 'block': 869,\n",
       " 'infrastructure': 869,\n",
       " 'race': 866,\n",
       " 'samsung': 860,\n",
       " 'load': 858,\n",
       " 'word': 852,\n",
       " 'parser': 851,\n",
       " 'metacharacters': 851,\n",
       " 'vmware': 851,\n",
       " 'point': 850,\n",
       " 'reflect': 849,\n",
       " 'storage': 845,\n",
       " 'failure': 844,\n",
       " 'receive': 839,\n",
       " 'ebusiness': 839,\n",
       " 'xx': 832,\n",
       " 'phone': 832,\n",
       " 'return': 830,\n",
       " 'dc': 829,\n",
       " 'subset': 825,\n",
       " 'state': 823,\n",
       " 'comment': 822,\n",
       " 'partial': 821,\n",
       " 'hospitality': 818,\n",
       " 'unify': 816,\n",
       " 'generate': 812,\n",
       " 'dll': 810,\n",
       " 'trojan': 805,\n",
       " 'authorization': 804,\n",
       " 'cleartext': 802,\n",
       " 'reload': 796,\n",
       " 'bit': 795,\n",
       " 'webbased': 794,\n",
       " 'horse': 794,\n",
       " 'prevent': 793,\n",
       " 'wireless': 786,\n",
       " 'later': 784,\n",
       " 'insecure': 784,\n",
       " 'middleware': 783,\n",
       " 'websphere': 783,\n",
       " 'firewall': 780,\n",
       " 'names': 777,\n",
       " 'red': 775,\n",
       " 'desktop': 773,\n",
       " 'contents': 773,\n",
       " 'video': 771,\n",
       " 'itunes': 769,\n",
       " 'fp': 768,\n",
       " 'sent': 767,\n",
       " 'disabled': 763,\n",
       " 'entry': 763,\n",
       " 'tvos': 762,\n",
       " 'structure': 757,\n",
       " 'proxy': 756,\n",
       " 'operation': 755,\n",
       " 'hat': 751,\n",
       " 'runtime': 747,\n",
       " 'backup': 745,\n",
       " 'symantec': 745,\n",
       " 'pack': 741,\n",
       " 'signature': 741,\n",
       " 'sm': 740,\n",
       " 'share': 737,\n",
       " 'record': 732,\n",
       " 'zdican': 731,\n",
       " 'executable': 726,\n",
       " 'hash': 726,\n",
       " 'peopletools': 725,\n",
       " 'visit': 723,\n",
       " 'appear': 722,\n",
       " 'administration': 721,\n",
       " 'place': 719,\n",
       " 'handler': 717,\n",
       " 'title': 717,\n",
       " 'frame': 716,\n",
       " 'folder': 706,\n",
       " 'associate': 703,\n",
       " 'seamonkey': 701,\n",
       " 'encryption': 698,\n",
       " 'usersupplied': 695,\n",
       " 'thus': 694,\n",
       " 'filesystem': 690,\n",
       " 'archive': 687,\n",
       " 'simatic': 687,\n",
       " 'machine': 683,\n",
       " 'font': 683,\n",
       " 'byte': 681,\n",
       " 'subsystem': 679,\n",
       " 'huawei': 679,\n",
       " 'ioctl': 676,\n",
       " 'sharepoint': 674,\n",
       " 'incomplete': 674,\n",
       " 'ipv': 674,\n",
       " 'tibco': 674,\n",
       " 'cross': 672,\n",
       " 'emc': 672,\n",
       " 'viewer': 668,\n",
       " 'cloud': 668,\n",
       " 'profile': 666,\n",
       " 'weak': 665,\n",
       " 'reset': 664,\n",
       " 'panel': 664,\n",
       " 'ifix': 663,\n",
       " 'eg': 662,\n",
       " 'community': 661,\n",
       " 'order': 659,\n",
       " 'end': 658,\n",
       " 'determine': 652,\n",
       " 'pathname': 651,\n",
       " 'identity': 649,\n",
       " 'ssh': 648,\n",
       " 'case': 646,\n",
       " 'net': 644,\n",
       " 'banking': 640,\n",
       " 'formerly': 640,\n",
       " 'rate': 637,\n",
       " 'sdx': 633,\n",
       " 'start': 631,\n",
       " 'master': 629,\n",
       " 'camera': 627,\n",
       " 'caf': 627,\n",
       " 'weblogic': 626,\n",
       " 'foxit': 626,\n",
       " 'reveal': 625,\n",
       " 'creation': 622,\n",
       " 'expose': 618,\n",
       " 'applesa': 618,\n",
       " 'flexcube': 614,\n",
       " 'index': 613,\n",
       " 'install': 605,\n",
       " 'force': 605,\n",
       " 'graphics': 604,\n",
       " 'deployment': 604,\n",
       " 'jre': 604,\n",
       " 'consumer': 600,\n",
       " 'sessions': 599,\n",
       " 'protect': 596,\n",
       " 'forum': 595,\n",
       " 'xxe': 591,\n",
       " 'wireshark': 591,\n",
       " 'wifi': 589,\n",
       " 'financial': 586,\n",
       " 'hpe': 581,\n",
       " 'payload': 579,\n",
       " 'rational': 578,\n",
       " 'imagemagick': 577,\n",
       " 'proper': 574,\n",
       " 'capability': 574,\n",
       " 'gnu': 572,\n",
       " 'follow': 571,\n",
       " 'classic': 571,\n",
       " 'mp': 571,\n",
       " 'apq': 571,\n",
       " 'exchange': 569,\n",
       " 'juno': 569,\n",
       " 'attachment': 568,\n",
       " 'hardcoded': 567,\n",
       " 'trick': 566,\n",
       " 'instal': 562,\n",
       " 'escape': 561,\n",
       " 'restart': 560,\n",
       " 'implement': 559,\n",
       " 'foundation': 558,\n",
       " 'simple': 558,\n",
       " 'disclose': 554,\n",
       " 'encrypt': 553,\n",
       " 'website': 552,\n",
       " 'modification': 551,\n",
       " 'reboot': 550,\n",
       " 'communications': 550,\n",
       " 'tivoli': 550,\n",
       " 'improve': 548,\n",
       " 'initialize': 547,\n",
       " 'watchos': 547,\n",
       " 'even': 545,\n",
       " 'sandbox': 543,\n",
       " 'causing': 543,\n",
       " 'ldap': 541,\n",
       " 'screen': 541,\n",
       " 'stream': 541,\n",
       " 'sip': 541,\n",
       " 'origin': 540,\n",
       " 'template': 540,\n",
       " 'owner': 535,\n",
       " 'starting': 534,\n",
       " 'expression': 534,\n",
       " 'active': 532,\n",
       " 'hf': 530,\n",
       " 'udp': 527,\n",
       " 'dissector': 526,\n",
       " 'ethereum': 526,\n",
       " 'gallery': 525,\n",
       " 'juniper': 524,\n",
       " 'sanitize': 521,\n",
       " 'whether': 521,\n",
       " 'cli': 521,\n",
       " 'typo': 521,\n",
       " 'rsa': 520,\n",
       " 'apply': 518,\n",
       " 'snmp': 518,\n",
       " 'compiler': 518,\n",
       " 'edit': 517,\n",
       " 'common': 514,\n",
       " 'lock': 513,\n",
       " 'allocate': 513,\n",
       " 'apps': 512,\n",
       " 'copy': 512,\n",
       " 'conjunction': 507,\n",
       " 'disk': 504,\n",
       " 'standard': 503,\n",
       " 'uninitialized': 502,\n",
       " 'public': 502,\n",
       " 'double': 502,\n",
       " 'directly': 502,\n",
       " 'novell': 501,\n",
       " 'applet': 500,\n",
       " 'altering': 498,\n",
       " 'unrestricted': 498,\n",
       " 'space': 496,\n",
       " 'instance': 496,\n",
       " 'qcs': 496,\n",
       " 'consequently': 495,\n",
       " 'communication': 494,\n",
       " 'phishing': 494,\n",
       " 'allocation': 491,\n",
       " 'potential': 491,\n",
       " 'solution': 491,\n",
       " 'tl': 491,\n",
       " 'sda': 489,\n",
       " 'frequently': 488,\n",
       " 'performing': 487,\n",
       " 'available': 486,\n",
       " 'sandboxed': 486,\n",
       " 'connectivity': 485,\n",
       " 'express': 485,\n",
       " 'universal': 484,\n",
       " 'register': 483,\n",
       " 'repeatable': 478,\n",
       " 'micro': 478,\n",
       " 'asa': 478,\n",
       " 'vendor': 476,\n",
       " 'supply': 476,\n",
       " 'industrial': 472,\n",
       " 'vpn': 472,\n",
       " 'difficult': 471,\n",
       " 'zip': 471,\n",
       " 'encode': 468,\n",
       " 'logon': 468,\n",
       " 'logging': 467,\n",
       " 'cgi': 467,\n",
       " 'elements': 466,\n",
       " 'bigip': 466,\n",
       " 'strings': 464,\n",
       " 'webex': 464,\n",
       " 'utility': 463,\n",
       " 'fault': 463,\n",
       " 'automation': 461,\n",
       " 'hostname': 460,\n",
       " 'physically': 458,\n",
       " 'ar': 458,\n",
       " 'part': 457,\n",
       " 'socket': 457,\n",
       " 'test': 456,\n",
       " 'exception': 454,\n",
       " 'audio': 453,\n",
       " 'role': 453,\n",
       " 'debug': 453,\n",
       " 'export': 451,\n",
       " 'ca': 451,\n",
       " 'many': 451,\n",
       " 'proximate': 448,\n",
       " 'balance': 447,\n",
       " 'manage': 446,\n",
       " 'descriptor': 444,\n",
       " 'intel': 443,\n",
       " 'layer': 441,\n",
       " 'instead': 441,\n",
       " 'kit': 440,\n",
       " 'xe': 440,\n",
       " 'match': 439,\n",
       " 'crm': 438,\n",
       " 'probably': 438,\n",
       " 'workstation': 437,\n",
       " 'previous': 437,\n",
       " 'qemu': 436,\n",
       " 'clear': 436,\n",
       " 'working': 435,\n",
       " 'section': 434,\n",
       " 'dlink': 434,\n",
       " 'remove': 432,\n",
       " 'auto': 430,\n",
       " 'compute': 430,\n",
       " 'cs': 428,\n",
       " 'executing': 428,\n",
       " 'customer': 428,\n",
       " 'magento': 428,\n",
       " 'preinstalled': 425,\n",
       " 'physical': 423,\n",
       " 'intelligent': 423,\n",
       " 'icloud': 422,\n",
       " 'rule': 421,\n",
       " 'variant': 421,\n",
       " 'limit': 420,\n",
       " 'zero': 419,\n",
       " 'custom': 418,\n",
       " 'window': 418,\n",
       " 'home': 418,\n",
       " 'deletion': 417,\n",
       " 'segmentation': 416,\n",
       " 'contact': 415,\n",
       " 'detection': 415,\n",
       " 'editor': 415,\n",
       " 'registerglobals': 415,\n",
       " 'accept': 414,\n",
       " 'unix': 414,\n",
       " 'click': 414,\n",
       " 'sniff': 414,\n",
       " 'moodle': 412,\n",
       " 'professional': 412,\n",
       " 'underlie': 411,\n",
       " 'plaintext': 410,\n",
       " 'small': 410,\n",
       " 'knowledge': 410,\n",
       " 'digital': 410,\n",
       " 'panic': 409,\n",
       " 'incorrectly': 408,\n",
       " 'split': 408,\n",
       " 'netgear': 408,\n",
       " 'installer': 407,\n",
       " 'cpanel': 407,\n",
       " 'androidversions': 407,\n",
       " 'meeting': 406,\n",
       " 'gitlab': 405,\n",
       " 'opera': 404,\n",
       " 'xen': 402,\n",
       " 'realplayer': 402,\n",
       " 'enforce': 401,\n",
       " 'route': 401,\n",
       " 'monitor': 400,\n",
       " 'retrieve': 400,\n",
       " 'statement': 400,\n",
       " 'outage': 400,\n",
       " 'verification': 399,\n",
       " 'subject': 399,\n",
       " 'qrd': 399,\n",
       " 'msmw': 399,\n",
       " 'ruby': 398,\n",
       " 'denialofservice': 398,\n",
       " 'identifier': 398,\n",
       " 'rely': 395,\n",
       " 'adaptive': 395,\n",
       " 'container': 394,\n",
       " 'existence': 393,\n",
       " 'exposure': 393,\n",
       " 'loading': 392,\n",
       " 'minttoken': 392,\n",
       " 'mcafee': 390,\n",
       " 'publisher': 389,\n",
       " 'rpc': 388,\n",
       " 'language': 386,\n",
       " 'eos': 386,\n",
       " 'job': 385,\n",
       " 'cluster': 385,\n",
       " 'quicktime': 385,\n",
       " 'voice': 384,\n",
       " 'androidandroid': 383,\n",
       " 'sign': 382,\n",
       " 'distribute': 382,\n",
       " 'however': 380,\n",
       " 'studio': 380,\n",
       " 'flag': 379,\n",
       " 'sec': 379,\n",
       " 'elevated': 378,\n",
       " 'description': 378,\n",
       " 'circumstances': 377,\n",
       " 'channel': 377,\n",
       " 'regular': 377,\n",
       " 'transfer': 376,\n",
       " 'global': 376,\n",
       " 'example': 375,\n",
       " 'calendar': 374,\n",
       " 'magicquotesgpc': 374,\n",
       " 'assertion': 373,\n",
       " 'photo': 373,\n",
       " 'bluetooth': 371,\n",
       " 'board': 371,\n",
       " 'corrupt': 370,\n",
       " 'escalate': 370,\n",
       " 'telnet': 370,\n",
       " 'present': 369,\n",
       " 'disable': 369,\n",
       " 'capture': 369,\n",
       " 'claim': 368,\n",
       " 'analytics': 367,\n",
       " 'python': 367,\n",
       " 'repository': 367,\n",
       " 'continuous': 367,\n",
       " 'sve': 367,\n",
       " 'backend': 366,\n",
       " 'asset': 365,\n",
       " 'model': 364,\n",
       " 'depend': 364,\n",
       " 'static': 363,\n",
       " 'negative': 363,\n",
       " 'nvidia': 362,\n",
       " 'wink': 361,\n",
       " 'smb': 361,\n",
       " 'music': 361,\n",
       " 'conditions': 360,\n",
       " 'jpeg': 360,\n",
       " 'confusion': 359,\n",
       " 'unprivileged': 359,\n",
       " 'empty': 359,\n",
       " 'specifier': 359,\n",
       " 'manipulate': 358,\n",
       " 'zone': 357,\n",
       " 'upgrade': 357,\n",
       " 'launch': 356,\n",
       " 'srx': 356,\n",
       " 'aix': 356,\n",
       " 'freebsd': 355,\n",
       " 'usernames': 354,\n",
       " 'algorithm': 353,\n",
       " 'links': 353,\n",
       " 'news': 353,\n",
       " 'output': 352,\n",
       " 'save': 352,\n",
       " 'basic': 352,\n",
       " 'status': 351,\n",
       " 'reporting': 350,\n",
       " 'virtualization': 350,\n",
       " 'outbound': 350,\n",
       " 'plus': 349,\n",
       " 'generation': 349,\n",
       " 'amount': 348,\n",
       " 'exhaustion': 347,\n",
       " 'te': 347,\n",
       " 'searchphp': 347,\n",
       " 'style': 346,\n",
       " 'encoding': 346,\n",
       " 'pathinfo': 345,\n",
       " 'cr': 345,\n",
       " 'printer': 345,\n",
       " 'collaboration': 345,\n",
       " 'ffmpeg': 344,\n",
       " 'ex': 343,\n",
       " 'msmau': 343,\n",
       " 'various': 342,\n",
       " 'crlf': 342,\n",
       " 'takeover': 341,\n",
       " 'already': 341,\n",
       " 'establish': 340,\n",
       " 'integrate': 340,\n",
       " 'rev': 340,\n",
       " 'show': 339,\n",
       " 'siebel': 339,\n",
       " 'lotus': 339,\n",
       " 'intelr': 339,\n",
       " 'processor': 338,\n",
       " 'openssl': 338,\n",
       " 'usb': 337,\n",
       " 'decrypt': 337,\n",
       " 'nt': 336,\n",
       " 'plat': 336,\n",
       " 'help': 335,\n",
       " 'calling': 335,\n",
       " 'trend': 335,\n",
       " 'qca': 335,\n",
       " 'imc': 333,\n",
       " 'design': 332,\n",
       " 'rest': 331,\n",
       " 'ms': 331,\n",
       " 'development': 330,\n",
       " 'intelligence': 330,\n",
       " 'sxr': 330,\n",
       " 'setuid': 329,\n",
       " 'dhcp': 329,\n",
       " 'ticket': 329,\n",
       " 'servlet': 329,\n",
       " 'take': 327,\n",
       " 'online': 327,\n",
       " 'following': 327,\n",
       " 'suse': 326,\n",
       " 'similar': 324,\n",
       " 'chain': 324,\n",
       " 'firepower': 324,\n",
       " 'hide': 323,\n",
       " 'select': 323,\n",
       " 'since': 323,\n",
       " 'absolute': 323,\n",
       " 'retail': 323,\n",
       " 'drop': 322,\n",
       " 'extract': 321,\n",
       " 'special': 321,\n",
       " 'upon': 321,\n",
       " 'notification': 321,\n",
       " ...}"
      ]
     },
     "execution_count": 14,
     "metadata": {},
     "output_type": "execute_result"
    }
   ],
   "source": [
    "word_counts_1"
   ]
  },
  {
   "cell_type": "code",
   "execution_count": 15,
   "id": "fdc118a5",
   "metadata": {},
   "outputs": [],
   "source": [
    "word_counts_1 = sc.broadcast(word_counts_1)"
   ]
  },
  {
   "cell_type": "code",
   "execution_count": 16,
   "id": "d50690b4",
   "metadata": {},
   "outputs": [
    {
     "data": {
      "text/plain": [
       "{'like': 81920,\n",
       " 'im': 74424,\n",
       " 'get': 69810,\n",
       " 'dont': 56228,\n",
       " 'one': 53583,\n",
       " 'people': 51475,\n",
       " 'love': 49799,\n",
       " 'say': 47532,\n",
       " 'amp': 43535,\n",
       " 'make': 42948,\n",
       " 'know': 41443,\n",
       " 'go': 38824,\n",
       " 'see': 36548,\n",
       " 'want': 35744,\n",
       " 'good': 33602,\n",
       " 'time': 33174,\n",
       " 'need': 32592,\n",
       " 'rt': 30873,\n",
       " 'think': 27942,\n",
       " 'day': 27370,\n",
       " 'look': 27019,\n",
       " 'new': 26230,\n",
       " 'today': 25902,\n",
       " 'really': 25633,\n",
       " 'us': 25067,\n",
       " 'cant': 24346,\n",
       " 'never': 24085,\n",
       " 'follow': 23866,\n",
       " 'back': 23639,\n",
       " 'let': 23283,\n",
       " 'take': 22517,\n",
       " 'please': 22147,\n",
       " 'would': 21752,\n",
       " 'still': 21303,\n",
       " 'right': 20703,\n",
       " 'someone': 20625,\n",
       " 'happy': 20330,\n",
       " 'life': 20204,\n",
       " 'come': 20049,\n",
       " 'youre': 19980,\n",
       " 'tweet': 19948,\n",
       " 'much': 19676,\n",
       " 'trump': 19574,\n",
       " 'thank': 19534,\n",
       " 'best': 18467,\n",
       " 'first': 18292,\n",
       " 'thats': 18255,\n",
       " 'friend': 18089,\n",
       " 'give': 17781,\n",
       " 'girl': 17582,\n",
       " 'tell': 17505,\n",
       " 'may': 17339,\n",
       " 'even': 17303,\n",
       " 'way': 16962,\n",
       " 'video': 16777,\n",
       " 'yall': 16721,\n",
       " 'man': 16474,\n",
       " 'shit': 16438,\n",
       " 'going': 16289,\n",
       " 'try': 16191,\n",
       " 'everyone': 16037,\n",
       " 'black': 15763,\n",
       " 'ever': 15621,\n",
       " 'feel': 15581,\n",
       " 'every': 15440,\n",
       " 'guy': 15339,\n",
       " 'person': 15164,\n",
       " 'ill': 14990,\n",
       " 'well': 14648,\n",
       " 'call': 14609,\n",
       " 'ive': 14537,\n",
       " 'miss': 14402,\n",
       " 'fuck': 14312,\n",
       " 'show': 14253,\n",
       " 'watch': 14244,\n",
       " 'always': 14184,\n",
       " 'cummings': 14074,\n",
       " 'covid': 13510,\n",
       " 'big': 13460,\n",
       " 'god': 13406,\n",
       " 'keep': 13400,\n",
       " 'live': 13384,\n",
       " 'stop': 13299,\n",
       " 'year': 13126,\n",
       " 'realdonaldtrump': 13103,\n",
       " 'he': 13008,\n",
       " 'twitter': 12932,\n",
       " 'years': 12882,\n",
       " 'help': 12823,\n",
       " 'check': 12767,\n",
       " 'world': 12756,\n",
       " 'use': 12731,\n",
       " 'last': 12700,\n",
       " 'home': 12637,\n",
       " 'many': 12308,\n",
       " 'work': 12163,\n",
       " 'old': 12145,\n",
       " 'start': 12120,\n",
       " 'yes': 12064,\n",
       " 'could': 11930,\n",
       " 'better': 11907,\n",
       " 'great': 11739,\n",
       " 'didnt': 11485,\n",
       " 'something': 11427,\n",
       " 'thing': 11198,\n",
       " 'th': 11183,\n",
       " 'also': 11152,\n",
       " 'song': 11116,\n",
       " 'retweet': 11111,\n",
       " 'week': 11082,\n",
       " 'post': 11029,\n",
       " 'woman': 10944,\n",
       " 'hate': 10906,\n",
       " 'days': 10877,\n",
       " 'nigga': 10846,\n",
       " 'two': 10754,\n",
       " 'real': 10646,\n",
       " 'lol': 10600,\n",
       " 'baby': 10502,\n",
       " 'family': 10481,\n",
       " 'night': 10449,\n",
       " 'getting': 10439,\n",
       " 'hope': 10370,\n",
       " 'oh': 10282,\n",
       " 'thought': 10099,\n",
       " 'wanna': 10068,\n",
       " 'do': 9963,\n",
       " 'ask': 9958,\n",
       " 'fucking': 9921,\n",
       " 'play': 9920,\n",
       " 'lot': 9790,\n",
       " 'eid': 9745,\n",
       " 'morning': 9733,\n",
       " 'bitch': 9714,\n",
       " 'next': 9636,\n",
       " 'end': 9609,\n",
       " 'btstwt': 9592,\n",
       " 'boy': 9526,\n",
       " 'wait': 9433,\n",
       " 'things': 9424,\n",
       " 'gonna': 9318,\n",
       " 'biden': 9305,\n",
       " 'hard': 9305,\n",
       " 'since': 9122,\n",
       " 'doesnt': 9117,\n",
       " 'remember': 9106,\n",
       " 'music': 9048,\n",
       " 'cute': 9030,\n",
       " 'fan': 8941,\n",
       " 'little': 8932,\n",
       " 'bad': 8899,\n",
       " 'must': 8846,\n",
       " 'birthday': 8801,\n",
       " 'thanks': 8758,\n",
       " 'another': 8709,\n",
       " 'beautiful': 8675,\n",
       " 'president': 8656,\n",
       " 'story': 8619,\n",
       " 'stay': 8618,\n",
       " 'ass': 8598,\n",
       " 'top': 8596,\n",
       " 'support': 8568,\n",
       " 'anyone': 8543,\n",
       " 'free': 8478,\n",
       " 'ur': 8438,\n",
       " 'game': 8415,\n",
       " 'thread': 8408,\n",
       " 'aint': 8399,\n",
       " 'times': 8385,\n",
       " 'put': 8385,\n",
       " 'care': 8385,\n",
       " 'name': 8340,\n",
       " 'hear': 8319,\n",
       " 'long': 8278,\n",
       " 'everything': 8237,\n",
       " 'mean': 8233,\n",
       " 'government': 8183,\n",
       " 'talk': 8158,\n",
       " 'hours': 7984,\n",
       " 'isnt': 7970,\n",
       " 'joe': 7958,\n",
       " 'yoongi': 7958,\n",
       " 'making': 7933,\n",
       " 'saying': 7931,\n",
       " 'pm': 7902,\n",
       " 'without': 7885,\n",
       " 'state': 7866,\n",
       " 'month': 7779,\n",
       " 'face': 7774,\n",
       " 'lockdown': 7739,\n",
       " 'actually': 7654,\n",
       " 'mask': 7627,\n",
       " 'album': 7606,\n",
       " 'forget': 7591,\n",
       " 'wish': 7544,\n",
       " 'kid': 7523,\n",
       " 'sure': 7456,\n",
       " 'drop': 7441,\n",
       " 'literally': 7438,\n",
       " 'change': 7436,\n",
       " 'tomorrow': 7425,\n",
       " 'country': 7376,\n",
       " 'pretty': 7369,\n",
       " 'around': 7357,\n",
       " 'pandemic': 7299,\n",
       " 'looking': 7264,\n",
       " 'full': 7257,\n",
       " 'break': 7239,\n",
       " 'nothing': 7218,\n",
       " 'believe': 7188,\n",
       " 'find': 7184,\n",
       " 'white': 7174,\n",
       " 'die': 7130,\n",
       " 'part': 7050,\n",
       " 'open': 7049,\n",
       " 'theyre': 7046,\n",
       " 'house': 7043,\n",
       " 'okay': 7042,\n",
       " 'omg': 7002,\n",
       " 'trend': 7001,\n",
       " 'coronavirus': 6997,\n",
       " 'happen': 6996,\n",
       " 'already': 6949,\n",
       " 'vote': 6931,\n",
       " 'read': 6909,\n",
       " 'news': 6867,\n",
       " 'cat': 6866,\n",
       " 'away': 6842,\n",
       " 'sorry': 6814,\n",
       " 'million': 6805,\n",
       " 'youtube': 6805,\n",
       " 'comment': 6763,\n",
       " 'shes': 6733,\n",
       " 'nice': 6688,\n",
       " 'via': 6687,\n",
       " 'there': 6683,\n",
       " 'left': 6590,\n",
       " 'fact': 6573,\n",
       " 'cause': 6553,\n",
       " 'whole': 6529,\n",
       " 'found': 6497,\n",
       " 'dominic': 6467,\n",
       " 'pay': 6458,\n",
       " 'whats': 6452,\n",
       " 'bro': 6421,\n",
       " 'win': 6409,\n",
       " 'high': 6388,\n",
       " 'id': 6364,\n",
       " 'heart': 6339,\n",
       " 'update': 6329,\n",
       " 'point': 6304,\n",
       " 'true': 6269,\n",
       " 'buy': 6244,\n",
       " 'ago': 6232,\n",
       " 'mom': 6226,\n",
       " 'child': 6214,\n",
       " 'move': 6205,\n",
       " 'bts': 6191,\n",
       " 'different': 6182,\n",
       " 'men': 6180,\n",
       " 'hit': 6151,\n",
       " 'plan': 6137,\n",
       " 'together': 6137,\n",
       " 'american': 6133,\n",
       " 'funny': 6126,\n",
       " 'picture': 6089,\n",
       " 'understand': 6087,\n",
       " 'place': 6083,\n",
       " 'mind': 6060,\n",
       " 'rule': 6057,\n",
       " 'case': 6008,\n",
       " 'hair': 5982,\n",
       " 'account': 5961,\n",
       " 'party': 5949,\n",
       " 'ok': 5905,\n",
       " 'school': 5897,\n",
       " 'ready': 5897,\n",
       " 'http': 5890,\n",
       " 'join': 5885,\n",
       " 'wrong': 5879,\n",
       " 'giveaway': 5870,\n",
       " 'medium': 5869,\n",
       " 'pic': 5844,\n",
       " 'fun': 5832,\n",
       " 'anything': 5811,\n",
       " 'send': 5788,\n",
       " 'money': 5783,\n",
       " 'yeah': 5777,\n",
       " 'doja': 5765,\n",
       " 'watching': 5707,\n",
       " 'listen': 5696,\n",
       " 'lmao': 5669,\n",
       " 'working': 5653,\n",
       " 'thinking': 5632,\n",
       " 'close': 5607,\n",
       " 'death': 5585,\n",
       " 'hot': 5573,\n",
       " 'head': 5565,\n",
       " 'v': 5554,\n",
       " 'daechwita': 5535,\n",
       " 'imagine': 5525,\n",
       " 'amaze': 5509,\n",
       " 'photo': 5489,\n",
       " 'talking': 5460,\n",
       " 'matter': 5457,\n",
       " 'coming': 5443,\n",
       " 'favorite': 5421,\n",
       " 'question': 5391,\n",
       " 'tag': 5383,\n",
       " 'single': 5362,\n",
       " 'reason': 5361,\n",
       " 'enough': 5329,\n",
       " 'damn': 5327,\n",
       " 'stream': 5310,\n",
       " 'hey': 5307,\n",
       " 'turn': 5300,\n",
       " 'police': 5299,\n",
       " 'meet': 5298,\n",
       " 'social': 5293,\n",
       " 'car': 5285,\n",
       " 'job': 5281,\n",
       " 'become': 5272,\n",
       " 'army': 5237,\n",
       " 'share': 5225,\n",
       " 'china': 5217,\n",
       " 'second': 5195,\n",
       " 'agree': 5189,\n",
       " 'release': 5179,\n",
       " 'moment': 5179,\n",
       " 'weekend': 5130,\n",
       " 'bring': 5130,\n",
       " 'enjoy': 5117,\n",
       " 'order': 5090,\n",
       " 'parent': 5062,\n",
       " 'saw': 5056,\n",
       " 'mv': 5052,\n",
       " 'business': 5033,\n",
       " 'view': 4990,\n",
       " 'here': 4983,\n",
       " 'team': 4977,\n",
       " 'wont': 4969,\n",
       " 'sleep': 4959,\n",
       " 'reply': 4939,\n",
       " 'tonight': 4919,\n",
       " 'playing': 4904,\n",
       " 'excite': 4888,\n",
       " 'sad': 4886,\n",
       " 'dm': 4857,\n",
       " 'america': 4853,\n",
       " 'deserve': 4839,\n",
       " 'joebiden': 4804,\n",
       " 'yet': 4726,\n",
       " 'yo': 4708,\n",
       " 'write': 4706,\n",
       " 'wow': 4667,\n",
       " 'dear': 4659,\n",
       " 'dream': 4653,\n",
       " 'set': 4649,\n",
       " 'soon': 4623,\n",
       " 'breaking': 4615,\n",
       " 'king': 4601,\n",
       " 'hi': 4600,\n",
       " 'finally': 4599,\n",
       " 'pls': 4567,\n",
       " 'hell': 4565,\n",
       " 'brother': 4559,\n",
       " 'kill': 4558,\n",
       " 'india': 4558,\n",
       " 'seem': 4545,\n",
       " 'cut': 4540,\n",
       " 'followers': 4538,\n",
       " 'using': 4509,\n",
       " 'kind': 4509,\n",
       " 'group': 4465,\n",
       " 'lost': 4458,\n",
       " 'front': 4443,\n",
       " 'report': 4427,\n",
       " 'else': 4425,\n",
       " 'proud': 4412,\n",
       " 'add': 4388,\n",
       " 'maybe': 4382,\n",
       " 'following': 4376,\n",
       " 'might': 4374,\n",
       " 'movie': 4374,\n",
       " 'harry': 4371,\n",
       " 'fire': 4366,\n",
       " 'fight': 4364,\n",
       " 'retweets': 4359,\n",
       " 'stupid': 4356,\n",
       " 'automatically': 4355,\n",
       " 'muslim': 4319,\n",
       " 'celebrate': 4317,\n",
       " 'line': 4310,\n",
       " 'art': 4308,\n",
       " 'jungkook': 4283,\n",
       " 'future': 4278,\n",
       " 'hello': 4275,\n",
       " 'body': 4256,\n",
       " 'sound': 4253,\n",
       " 'important': 4253,\n",
       " 'allah': 4250,\n",
       " 'online': 4227,\n",
       " 'book': 4220,\n",
       " 'bc': 4214,\n",
       " 'power': 4191,\n",
       " 'eyes': 4185,\n",
       " 'suga': 4177,\n",
       " 'challenge': 4165,\n",
       " 'wasnt': 4159,\n",
       " 'public': 4154,\n",
       " 'mubarak': 4151,\n",
       " 'eat': 4139,\n",
       " 'wear': 4137,\n",
       " 'due': 4132,\n",
       " 'laugh': 4128,\n",
       " 'cool': 4125,\n",
       " 'problem': 4117,\n",
       " 'page': 4111,\n",
       " 'side': 4088,\n",
       " 'bless': 4078,\n",
       " 'baekhyun': 4077,\n",
       " 'phone': 4063,\n",
       " 'member': 4055,\n",
       " 'run': 4046,\n",
       " 'gotta': 4032,\n",
       " 'giving': 4027,\n",
       " 'hong': 4023,\n",
       " 'sir': 4020,\n",
       " 'health': 4012,\n",
       " 'minutes': 3999,\n",
       " 'wake': 3974,\n",
       " 'hold': 3966,\n",
       " 'feeling': 3961,\n",
       " 'choose': 3954,\n",
       " 'special': 3942,\n",
       " 'taking': 3936,\n",
       " 'behind': 3920,\n",
       " 'spend': 3914,\n",
       " 'message': 3914,\n",
       " 'wonder': 3909,\n",
       " 'daysforkicchotsava': 3906,\n",
       " 'project': 3905,\n",
       " 'lose': 3891,\n",
       " 'sign': 3888,\n",
       " 'artist': 3873,\n",
       " 'respect': 3858,\n",
       " 'fake': 3847,\n",
       " 'bit': 3843,\n",
       " 'app': 3824,\n",
       " 'fall': 3810,\n",
       " 'min': 3803,\n",
       " 'save': 3797,\n",
       " 'st': 3789,\n",
       " 'agustd': 3780,\n",
       " 'interest': 3765,\n",
       " 'sister': 3756,\n",
       " 'pass': 3747,\n",
       " 'lady': 3746,\n",
       " 'church': 3733,\n",
       " 'small': 3712,\n",
       " 'history': 3709,\n",
       " 'learn': 3708,\n",
       " 'hurt': 3695,\n",
       " 'fine': 3694,\n",
       " 'idk': 3667,\n",
       " 'racist': 3660,\n",
       " 'reach': 3640,\n",
       " 'mad': 3639,\n",
       " 'far': 3626,\n",
       " 'crazy': 3623,\n",
       " 'instead': 3622,\n",
       " 'season': 3621,\n",
       " 'rn': 3620,\n",
       " 'dead': 3613,\n",
       " 'le': 3612,\n",
       " 'sweet': 3609,\n",
       " 'seeing': 3599,\n",
       " 'number': 3593,\n",
       " 'yesterday': 3589,\n",
       " 'probably': 3586,\n",
       " 'food': 3583,\n",
       " 'test': 3577,\n",
       " 'leave': 3575,\n",
       " 'almost': 3571,\n",
       " 'young': 3569,\n",
       " 'safe': 3565,\n",
       " 'havent': 3558,\n",
       " 'catch': 3541,\n",
       " 'dog': 3535,\n",
       " 'wife': 3532,\n",
       " 'stand': 3526,\n",
       " 'twice': 3506,\n",
       " 'means': 3504,\n",
       " 'sex': 3503,\n",
       " 'force': 3500,\n",
       " 'happening': 3496,\n",
       " 'link': 3495,\n",
       " 'welcome': 3484,\n",
       " 'lie': 3482,\n",
       " 'film': 3476,\n",
       " 'waiting': 3472,\n",
       " 'alkhidrisallahkabir': 3471,\n",
       " 'democrat': 3468,\n",
       " 'words': 3464,\n",
       " 'wearing': 3463,\n",
       " 'allow': 3454,\n",
       " 'guess': 3454,\n",
       " 'official': 3452,\n",
       " 'idea': 3450,\n",
       " 'though': 3437,\n",
       " 'date': 3433,\n",
       " 'dad': 3432,\n",
       " 'kong': 3426,\n",
       " 'ig': 3422,\n",
       " 'ya': 3421,\n",
       " 'prepare': 3406,\n",
       " 'who': 3404,\n",
       " 'calling': 3398,\n",
       " 'rest': 3392,\n",
       " 'agust': 3389,\n",
       " 'law': 3388,\n",
       " 'scene': 3379,\n",
       " 'national': 3379,\n",
       " 'light': 3368,\n",
       " 'least': 3361,\n",
       " 'dick': 3356,\n",
       " 'realize': 3355,\n",
       " 'student': 3354,\n",
       " 'beach': 3330,\n",
       " 'absolutely': 3324,\n",
       " 'others': 3322,\n",
       " 'rain': 3321,\n",
       " 'dude': 3317,\n",
       " 'lt': 3300,\n",
       " 'trust': 3281,\n",
       " 'minister': 3271,\n",
       " 'hand': 3261,\n",
       " 'saturday': 3261,\n",
       " 'outside': 3258,\n",
       " 'crying': 3257,\n",
       " 'virus': 3255,\n",
       " 'cry': 3245,\n",
       " 'smile': 3245,\n",
       " 'quarantine': 3243,\n",
       " 'past': 3242,\n",
       " 'jimin': 3241,\n",
       " 'tho': 3237,\n",
       " 'issue': 3233,\n",
       " 'star': 3226,\n",
       " 'city': 3225,\n",
       " 'perfect': 3208,\n",
       " 'joke': 3204,\n",
       " 'strong': 3195,\n",
       " 'essential': 3192,\n",
       " 'nobody': 3186,\n",
       " 'ppl': 3174,\n",
       " 'late': 3167,\n",
       " 'word': 3166,\n",
       " 'cover': 3159,\n",
       " 'exactly': 3137,\n",
       " 'chance': 3137,\n",
       " 'daily': 3137,\n",
       " 'street': 3116,\n",
       " 'speak': 3115,\n",
       " 'cannot': 3091,\n",
       " 'create': 3085,\n",
       " 'mother': 3085,\n",
       " 'level': 3084,\n",
       " 'fast': 3080,\n",
       " 'act': 3070,\n",
       " 'instagram': 3070,\n",
       " 'mention': 3066,\n",
       " 'arent': 3065,\n",
       " 'stuff': 3061,\n",
       " 'water': 3057,\n",
       " 'entire': 3055,\n",
       " 'protect': 3045,\n",
       " 'list': 3040,\n",
       " 'character': 3039,\n",
       " 'answer': 3038,\n",
       " 'record': 3034,\n",
       " 'sunday': 3031,\n",
       " 'sometimes': 3030,\n",
       " 'style': 3010,\n",
       " 'golf': 3009,\n",
       " 'lil': 2993,\n",
       " 'forever': 2991,\n",
       " 'jisoo': 2978,\n",
       " 'kabir': 2974,\n",
       " 'dumb': 2964,\n",
       " 'explain': 2960,\n",
       " 'kiss': 2959,\n",
       " 'super': 2953,\n",
       " 'wtf': 2950,\n",
       " 'pray': 2944,\n",
       " 'version': 2943,\n",
       " 'alone': 2943,\n",
       " 'winner': 2935,\n",
       " 'continue': 2934,\n",
       " 'surprise': 2933,\n",
       " 'son': 2927,\n",
       " 'scare': 2916,\n",
       " 'truth': 2908,\n",
       " 'unfollowed': 2906,\n",
       " 'worker': 2904,\n",
       " 'chart': 2899,\n",
       " 'dance': 2898,\n",
       " 'cancel': 2895,\n",
       " 'nct': 2895,\n",
       " 'tire': 2876,\n",
       " 'finish': 2872,\n",
       " 'self': 2872,\n",
       " 'grow': 2872,\n",
       " 'sick': 2855,\n",
       " 'community': 2854,\n",
       " 'handle': 2849,\n",
       " 'episode': 2843,\n",
       " 'definitely': 2829,\n",
       " 'moon': 2827,\n",
       " 'govt': 2801,\n",
       " 'mine': 2800,\n",
       " 'congratulations': 2793,\n",
       " 'three': 2782,\n",
       " 'uk': 2778,\n",
       " 'nd': 2778,\n",
       " 'youve': 2777,\n",
       " 'action': 2776,\n",
       " 'voting': 2774,\n",
       " 'living': 2771,\n",
       " 'shut': 2767,\n",
       " 'either': 2767,\n",
       " 'red': 2762,\n",
       " 'beat': 2750,\n",
       " 'lord': 2747,\n",
       " 'voice': 2746,\n",
       " 'paper': 2743,\n",
       " 'mini': 2741,\n",
       " 'course': 2739,\n",
       " 'distance': 2733,\n",
       " 'relationship': 2733,\n",
       " 'final': 2732,\n",
       " 'gt': 2731,\n",
       " 'class': 2729,\n",
       " 'reminder': 2727,\n",
       " 'stan': 2727,\n",
       " 'sexy': 2723,\n",
       " 'ji': 2721,\n",
       " 'couldnt': 2699,\n",
       " 'june': 2698,\n",
       " 'claim': 2697,\n",
       " 'defend': 2693,\n",
       " 'press': 2691,\n",
       " 'delete': 2687,\n",
       " 'bill': 2686,\n",
       " 'treasure': 2686,\n",
       " 'half': 2670,\n",
       " 'type': 2662,\n",
       " 'nation': 2660,\n",
       " 'shot': 2652,\n",
       " 'within': 2651,\n",
       " 'tv': 2646,\n",
       " 'bed': 2640,\n",
       " 'room': 2640,\n",
       " 'war': 2640,\n",
       " 'receive': 2639,\n",
       " 'attack': 2634,\n",
       " 'code': 2631,\n",
       " 'brain': 2623,\n",
       " 'huge': 2616,\n",
       " 'piece': 2613,\n",
       " 'worst': 2604,\n",
       " 'tiktok': 2586,\n",
       " 'stick': 2582,\n",
       " 'park': 2580,\n",
       " 'reading': 2573,\n",
       " 'easy': 2570,\n",
       " 'drink': 2553,\n",
       " 'player': 2553,\n",
       " 'asking': 2550,\n",
       " 'prayer': 2548,\n",
       " 'enter': 2547,\n",
       " 'currently': 2544,\n",
       " 'decide': 2543,\n",
       " 'telling': 2538,\n",
       " 'worth': 2534,\n",
       " 'content': 2533,\n",
       " 'political': 2533,\n",
       " 'itunes': 2530,\n",
       " 'appreciate': 2523,\n",
       " 'weird': 2522,\n",
       " 'sent': 2520,\n",
       " 'pick': 2519,\n",
       " 'return': 2514,\n",
       " 'anymore': 2505,\n",
       " 'na': 2495,\n",
       " 'obama': 2490,\n",
       " 'energy': 2486,\n",
       " 'bruh': 2481,\n",
       " 'experience': 2480,\n",
       " 'able': 2479,\n",
       " 'throw': 2478,\n",
       " 'mood': 2476,\n",
       " 'block': 2472,\n",
       " 'governor': 2471,\n",
       " 'expect': 2470,\n",
       " 'punch': 2463,\n",
       " 'drive': 2462,\n",
       " 'donald': 2461,\n",
       " 'gay': 2458,\n",
       " 'treat': 2448,\n",
       " 'sell': 2446,\n",
       " 'later': 2445,\n",
       " 'walk': 2444,\n",
       " 'ps': 2438,\n",
       " 'worry': 2431,\n",
       " 'road': 2428,\n",
       " 'battle': 2425,\n",
       " 'couple': 2413,\n",
       " 'sense': 2411,\n",
       " 'drunk': 2408,\n",
       " 'clear': 2408,\n",
       " 'blood': 2407,\n",
       " 'complete': 2402,\n",
       " 'patient': 2399,\n",
       " 'fr': 2398,\n",
       " 'spotify': 2396,\n",
       " 'deep': 2395,\n",
       " 'security': 2395,\n",
       " 'announce': 2383,\n",
       " 'reopen': 2382,\n",
       " 'hour': 2378,\n",
       " 'raya': 2374,\n",
       " 'visit': 2370,\n",
       " 'age': 2367,\n",
       " 'honestly': 2364,\n",
       " 'straight': 2362,\n",
       " 'johnson': 2358,\n",
       " 'latest': 2356,\n",
       " 'human': 2354,\n",
       " 'summer': 2352,\n",
       " 'truly': 2352,\n",
       " 'suck': 2349,\n",
       " 'include': 2349,\n",
       " 'tl': 2347,\n",
       " 'boyfriend': 2344,\n",
       " 'sit': 2343,\n",
       " 'republican': 2342,\n",
       " 'brand': 2341,\n",
       " 'karen': 2332,\n",
       " 'control': 2329,\n",
       " 'exist': 2323,\n",
       " 'track': 2322,\n",
       " 'global': 2319,\n",
       " 'ignore': 2315,\n",
       " 'store': 2315,\n",
       " 'weve': 2305,\n",
       " 'goal': 2299,\n",
       " 'air': 2298,\n",
       " 'jin': 2297,\n",
       " 'everybody': 2291,\n",
       " 'york': 2289,\n",
       " 'dr': 2276,\n",
       " 'series': 2273,\n",
       " 'pull': 2266,\n",
       " 'short': 2261,\n",
       " 'queen': 2258,\n",
       " 'base': 2256,\n",
       " 'gain': 2235,\n",
       " 'club': 2232,\n",
       " 'alkhidr': 2232,\n",
       " 'awesome': 2228,\n",
       " 'felt': 2221,\n",
       " 'south': 2214,\n",
       " 'peace': 2208,\n",
       " 'animal': 2208,\n",
       " 'father': 2207,\n",
       " 'bet': 2205,\n",
       " 'worstbanneruvcreations': 2202,\n",
       " 'debut': 2201,\n",
       " 'mr': 2199,\n",
       " 'wipe': 2196,\n",
       " 'offer': 2195,\n",
       " 'remind': 2195,\n",
       " 'quick': 2190,\n",
       " 'blue': 2187,\n",
       " 'works': 2187,\n",
       " 'round': 2182,\n",
       " 'accept': 2179,\n",
       " 'blessing': 2178,\n",
       " 'rd': 2177,\n",
       " 'holy': 2163,\n",
       " 'random': 2163,\n",
       " 'running': 2160,\n",
       " 'possible': 2158,\n",
       " 'ygofficialblink': 2155,\n",
       " 'fighting': 2154,\n",
       " 'travel': 2152,\n",
       " 'kinda': 2147,\n",
       " 'inside': 2146,\n",
       " 'unite': 2145,\n",
       " 'whatever': 2143,\n",
       " 'hands': 2142,\n",
       " 'interview': 2137,\n",
       " 'construction': 2135,\n",
       " 'listening': 2130,\n",
       " 'onlyfans': 2129,\n",
       " 'soul': 2129,\n",
       " 'poor': 2127,\n",
       " 'spread': 2126,\n",
       " 'promise': 2122,\n",
       " 'available': 2122,\n",
       " 'durham': 2120,\n",
       " 'election': 2116,\n",
       " 'eidmubarak': 2113,\n",
       " 'judge': 2112,\n",
       " 'dark': 2112,\n",
       " 'active': 2111,\n",
       " 'ugly': 2107,\n",
       " 'female': 2101,\n",
       " 'memorial': 2095,\n",
       " 'ad': 2094,\n",
       " 'notice': 2090,\n",
       " 'indian': 2088,\n",
       " 'company': 2082,\n",
       " 'attention': 2081,\n",
       " 'yearforysrcpmassvictory': 2076,\n",
       " 'draw': 2075,\n",
       " 'campaign': 2075,\n",
       " 'situation': 2074,\n",
       " 'form': 2072,\n",
       " 'freedom': 2068,\n",
       " 'anime': 2063,\n",
       " 'streaming': 2058,\n",
       " 'sope': 2055,\n",
       " 'lana': 2049,\n",
       " 'mark': 2046,\n",
       " 'worship': 2043,\n",
       " 'consider': 2039,\n",
       " 'low': 2038,\n",
       " 'pop': 2036,\n",
       " 'wouldnt': 2029,\n",
       " 'given': 2028,\n",
       " 'deal': 2024,\n",
       " 'note': 2022,\n",
       " 'pussy': 2016,\n",
       " 'build': 2014,\n",
       " 'suppose': 2012,\n",
       " 'space': 2010,\n",
       " 'mf': 2010,\n",
       " 'mile': 2010,\n",
       " 'chinese': 2009,\n",
       " 'hasnt': 2009,\n",
       " 'college': 1999,\n",
       " 'serve': 1999,\n",
       " 'gift': 1998,\n",
       " 'foot': 1998,\n",
       " 'hobi': 1997,\n",
       " 'raise': 1995,\n",
       " 'match': 1990,\n",
       " 'till': 1990,\n",
       " 'taehyung': 1988,\n",
       " 'chat': 1987,\n",
       " 'glue': 1983,\n",
       " 'hospital': 1982,\n",
       " 'normal': 1981,\n",
       " 'tryna': 1978,\n",
       " 'positive': 1971,\n",
       " 'request': 1960,\n",
       " 'four': 1959,\n",
       " 'tax': 1958,\n",
       " 'flower': 1957,\n",
       " 'service': 1957,\n",
       " 'pain': 1956,\n",
       " 'along': 1956,\n",
       " 'simple': 1951,\n",
       " 'boss': 1949,\n",
       " 'event': 1948,\n",
       " 'thousand': 1946,\n",
       " 'doctor': 1944,\n",
       " 'haha': 1944,\n",
       " 'glad': 1943,\n",
       " 'born': 1934,\n",
       " 'somebody': 1932,\n",
       " 'daddy': 1929,\n",
       " 'solo': 1925,\n",
       " 'serious': 1924,\n",
       " 'fat': 1924,\n",
       " 'youll': 1923,\n",
       " 'tf': 1922,\n",
       " 'spot': 1922,\n",
       " 'vlive': 1921,\n",
       " 'ah': 1920,\n",
       " 'bag': 1920,\n",
       " 'knowing': 1919,\n",
       " 'husband': 1917,\n",
       " 'admit': 1916,\n",
       " 'kim': 1913,\n",
       " 'bother': 1913,\n",
       " 'tory': 1912,\n",
       " 'across': 1910,\n",
       " 'fail': 1907,\n",
       " 'wild': 1906,\n",
       " 'edit': 1906,\n",
       " 'quite': 1895,\n",
       " 'starting': 1892,\n",
       " 'txt': 1892,\n",
       " 'text': 1891,\n",
       " 'lovely': 1887,\n",
       " 'la': 1885,\n",
       " 'kpop': 1879,\n",
       " 'forward': 1876,\n",
       " 'eye': 1875,\n",
       " 'korean': 1874,\n",
       " 'skin': 1870,\n",
       " 'everyday': 1866,\n",
       " 'camera': 1865,\n",
       " 'choice': 1863,\n",
       " 'remove': 1862,\n",
       " 'corona': 1859,\n",
       " 'period': 1858,\n",
       " 'exo': 1856,\n",
       " 'early': 1851,\n",
       " 'figure': 1850,\n",
       " 'study': 1849,\n",
       " 'showing': 1846,\n",
       " 'destroy': 1846,\n",
       " 'cum': 1845,\n",
       " 'british': 1842,\n",
       " 'design': 1842,\n",
       " 'opinion': 1838,\n",
       " 'office': 1838,\n",
       " 'fit': 1836,\n",
       " 'london': 1836,\n",
       " 'shop': 1832,\n",
       " 'hero': 1828,\n",
       " 'step': 1825,\n",
       " 'al': 1818,\n",
       " 'af': 1812,\n",
       " 'nah': 1812,\n",
       " 'taste': 1808,\n",
       " 'middle': 1804,\n",
       " 'general': 1804,\n",
       " 'rather': 1801,\n",
       " 'massive': 1800,\n",
       " 'sale': 1797,\n",
       " 'leader': 1796,\n",
       " 'friday': 1796,\n",
       " 'arrest': 1793,\n",
       " 'trip': 1793,\n",
       " 'door': 1792,\n",
       " 'risk': 1788,\n",
       " 'article': 1787,\n",
       " 'swear': 1786,\n",
       " 'piersmorgan': 1785,\n",
       " 'ft': 1781,\n",
       " 'outfit': 1781,\n",
       " 'count': 1780,\n",
       " 'card': 1777,\n",
       " 'crisis': 1773,\n",
       " 'rich': 1773,\n",
       " 'idol': 1769,\n",
       " 'private': 1768,\n",
       " 'congrats': 1764,\n",
       " 'screaming': 1763,\n",
       " 'bout': 1761,\n",
       " 'delight': 1755,\n",
       " 'green': 1754,\n",
       " 'happiness': 1754,\n",
       " 'boris': 1754,\n",
       " 'secret': 1753,\n",
       " 'de': 1753,\n",
       " 'anniversary': 1750,\n",
       " 'eating': 1750,\n",
       " 'greatest': 1743,\n",
       " 'color': 1740,\n",
       " 'english': 1739,\n",
       " 'sending': 1738,\n",
       " 'touch': 1735,\n",
       " 'officer': 1733,\n",
       " 'bidens': 1728,\n",
       " 'lying': 1728,\n",
       " 'relate': 1727,\n",
       " 'nursing': 1727,\n",
       " 'court': 1727,\n",
       " 'stage': 1724,\n",
       " 'total': 1721,\n",
       " 'fear': 1716,\n",
       " 'near': 1716,\n",
       " 'wit': 1714,\n",
       " 'personal': 1714,\n",
       " 'alive': 1714,\n",
       " 'meme': 1712,\n",
       " 'netflix': 1706,\n",
       " 'seriously': 1706,\n",
       " 'price': 1705,\n",
       " 'putting': 1705,\n",
       " 'response': 1701,\n",
       " 'main': 1700,\n",
       " 'em': 1699,\n",
       " 'knowledge': 1699,\n",
       " ...}"
      ]
     },
     "execution_count": 16,
     "metadata": {},
     "output_type": "execute_result"
    }
   ],
   "source": [
    "with open('/root/word_counts2.json') as json_file:\n",
    "    json_data = json.load(json_file)\n",
    "\n",
    "word_counts_2 = {}\n",
    "for i in json_data:\n",
    "    word_counts_2.update({i[0]:i[1]})\n",
    "word_counts_2"
   ]
  },
  {
   "cell_type": "code",
   "execution_count": 17,
   "id": "e4683d66",
   "metadata": {},
   "outputs": [],
   "source": [
    "word_counts_2 = sc.broadcast(word_counts_2)"
   ]
  },
  {
   "cell_type": "code",
   "execution_count": 18,
   "id": "714297a6",
   "metadata": {},
   "outputs": [],
   "source": [
    "# get_tokens 함수과 같은 용도\n",
    "stage_1 = RegexTokenizer(inputCol= 'text', outputCol='pos_t', pattern= '\\\\W')"
   ]
  },
  {
   "cell_type": "code",
   "execution_count": 21,
   "id": "26428fe7",
   "metadata": {
    "scrolled": true
   },
   "outputs": [
    {
     "name": "stdout",
     "output_type": "stream",
     "text": [
      "+---+--------------------+-----+--------------------+\n",
      "|_c0|                text|label|               pos_t|\n",
      "+---+--------------------+-----+--------------------+\n",
      "|  0|threatmeter hacke...|    1|[threatmeter, hac...|\n",
      "|  1|first android mal...|    1|[first, android, ...|\n",
      "|  2|adobe fixes six c...|    1|[adobe, fixes, si...|\n",
      "|  3| scienceporn  in ...|    1|[scienceporn, in,...|\n",
      "|  4|riskware hmoyfzb ...|    1|[riskware, hmoyfz...|\n",
      "+---+--------------------+-----+--------------------+\n",
      "only showing top 5 rows\n",
      "\n"
     ]
    }
   ],
   "source": [
    "r1 = stage_1.transform(second_train)\n",
    "r1.show(5)"
   ]
  },
  {
   "cell_type": "code",
   "execution_count": 20,
   "id": "626af78e",
   "metadata": {},
   "outputs": [],
   "source": [
    "# r1.select('text','label').rdd.map(lambda x: x).reduceByKey(lambda a,b: b+a).toDF(['key','value'])"
   ]
  },
  {
   "cell_type": "code",
   "execution_count": 22,
   "id": "eee0fce7",
   "metadata": {},
   "outputs": [],
   "source": [
    "# get_lemma 함수와 같은 용도\n",
    "stage_2 = StopWordsRemover(inputCol= stage_1.getOutputCol(), outputCol= 'filtered_words')"
   ]
  },
  {
   "cell_type": "code",
   "execution_count": 23,
   "id": "e3e62d2b",
   "metadata": {},
   "outputs": [
    {
     "name": "stdout",
     "output_type": "stream",
     "text": [
      "+---+--------------------+-----+--------------------+--------------------+\n",
      "|_c0|                text|label|               pos_t|      filtered_words|\n",
      "+---+--------------------+-----+--------------------+--------------------+\n",
      "|  0|threatmeter hacke...|    1|[threatmeter, hac...|[threatmeter, hac...|\n",
      "|  1|first android mal...|    1|[first, android, ...|[first, android, ...|\n",
      "|  2|adobe fixes six c...|    1|[adobe, fixes, si...|[adobe, fixes, si...|\n",
      "|  3| scienceporn  in ...|    1|[scienceporn, in,...|[scienceporn, vac...|\n",
      "|  4|riskware hmoyfzb ...|    1|[riskware, hmoyfz...|[riskware, hmoyfz...|\n",
      "+---+--------------------+-----+--------------------+--------------------+\n",
      "only showing top 5 rows\n",
      "\n"
     ]
    }
   ],
   "source": [
    "r2 = stage_2.transform(r1)\n",
    "r2.show(5)"
   ]
  },
  {
   "cell_type": "code",
   "execution_count": 24,
   "id": "1e64b14a",
   "metadata": {
    "scrolled": true
   },
   "outputs": [
    {
     "name": "stdout",
     "output_type": "stream",
     "text": [
      "+---+--------------------------------------------------------------------------------------------------------------------+-----+-------------------------------------------------------------------------------------------------------------------------------------+---------------------------------------------------------------------------------------------------------------------+\n",
      "|_c0|text                                                                                                                |label|pos_t                                                                                                                                |filtered_words                                                                                                       |\n",
      "+---+--------------------------------------------------------------------------------------------------------------------+-----+-------------------------------------------------------------------------------------------------------------------------------------+---------------------------------------------------------------------------------------------------------------------+\n",
      "|0  |threatmeter hacked emails of san francisco muni rail system hacker reveals clues about identity and tactics kr  fin |1    |[threatmeter, hacked, emails, of, san, francisco, muni, rail, system, hacker, reveals, clues, about, identity, and, tactics, kr, fin]|[threatmeter, hacked, emails, san, francisco, muni, rail, system, hacker, reveals, clues, identity, tactics, kr, fin]|\n",
      "+---+--------------------------------------------------------------------------------------------------------------------+-----+-------------------------------------------------------------------------------------------------------------------------------------+---------------------------------------------------------------------------------------------------------------------+\n",
      "only showing top 1 row\n",
      "\n"
     ]
    }
   ],
   "source": [
    "r2.show(1, truncate=False)"
   ]
  },
  {
   "cell_type": "code",
   "execution_count": 25,
   "id": "091f8e63",
   "metadata": {},
   "outputs": [
    {
     "ename": "TypeError",
     "evalue": "len() takes exactly one argument (0 given)",
     "output_type": "error",
     "traceback": [
      "\u001b[0;31m---------------------------------------------------------------------------\u001b[0m",
      "\u001b[0;31mTypeError\u001b[0m                                 Traceback (most recent call last)",
      "\u001b[0;32m<ipython-input-25-adf3103c7c3e>\u001b[0m in \u001b[0;36m<module>\u001b[0;34m\u001b[0m\n\u001b[0;32m----> 1\u001b[0;31m \u001b[0mlen\u001b[0m\u001b[0;34m(\u001b[0m\u001b[0;34m)\u001b[0m\u001b[0;34m\u001b[0m\u001b[0;34m\u001b[0m\u001b[0m\n\u001b[0m",
      "\u001b[0;31mTypeError\u001b[0m: len() takes exactly one argument (0 given)"
     ]
    }
   ],
   "source": [
    "len()"
   ]
  },
  {
   "cell_type": "code",
   "execution_count": 26,
   "id": "47f9e474",
   "metadata": {},
   "outputs": [
    {
     "data": {
      "text/plain": [
       "652"
      ]
     },
     "execution_count": 26,
     "metadata": {},
     "output_type": "execute_result"
    }
   ],
   "source": [
    "r2.rdd.getNumPartitions()"
   ]
  },
  {
   "cell_type": "code",
   "execution_count": 27,
   "id": "aa514f02",
   "metadata": {},
   "outputs": [
    {
     "data": {
      "text/plain": [
       "99756"
      ]
     },
     "execution_count": 27,
     "metadata": {},
     "output_type": "execute_result"
    }
   ],
   "source": [
    "r2.count()"
   ]
  },
  {
   "cell_type": "code",
   "execution_count": 28,
   "id": "aaf448ea",
   "metadata": {},
   "outputs": [
    {
     "data": {
      "text/plain": [
       "DataFrame[_c0: string, text: string, label: string, pos_t: array<string>, filtered_words: array<string>]"
      ]
     },
     "execution_count": 28,
     "metadata": {},
     "output_type": "execute_result"
    }
   ],
   "source": [
    "r2"
   ]
  },
  {
   "cell_type": "code",
   "execution_count": 29,
   "id": "b0653480",
   "metadata": {},
   "outputs": [],
   "source": [
    "class BroadcastWrapper(object):\n",
    "    def __init__(self, data, token_list):\n",
    "        self.broadcast_var = sc.broadcast(data)\n",
    "#         self.last_updated_time = datetime.now()\n",
    "        self.token_list = token_list\n",
    "    \n",
    "#     def is_should_be_updated(self, data):\n",
    "#         cur_time = datetime.now()\n",
    "#         diff_sec = (cur_time - self.last_updated_time).total_seconds()\n",
    "#         return self.broadcast_var is None or diff_sec> 1\n",
    "    \n",
    "    def update_and_get_data(self, spark):\n",
    "        a = self.broadcast_var.value\n",
    "        self.broadcast_var.unpersist()\n",
    "        for i in self.token_list:\n",
    "            for j in i:\n",
    "                if j not in a.keys():\n",
    "                    a[j] = 1\n",
    "                else:\n",
    "                    a[j] += 1\n",
    "        new_data = a\n",
    "        self.broadcast_var = spark.broadcast(new_data)\n",
    "#         self.last_updated_time = datetime.now()\n",
    "#         return len(self.token_list)\n",
    "        return self.broadcast_var"
   ]
  },
  {
   "cell_type": "markdown",
   "id": "f0de1e44",
   "metadata": {},
   "source": [
    "# Train용"
   ]
  },
  {
   "cell_type": "code",
   "execution_count": 30,
   "id": "44755f16",
   "metadata": {},
   "outputs": [],
   "source": [
    "import numpy as np\n",
    "import pandas as pd\n",
    "from pyspark import SparkContext\n",
    "from pyspark.sql import SQLContext\n",
    "df = pd.DataFrame(np.array([\"a\",\"b\",\"c\",\"d\",\"e\"]), columns=['row1'])\n",
    "sparkdf = sqlContext.createDataFrame(df, samplingRatio=0.1)"
   ]
  },
  {
   "cell_type": "code",
   "execution_count": 31,
   "id": "2f7c8716",
   "metadata": {},
   "outputs": [
    {
     "name": "stdout",
     "output_type": "stream",
     "text": [
      "+----+\n",
      "|row1|\n",
      "+----+\n",
      "|   a|\n",
      "|   b|\n",
      "|   c|\n",
      "|   d|\n",
      "|   e|\n",
      "+----+\n",
      "\n"
     ]
    }
   ],
   "source": [
    "sparkdf.show(5)"
   ]
  },
  {
   "cell_type": "code",
   "execution_count": 32,
   "id": "50a5506e",
   "metadata": {},
   "outputs": [],
   "source": [
    "from pyspark.sql import Row\n",
    "from pyspark.sql import types   "
   ]
  },
  {
   "cell_type": "code",
   "execution_count": 48,
   "id": "24152613",
   "metadata": {},
   "outputs": [
    {
     "data": {
      "text/plain": [
       "5"
      ]
     },
     "execution_count": 48,
     "metadata": {},
     "output_type": "execute_result"
    }
   ],
   "source": [
    "n = sparkdf.rdd.getNumPartitions()\n",
    "n"
   ]
  },
  {
   "cell_type": "code",
   "execution_count": 122,
   "id": "6bbf6df4",
   "metadata": {},
   "outputs": [
    {
     "data": {
      "text/plain": [
       "[Row(row1='a'), Row(row1='b'), Row(row1='c'), Row(row1='d'), Row(row1='e')]"
      ]
     },
     "execution_count": 122,
     "metadata": {},
     "output_type": "execute_result"
    }
   ],
   "source": [
    "sparkdf.select('row1').rdd.collect()"
   ]
  },
  {
   "cell_type": "code",
   "execution_count": 123,
   "id": "37d665ee",
   "metadata": {},
   "outputs": [
    {
     "data": {
      "text/plain": [
       "list"
      ]
     },
     "execution_count": 123,
     "metadata": {},
     "output_type": "execute_result"
    }
   ],
   "source": [
    "type(sparkdf.rdd.collect())"
   ]
  },
  {
   "cell_type": "code",
   "execution_count": 138,
   "id": "c89b9c33",
   "metadata": {},
   "outputs": [],
   "source": [
    "old_array = [str(row['row1']) for row in sparkdf.select('row1').collect()]"
   ]
  },
  {
   "cell_type": "code",
   "execution_count": 139,
   "id": "512d84ec",
   "metadata": {},
   "outputs": [
    {
     "data": {
      "text/plain": [
       "['a', 'b', 'c', 'd', 'e']"
      ]
     },
     "execution_count": 139,
     "metadata": {},
     "output_type": "execute_result"
    }
   ],
   "source": [
    "old_array"
   ]
  },
  {
   "cell_type": "code",
   "execution_count": 46,
   "id": "f67fe285",
   "metadata": {},
   "outputs": [
    {
     "name": "stderr",
     "output_type": "stream",
     "text": [
      "/usr/local/lib/python3.6/dist-packages/ipykernel_launcher.py:2: VisibleDeprecationWarning: Creating an ndarray from ragged nested sequences (which is a list-or-tuple of lists-or-tuples-or ndarrays with different lengths or shapes) is deprecated. If you meant to do this, you must specify 'dtype=object' when creating the ndarray\n",
      "  \n"
     ]
    }
   ],
   "source": [
    "import numpy as np\n",
    "new_col = np.array([[1,2,3], [2,2,2], [3,3,3], [4,4,4], [5,4]])"
   ]
  },
  {
   "cell_type": "code",
   "execution_count": 49,
   "id": "ff457569",
   "metadata": {},
   "outputs": [],
   "source": [
    "new_col = sc.parallelize(new_col, n).map(int)"
   ]
  },
  {
   "cell_type": "code",
   "execution_count": 50,
   "id": "bcccbaa9",
   "metadata": {},
   "outputs": [
    {
     "data": {
      "text/plain": [
       "PythonRDD[174] at RDD at PythonRDD.scala:53"
      ]
     },
     "execution_count": 50,
     "metadata": {},
     "output_type": "execute_result"
    }
   ],
   "source": [
    "new_col"
   ]
  },
  {
   "cell_type": "code",
   "execution_count": 51,
   "id": "30d3055a",
   "metadata": {},
   "outputs": [
    {
     "ename": "Py4JJavaError",
     "evalue": "An error occurred while calling z:org.apache.spark.api.python.PythonRDD.collectAndServe.\n: org.apache.spark.SparkException: Job aborted due to stage failure: Task 4 in stage 22.0 failed 4 times, most recent failure: Lost task 4.3 in stage 22.0 (TID 3331, kafka1, executor 1): org.apache.spark.api.python.PythonException: Traceback (most recent call last):\n  File \"/root/spark/python/pyspark/worker.py\", line 377, in main\n    process()\n  File \"/root/spark/python/pyspark/worker.py\", line 372, in process\n    serializer.dump_stream(func(split_index, iterator), outfile)\n  File \"/root/spark/python/pyspark/serializers.py\", line 400, in dump_stream\n    vs = list(itertools.islice(iterator, batch))\n  File \"/root/spark/python/pyspark/util.py\", line 99, in wrapper\n    return f(*args, **kwargs)\nTypeError: int() argument must be a string, a bytes-like object or a number, not 'list'\n\n\tat org.apache.spark.api.python.BasePythonRunner$ReaderIterator.handlePythonException(PythonRunner.scala:456)\n\tat org.apache.spark.api.python.PythonRunner$$anon$1.read(PythonRunner.scala:592)\n\tat org.apache.spark.api.python.PythonRunner$$anon$1.read(PythonRunner.scala:575)\n\tat org.apache.spark.api.python.BasePythonRunner$ReaderIterator.hasNext(PythonRunner.scala:410)\n\tat org.apache.spark.InterruptibleIterator.hasNext(InterruptibleIterator.scala:37)\n\tat scala.collection.Iterator$class.foreach(Iterator.scala:891)\n\tat org.apache.spark.InterruptibleIterator.foreach(InterruptibleIterator.scala:28)\n\tat scala.collection.generic.Growable$class.$plus$plus$eq(Growable.scala:59)\n\tat scala.collection.mutable.ArrayBuffer.$plus$plus$eq(ArrayBuffer.scala:104)\n\tat scala.collection.mutable.ArrayBuffer.$plus$plus$eq(ArrayBuffer.scala:48)\n\tat scala.collection.TraversableOnce$class.to(TraversableOnce.scala:310)\n\tat org.apache.spark.InterruptibleIterator.to(InterruptibleIterator.scala:28)\n\tat scala.collection.TraversableOnce$class.toBuffer(TraversableOnce.scala:302)\n\tat org.apache.spark.InterruptibleIterator.toBuffer(InterruptibleIterator.scala:28)\n\tat scala.collection.TraversableOnce$class.toArray(TraversableOnce.scala:289)\n\tat org.apache.spark.InterruptibleIterator.toArray(InterruptibleIterator.scala:28)\n\tat org.apache.spark.rdd.RDD$$anonfun$collect$1$$anonfun$15.apply(RDD.scala:990)\n\tat org.apache.spark.rdd.RDD$$anonfun$collect$1$$anonfun$15.apply(RDD.scala:990)\n\tat org.apache.spark.SparkContext$$anonfun$runJob$5.apply(SparkContext.scala:2101)\n\tat org.apache.spark.SparkContext$$anonfun$runJob$5.apply(SparkContext.scala:2101)\n\tat org.apache.spark.scheduler.ResultTask.runTask(ResultTask.scala:90)\n\tat org.apache.spark.scheduler.Task.run(Task.scala:123)\n\tat org.apache.spark.executor.Executor$TaskRunner$$anonfun$10.apply(Executor.scala:408)\n\tat org.apache.spark.util.Utils$.tryWithSafeFinally(Utils.scala:1360)\n\tat org.apache.spark.executor.Executor$TaskRunner.run(Executor.scala:414)\n\tat java.util.concurrent.ThreadPoolExecutor.runWorker(ThreadPoolExecutor.java:1149)\n\tat java.util.concurrent.ThreadPoolExecutor$Worker.run(ThreadPoolExecutor.java:624)\n\tat java.lang.Thread.run(Thread.java:748)\n\nDriver stacktrace:\n\tat org.apache.spark.scheduler.DAGScheduler.org$apache$spark$scheduler$DAGScheduler$$failJobAndIndependentStages(DAGScheduler.scala:1925)\n\tat org.apache.spark.scheduler.DAGScheduler$$anonfun$abortStage$1.apply(DAGScheduler.scala:1913)\n\tat org.apache.spark.scheduler.DAGScheduler$$anonfun$abortStage$1.apply(DAGScheduler.scala:1912)\n\tat scala.collection.mutable.ResizableArray$class.foreach(ResizableArray.scala:59)\n\tat scala.collection.mutable.ArrayBuffer.foreach(ArrayBuffer.scala:48)\n\tat org.apache.spark.scheduler.DAGScheduler.abortStage(DAGScheduler.scala:1912)\n\tat org.apache.spark.scheduler.DAGScheduler$$anonfun$handleTaskSetFailed$1.apply(DAGScheduler.scala:948)\n\tat org.apache.spark.scheduler.DAGScheduler$$anonfun$handleTaskSetFailed$1.apply(DAGScheduler.scala:948)\n\tat scala.Option.foreach(Option.scala:257)\n\tat org.apache.spark.scheduler.DAGScheduler.handleTaskSetFailed(DAGScheduler.scala:948)\n\tat org.apache.spark.scheduler.DAGSchedulerEventProcessLoop.doOnReceive(DAGScheduler.scala:2146)\n\tat org.apache.spark.scheduler.DAGSchedulerEventProcessLoop.onReceive(DAGScheduler.scala:2095)\n\tat org.apache.spark.scheduler.DAGSchedulerEventProcessLoop.onReceive(DAGScheduler.scala:2084)\n\tat org.apache.spark.util.EventLoop$$anon$1.run(EventLoop.scala:49)\n\tat org.apache.spark.scheduler.DAGScheduler.runJob(DAGScheduler.scala:759)\n\tat org.apache.spark.SparkContext.runJob(SparkContext.scala:2061)\n\tat org.apache.spark.SparkContext.runJob(SparkContext.scala:2082)\n\tat org.apache.spark.SparkContext.runJob(SparkContext.scala:2101)\n\tat org.apache.spark.SparkContext.runJob(SparkContext.scala:2126)\n\tat org.apache.spark.rdd.RDD$$anonfun$collect$1.apply(RDD.scala:990)\n\tat org.apache.spark.rdd.RDDOperationScope$.withScope(RDDOperationScope.scala:151)\n\tat org.apache.spark.rdd.RDDOperationScope$.withScope(RDDOperationScope.scala:112)\n\tat org.apache.spark.rdd.RDD.withScope(RDD.scala:385)\n\tat org.apache.spark.rdd.RDD.collect(RDD.scala:989)\n\tat org.apache.spark.api.python.PythonRDD$.collectAndServe(PythonRDD.scala:166)\n\tat org.apache.spark.api.python.PythonRDD.collectAndServe(PythonRDD.scala)\n\tat sun.reflect.NativeMethodAccessorImpl.invoke0(Native Method)\n\tat sun.reflect.NativeMethodAccessorImpl.invoke(NativeMethodAccessorImpl.java:62)\n\tat sun.reflect.DelegatingMethodAccessorImpl.invoke(DelegatingMethodAccessorImpl.java:43)\n\tat java.lang.reflect.Method.invoke(Method.java:498)\n\tat py4j.reflection.MethodInvoker.invoke(MethodInvoker.java:244)\n\tat py4j.reflection.ReflectionEngine.invoke(ReflectionEngine.java:357)\n\tat py4j.Gateway.invoke(Gateway.java:282)\n\tat py4j.commands.AbstractCommand.invokeMethod(AbstractCommand.java:132)\n\tat py4j.commands.CallCommand.execute(CallCommand.java:79)\n\tat py4j.GatewayConnection.run(GatewayConnection.java:238)\n\tat java.lang.Thread.run(Thread.java:748)\nCaused by: org.apache.spark.api.python.PythonException: Traceback (most recent call last):\n  File \"/root/spark/python/pyspark/worker.py\", line 377, in main\n    process()\n  File \"/root/spark/python/pyspark/worker.py\", line 372, in process\n    serializer.dump_stream(func(split_index, iterator), outfile)\n  File \"/root/spark/python/pyspark/serializers.py\", line 400, in dump_stream\n    vs = list(itertools.islice(iterator, batch))\n  File \"/root/spark/python/pyspark/util.py\", line 99, in wrapper\n    return f(*args, **kwargs)\nTypeError: int() argument must be a string, a bytes-like object or a number, not 'list'\n\n\tat org.apache.spark.api.python.BasePythonRunner$ReaderIterator.handlePythonException(PythonRunner.scala:456)\n\tat org.apache.spark.api.python.PythonRunner$$anon$1.read(PythonRunner.scala:592)\n\tat org.apache.spark.api.python.PythonRunner$$anon$1.read(PythonRunner.scala:575)\n\tat org.apache.spark.api.python.BasePythonRunner$ReaderIterator.hasNext(PythonRunner.scala:410)\n\tat org.apache.spark.InterruptibleIterator.hasNext(InterruptibleIterator.scala:37)\n\tat scala.collection.Iterator$class.foreach(Iterator.scala:891)\n\tat org.apache.spark.InterruptibleIterator.foreach(InterruptibleIterator.scala:28)\n\tat scala.collection.generic.Growable$class.$plus$plus$eq(Growable.scala:59)\n\tat scala.collection.mutable.ArrayBuffer.$plus$plus$eq(ArrayBuffer.scala:104)\n\tat scala.collection.mutable.ArrayBuffer.$plus$plus$eq(ArrayBuffer.scala:48)\n\tat scala.collection.TraversableOnce$class.to(TraversableOnce.scala:310)\n\tat org.apache.spark.InterruptibleIterator.to(InterruptibleIterator.scala:28)\n\tat scala.collection.TraversableOnce$class.toBuffer(TraversableOnce.scala:302)\n\tat org.apache.spark.InterruptibleIterator.toBuffer(InterruptibleIterator.scala:28)\n\tat scala.collection.TraversableOnce$class.toArray(TraversableOnce.scala:289)\n\tat org.apache.spark.InterruptibleIterator.toArray(InterruptibleIterator.scala:28)\n\tat org.apache.spark.rdd.RDD$$anonfun$collect$1$$anonfun$15.apply(RDD.scala:990)\n\tat org.apache.spark.rdd.RDD$$anonfun$collect$1$$anonfun$15.apply(RDD.scala:990)\n\tat org.apache.spark.SparkContext$$anonfun$runJob$5.apply(SparkContext.scala:2101)\n\tat org.apache.spark.SparkContext$$anonfun$runJob$5.apply(SparkContext.scala:2101)\n\tat org.apache.spark.scheduler.ResultTask.runTask(ResultTask.scala:90)\n\tat org.apache.spark.scheduler.Task.run(Task.scala:123)\n\tat org.apache.spark.executor.Executor$TaskRunner$$anonfun$10.apply(Executor.scala:408)\n\tat org.apache.spark.util.Utils$.tryWithSafeFinally(Utils.scala:1360)\n\tat org.apache.spark.executor.Executor$TaskRunner.run(Executor.scala:414)\n\tat java.util.concurrent.ThreadPoolExecutor.runWorker(ThreadPoolExecutor.java:1149)\n\tat java.util.concurrent.ThreadPoolExecutor$Worker.run(ThreadPoolExecutor.java:624)\n\t... 1 more\n",
     "output_type": "error",
     "traceback": [
      "\u001b[0;31m---------------------------------------------------------------------------\u001b[0m",
      "\u001b[0;31mPy4JJavaError\u001b[0m                             Traceback (most recent call last)",
      "\u001b[0;32m<ipython-input-51-3932bdb6a9d6>\u001b[0m in \u001b[0;36m<module>\u001b[0;34m\u001b[0m\n\u001b[0;32m----> 1\u001b[0;31m \u001b[0mnew_array\u001b[0m \u001b[0;34m=\u001b[0m \u001b[0mnew_col\u001b[0m\u001b[0;34m.\u001b[0m\u001b[0mcollect\u001b[0m\u001b[0;34m(\u001b[0m\u001b[0;34m)\u001b[0m\u001b[0;34m\u001b[0m\u001b[0;34m\u001b[0m\u001b[0m\n\u001b[0m",
      "\u001b[0;32m~/spark/python/pyspark/rdd.py\u001b[0m in \u001b[0;36mcollect\u001b[0;34m(self)\u001b[0m\n\u001b[1;32m    814\u001b[0m         \"\"\"\n\u001b[1;32m    815\u001b[0m         \u001b[0;32mwith\u001b[0m \u001b[0mSCCallSiteSync\u001b[0m\u001b[0;34m(\u001b[0m\u001b[0mself\u001b[0m\u001b[0;34m.\u001b[0m\u001b[0mcontext\u001b[0m\u001b[0;34m)\u001b[0m \u001b[0;32mas\u001b[0m \u001b[0mcss\u001b[0m\u001b[0;34m:\u001b[0m\u001b[0;34m\u001b[0m\u001b[0;34m\u001b[0m\u001b[0m\n\u001b[0;32m--> 816\u001b[0;31m             \u001b[0msock_info\u001b[0m \u001b[0;34m=\u001b[0m \u001b[0mself\u001b[0m\u001b[0;34m.\u001b[0m\u001b[0mctx\u001b[0m\u001b[0;34m.\u001b[0m\u001b[0m_jvm\u001b[0m\u001b[0;34m.\u001b[0m\u001b[0mPythonRDD\u001b[0m\u001b[0;34m.\u001b[0m\u001b[0mcollectAndServe\u001b[0m\u001b[0;34m(\u001b[0m\u001b[0mself\u001b[0m\u001b[0;34m.\u001b[0m\u001b[0m_jrdd\u001b[0m\u001b[0;34m.\u001b[0m\u001b[0mrdd\u001b[0m\u001b[0;34m(\u001b[0m\u001b[0;34m)\u001b[0m\u001b[0;34m)\u001b[0m\u001b[0;34m\u001b[0m\u001b[0;34m\u001b[0m\u001b[0m\n\u001b[0m\u001b[1;32m    817\u001b[0m         \u001b[0;32mreturn\u001b[0m \u001b[0mlist\u001b[0m\u001b[0;34m(\u001b[0m\u001b[0m_load_from_socket\u001b[0m\u001b[0;34m(\u001b[0m\u001b[0msock_info\u001b[0m\u001b[0;34m,\u001b[0m \u001b[0mself\u001b[0m\u001b[0;34m.\u001b[0m\u001b[0m_jrdd_deserializer\u001b[0m\u001b[0;34m)\u001b[0m\u001b[0;34m)\u001b[0m\u001b[0;34m\u001b[0m\u001b[0;34m\u001b[0m\u001b[0m\n\u001b[1;32m    818\u001b[0m \u001b[0;34m\u001b[0m\u001b[0m\n",
      "\u001b[0;32m~/spark/python/lib/py4j-0.10.7-src.zip/py4j/java_gateway.py\u001b[0m in \u001b[0;36m__call__\u001b[0;34m(self, *args)\u001b[0m\n\u001b[1;32m   1255\u001b[0m         \u001b[0manswer\u001b[0m \u001b[0;34m=\u001b[0m \u001b[0mself\u001b[0m\u001b[0;34m.\u001b[0m\u001b[0mgateway_client\u001b[0m\u001b[0;34m.\u001b[0m\u001b[0msend_command\u001b[0m\u001b[0;34m(\u001b[0m\u001b[0mcommand\u001b[0m\u001b[0;34m)\u001b[0m\u001b[0;34m\u001b[0m\u001b[0;34m\u001b[0m\u001b[0m\n\u001b[1;32m   1256\u001b[0m         return_value = get_return_value(\n\u001b[0;32m-> 1257\u001b[0;31m             answer, self.gateway_client, self.target_id, self.name)\n\u001b[0m\u001b[1;32m   1258\u001b[0m \u001b[0;34m\u001b[0m\u001b[0m\n\u001b[1;32m   1259\u001b[0m         \u001b[0;32mfor\u001b[0m \u001b[0mtemp_arg\u001b[0m \u001b[0;32min\u001b[0m \u001b[0mtemp_args\u001b[0m\u001b[0;34m:\u001b[0m\u001b[0;34m\u001b[0m\u001b[0;34m\u001b[0m\u001b[0m\n",
      "\u001b[0;32m~/spark/python/pyspark/sql/utils.py\u001b[0m in \u001b[0;36mdeco\u001b[0;34m(*a, **kw)\u001b[0m\n\u001b[1;32m     61\u001b[0m     \u001b[0;32mdef\u001b[0m \u001b[0mdeco\u001b[0m\u001b[0;34m(\u001b[0m\u001b[0;34m*\u001b[0m\u001b[0ma\u001b[0m\u001b[0;34m,\u001b[0m \u001b[0;34m**\u001b[0m\u001b[0mkw\u001b[0m\u001b[0;34m)\u001b[0m\u001b[0;34m:\u001b[0m\u001b[0;34m\u001b[0m\u001b[0;34m\u001b[0m\u001b[0m\n\u001b[1;32m     62\u001b[0m         \u001b[0;32mtry\u001b[0m\u001b[0;34m:\u001b[0m\u001b[0;34m\u001b[0m\u001b[0;34m\u001b[0m\u001b[0m\n\u001b[0;32m---> 63\u001b[0;31m             \u001b[0;32mreturn\u001b[0m \u001b[0mf\u001b[0m\u001b[0;34m(\u001b[0m\u001b[0;34m*\u001b[0m\u001b[0ma\u001b[0m\u001b[0;34m,\u001b[0m \u001b[0;34m**\u001b[0m\u001b[0mkw\u001b[0m\u001b[0;34m)\u001b[0m\u001b[0;34m\u001b[0m\u001b[0;34m\u001b[0m\u001b[0m\n\u001b[0m\u001b[1;32m     64\u001b[0m         \u001b[0;32mexcept\u001b[0m \u001b[0mpy4j\u001b[0m\u001b[0;34m.\u001b[0m\u001b[0mprotocol\u001b[0m\u001b[0;34m.\u001b[0m\u001b[0mPy4JJavaError\u001b[0m \u001b[0;32mas\u001b[0m \u001b[0me\u001b[0m\u001b[0;34m:\u001b[0m\u001b[0;34m\u001b[0m\u001b[0;34m\u001b[0m\u001b[0m\n\u001b[1;32m     65\u001b[0m             \u001b[0ms\u001b[0m \u001b[0;34m=\u001b[0m \u001b[0me\u001b[0m\u001b[0;34m.\u001b[0m\u001b[0mjava_exception\u001b[0m\u001b[0;34m.\u001b[0m\u001b[0mtoString\u001b[0m\u001b[0;34m(\u001b[0m\u001b[0;34m)\u001b[0m\u001b[0;34m\u001b[0m\u001b[0;34m\u001b[0m\u001b[0m\n",
      "\u001b[0;32m~/spark/python/lib/py4j-0.10.7-src.zip/py4j/protocol.py\u001b[0m in \u001b[0;36mget_return_value\u001b[0;34m(answer, gateway_client, target_id, name)\u001b[0m\n\u001b[1;32m    326\u001b[0m                 raise Py4JJavaError(\n\u001b[1;32m    327\u001b[0m                     \u001b[0;34m\"An error occurred while calling {0}{1}{2}.\\n\"\u001b[0m\u001b[0;34m.\u001b[0m\u001b[0;34m\u001b[0m\u001b[0;34m\u001b[0m\u001b[0m\n\u001b[0;32m--> 328\u001b[0;31m                     format(target_id, \".\", name), value)\n\u001b[0m\u001b[1;32m    329\u001b[0m             \u001b[0;32melse\u001b[0m\u001b[0;34m:\u001b[0m\u001b[0;34m\u001b[0m\u001b[0;34m\u001b[0m\u001b[0m\n\u001b[1;32m    330\u001b[0m                 raise Py4JError(\n",
      "\u001b[0;31mPy4JJavaError\u001b[0m: An error occurred while calling z:org.apache.spark.api.python.PythonRDD.collectAndServe.\n: org.apache.spark.SparkException: Job aborted due to stage failure: Task 4 in stage 22.0 failed 4 times, most recent failure: Lost task 4.3 in stage 22.0 (TID 3331, kafka1, executor 1): org.apache.spark.api.python.PythonException: Traceback (most recent call last):\n  File \"/root/spark/python/pyspark/worker.py\", line 377, in main\n    process()\n  File \"/root/spark/python/pyspark/worker.py\", line 372, in process\n    serializer.dump_stream(func(split_index, iterator), outfile)\n  File \"/root/spark/python/pyspark/serializers.py\", line 400, in dump_stream\n    vs = list(itertools.islice(iterator, batch))\n  File \"/root/spark/python/pyspark/util.py\", line 99, in wrapper\n    return f(*args, **kwargs)\nTypeError: int() argument must be a string, a bytes-like object or a number, not 'list'\n\n\tat org.apache.spark.api.python.BasePythonRunner$ReaderIterator.handlePythonException(PythonRunner.scala:456)\n\tat org.apache.spark.api.python.PythonRunner$$anon$1.read(PythonRunner.scala:592)\n\tat org.apache.spark.api.python.PythonRunner$$anon$1.read(PythonRunner.scala:575)\n\tat org.apache.spark.api.python.BasePythonRunner$ReaderIterator.hasNext(PythonRunner.scala:410)\n\tat org.apache.spark.InterruptibleIterator.hasNext(InterruptibleIterator.scala:37)\n\tat scala.collection.Iterator$class.foreach(Iterator.scala:891)\n\tat org.apache.spark.InterruptibleIterator.foreach(InterruptibleIterator.scala:28)\n\tat scala.collection.generic.Growable$class.$plus$plus$eq(Growable.scala:59)\n\tat scala.collection.mutable.ArrayBuffer.$plus$plus$eq(ArrayBuffer.scala:104)\n\tat scala.collection.mutable.ArrayBuffer.$plus$plus$eq(ArrayBuffer.scala:48)\n\tat scala.collection.TraversableOnce$class.to(TraversableOnce.scala:310)\n\tat org.apache.spark.InterruptibleIterator.to(InterruptibleIterator.scala:28)\n\tat scala.collection.TraversableOnce$class.toBuffer(TraversableOnce.scala:302)\n\tat org.apache.spark.InterruptibleIterator.toBuffer(InterruptibleIterator.scala:28)\n\tat scala.collection.TraversableOnce$class.toArray(TraversableOnce.scala:289)\n\tat org.apache.spark.InterruptibleIterator.toArray(InterruptibleIterator.scala:28)\n\tat org.apache.spark.rdd.RDD$$anonfun$collect$1$$anonfun$15.apply(RDD.scala:990)\n\tat org.apache.spark.rdd.RDD$$anonfun$collect$1$$anonfun$15.apply(RDD.scala:990)\n\tat org.apache.spark.SparkContext$$anonfun$runJob$5.apply(SparkContext.scala:2101)\n\tat org.apache.spark.SparkContext$$anonfun$runJob$5.apply(SparkContext.scala:2101)\n\tat org.apache.spark.scheduler.ResultTask.runTask(ResultTask.scala:90)\n\tat org.apache.spark.scheduler.Task.run(Task.scala:123)\n\tat org.apache.spark.executor.Executor$TaskRunner$$anonfun$10.apply(Executor.scala:408)\n\tat org.apache.spark.util.Utils$.tryWithSafeFinally(Utils.scala:1360)\n\tat org.apache.spark.executor.Executor$TaskRunner.run(Executor.scala:414)\n\tat java.util.concurrent.ThreadPoolExecutor.runWorker(ThreadPoolExecutor.java:1149)\n\tat java.util.concurrent.ThreadPoolExecutor$Worker.run(ThreadPoolExecutor.java:624)\n\tat java.lang.Thread.run(Thread.java:748)\n\nDriver stacktrace:\n\tat org.apache.spark.scheduler.DAGScheduler.org$apache$spark$scheduler$DAGScheduler$$failJobAndIndependentStages(DAGScheduler.scala:1925)\n\tat org.apache.spark.scheduler.DAGScheduler$$anonfun$abortStage$1.apply(DAGScheduler.scala:1913)\n\tat org.apache.spark.scheduler.DAGScheduler$$anonfun$abortStage$1.apply(DAGScheduler.scala:1912)\n\tat scala.collection.mutable.ResizableArray$class.foreach(ResizableArray.scala:59)\n\tat scala.collection.mutable.ArrayBuffer.foreach(ArrayBuffer.scala:48)\n\tat org.apache.spark.scheduler.DAGScheduler.abortStage(DAGScheduler.scala:1912)\n\tat org.apache.spark.scheduler.DAGScheduler$$anonfun$handleTaskSetFailed$1.apply(DAGScheduler.scala:948)\n\tat org.apache.spark.scheduler.DAGScheduler$$anonfun$handleTaskSetFailed$1.apply(DAGScheduler.scala:948)\n\tat scala.Option.foreach(Option.scala:257)\n\tat org.apache.spark.scheduler.DAGScheduler.handleTaskSetFailed(DAGScheduler.scala:948)\n\tat org.apache.spark.scheduler.DAGSchedulerEventProcessLoop.doOnReceive(DAGScheduler.scala:2146)\n\tat org.apache.spark.scheduler.DAGSchedulerEventProcessLoop.onReceive(DAGScheduler.scala:2095)\n\tat org.apache.spark.scheduler.DAGSchedulerEventProcessLoop.onReceive(DAGScheduler.scala:2084)\n\tat org.apache.spark.util.EventLoop$$anon$1.run(EventLoop.scala:49)\n\tat org.apache.spark.scheduler.DAGScheduler.runJob(DAGScheduler.scala:759)\n\tat org.apache.spark.SparkContext.runJob(SparkContext.scala:2061)\n\tat org.apache.spark.SparkContext.runJob(SparkContext.scala:2082)\n\tat org.apache.spark.SparkContext.runJob(SparkContext.scala:2101)\n\tat org.apache.spark.SparkContext.runJob(SparkContext.scala:2126)\n\tat org.apache.spark.rdd.RDD$$anonfun$collect$1.apply(RDD.scala:990)\n\tat org.apache.spark.rdd.RDDOperationScope$.withScope(RDDOperationScope.scala:151)\n\tat org.apache.spark.rdd.RDDOperationScope$.withScope(RDDOperationScope.scala:112)\n\tat org.apache.spark.rdd.RDD.withScope(RDD.scala:385)\n\tat org.apache.spark.rdd.RDD.collect(RDD.scala:989)\n\tat org.apache.spark.api.python.PythonRDD$.collectAndServe(PythonRDD.scala:166)\n\tat org.apache.spark.api.python.PythonRDD.collectAndServe(PythonRDD.scala)\n\tat sun.reflect.NativeMethodAccessorImpl.invoke0(Native Method)\n\tat sun.reflect.NativeMethodAccessorImpl.invoke(NativeMethodAccessorImpl.java:62)\n\tat sun.reflect.DelegatingMethodAccessorImpl.invoke(DelegatingMethodAccessorImpl.java:43)\n\tat java.lang.reflect.Method.invoke(Method.java:498)\n\tat py4j.reflection.MethodInvoker.invoke(MethodInvoker.java:244)\n\tat py4j.reflection.ReflectionEngine.invoke(ReflectionEngine.java:357)\n\tat py4j.Gateway.invoke(Gateway.java:282)\n\tat py4j.commands.AbstractCommand.invokeMethod(AbstractCommand.java:132)\n\tat py4j.commands.CallCommand.execute(CallCommand.java:79)\n\tat py4j.GatewayConnection.run(GatewayConnection.java:238)\n\tat java.lang.Thread.run(Thread.java:748)\nCaused by: org.apache.spark.api.python.PythonException: Traceback (most recent call last):\n  File \"/root/spark/python/pyspark/worker.py\", line 377, in main\n    process()\n  File \"/root/spark/python/pyspark/worker.py\", line 372, in process\n    serializer.dump_stream(func(split_index, iterator), outfile)\n  File \"/root/spark/python/pyspark/serializers.py\", line 400, in dump_stream\n    vs = list(itertools.islice(iterator, batch))\n  File \"/root/spark/python/pyspark/util.py\", line 99, in wrapper\n    return f(*args, **kwargs)\nTypeError: int() argument must be a string, a bytes-like object or a number, not 'list'\n\n\tat org.apache.spark.api.python.BasePythonRunner$ReaderIterator.handlePythonException(PythonRunner.scala:456)\n\tat org.apache.spark.api.python.PythonRunner$$anon$1.read(PythonRunner.scala:592)\n\tat org.apache.spark.api.python.PythonRunner$$anon$1.read(PythonRunner.scala:575)\n\tat org.apache.spark.api.python.BasePythonRunner$ReaderIterator.hasNext(PythonRunner.scala:410)\n\tat org.apache.spark.InterruptibleIterator.hasNext(InterruptibleIterator.scala:37)\n\tat scala.collection.Iterator$class.foreach(Iterator.scala:891)\n\tat org.apache.spark.InterruptibleIterator.foreach(InterruptibleIterator.scala:28)\n\tat scala.collection.generic.Growable$class.$plus$plus$eq(Growable.scala:59)\n\tat scala.collection.mutable.ArrayBuffer.$plus$plus$eq(ArrayBuffer.scala:104)\n\tat scala.collection.mutable.ArrayBuffer.$plus$plus$eq(ArrayBuffer.scala:48)\n\tat scala.collection.TraversableOnce$class.to(TraversableOnce.scala:310)\n\tat org.apache.spark.InterruptibleIterator.to(InterruptibleIterator.scala:28)\n\tat scala.collection.TraversableOnce$class.toBuffer(TraversableOnce.scala:302)\n\tat org.apache.spark.InterruptibleIterator.toBuffer(InterruptibleIterator.scala:28)\n\tat scala.collection.TraversableOnce$class.toArray(TraversableOnce.scala:289)\n\tat org.apache.spark.InterruptibleIterator.toArray(InterruptibleIterator.scala:28)\n\tat org.apache.spark.rdd.RDD$$anonfun$collect$1$$anonfun$15.apply(RDD.scala:990)\n\tat org.apache.spark.rdd.RDD$$anonfun$collect$1$$anonfun$15.apply(RDD.scala:990)\n\tat org.apache.spark.SparkContext$$anonfun$runJob$5.apply(SparkContext.scala:2101)\n\tat org.apache.spark.SparkContext$$anonfun$runJob$5.apply(SparkContext.scala:2101)\n\tat org.apache.spark.scheduler.ResultTask.runTask(ResultTask.scala:90)\n\tat org.apache.spark.scheduler.Task.run(Task.scala:123)\n\tat org.apache.spark.executor.Executor$TaskRunner$$anonfun$10.apply(Executor.scala:408)\n\tat org.apache.spark.util.Utils$.tryWithSafeFinally(Utils.scala:1360)\n\tat org.apache.spark.executor.Executor$TaskRunner.run(Executor.scala:414)\n\tat java.util.concurrent.ThreadPoolExecutor.runWorker(ThreadPoolExecutor.java:1149)\n\tat java.util.concurrent.ThreadPoolExecutor$Worker.run(ThreadPoolExecutor.java:624)\n\t... 1 more\n"
     ]
    }
   ],
   "source": [
    "new_array = new_col.collect()"
   ]
  },
  {
   "cell_type": "code",
   "execution_count": 170,
   "id": "9f18cbae",
   "metadata": {},
   "outputs": [],
   "source": [
    "zip_array = list(zip(old_array, new_col.tolist()))"
   ]
  },
  {
   "cell_type": "code",
   "execution_count": 171,
   "id": "56c49639",
   "metadata": {},
   "outputs": [
    {
     "data": {
      "text/plain": [
       "[('a', [1, 2, 3], [1, 2, 3], [1, 2, 3]),\n",
       " ('b', [2, 2, 2], [2, 2, 2], [2, 2, 2]),\n",
       " ('c', [3, 3, 3], [3, 3, 3], [3, 3, 3]),\n",
       " ('d', [4, 4, 4], [4, 4, 4], [4, 4, 4]),\n",
       " ('e', [5, 4], [5, 4], [5, 4])]"
      ]
     },
     "execution_count": 171,
     "metadata": {},
     "output_type": "execute_result"
    }
   ],
   "source": [
    "zip_array"
   ]
  },
  {
   "cell_type": "code",
   "execution_count": 143,
   "id": "76d04fe8",
   "metadata": {},
   "outputs": [
    {
     "name": "stdout",
     "output_type": "stream",
     "text": [
      "[1, 2, 3, 4, 5]\n"
     ]
    }
   ],
   "source": [
    "print(new_col.collect())"
   ]
  },
  {
   "cell_type": "code",
   "execution_count": 144,
   "id": "f65a3e27",
   "metadata": {},
   "outputs": [
    {
     "ename": "AttributeError",
     "evalue": "'list' object has no attribute 'rdd'",
     "output_type": "error",
     "traceback": [
      "\u001b[0;31m---------------------------------------------------------------------------\u001b[0m",
      "\u001b[0;31mAttributeError\u001b[0m                            Traceback (most recent call last)",
      "\u001b[0;32m<ipython-input-144-b2896a6f9174>\u001b[0m in \u001b[0;36m<module>\u001b[0;34m\u001b[0m\n\u001b[0;32m----> 1\u001b[0;31m \u001b[0mrdd_new\u001b[0m \u001b[0;34m=\u001b[0m \u001b[0mold_array\u001b[0m\u001b[0;34m.\u001b[0m\u001b[0mrdd\u001b[0m\u001b[0;34m.\u001b[0m\u001b[0mzip\u001b[0m\u001b[0;34m(\u001b[0m\u001b[0mnew_col\u001b[0m\u001b[0;34m)\u001b[0m\u001b[0;34m\u001b[0m\u001b[0;34m\u001b[0m\u001b[0m\n\u001b[0m",
      "\u001b[0;31mAttributeError\u001b[0m: 'list' object has no attribute 'rdd'"
     ]
    }
   ],
   "source": [
    "rdd_new = old_array.rdd.zip(new_col)"
   ]
  },
  {
   "cell_type": "code",
   "execution_count": 129,
   "id": "2e08344f",
   "metadata": {},
   "outputs": [
    {
     "data": {
      "text/plain": [
       "[(Row(row1='a'), 1),\n",
       " (Row(row1='b'), 2),\n",
       " (Row(row1='c'), 3),\n",
       " (Row(row1='d'), 4),\n",
       " (Row(row1='e'), 5)]"
      ]
     },
     "execution_count": 129,
     "metadata": {},
     "output_type": "execute_result"
    }
   ],
   "source": [
    "rdd_new.collect()"
   ]
  },
  {
   "cell_type": "raw",
   "id": "718d7963",
   "metadata": {},
   "source": [
    "val rdd_new = df.rdd.zip(rdd).map(r => Row.fromSeq(r._1.toSeq ++ Seq(r._2)))"
   ]
  },
  {
   "cell_type": "code",
   "execution_count": 162,
   "id": "b9d2bddb",
   "metadata": {
    "scrolled": true
   },
   "outputs": [],
   "source": [
    "transaction_detail_schema = StructType() \\\n",
    "    .add(\"row1\", StringType()) \\\n",
    "    .add(\"row2\", ArrayType(IntegerType()))\n",
    "\n",
    "fdf = spark.createDataFrame(zip_array, transaction_detail_schema)"
   ]
  },
  {
   "cell_type": "code",
   "execution_count": 163,
   "id": "9af02f93",
   "metadata": {},
   "outputs": [
    {
     "name": "stdout",
     "output_type": "stream",
     "text": [
      "+----+---------+\n",
      "|row1|     row2|\n",
      "+----+---------+\n",
      "|   a|[1, 2, 3]|\n",
      "|   b|[2, 2, 2]|\n",
      "|   c|[3, 3, 3]|\n",
      "|   d|[4, 4, 4]|\n",
      "|   e|   [5, 4]|\n",
      "+----+---------+\n",
      "\n"
     ]
    }
   ],
   "source": [
    "fdf.show()"
   ]
  },
  {
   "cell_type": "code",
   "execution_count": 164,
   "id": "5a20cc49",
   "metadata": {},
   "outputs": [
    {
     "data": {
      "text/plain": [
       "18"
      ]
     },
     "execution_count": 164,
     "metadata": {},
     "output_type": "execute_result"
    }
   ],
   "source": [
    "fdf.rdd.getNumPartitions()"
   ]
  },
  {
   "cell_type": "code",
   "execution_count": 132,
   "id": "1e721abf",
   "metadata": {},
   "outputs": [
    {
     "name": "stdout",
     "output_type": "stream",
     "text": [
      "root\n",
      " |-- row1: string (nullable = true)\n",
      " |-- row2: array (nullable = true)\n",
      " |    |-- element: integer (containsNull = true)\n",
      "\n",
      "+-------------+---------+\n",
      "|         row1|     row2|\n",
      "+-------------+---------+\n",
      "|Uttar Pradesh|[1, 2, 3]|\n",
      "|  Maharashtra|[1, 2, 3]|\n",
      "|   Tamil Nadu|[1, 2, 3]|\n",
      "|    Karnataka|[1, 2, 3]|\n",
      "|       Kerala|[1, 2, 3]|\n",
      "+-------------+---------+\n",
      "\n"
     ]
    }
   ],
   "source": [
    "input_data = [(\"Uttar Pradesh\",[1,2,3]),\n",
    "      (\"Maharashtra\",[1,2,3]),\n",
    "      (\"Tamil Nadu\",[1,2,3]),\n",
    "      (\"Karnataka\",[1,2,3]),\n",
    "      (\"Kerala\",[1,2,3])]\n",
    "df = sc.parallelize(input_data)\n",
    "\n",
    "# creating the dataframe using createDataFrame function\n",
    "df = spark.createDataFrame(df,transaction_detail_schema)\n",
    "# printing schema of the dataframe and showing the dataframe\n",
    "df.printSchema()\n",
    "df.show()"
   ]
  },
  {
   "cell_type": "code",
   "execution_count": 134,
   "id": "04cd2c97",
   "metadata": {},
   "outputs": [
    {
     "data": {
      "text/plain": [
       "[Row(row1='Uttar Pradesh', row2=[1, 2, 3]),\n",
       " Row(row1='Maharashtra', row2=[1, 2, 3]),\n",
       " Row(row1='Tamil Nadu', row2=[1, 2, 3]),\n",
       " Row(row1='Karnataka', row2=[1, 2, 3]),\n",
       " Row(row1='Kerala', row2=[1, 2, 3])]"
      ]
     },
     "execution_count": 134,
     "metadata": {},
     "output_type": "execute_result"
    }
   ],
   "source": [
    "df2= df.collect()\n",
    "df2"
   ]
  },
  {
   "cell_type": "code",
   "execution_count": null,
   "id": "a612615a",
   "metadata": {},
   "outputs": [],
   "source": []
  },
  {
   "cell_type": "code",
   "execution_count": null,
   "id": "d4a5ce03",
   "metadata": {},
   "outputs": [],
   "source": []
  },
  {
   "cell_type": "code",
   "execution_count": 42,
   "id": "69d5bb60",
   "metadata": {},
   "outputs": [],
   "source": [
    "from pyspark.ml import Transformer\n",
    "from keras.preprocessing.text import Tokenizer\n",
    "from keras.preprocessing.sequence import pad_sequences\n",
    "import pandas as pd\n",
    "from typing import Dict\n",
    "from pyspark.sql import DataFrame\n",
    "from pyspark.sql import Row\n",
    "from pyspark.sql import types   \n",
    "\n",
    "class TextToSequence(Transformer):\n",
    "    w1 = dict()\n",
    "    w2 = dict()\n",
    "    pos_t = Tokenizer(lower=False)\n",
    "    neg_t = Tokenizer(lower=False)\n",
    "    pos_vocab = []\n",
    "    neg_vocab = []\n",
    "    \n",
    "    def __init__(self, w1: Dict[str, int], w2:Dict[str, int]):\n",
    "        super(TextToSequence, self).__init__()\n",
    "        self.w1 = w1\n",
    "        self.w2 = w2\n",
    "        \n",
    "    \n",
    "    def _transform(self, df: DataFrame):\n",
    "        result_pdf = df.select(\"filtered_words\").toPandas()\n",
    "        pos_df = result_pdf[3:99759] # 24939 99756\n",
    "        neg_df = result_pdf[99759:]\n",
    "        \n",
    "        broadcast_wrapper1 = BroadcastWrapper(self.w1, pos_df[\"filtered_words\"])\n",
    "        ww1 = broadcast_wrapper1.update_and_get_data(sc).value\n",
    "        \n",
    "        broadcast_wrapper2 = BroadcastWrapper(self.w2, neg_df[\"filtered_words\"])\n",
    "        ww2 = broadcast_wrapper2.update_and_get_data(sc).value\n",
    "        \n",
    "        www1 = {k: v for k, v in sorted(ww1.items(), key=lambda item: item[1], reverse=True)}\n",
    "        www2 = {k: v for k, v in sorted(ww2.items(), key=lambda item: item[1], reverse=True)}\n",
    "        print(www1['allow'])\n",
    "        print(www2['like'])\n",
    "        aa = [w for i, w in enumerate(www1) if i < 5000]\n",
    "        bb = [w for i, w in enumerate(www2) if i < 5000]\n",
    "        \n",
    "        self.pos_t.fit_on_texts(aa)\n",
    "        self.neg_t.fit_on_texts(bb)\n",
    "#         encoded_docs_pos = self.pos_t.texts_to_sequences(df.select(\"filtered_words1\").toPandas())\n",
    "#         encoded_docs_neg = self.neg_t.texts_to_sequences(df.select(\"filtered_words1\").toPandas())\n",
    "        encoded_docs_pos = self.pos_t.texts_to_sequences(result_pdf[\"filtered_words\"])\n",
    "        encoded_docs_neg = self.neg_t.texts_to_sequences(result_pdf[\"filtered_words\"])\n",
    "        \n",
    "        X_p = pad_sequences(encoded_docs_pos, maxlen=100, padding='post').tolist()\n",
    "        X_n = pad_sequences(encoded_docs_neg, maxlen=100, padding='post').tolist()\n",
    "        \n",
    "        text_array = [str(row['text']) for row in df.select('text').collect()]\n",
    "        label_array = [int(row['label']) for row in df.select('label').collect()]\n",
    "\n",
    "        \n",
    "        zip_array = list(zip(text_array, label_array, X_p, X_n))\n",
    "        rdd = sc.parallelize(zip_array, numSlices=306)\n",
    "        fdf = rdd.toDF(['text','label','feature1','feature2'])\n",
    "        \n",
    "#         rowRDD = rdd.map(lambda x: Row(x[0], x[1], x[2], x[3]))\n",
    "\n",
    "\n",
    "\n",
    "#         transaction_detail_schema = StructType() \\\n",
    "#             .add(\"text\", StringType()) \\\n",
    "#             .add(\"label\", IntegerType()) \\\n",
    "#             .add(\"feature1\", ArrayType(IntegerType())) \\\n",
    "#             .add(\"feature2\", ArrayType(IntegerType()))\n",
    "        \n",
    "#         fdf = spark.createDataFrame(zip_array, transaction_detail_schema)\n",
    "        print(type(fdf))\n",
    "\n",
    "    \n",
    "    \n",
    "    \n",
    "    \n",
    "    \n",
    "    \n",
    "    \n",
    "    \n",
    "    \n",
    "#         cols = ['feature1','feature2']\n",
    "#         def feature_add(x) :\n",
    "#             tmp = []\n",
    "#             tmp.append(x.values)\n",
    "#             return tmp[0].tolist()\n",
    "        \n",
    "#         df.insert(0, 'features', df[cols].apply(feature_add, axis=1))\n",
    "        \n",
    "#         fdf = spark.createDataFrame(df)\n",
    "        return fdf, www1, aa"
   ]
  },
  {
   "cell_type": "code",
   "execution_count": 43,
   "id": "88d30caf",
   "metadata": {
    "scrolled": true
   },
   "outputs": [
    {
     "ename": "AttributeError",
     "evalue": "'MultiIndex' object has no attribute 'labels'",
     "output_type": "error",
     "traceback": [
      "\u001b[0;31m---------------------------------------------------------------------------\u001b[0m",
      "\u001b[0;31mAttributeError\u001b[0m                            Traceback (most recent call last)",
      "\u001b[0;32m<ipython-input-43-e0672b4ba743>\u001b[0m in \u001b[0;36m<module>\u001b[0;34m\u001b[0m\n\u001b[1;32m      1\u001b[0m \u001b[0;31m# USE THE TRANSFORMER WITHOUT PIPELINE\u001b[0m\u001b[0;34m\u001b[0m\u001b[0;34m\u001b[0m\u001b[0;34m\u001b[0m\u001b[0m\n\u001b[1;32m      2\u001b[0m \u001b[0mtext_sequence\u001b[0m \u001b[0;34m=\u001b[0m \u001b[0mTextToSequence\u001b[0m\u001b[0;34m(\u001b[0m\u001b[0mw1\u001b[0m \u001b[0;34m=\u001b[0m \u001b[0mword_counts_1\u001b[0m\u001b[0;34m.\u001b[0m\u001b[0mvalue\u001b[0m\u001b[0;34m,\u001b[0m \u001b[0mw2\u001b[0m \u001b[0;34m=\u001b[0m \u001b[0mword_counts_2\u001b[0m\u001b[0;34m.\u001b[0m\u001b[0mvalue\u001b[0m\u001b[0;34m)\u001b[0m\u001b[0;34m\u001b[0m\u001b[0;34m\u001b[0m\u001b[0m\n\u001b[0;32m----> 3\u001b[0;31m \u001b[0mdf_example\u001b[0m\u001b[0;34m,\u001b[0m \u001b[0mwww2\u001b[0m\u001b[0;34m,\u001b[0m \u001b[0mbb\u001b[0m \u001b[0;34m=\u001b[0m \u001b[0mtext_sequence\u001b[0m\u001b[0;34m.\u001b[0m\u001b[0mtransform\u001b[0m\u001b[0;34m(\u001b[0m\u001b[0mr2\u001b[0m\u001b[0;34m)\u001b[0m\u001b[0;34m\u001b[0m\u001b[0;34m\u001b[0m\u001b[0m\n\u001b[0m",
      "\u001b[0;32m~/spark/python/pyspark/ml/base.py\u001b[0m in \u001b[0;36mtransform\u001b[0;34m(self, dataset, params)\u001b[0m\n\u001b[1;32m    171\u001b[0m                 \u001b[0;32mreturn\u001b[0m \u001b[0mself\u001b[0m\u001b[0;34m.\u001b[0m\u001b[0mcopy\u001b[0m\u001b[0;34m(\u001b[0m\u001b[0mparams\u001b[0m\u001b[0;34m)\u001b[0m\u001b[0;34m.\u001b[0m\u001b[0m_transform\u001b[0m\u001b[0;34m(\u001b[0m\u001b[0mdataset\u001b[0m\u001b[0;34m)\u001b[0m\u001b[0;34m\u001b[0m\u001b[0;34m\u001b[0m\u001b[0m\n\u001b[1;32m    172\u001b[0m             \u001b[0;32melse\u001b[0m\u001b[0;34m:\u001b[0m\u001b[0;34m\u001b[0m\u001b[0;34m\u001b[0m\u001b[0m\n\u001b[0;32m--> 173\u001b[0;31m                 \u001b[0;32mreturn\u001b[0m \u001b[0mself\u001b[0m\u001b[0;34m.\u001b[0m\u001b[0m_transform\u001b[0m\u001b[0;34m(\u001b[0m\u001b[0mdataset\u001b[0m\u001b[0;34m)\u001b[0m\u001b[0;34m\u001b[0m\u001b[0;34m\u001b[0m\u001b[0m\n\u001b[0m\u001b[1;32m    174\u001b[0m         \u001b[0;32melse\u001b[0m\u001b[0;34m:\u001b[0m\u001b[0;34m\u001b[0m\u001b[0;34m\u001b[0m\u001b[0m\n\u001b[1;32m    175\u001b[0m             \u001b[0;32mraise\u001b[0m \u001b[0mValueError\u001b[0m\u001b[0;34m(\u001b[0m\u001b[0;34m\"Params must be a param map but got %s.\"\u001b[0m \u001b[0;34m%\u001b[0m \u001b[0mtype\u001b[0m\u001b[0;34m(\u001b[0m\u001b[0mparams\u001b[0m\u001b[0;34m)\u001b[0m\u001b[0;34m)\u001b[0m\u001b[0;34m\u001b[0m\u001b[0;34m\u001b[0m\u001b[0m\n",
      "\u001b[0;32m<ipython-input-42-dcf8f960c463>\u001b[0m in \u001b[0;36m_transform\u001b[0;34m(self, df)\u001b[0m\n\u001b[1;32m     23\u001b[0m \u001b[0;34m\u001b[0m\u001b[0m\n\u001b[1;32m     24\u001b[0m     \u001b[0;32mdef\u001b[0m \u001b[0m_transform\u001b[0m\u001b[0;34m(\u001b[0m\u001b[0mself\u001b[0m\u001b[0;34m,\u001b[0m \u001b[0mdf\u001b[0m\u001b[0;34m:\u001b[0m \u001b[0mDataFrame\u001b[0m\u001b[0;34m)\u001b[0m\u001b[0;34m:\u001b[0m\u001b[0;34m\u001b[0m\u001b[0;34m\u001b[0m\u001b[0m\n\u001b[0;32m---> 25\u001b[0;31m         \u001b[0mresult_pdf\u001b[0m \u001b[0;34m=\u001b[0m \u001b[0mdf\u001b[0m\u001b[0;34m.\u001b[0m\u001b[0mselect\u001b[0m\u001b[0;34m(\u001b[0m\u001b[0;34m\"filtered_words\"\u001b[0m\u001b[0;34m)\u001b[0m\u001b[0;34m.\u001b[0m\u001b[0mtoPandas\u001b[0m\u001b[0;34m(\u001b[0m\u001b[0;34m)\u001b[0m\u001b[0;34m\u001b[0m\u001b[0;34m\u001b[0m\u001b[0m\n\u001b[0m\u001b[1;32m     26\u001b[0m         \u001b[0mpos_df\u001b[0m \u001b[0;34m=\u001b[0m \u001b[0mresult_pdf\u001b[0m\u001b[0;34m[\u001b[0m\u001b[0;36m3\u001b[0m\u001b[0;34m:\u001b[0m\u001b[0;36m99759\u001b[0m\u001b[0;34m]\u001b[0m \u001b[0;31m# 24939 99756\u001b[0m\u001b[0;34m\u001b[0m\u001b[0;34m\u001b[0m\u001b[0m\n\u001b[1;32m     27\u001b[0m         \u001b[0mneg_df\u001b[0m \u001b[0;34m=\u001b[0m \u001b[0mresult_pdf\u001b[0m\u001b[0;34m[\u001b[0m\u001b[0;36m99759\u001b[0m\u001b[0;34m:\u001b[0m\u001b[0;34m]\u001b[0m\u001b[0;34m\u001b[0m\u001b[0;34m\u001b[0m\u001b[0m\n",
      "\u001b[0;32m~/spark/python/pyspark/sql/dataframe.py\u001b[0m in \u001b[0;36mtoPandas\u001b[0;34m(self)\u001b[0m\n\u001b[1;32m   2133\u001b[0m                     \u001b[0;32mif\u001b[0m \u001b[0mlen\u001b[0m\u001b[0;34m(\u001b[0m\u001b[0mbatches\u001b[0m\u001b[0;34m)\u001b[0m \u001b[0;34m>\u001b[0m \u001b[0;36m0\u001b[0m\u001b[0;34m:\u001b[0m\u001b[0;34m\u001b[0m\u001b[0;34m\u001b[0m\u001b[0m\n\u001b[1;32m   2134\u001b[0m                         \u001b[0mtable\u001b[0m \u001b[0;34m=\u001b[0m \u001b[0mpyarrow\u001b[0m\u001b[0;34m.\u001b[0m\u001b[0mTable\u001b[0m\u001b[0;34m.\u001b[0m\u001b[0mfrom_batches\u001b[0m\u001b[0;34m(\u001b[0m\u001b[0mbatches\u001b[0m\u001b[0;34m)\u001b[0m\u001b[0;34m\u001b[0m\u001b[0;34m\u001b[0m\u001b[0m\n\u001b[0;32m-> 2135\u001b[0;31m                         \u001b[0mpdf\u001b[0m \u001b[0;34m=\u001b[0m \u001b[0mtable\u001b[0m\u001b[0;34m.\u001b[0m\u001b[0mto_pandas\u001b[0m\u001b[0;34m(\u001b[0m\u001b[0;34m)\u001b[0m\u001b[0;34m\u001b[0m\u001b[0;34m\u001b[0m\u001b[0m\n\u001b[0m\u001b[1;32m   2136\u001b[0m                         \u001b[0;31m# Rename back to the original column names.\u001b[0m\u001b[0;34m\u001b[0m\u001b[0;34m\u001b[0m\u001b[0;34m\u001b[0m\u001b[0m\n\u001b[1;32m   2137\u001b[0m                         \u001b[0mpdf\u001b[0m\u001b[0;34m.\u001b[0m\u001b[0mcolumns\u001b[0m \u001b[0;34m=\u001b[0m \u001b[0mself\u001b[0m\u001b[0;34m.\u001b[0m\u001b[0mcolumns\u001b[0m\u001b[0;34m\u001b[0m\u001b[0;34m\u001b[0m\u001b[0m\n",
      "\u001b[0;32m/usr/local/lib/python3.6/dist-packages/pyarrow/table.pxi\u001b[0m in \u001b[0;36mpyarrow.lib.Table.to_pandas (/arrow/python/build/temp.linux-x86_64-3.6/lib.cxx:46331)\u001b[0;34m()\u001b[0m\n",
      "\u001b[0;32m/usr/local/lib/python3.6/dist-packages/pyarrow/pandas_compat.py\u001b[0m in \u001b[0;36mtable_to_blockmanager\u001b[0;34m(options, table, memory_pool, nthreads, categoricals)\u001b[0m\n\u001b[1;32m    568\u001b[0m \u001b[0;34m\u001b[0m\u001b[0m\n\u001b[1;32m    569\u001b[0m     \u001b[0;31m# ARROW-1751: flatten a single level column MultiIndex for pandas 0.21.0\u001b[0m\u001b[0;34m\u001b[0m\u001b[0;34m\u001b[0m\u001b[0;34m\u001b[0m\u001b[0m\n\u001b[0;32m--> 570\u001b[0;31m     \u001b[0mcolumns\u001b[0m \u001b[0;34m=\u001b[0m \u001b[0m_flatten_single_level_multiindex\u001b[0m\u001b[0;34m(\u001b[0m\u001b[0mcolumns\u001b[0m\u001b[0;34m)\u001b[0m\u001b[0;34m\u001b[0m\u001b[0;34m\u001b[0m\u001b[0m\n\u001b[0m\u001b[1;32m    571\u001b[0m \u001b[0;34m\u001b[0m\u001b[0m\n\u001b[1;32m    572\u001b[0m     \u001b[0maxes\u001b[0m \u001b[0;34m=\u001b[0m \u001b[0;34m[\u001b[0m\u001b[0mcolumns\u001b[0m\u001b[0;34m,\u001b[0m \u001b[0mindex\u001b[0m\u001b[0;34m]\u001b[0m\u001b[0;34m\u001b[0m\u001b[0;34m\u001b[0m\u001b[0m\n",
      "\u001b[0;32m/usr/local/lib/python3.6/dist-packages/pyarrow/pandas_compat.py\u001b[0m in \u001b[0;36m_flatten_single_level_multiindex\u001b[0;34m(index)\u001b[0m\n\u001b[1;32m    626\u001b[0m     \u001b[0;32mif\u001b[0m \u001b[0misinstance\u001b[0m\u001b[0;34m(\u001b[0m\u001b[0mindex\u001b[0m\u001b[0;34m,\u001b[0m \u001b[0mpd\u001b[0m\u001b[0;34m.\u001b[0m\u001b[0mMultiIndex\u001b[0m\u001b[0;34m)\u001b[0m \u001b[0;32mand\u001b[0m \u001b[0mindex\u001b[0m\u001b[0;34m.\u001b[0m\u001b[0mnlevels\u001b[0m \u001b[0;34m==\u001b[0m \u001b[0;36m1\u001b[0m\u001b[0;34m:\u001b[0m\u001b[0;34m\u001b[0m\u001b[0;34m\u001b[0m\u001b[0m\n\u001b[1;32m    627\u001b[0m         \u001b[0mlevels\u001b[0m\u001b[0;34m,\u001b[0m \u001b[0;34m=\u001b[0m \u001b[0mindex\u001b[0m\u001b[0;34m.\u001b[0m\u001b[0mlevels\u001b[0m\u001b[0;34m\u001b[0m\u001b[0;34m\u001b[0m\u001b[0m\n\u001b[0;32m--> 628\u001b[0;31m         \u001b[0mlabels\u001b[0m\u001b[0;34m,\u001b[0m \u001b[0;34m=\u001b[0m \u001b[0mindex\u001b[0m\u001b[0;34m.\u001b[0m\u001b[0mlabels\u001b[0m\u001b[0;34m\u001b[0m\u001b[0;34m\u001b[0m\u001b[0m\n\u001b[0m\u001b[1;32m    629\u001b[0m \u001b[0;34m\u001b[0m\u001b[0m\n\u001b[1;32m    630\u001b[0m         \u001b[0;31m# Cheaply check that we do not somehow have duplicate column names\u001b[0m\u001b[0;34m\u001b[0m\u001b[0;34m\u001b[0m\u001b[0;34m\u001b[0m\u001b[0m\n",
      "\u001b[0;31mAttributeError\u001b[0m: 'MultiIndex' object has no attribute 'labels'"
     ]
    }
   ],
   "source": [
    "# USE THE TRANSFORMER WITHOUT PIPELINE\n",
    "text_sequence = TextToSequence(w1 = word_counts_1.value, w2 = word_counts_2.value)\n",
    "df_example, www2, bb = text_sequence.transform(r2)"
   ]
  },
  {
   "cell_type": "code",
   "execution_count": 30,
   "id": "0eacfaf1",
   "metadata": {
    "scrolled": true
   },
   "outputs": [
    {
     "name": "stdout",
     "output_type": "stream",
     "text": [
      "+----------------------------------------------------------------------------------------------------------------------------------------------------------------------------------------------------------------------------------------------------------------+-----+----------------------------------------------------------------------------------------------------------------------------------------------------------------------------------------------------------------------------------------------------------------------------------------------------------------------------------------------------+-------------------------------------------------------------------------------------------------------------------------------------------------------------------------------------------------------------------------------------------------------------------------------------------------------------------------------------------------+\n",
      "|text                                                                                                                                                                                                                                                            |label|feature1                                                                                                                                                                                                                                                                                                                                            |feature2                                                                                                                                                                                                                                                                                                                                         |\n",
      "+----------------------------------------------------------------------------------------------------------------------------------------------------------------------------------------------------------------------------------------------------------------+-----+----------------------------------------------------------------------------------------------------------------------------------------------------------------------------------------------------------------------------------------------------------------------------------------------------------------------------------------------------+-------------------------------------------------------------------------------------------------------------------------------------------------------------------------------------------------------------------------------------------------------------------------------------------------------------------------------------------------+\n",
      "|cve out of bound read in intelr baseboard management controller firmware may allow an unauthenticated user to potentially enable information disclosure via network access  cgibincvenam ecginamecve                                                            |1    |[7, 1593, 62, 1030, 4763, 98, 395, 149, 87, 1, 136, 8, 191, 145, 25, 130, 3, 77, 21, 2318, 2319, 0, 0, 0, 0, 0, 0, 0, 0, 0, 0, 0, 0, 0, 0, 0, 0, 0, 0, 0, 0, 0, 0, 0, 0, 0, 0, 0, 0, 0, 0, 0, 0, 0, 0, 0, 0, 0, 0, 0, 0, 0, 0, 0, 0, 0, 0, 0, 0, 0, 0, 0, 0, 0, 0, 0, 0, 0, 0, 0, 0, 0, 0, 0, 0, 0, 0, 0, 0, 0, 0, 0, 0, 0, 0, 0, 0, 0, 0, 0]       |[217, 3028, 4398, 53, 515, 1471, 1273, 220, 1902, 1758, 0, 0, 0, 0, 0, 0, 0, 0, 0, 0, 0, 0, 0, 0, 0, 0, 0, 0, 0, 0, 0, 0, 0, 0, 0, 0, 0, 0, 0, 0, 0, 0, 0, 0, 0, 0, 0, 0, 0, 0, 0, 0, 0, 0, 0, 0, 0, 0, 0, 0, 0, 0, 0, 0, 0, 0, 0, 0, 0, 0, 0, 0, 0, 0, 0, 0, 0, 0, 0, 0, 0, 0, 0, 0, 0, 0, 0, 0, 0, 0, 0, 0, 0, 0, 0, 0, 0, 0, 0, 0]            |\n",
      "|cve insufficient session validation in intelr baseboard management controller firmware may allow an unauthenticated user to potentially enable information disclosure andor denial of service via network access  cgibincvenam ecginamecve                      |1    |[7, 301, 179, 194, 1030, 4763, 98, 395, 149, 87, 1, 136, 8, 191, 145, 25, 130, 1362, 17, 12, 3, 77, 21, 2318, 2319, 0, 0, 0, 0, 0, 0, 0, 0, 0, 0, 0, 0, 0, 0, 0, 0, 0, 0, 0, 0, 0, 0, 0, 0, 0, 0, 0, 0, 0, 0, 0, 0, 0, 0, 0, 0, 0, 0, 0, 0, 0, 0, 0, 0, 0, 0, 0, 0, 0, 0, 0, 0, 0, 0, 0, 0, 0, 0, 0, 0, 0, 0, 0, 0, 0, 0, 0, 0, 0, 0, 0, 0, 0, 0, 0]|[1895, 3028, 4398, 53, 515, 1471, 1273, 4862, 832, 220, 1902, 1758, 0, 0, 0, 0, 0, 0, 0, 0, 0, 0, 0, 0, 0, 0, 0, 0, 0, 0, 0, 0, 0, 0, 0, 0, 0, 0, 0, 0, 0, 0, 0, 0, 0, 0, 0, 0, 0, 0, 0, 0, 0, 0, 0, 0, 0, 0, 0, 0, 0, 0, 0, 0, 0, 0, 0, 0, 0, 0, 0, 0, 0, 0, 0, 0, 0, 0, 0, 0, 0, 0, 0, 0, 0, 0, 0, 0, 0, 0, 0, 0, 0, 0, 0, 0, 0, 0, 0, 0]      |\n",
      "|intel baseboard management controller outofbounds memory corruption a vulnerability has been found in intel baseboard management controller forum software the affected version is unknown and classified as critical this vulnerability affects an unk  kluvhj |1    |[731, 4763, 98, 395, 233, 39, 81, 4, 361, 731, 4763, 98, 395, 662, 99, 2627, 19, 70, 1486, 353, 4, 4246, 0, 0, 0, 0, 0, 0, 0, 0, 0, 0, 0, 0, 0, 0, 0, 0, 0, 0, 0, 0, 0, 0, 0, 0, 0, 0, 0, 0, 0, 0, 0, 0, 0, 0, 0, 0, 0, 0, 0, 0, 0, 0, 0, 0, 0, 0, 0, 0, 0, 0, 0, 0, 0, 0, 0, 0, 0, 0, 0, 0, 0, 0, 0, 0, 0, 0, 0, 0, 0, 0, 0, 0, 0, 0, 0, 0, 0, 0]  |[3028, 4398, 1060, 2590, 2505, 240, 3028, 4398, 4751, 603, 3455, 2289, 2505, 0, 0, 0, 0, 0, 0, 0, 0, 0, 0, 0, 0, 0, 0, 0, 0, 0, 0, 0, 0, 0, 0, 0, 0, 0, 0, 0, 0, 0, 0, 0, 0, 0, 0, 0, 0, 0, 0, 0, 0, 0, 0, 0, 0, 0, 0, 0, 0, 0, 0, 0, 0, 0, 0, 0, 0, 0, 0, 0, 0, 0, 0, 0, 0, 0, 0, 0, 0, 0, 0, 0, 0, 0, 0, 0, 0, 0, 0, 0, 0, 0, 0, 0, 0, 0, 0, 0]|\n",
      "+----------------------------------------------------------------------------------------------------------------------------------------------------------------------------------------------------------------------------------------------------------------+-----+----------------------------------------------------------------------------------------------------------------------------------------------------------------------------------------------------------------------------------------------------------------------------------------------------------------------------------------------------+-------------------------------------------------------------------------------------------------------------------------------------------------------------------------------------------------------------------------------------------------------------------------------------------------------------------------------------------------+\n",
      "only showing top 3 rows\n",
      "\n"
     ]
    }
   ],
   "source": [
    "df_example.show(3, truncate=False)"
   ]
  },
  {
   "cell_type": "code",
   "execution_count": 47,
   "id": "316a8e09",
   "metadata": {},
   "outputs": [
    {
     "data": {
      "text/plain": [
       "False"
      ]
     },
     "execution_count": 47,
     "metadata": {},
     "output_type": "execute_result"
    }
   ],
   "source": [
    "'fbxtynm' in aa"
   ]
  },
  {
   "cell_type": "code",
   "execution_count": null,
   "id": "87836e62",
   "metadata": {},
   "outputs": [],
   "source": []
  },
  {
   "cell_type": "code",
   "execution_count": null,
   "id": "a0489ad3",
   "metadata": {},
   "outputs": [],
   "source": []
  },
  {
   "cell_type": "code",
   "execution_count": null,
   "id": "dcde07e9",
   "metadata": {},
   "outputs": [],
   "source": []
  },
  {
   "cell_type": "code",
   "execution_count": null,
   "id": "825d876c",
   "metadata": {},
   "outputs": [],
   "source": []
  },
  {
   "cell_type": "code",
   "execution_count": 55,
   "id": "a3d91053",
   "metadata": {},
   "outputs": [
    {
     "data": {
      "text/plain": [
       "False"
      ]
     },
     "execution_count": 55,
     "metadata": {},
     "output_type": "execute_result"
    }
   ],
   "source": [
    "aa == bb"
   ]
  },
  {
   "cell_type": "code",
   "execution_count": 57,
   "id": "594efdde",
   "metadata": {},
   "outputs": [],
   "source": [
    "x = set(aa) - set(bb)"
   ]
  },
  {
   "cell_type": "code",
   "execution_count": 58,
   "id": "22cc9110",
   "metadata": {},
   "outputs": [
    {
     "data": {
      "text/plain": [
       "{'aaa',\n",
       " 'aac',\n",
       " 'abend',\n",
       " 'acc',\n",
       " 'acceleration',\n",
       " 'accellion',\n",
       " 'accesscontrol',\n",
       " 'accessibility',\n",
       " 'accord',\n",
       " 'aci',\n",
       " 'activemq',\n",
       " 'addphp',\n",
       " 'addressbar',\n",
       " 'adm',\n",
       " 'adminadminphp',\n",
       " 'airlink',\n",
       " 'aj',\n",
       " 'alg',\n",
       " 'algorithmic',\n",
       " 'amqp',\n",
       " 'analytical',\n",
       " 'apic',\n",
       " 'apk',\n",
       " 'applycgi',\n",
       " 'apport',\n",
       " 'approve',\n",
       " 'appsuite',\n",
       " 'arithmetic',\n",
       " 'arris',\n",
       " 'articleid',\n",
       " 'articlephp',\n",
       " 'artifact',\n",
       " 'asf',\n",
       " 'asu',\n",
       " 'asustor',\n",
       " 'aterm',\n",
       " 'atlas',\n",
       " 'atp',\n",
       " 'attendee',\n",
       " 'auditor',\n",
       " 'authenticity',\n",
       " 'authoritysystem',\n",
       " 'autofill',\n",
       " 'autonomy',\n",
       " 'aux',\n",
       " 'awk',\n",
       " 'awt',\n",
       " 'ba',\n",
       " 'bamboo',\n",
       " 'baseboard',\n",
       " 'baseencoded',\n",
       " 'bat',\n",
       " 'bbs',\n",
       " 'be',\n",
       " 'behaviour',\n",
       " 'belonging',\n",
       " 'bigtree',\n",
       " 'billing',\n",
       " 'bin',\n",
       " 'bitbucket',\n",
       " 'blade',\n",
       " 'ble',\n",
       " 'bleichenbacher',\n",
       " 'blender',\n",
       " 'bmw',\n",
       " 'bosch',\n",
       " 'bosh',\n",
       " 'bounce',\n",
       " 'bracket',\n",
       " 'bs',\n",
       " 'bulk',\n",
       " 'busybox',\n",
       " 'bzip',\n",
       " 'cansecwest',\n",
       " 'capnetadmin',\n",
       " 'carriage',\n",
       " 'carrier',\n",
       " 'castle',\n",
       " 'cde',\n",
       " 'centoswebpanelcom',\n",
       " 'centum',\n",
       " 'cfrelease',\n",
       " 'cgibin',\n",
       " 'chassis',\n",
       " 'checkout',\n",
       " 'chipset',\n",
       " 'chown',\n",
       " 'ciphertext',\n",
       " 'clam',\n",
       " 'claroline',\n",
       " 'classpath',\n",
       " 'cleanse',\n",
       " 'clickshare',\n",
       " 'cloudera',\n",
       " 'codebase',\n",
       " 'coderstiffc',\n",
       " 'colon',\n",
       " 'commediatekwfoimpl',\n",
       " 'commentphp',\n",
       " 'commonphp',\n",
       " 'communicator',\n",
       " 'compactlogix',\n",
       " 'compaq',\n",
       " 'composer',\n",
       " 'comsamsungandroidthemecenter',\n",
       " 'concatenate',\n",
       " 'concentrator',\n",
       " 'concurrent',\n",
       " 'configurator',\n",
       " 'consent',\n",
       " 'consequence',\n",
       " 'constrain',\n",
       " 'contentdisposition',\n",
       " 'continuously',\n",
       " 'contribute',\n",
       " 'contribution',\n",
       " 'coordinate',\n",
       " 'corba',\n",
       " 'coregraphics',\n",
       " 'coretext',\n",
       " 'couchdb',\n",
       " 'cpg',\n",
       " 'crate',\n",
       " 'crestron',\n",
       " 'crl',\n",
       " 'cron',\n",
       " 'crontab',\n",
       " 'crowd',\n",
       " 'crucible',\n",
       " 'crypt',\n",
       " 'crystal',\n",
       " 'csctf',\n",
       " 'csctg',\n",
       " 'cscti',\n",
       " 'csctr',\n",
       " 'cscts',\n",
       " 'cscty',\n",
       " 'csctz',\n",
       " 'cscub',\n",
       " 'cscuc',\n",
       " 'cscuf',\n",
       " 'csme',\n",
       " 'csrss',\n",
       " 'ct',\n",
       " 'cube',\n",
       " 'cubecart',\n",
       " 'curam',\n",
       " 'cursor',\n",
       " 'customize',\n",
       " 'cutenews',\n",
       " 'cvssavnaclprhuinsuchilal',\n",
       " 'cvssavnaclprluinsuchihan',\n",
       " 'cvssavnaclprluinsuchinan',\n",
       " 'cvssavnaclprluinsuclilan',\n",
       " 'cvssavnaclprluinsuclinan',\n",
       " 'cvssavnaclprnuinsuchihah',\n",
       " 'cvssavnaclprnuinsuchinan',\n",
       " 'cvssavnaclprnuinsuclilal',\n",
       " 'cvssavnaclprnuinsucninah',\n",
       " 'cvssavnaclprnuinsucninal',\n",
       " 'cvssavnaclprnuirsccnilan',\n",
       " 'cwp',\n",
       " 'cyrus',\n",
       " 'dahua',\n",
       " 'dangling',\n",
       " 'dap',\n",
       " 'datahub',\n",
       " 'datapower',\n",
       " 'dba',\n",
       " 'dcc',\n",
       " 'ddl',\n",
       " 'declare',\n",
       " 'decompress',\n",
       " 'deeply',\n",
       " 'defect',\n",
       " 'deltav',\n",
       " 'deprecate',\n",
       " 'deputy',\n",
       " 'desc',\n",
       " 'deserialized',\n",
       " 'destine',\n",
       " 'destruction',\n",
       " 'detailphp',\n",
       " 'dhtml',\n",
       " 'diag',\n",
       " 'directshow',\n",
       " 'directwrite',\n",
       " 'disallow',\n",
       " 'discard',\n",
       " 'disconnection',\n",
       " 'discontinue',\n",
       " 'discrepancy',\n",
       " 'dissectors',\n",
       " 'division',\n",
       " 'dlls',\n",
       " 'dnssec',\n",
       " 'dokuwiki',\n",
       " 'dotnetnuke',\n",
       " 'doublefree',\n",
       " 'downstream',\n",
       " 'dpc',\n",
       " 'draganddrop',\n",
       " 'drawing',\n",
       " 'dsl',\n",
       " 'dsm',\n",
       " 'dvr',\n",
       " 'dwr',\n",
       " 'eappwd',\n",
       " 'eavesdrop',\n",
       " 'editphp',\n",
       " 'efs',\n",
       " 'egroupware',\n",
       " 'electron',\n",
       " 'elog',\n",
       " 'emacs',\n",
       " 'eml',\n",
       " 'enabler',\n",
       " 'encoder',\n",
       " 'entitlement',\n",
       " 'eof',\n",
       " 'epolicy',\n",
       " 'eq',\n",
       " 'equivalent',\n",
       " 'erc',\n",
       " 'erpcrm',\n",
       " 'erroneous',\n",
       " 'errorphp',\n",
       " 'eshop',\n",
       " 'esp',\n",
       " 'esxisg',\n",
       " 'etcshadow',\n",
       " 'eudora',\n",
       " 'expressway',\n",
       " 'extensible',\n",
       " 'externally',\n",
       " 'failover',\n",
       " 'fallback',\n",
       " 'faqphp',\n",
       " 'fasterxml',\n",
       " 'fax',\n",
       " 'fc',\n",
       " 'fd',\n",
       " 'federate',\n",
       " 'feedback',\n",
       " 'filenet',\n",
       " 'filepath',\n",
       " 'filesystems',\n",
       " 'fileupload',\n",
       " 'finder',\n",
       " 'finecms',\n",
       " 'finger',\n",
       " 'fips',\n",
       " 'firebird',\n",
       " 'firesight',\n",
       " 'fisheye',\n",
       " 'fl',\n",
       " 'flowd',\n",
       " 'flush',\n",
       " 'fmc',\n",
       " 'footerphp',\n",
       " 'forbid',\n",
       " 'formatter',\n",
       " 'formatting',\n",
       " 'fortimanager',\n",
       " 'freeze',\n",
       " 'frog',\n",
       " 'frontpage',\n",
       " 'fscm',\n",
       " 'fta',\n",
       " 'ftpd',\n",
       " 'fuji',\n",
       " 'fujitsu',\n",
       " 'fusionpbx',\n",
       " 'fwsm',\n",
       " 'fxos',\n",
       " 'gaim',\n",
       " 'galleryphp',\n",
       " 'gdm',\n",
       " 'geeklog',\n",
       " 'geforce',\n",
       " 'genixcms',\n",
       " 'gimp',\n",
       " 'glance',\n",
       " 'glob',\n",
       " 'glossary',\n",
       " 'glpi',\n",
       " 'gluster',\n",
       " 'glusterfs',\n",
       " 'gpac',\n",
       " 'graalvm',\n",
       " 'graclcb',\n",
       " 'grandstream',\n",
       " 'graulcb',\n",
       " 'grizzly',\n",
       " 'groovy',\n",
       " 'groupid',\n",
       " 'groupmax',\n",
       " 'gstreamer',\n",
       " 'gtk',\n",
       " 'gtm',\n",
       " 'guessable',\n",
       " 'halt',\n",
       " 'heimdal',\n",
       " 'helo',\n",
       " 'helpphp',\n",
       " 'hex',\n",
       " 'hexencoded',\n",
       " 'hg',\n",
       " 'hhvm',\n",
       " 'hierarchy',\n",
       " 'homematic',\n",
       " 'homephp',\n",
       " 'hooks',\n",
       " 'hostapd',\n",
       " 'hsts',\n",
       " 'icmpv',\n",
       " 'icms',\n",
       " 'idm',\n",
       " 'idp',\n",
       " 'idrac',\n",
       " 'igmp',\n",
       " 'ikarus',\n",
       " 'ilearning',\n",
       " 'ilom',\n",
       " 'imanager',\n",
       " 'imapd',\n",
       " 'ime',\n",
       " 'imm',\n",
       " 'imp',\n",
       " 'importing',\n",
       " 'inaccessible',\n",
       " 'inbound',\n",
       " 'includepath',\n",
       " 'inclusive',\n",
       " 'inconsistency',\n",
       " 'incubate',\n",
       " 'indexasp',\n",
       " 'indexer',\n",
       " 'indoor',\n",
       " 'indusoft',\n",
       " 'inetd',\n",
       " 'ingress',\n",
       " 'inherit',\n",
       " 'inode',\n",
       " 'insertion',\n",
       " 'inspect',\n",
       " 'installers',\n",
       " 'installindexphp',\n",
       " 'installphp',\n",
       " 'instantiation',\n",
       " 'insteon',\n",
       " 'instrument',\n",
       " 'interfere',\n",
       " 'interruption',\n",
       " 'interval',\n",
       " 'intouch',\n",
       " 'invitation',\n",
       " 'iokit',\n",
       " 'ion',\n",
       " 'ipmi',\n",
       " 'iptables',\n",
       " 'ironport',\n",
       " 'irssi',\n",
       " 'isa',\n",
       " 'isapi',\n",
       " 'isilon',\n",
       " 'ja',\n",
       " 'jbig',\n",
       " 'jce',\n",
       " 'jdbc',\n",
       " 'jdedwards',\n",
       " 'jdeveloper',\n",
       " 'jee',\n",
       " 'jms',\n",
       " 'jp',\n",
       " 'jrun',\n",
       " 'jscript',\n",
       " 'jweb',\n",
       " 'jwt',\n",
       " 'kace',\n",
       " 'kadmind',\n",
       " 'karaf',\n",
       " 'kenexa',\n",
       " 'keychain',\n",
       " 'keycloak',\n",
       " 'keyring',\n",
       " 'keystore',\n",
       " 'kinoshita',\n",
       " 'kk',\n",
       " 'ktp',\n",
       " 'launcher',\n",
       " 'ledger',\n",
       " 'lf',\n",
       " 'lha',\n",
       " 'lib',\n",
       " 'libavc',\n",
       " 'libdwarf',\n",
       " 'libhevc',\n",
       " 'libiberty',\n",
       " 'libpurple',\n",
       " 'libraw',\n",
       " 'libsass',\n",
       " 'libxslt',\n",
       " 'lid',\n",
       " 'lie',\n",
       " 'liferay',\n",
       " 'lightsout',\n",
       " 'lighttpd',\n",
       " 'listphp',\n",
       " 'literal',\n",
       " 'lldp',\n",
       " 'lnk',\n",
       " 'loadrunner',\n",
       " 'locator',\n",
       " 'lockscreen',\n",
       " 'logfile',\n",
       " 'logical',\n",
       " 'lp',\n",
       " 'lpd',\n",
       " 'ltp',\n",
       " 'lua',\n",
       " 'lx',\n",
       " 'lxca',\n",
       " 'mach',\n",
       " 'macho',\n",
       " 'maian',\n",
       " 'mailing',\n",
       " 'mailserver',\n",
       " 'mailto',\n",
       " 'manifest',\n",
       " 'marker',\n",
       " 'measurement',\n",
       " 'meetingplace',\n",
       " 'meg',\n",
       " 'memorylayout',\n",
       " 'memoryread',\n",
       " 'merak',\n",
       " 'merchant',\n",
       " 'metinfo',\n",
       " 'mfp',\n",
       " 'mgpoe',\n",
       " 'mib',\n",
       " 'microkernel',\n",
       " 'microphone',\n",
       " 'minimal',\n",
       " 'minimum',\n",
       " 'mint',\n",
       " 'misconfiguration',\n",
       " 'miscphp',\n",
       " 'misp',\n",
       " 'mitel',\n",
       " 'mitsubishi',\n",
       " 'mkd',\n",
       " 'mkv',\n",
       " 'modal',\n",
       " 'modphp',\n",
       " 'moinmoin',\n",
       " 'mongoose',\n",
       " 'monstra',\n",
       " 'mov',\n",
       " 'mplayer',\n",
       " 'mrg',\n",
       " 'msde',\n",
       " 'msr',\n",
       " 'msxml',\n",
       " 'mtu',\n",
       " 'multibyte',\n",
       " 'multilayer',\n",
       " 'multimedia',\n",
       " 'multiplatform',\n",
       " 'mutt',\n",
       " 'mxit',\n",
       " 'namespaces',\n",
       " 'ncp',\n",
       " 'negotiate',\n",
       " 'neighbor',\n",
       " 'netbios',\n",
       " 'netfilter',\n",
       " 'netvault',\n",
       " 'netwide',\n",
       " 'netwin',\n",
       " 'nfsv',\n",
       " 'nfx',\n",
       " 'nntp',\n",
       " 'nod',\n",
       " 'nonadministrative',\n",
       " 'nonprivileged',\n",
       " 'nonzero',\n",
       " 'nortel',\n",
       " 'nuc',\n",
       " 'nvr',\n",
       " 'nxapi',\n",
       " 'obfuscate',\n",
       " 'objectprototype',\n",
       " 'ocean',\n",
       " 'ocsp',\n",
       " 'octopus',\n",
       " 'odbc',\n",
       " 'odoo',\n",
       " 'oes',\n",
       " 'ogg',\n",
       " 'oid',\n",
       " 'omron',\n",
       " 'onap',\n",
       " 'oncell',\n",
       " 'oncommand',\n",
       " 'onload',\n",
       " 'onmouseover',\n",
       " 'ono',\n",
       " 'oob',\n",
       " 'oom',\n",
       " 'ooo',\n",
       " 'openafs',\n",
       " 'openbasedir',\n",
       " 'opencv',\n",
       " 'openfire',\n",
       " 'openserver',\n",
       " 'opentext',\n",
       " 'openvms',\n",
       " 'oscommerce',\n",
       " 'osisoft',\n",
       " 'ossim',\n",
       " 'osticket',\n",
       " 'otp',\n",
       " 'outgo',\n",
       " 'outofrange',\n",
       " 'packaging',\n",
       " 'pad',\n",
       " 'pagephp',\n",
       " 'pairing',\n",
       " 'palm',\n",
       " 'passthrough',\n",
       " 'pasv',\n",
       " 'pcanywhere',\n",
       " 'pcx',\n",
       " 'perhaps',\n",
       " 'permissive',\n",
       " 'phpmyfaq',\n",
       " 'phpself',\n",
       " 'pinning',\n",
       " 'pls',\n",
       " 'polycom',\n",
       " 'populate',\n",
       " 'portlet',\n",
       " 'posix',\n",
       " 'postphp',\n",
       " 'pptp',\n",
       " 'preadvisory',\n",
       " 'precision',\n",
       " 'predictably',\n",
       " 'preloading',\n",
       " 'prerelease',\n",
       " 'pressing',\n",
       " 'printphp',\n",
       " 'prng',\n",
       " 'proc',\n",
       " 'productid',\n",
       " 'prohibit',\n",
       " 'proto',\n",
       " 'proxysg',\n",
       " 'pse',\n",
       " 'psm',\n",
       " 'putty',\n",
       " 'px',\n",
       " 'qcm',\n",
       " 'qpid',\n",
       " 'qsee',\n",
       " 'quagga',\n",
       " 'quake',\n",
       " 'quarantine',\n",
       " 'quic',\n",
       " 'rabbitmq',\n",
       " 'rack',\n",
       " 'rcpt',\n",
       " 'readimage',\n",
       " 'readynas',\n",
       " 'realone',\n",
       " 'reassembly',\n",
       " 'rebind',\n",
       " 'reconfigure',\n",
       " 'recvfrom',\n",
       " 'recvmsg',\n",
       " 'redirecturl',\n",
       " 'redis',\n",
       " 'redmine',\n",
       " 'redo',\n",
       " 'regard',\n",
       " 'regex',\n",
       " 'regexp',\n",
       " 'rel',\n",
       " 'remoting',\n",
       " 'rendezvous',\n",
       " 'reproduce',\n",
       " 'reservation',\n",
       " 'resin',\n",
       " 'resize',\n",
       " 'responder',\n",
       " 'restrictive',\n",
       " 'retr',\n",
       " 'revocation',\n",
       " 'rim',\n",
       " 'river',\n",
       " 'rlg',\n",
       " 'ro',\n",
       " 'rolebased',\n",
       " 'rootpath',\n",
       " 'rseries',\n",
       " 'rssphp',\n",
       " 'rsvp',\n",
       " 'rtc',\n",
       " 'rtn',\n",
       " 'rtnu',\n",
       " 'rtu',\n",
       " 'runcms',\n",
       " 'safeguard',\n",
       " 'safemode',\n",
       " 'sasl',\n",
       " 'scalar',\n",
       " 'sccp',\n",
       " 'screenos',\n",
       " 'scroll',\n",
       " 'scsi',\n",
       " 'sdl',\n",
       " 'searchstring',\n",
       " 'seilx',\n",
       " 'selinux',\n",
       " 'sellers',\n",
       " 'sellprice',\n",
       " 'semicolon',\n",
       " 'separator',\n",
       " 'sepm',\n",
       " 'serverprotect',\n",
       " 'servicedesk',\n",
       " 'servlets',\n",
       " 'servu',\n",
       " 'sessionid',\n",
       " 'settingsphp',\n",
       " 'shipboard',\n",
       " 'shoutbox',\n",
       " 'showphp',\n",
       " 'silently',\n",
       " 'simplesamlphp',\n",
       " 'simultaneous',\n",
       " 'siprotec',\n",
       " 'sitename',\n",
       " 'slide',\n",
       " 'slideshow',\n",
       " 'smarty',\n",
       " 'smc',\n",
       " 'smm',\n",
       " 'smp',\n",
       " 'snippet',\n",
       " 'snoop',\n",
       " 'sock',\n",
       " 'sortorder',\n",
       " 'sourcetree',\n",
       " 'spatial',\n",
       " 'spawn',\n",
       " 'spc',\n",
       " 'spice',\n",
       " 'spip',\n",
       " 'spooler',\n",
       " 'sprintf',\n",
       " 'spss',\n",
       " 'srm',\n",
       " 'ssdt',\n",
       " 'ssi',\n",
       " 'staros',\n",
       " 'starttls',\n",
       " 'stat',\n",
       " 'strongswan',\n",
       " 'sub',\n",
       " 'subnet',\n",
       " 'subrion',\n",
       " 'sunos',\n",
       " 'suricata',\n",
       " 'sv',\n",
       " 'sw',\n",
       " 'sybase',\n",
       " 'synchronization',\n",
       " 'tacacs',\n",
       " 'tape',\n",
       " 'tatsuya',\n",
       " 'tcl',\n",
       " 'td',\n",
       " 'tds',\n",
       " 'teacher',\n",
       " 'teamcity',\n",
       " 'technicolor',\n",
       " 'tee',\n",
       " 'telnetd',\n",
       " 'temp',\n",
       " 'tenant',\n",
       " 'tenda',\n",
       " 'textarea',\n",
       " 'texture',\n",
       " 'tga',\n",
       " 'theoretically',\n",
       " 'tiki',\n",
       " 'tile',\n",
       " 'tos',\n",
       " 'tower',\n",
       " 'traceroute',\n",
       " 'tracing',\n",
       " 'transferencoding',\n",
       " 'transparent',\n",
       " 'trendnet',\n",
       " 'trillian',\n",
       " 'tririga',\n",
       " 'trustlet',\n",
       " 'tty',\n",
       " 'tuxedo',\n",
       " 'twiki',\n",
       " 'typical',\n",
       " 'uboot',\n",
       " 'udb',\n",
       " 'ultimately',\n",
       " 'uma',\n",
       " 'umask',\n",
       " 'unbounded',\n",
       " 'uncaught',\n",
       " 'unhandled',\n",
       " 'unifier',\n",
       " 'unpack',\n",
       " 'unreal',\n",
       " 'unrelated',\n",
       " 'unresponsive',\n",
       " 'unsafely',\n",
       " 'unset',\n",
       " 'unsuspecting',\n",
       " 'unvalidated',\n",
       " 'urlencoded',\n",
       " 'userdefined',\n",
       " 'useremail',\n",
       " 'usersphp',\n",
       " 'utilc',\n",
       " 'utilization',\n",
       " 'utm',\n",
       " 'validator',\n",
       " 'vanilla',\n",
       " 'vcard',\n",
       " 'vedge',\n",
       " 'verbose',\n",
       " 'vga',\n",
       " 'videocore',\n",
       " 'violate',\n",
       " 'virtualized',\n",
       " 'virusscan',\n",
       " 'visualization',\n",
       " 'vmanage',\n",
       " 'vrcs',\n",
       " 'vrsph',\n",
       " 'vsphere',\n",
       " 'wac',\n",
       " 'wap',\n",
       " 'webcalendar',\n",
       " 'webcore',\n",
       " 'webform',\n",
       " 'webgui',\n",
       " 'webinf',\n",
       " 'weblinks',\n",
       " 'webservice',\n",
       " 'webview',\n",
       " 'webvpn',\n",
       " 'wellknown',\n",
       " 'wftpd',\n",
       " 'whatsup',\n",
       " 'whereby',\n",
       " 'winzip',\n",
       " 'wirelessn',\n",
       " 'wmf',\n",
       " 'wolfssl',\n",
       " 'woocommerce',\n",
       " 'workload',\n",
       " 'wps',\n",
       " 'wsftp',\n",
       " 'wuzhi',\n",
       " 'xaml',\n",
       " 'xb',\n",
       " 'xbl',\n",
       " 'xcf',\n",
       " 'xfree',\n",
       " 'xg',\n",
       " 'xh',\n",
       " 'xinelib',\n",
       " 'xm',\n",
       " 'xpm',\n",
       " 'xserver',\n",
       " 'xsl',\n",
       " 'yabb',\n",
       " 'zcm',\n",
       " 'zope',\n",
       " 'zos'}"
      ]
     },
     "execution_count": 58,
     "metadata": {},
     "output_type": "execute_result"
    }
   ],
   "source": [
    "x"
   ]
  },
  {
   "cell_type": "code",
   "execution_count": 107,
   "id": "ab14be5a",
   "metadata": {},
   "outputs": [
    {
     "data": {
      "text/plain": [
       "False"
      ]
     },
     "execution_count": 107,
     "metadata": {},
     "output_type": "execute_result"
    }
   ],
   "source": [
    "'tactic' in x"
   ]
  },
  {
   "cell_type": "code",
   "execution_count": 75,
   "id": "6d26f0b1",
   "metadata": {},
   "outputs": [],
   "source": [
    "ff = ['threatmeter' ,'hack' ,'email' ,'system' ,'hacker' ,'reveal','identity', 'tactics'] \n",
    "fff = ['android','malware','target','pcs']\n",
    "ffff = ['cve', 'bound', 'read', 'intelr', 'baseboard', 'management', 'controller', 'firmware', 'may', 'allow', 'unauthenticated', 'user', 'potentially', 'enable', 'information', 'disclosure', 'via', 'network', 'access', 'cgibincvenam', 'ecginamecve']"
   ]
  },
  {
   "cell_type": "code",
   "execution_count": 60,
   "id": "a7f283be",
   "metadata": {},
   "outputs": [
    {
     "data": {
      "text/plain": [
       "[1569, 1125, 3086, 11613, 8097, 706, 849]"
      ]
     },
     "execution_count": 60,
     "metadata": {},
     "output_type": "execute_result"
    }
   ],
   "source": [
    "r = []\n",
    "for f in ff:\n",
    "    r.append(www2[f])\n",
    "r"
   ]
  },
  {
   "cell_type": "code",
   "execution_count": 63,
   "id": "f51243a0",
   "metadata": {},
   "outputs": [
    {
     "data": {
      "text/plain": [
       "[11264, 3664, 1984, 120]"
      ]
     },
     "execution_count": 63,
     "metadata": {},
     "output_type": "execute_result"
    }
   ],
   "source": [
    "r = []\n",
    "for f in fff:\n",
    "    r.append(www2[f])\n",
    "r"
   ]
  },
  {
   "cell_type": "code",
   "execution_count": 56,
   "id": "23ff4a5d",
   "metadata": {},
   "outputs": [
    {
     "data": {
      "text/plain": [
       "371"
      ]
     },
     "execution_count": 56,
     "metadata": {},
     "output_type": "execute_result"
    }
   ],
   "source": [
    "www1['threatmeter']"
   ]
  },
  {
   "cell_type": "code",
   "execution_count": 59,
   "id": "9f119194",
   "metadata": {},
   "outputs": [],
   "source": [
    "y = set(bb) - set(aa) #과거에는 안 중요했지만 현재는 중요"
   ]
  },
  {
   "cell_type": "code",
   "execution_count": 70,
   "id": "6c4735c4",
   "metadata": {},
   "outputs": [
    {
     "data": {
      "text/plain": [
       "{'abusing',\n",
       " 'according',\n",
       " 'accused',\n",
       " 'actions',\n",
       " 'activities',\n",
       " 'actors',\n",
       " 'added',\n",
       " 'addresses',\n",
       " 'admits',\n",
       " 'adoption',\n",
       " 'advice',\n",
       " 'advisories',\n",
       " 'adware',\n",
       " 'affecting',\n",
       " 'agencies',\n",
       " 'agents',\n",
       " 'ago',\n",
       " 'aims',\n",
       " 'aircraft',\n",
       " 'alleged',\n",
       " 'allegedly',\n",
       " 'alliance',\n",
       " 'allowed',\n",
       " 'allowing',\n",
       " 'alphabetsuccess',\n",
       " 'americans',\n",
       " 'americas',\n",
       " 'amid',\n",
       " 'analysts',\n",
       " 'analyzing',\n",
       " 'androidsecuritynews',\n",
       " 'announcing',\n",
       " 'annual',\n",
       " 'anonymity',\n",
       " 'appears',\n",
       " 'applesecuritynews',\n",
       " 'appreciate',\n",
       " 'arent',\n",
       " 'arrest',\n",
       " 'arrests',\n",
       " 'ars',\n",
       " 'articles',\n",
       " 'artificial',\n",
       " 'ashley',\n",
       " 'asia',\n",
       " 'asked',\n",
       " 'asks',\n",
       " 'assange',\n",
       " 'assessment',\n",
       " 'atms',\n",
       " 'attacking',\n",
       " 'attention',\n",
       " 'au',\n",
       " 'aug',\n",
       " 'australian',\n",
       " 'authorities',\n",
       " 'automated',\n",
       " 'aviation',\n",
       " 'award',\n",
       " 'aware',\n",
       " 'backdoors',\n",
       " 'bag',\n",
       " 'band',\n",
       " 'bans',\n",
       " 'battery',\n",
       " 'bay',\n",
       " 'bbc',\n",
       " 'beat',\n",
       " 'becomes',\n",
       " 'becoming',\n",
       " 'begins',\n",
       " 'belevgevgeny',\n",
       " 'beware',\n",
       " 'bigger',\n",
       " 'biometric',\n",
       " 'birthday',\n",
       " 'bitcoins',\n",
       " 'biz',\n",
       " 'blame',\n",
       " 'blocks',\n",
       " 'blogs',\n",
       " 'bloomberg',\n",
       " 'bn',\n",
       " 'boss',\n",
       " 'botnets',\n",
       " 'bots',\n",
       " 'brain',\n",
       " 'breached',\n",
       " 'brings',\n",
       " 'bro',\n",
       " 'broken',\n",
       " 'brokers',\n",
       " 'browsers',\n",
       " 'budget',\n",
       " 'built',\n",
       " 'businesswire',\n",
       " 'byod',\n",
       " 'bytes',\n",
       " 'california',\n",
       " 'cameras',\n",
       " 'campaigns',\n",
       " 'canada',\n",
       " 'canadian',\n",
       " 'capabilities',\n",
       " 'career',\n",
       " 'cases',\n",
       " 'cash',\n",
       " 'catch',\n",
       " 'caught',\n",
       " 'caused',\n",
       " 'cbr',\n",
       " 'cbs',\n",
       " 'censorship',\n",
       " 'century',\n",
       " 'certificates',\n",
       " 'certified',\n",
       " 'chance',\n",
       " 'changed',\n",
       " 'changes',\n",
       " 'changing',\n",
       " 'charged',\n",
       " 'charges',\n",
       " 'che',\n",
       " 'cheap',\n",
       " 'checks',\n",
       " 'children',\n",
       " 'chinas',\n",
       " 'chips',\n",
       " 'chris',\n",
       " 'christmas',\n",
       " 'cissp',\n",
       " 'cities',\n",
       " 'clients',\n",
       " 'clinton',\n",
       " 'cloudbased',\n",
       " 'cloudsecuritynews',\n",
       " 'coding',\n",
       " 'cognitive',\n",
       " 'cold',\n",
       " 'college',\n",
       " 'combat',\n",
       " 'commands',\n",
       " 'comments',\n",
       " 'commercial',\n",
       " 'commission',\n",
       " 'committee',\n",
       " 'components',\n",
       " 'compromised',\n",
       " 'comptia',\n",
       " 'concept',\n",
       " 'concern',\n",
       " 'concerns',\n",
       " 'confirms',\n",
       " 'congress',\n",
       " 'consumers',\n",
       " 'continues',\n",
       " 'controls',\n",
       " 'cookbook',\n",
       " 'costs',\n",
       " 'council',\n",
       " 'countries',\n",
       " 'county',\n",
       " 'couple',\n",
       " 'coverage',\n",
       " 'crazy',\n",
       " 'creates',\n",
       " 'criminal',\n",
       " 'criminals',\n",
       " 'crisis',\n",
       " 'crooks',\n",
       " 'cryptocurrencies',\n",
       " 'ctf',\n",
       " 'culture',\n",
       " 'cut',\n",
       " 'cvea',\n",
       " 'cvean',\n",
       " 'cvethe',\n",
       " 'cybercriminals',\n",
       " 'cyberterrorism',\n",
       " 'darknet',\n",
       " 'darkreadingcomvulnerabilitie',\n",
       " 'darkweb',\n",
       " 'databases',\n",
       " 'dead',\n",
       " 'deals',\n",
       " 'debate',\n",
       " 'decade',\n",
       " 'deepweb',\n",
       " 'defcon',\n",
       " 'defence',\n",
       " 'defend',\n",
       " 'defending',\n",
       " 'defenses',\n",
       " 'definitive',\n",
       " 'delicious',\n",
       " 'delivers',\n",
       " 'demands',\n",
       " 'demonstrated',\n",
       " 'der',\n",
       " 'designed',\n",
       " 'developed',\n",
       " 'developing',\n",
       " 'dfir',\n",
       " 'dhs',\n",
       " 'diary',\n",
       " 'dirty',\n",
       " 'disaster',\n",
       " 'disclosed',\n",
       " 'discuss',\n",
       " 'distributing',\n",
       " 'diy',\n",
       " 'dnc',\n",
       " 'docs',\n",
       " 'documents',\n",
       " 'dog',\n",
       " 'dollar',\n",
       " 'domains',\n",
       " 'donald',\n",
       " 'done',\n",
       " 'downloads',\n",
       " 'drivers',\n",
       " 'drives',\n",
       " 'driving',\n",
       " 'drones',\n",
       " 'drops',\n",
       " 'drug',\n",
       " 'easier',\n",
       " 'east',\n",
       " 'ebay',\n",
       " 'ebook',\n",
       " 'economic',\n",
       " 'economy',\n",
       " 'edward',\n",
       " 'efforts',\n",
       " 'elections',\n",
       " 'embedded',\n",
       " 'emerging',\n",
       " 'encrypted',\n",
       " 'engineer',\n",
       " 'english',\n",
       " 'enjoy',\n",
       " 'enlarge',\n",
       " 'enterprises',\n",
       " 'episode',\n",
       " 'era',\n",
       " 'europol',\n",
       " 'events',\n",
       " 'evil',\n",
       " 'exactly',\n",
       " 'exam',\n",
       " 'exclusive',\n",
       " 'executive',\n",
       " 'executives',\n",
       " 'exercise',\n",
       " 'existing',\n",
       " 'expands',\n",
       " 'expected',\n",
       " 'expensive',\n",
       " 'explains',\n",
       " 'exploring',\n",
       " 'eyes',\n",
       " 'facebooks',\n",
       " 'faces',\n",
       " 'failed',\n",
       " 'failing',\n",
       " 'fails',\n",
       " 'fall',\n",
       " 'fan',\n",
       " 'faster',\n",
       " 'fatal',\n",
       " 'fears',\n",
       " 'feb',\n",
       " 'feds',\n",
       " 'feel',\n",
       " 'ff',\n",
       " 'fighting',\n",
       " 'fine',\n",
       " 'firewalls',\n",
       " 'fixed',\n",
       " 'florida',\n",
       " 'flying',\n",
       " 'fo',\n",
       " 'followers',\n",
       " 'forbes',\n",
       " 'forces',\n",
       " 'founder',\n",
       " 'fourth',\n",
       " 'fox',\n",
       " 'france',\n",
       " 'francisco',\n",
       " 'freedom',\n",
       " 'fresh',\n",
       " 'fri',\n",
       " 'friends',\n",
       " 'ftc',\n",
       " 'fuck',\n",
       " 'fucking',\n",
       " 'fuel',\n",
       " 'fundamentals',\n",
       " 'funny',\n",
       " 'fuzzing',\n",
       " 'gadgets',\n",
       " 'games',\n",
       " 'gang',\n",
       " 'gartner',\n",
       " 'gas',\n",
       " 'gchq',\n",
       " 'germany',\n",
       " 'giant',\n",
       " 'gives',\n",
       " 'goal',\n",
       " 'goals',\n",
       " 'gone',\n",
       " 'gop',\n",
       " 'governments',\n",
       " 'govinfosecurity',\n",
       " 'govt',\n",
       " 'greatest',\n",
       " 'groups',\n",
       " 'grow',\n",
       " 'guilty',\n",
       " 'guys',\n",
       " 'habits',\n",
       " 'hackerfanatic',\n",
       " 'hacktivism',\n",
       " 'hand',\n",
       " 'hands',\n",
       " 'happened',\n",
       " 'happens',\n",
       " 'hate',\n",
       " 'havent',\n",
       " 'hdp',\n",
       " 'hear',\n",
       " 'heard',\n",
       " 'heart',\n",
       " 'heartbleed',\n",
       " 'helped',\n",
       " 'helping',\n",
       " 'helps',\n",
       " 'herald',\n",
       " 'hey',\n",
       " 'hi',\n",
       " 'hiding',\n",
       " 'highlights',\n",
       " 'holes',\n",
       " 'holiday',\n",
       " 'homeland',\n",
       " 'honeypots',\n",
       " 'hope',\n",
       " 'hospital',\n",
       " 'hosting',\n",
       " 'hour',\n",
       " 'https',\n",
       " 'hundreds',\n",
       " 'hunt',\n",
       " 'hunting',\n",
       " 'iasielloe',\n",
       " 'ica',\n",
       " 'ics',\n",
       " 'identified',\n",
       " 'idg',\n",
       " 'ifagan',\n",
       " 'ill',\n",
       " 'impossible',\n",
       " 'improved',\n",
       " 'inch',\n",
       " 'increasing',\n",
       " 'increasingly',\n",
       " 'infect',\n",
       " 'infected',\n",
       " 'infection',\n",
       " 'infosecuritymagazine',\n",
       " 'initiative',\n",
       " 'insights',\n",
       " 'installed',\n",
       " 'integrated',\n",
       " 'intelligentexploitcomviewdetailsh',\n",
       " 'intended',\n",
       " 'interest',\n",
       " 'interested',\n",
       " 'interesting',\n",
       " 'introduces',\n",
       " 'introducing',\n",
       " 'invest',\n",
       " 'investigating',\n",
       " 'investment',\n",
       " 'invisible',\n",
       " 'iphones',\n",
       " 'iranian',\n",
       " 'irs',\n",
       " 'isbuzz',\n",
       " 'islamic',\n",
       " 'isp',\n",
       " 'israel',\n",
       " 'israeli',\n",
       " 'issued',\n",
       " 'ist',\n",
       " 'italian',\n",
       " 'jailbreak',\n",
       " 'joins',\n",
       " 'journey',\n",
       " 'judge',\n",
       " 'jul',\n",
       " 'jun',\n",
       " 'junos',\n",
       " 'keeping',\n",
       " 'kevin',\n",
       " 'keylogger',\n",
       " 'killed',\n",
       " 'killer',\n",
       " 'knows',\n",
       " 'krebs',\n",
       " 'lake',\n",
       " 'laptops',\n",
       " 'largest',\n",
       " 'las',\n",
       " 'launched',\n",
       " 'laws',\n",
       " 'lawsuit',\n",
       " 'leadfromwithin',\n",
       " 'leads',\n",
       " 'leaks',\n",
       " 'learned',\n",
       " 'leaves',\n",
       " 'les',\n",
       " 'lessons',\n",
       " 'lexology',\n",
       " 'li',\n",
       " 'lights',\n",
       " 'linked',\n",
       " 'lives',\n",
       " 'living',\n",
       " 'locky',\n",
       " 'logs',\n",
       " 'lol',\n",
       " 'lollydaskal',\n",
       " 'looks',\n",
       " 'los',\n",
       " 'ma',\n",
       " 'macbook',\n",
       " 'machines',\n",
       " 'madison',\n",
       " 'malvertising',\n",
       " 'malwaremustdie',\n",
       " 'malwaresecuritynews',\n",
       " 'managed',\n",
       " 'managing',\n",
       " 'mandriva',\n",
       " 'maps',\n",
       " 'mar',\n",
       " 'markets',\n",
       " 'mastering',\n",
       " 'matter',\n",
       " 'matters',\n",
       " 'maybe',\n",
       " 'mdvsa',\n",
       " 'meltdown',\n",
       " 'members',\n",
       " 'men',\n",
       " 'methods',\n",
       " 'metrics',\n",
       " 'microsofts',\n",
       " 'microsofttechnet',\n",
       " 'mike',\n",
       " 'mind',\n",
       " 'mine',\n",
       " 'ministry',\n",
       " 'minute',\n",
       " 'missing',\n",
       " 'mission',\n",
       " 'mistake',\n",
       " 'mistakes',\n",
       " 'models',\n",
       " 'moment',\n",
       " 'mon',\n",
       " 'morning',\n",
       " 'moves',\n",
       " 'moving',\n",
       " 'named',\n",
       " 'nasa',\n",
       " 'nation',\n",
       " 'nato',\n",
       " 'navy',\n",
       " 'nbc',\n",
       " 'needed',\n",
       " 'netflix',\n",
       " 'networking',\n",
       " 'newsview',\n",
       " 'nhk',\n",
       " 'notes',\n",
       " 'nov',\n",
       " 'nytimes',\n",
       " 'objects',\n",
       " 'oct',\n",
       " 'odisseus',\n",
       " 'offering',\n",
       " 'officer',\n",
       " 'officials',\n",
       " 'oil',\n",
       " 'ones',\n",
       " 'operational',\n",
       " 'opinion',\n",
       " 'opportunities',\n",
       " 'opportunity',\n",
       " 'opsec',\n",
       " 'osint',\n",
       " 'outbreak',\n",
       " 'owasp',\n",
       " 'owners',\n",
       " 'packages',\n",
       " 'pages',\n",
       " 'paid',\n",
       " 'para',\n",
       " 'parents',\n",
       " 'parsing',\n",
       " 'partners',\n",
       " 'pas',\n",
       " 'patched',\n",
       " 'patching',\n",
       " 'patent',\n",
       " 'patients',\n",
       " 'paul',\n",
       " 'pawn',\n",
       " 'paying',\n",
       " 'payments',\n",
       " 'pcie',\n",
       " 'pcworld',\n",
       " 'peerlyst',\n",
       " 'pentagon',\n",
       " 'pentesting',\n",
       " 'peoples',\n",
       " 'permissions',\n",
       " 'perspective',\n",
       " 'pick',\n",
       " 'pictures',\n",
       " 'piece',\n",
       " 'pilot',\n",
       " 'pinterest',\n",
       " 'pirate',\n",
       " 'platforms',\n",
       " 'pleads',\n",
       " 'pocket',\n",
       " 'points',\n",
       " 'policies',\n",
       " 'political',\n",
       " 'politics',\n",
       " 'poor',\n",
       " 'por',\n",
       " 'porn',\n",
       " 'pos',\n",
       " 'posts',\n",
       " 'pour',\n",
       " 'powers',\n",
       " 'ppl',\n",
       " 'practices',\n",
       " 'predictions',\n",
       " 'predictive',\n",
       " 'presidential',\n",
       " 'principles',\n",
       " 'prison',\n",
       " 'privileged',\n",
       " 'privileges',\n",
       " 'proactive',\n",
       " 'proactivedefend',\n",
       " 'problems',\n",
       " 'productivity',\n",
       " 'professionals',\n",
       " 'profit',\n",
       " 'programs',\n",
       " 'projects',\n",
       " 'proof',\n",
       " 'pros',\n",
       " 'puts',\n",
       " 'quite',\n",
       " 'raises',\n",
       " 'rantyben',\n",
       " 'reasons',\n",
       " 'reconnaissance',\n",
       " 'references',\n",
       " 'reflected',\n",
       " 'related',\n",
       " 'reported',\n",
       " 'requests',\n",
       " 'required',\n",
       " 'requires',\n",
       " 'resources',\n",
       " 'returns',\n",
       " 'retweets',\n",
       " 'revealed',\n",
       " 'revenue',\n",
       " 'reversing',\n",
       " 'reviews',\n",
       " 'reward',\n",
       " 'rights',\n",
       " 'road',\n",
       " 'roadshow',\n",
       " 'robots',\n",
       " 'rootkit',\n",
       " 'routers',\n",
       " 'rscmagazinen',\n",
       " 'rthehackersn',\n",
       " 'rts',\n",
       " 'safer',\n",
       " 'saudi',\n",
       " 'saying',\n",
       " 'scammers',\n",
       " 'schneier',\n",
       " 'scientists',\n",
       " 'scripts',\n",
       " 'sea',\n",
       " 'season',\n",
       " 'seconds',\n",
       " 'securelist',\n",
       " 'securityaffair',\n",
       " 'securityfocuscomarchive',\n",
       " 'securitytubenetvideo',\n",
       " 'seek',\n",
       " 'seeks',\n",
       " 'selecting',\n",
       " 'senate',\n",
       " 'sentenced',\n",
       " 'seriously',\n",
       " 'sets',\n",
       " 'settings',\n",
       " 'seven',\n",
       " 'sex',\n",
       " 'shared',\n",
       " 'shares',\n",
       " 'signed',\n",
       " 'significant',\n",
       " 'signs',\n",
       " 'silent',\n",
       " 'singapore',\n",
       " 'sky',\n",
       " 'sles',\n",
       " 'slider',\n",
       " 'slides',\n",
       " 'smarter',\n",
       " 'sms',\n",
       " 'snowden',\n",
       " 'softpedia',\n",
       " 'sold',\n",
       " 'solo',\n",
       " 'solve',\n",
       " 'sophisticated',\n",
       " 'sorry',\n",
       " 'sources',\n",
       " 'spectre',\n",
       " 'spending',\n",
       " 'spies',\n",
       " 'spoofing',\n",
       " 'sports',\n",
       " 'spot',\n",
       " 'spotted',\n",
       " 'spreading',\n",
       " 'sqli',\n",
       " 'stand',\n",
       " 'standards',\n",
       " 'starts',\n",
       " 'steals',\n",
       " 'stepbystep',\n",
       " 'steve',\n",
       " 'stick',\n",
       " 'stock',\n",
       " 'stole',\n",
       " 'stores',\n",
       " 'stormcast',\n",
       " 'strike',\n",
       " 'struts',\n",
       " 'stuff',\n",
       " 'stuxnet',\n",
       " 'sues',\n",
       " 'suffered',\n",
       " 'summer',\n",
       " 'summit',\n",
       " 'sunday',\n",
       " 'supported',\n",
       " 'supports',\n",
       " 'susesu',\n",
       " 'suspect',\n",
       " 'suspected',\n",
       " 'syria',\n",
       " 'tactics',\n",
       " 'taken',\n",
       " 'talking',\n",
       " 'talks',\n",
       " 'tap',\n",
       " 'tatus',\n",
       " 'teach',\n",
       " 'teamcymru',\n",
       " 'teams',\n",
       " 'techrepublic',\n",
       " 'tells',\n",
       " 'ten',\n",
       " 'terror',\n",
       " 'terrorist',\n",
       " 'terrorists',\n",
       " 'tesla',\n",
       " 'testers',\n",
       " 'tests',\n",
       " 'texas',\n",
       " 'thank',\n",
       " 'thehackernews',\n",
       " 'thehill',\n",
       " 'theory',\n",
       " 'thieves',\n",
       " 'thn',\n",
       " 'thomas',\n",
       " 'threatens',\n",
       " 'thursday',\n",
       " 'timfargo',\n",
       " 'tinolle',\n",
       " 'tls',\n",
       " 'tmlid',\n",
       " 'tobemcomcyberwarcyber',\n",
       " 'todays',\n",
       " 'told',\n",
       " 'tomorrow',\n",
       " 'took',\n",
       " 'toolbox',\n",
       " 'toolsby',\n",
       " 'totally',\n",
       " 'tour',\n",
       " 'toward',\n",
       " 'travel',\n",
       " 'trendlabs',\n",
       " 'trendmicro',\n",
       " 'tricks',\n",
       " 'tried',\n",
       " 'trouble',\n",
       " 'trumps',\n",
       " 'trusted',\n",
       " 'truth',\n",
       " 'trying',\n",
       " 'tu',\n",
       " 'turkey',\n",
       " 'turning',\n",
       " 'turns',\n",
       " 'tus',\n",
       " 'tweet',\n",
       " 'tweets',\n",
       " 'twofactor',\n",
       " 'ukraine',\n",
       " 'una',\n",
       " 'understand',\n",
       " 'unified',\n",
       " 'unpatched',\n",
       " 'unveils',\n",
       " 'vendors',\n",
       " 'victims',\n",
       " 'videos',\n",
       " 'viruses',\n",
       " 'vu',\n",
       " 'wake',\n",
       " 'wallet',\n",
       " 'wanted',\n",
       " 'wars',\n",
       " 'wasnt',\n",
       " 'watching',\n",
       " 'water',\n",
       " 'watson',\n",
       " 'weapon',\n",
       " 'weapons',\n",
       " 'wed',\n",
       " 'wednesday',\n",
       " 'weekend',\n",
       " 'weeks',\n",
       " 'went',\n",
       " 'west',\n",
       " 'weve',\n",
       " 'whos',\n",
       " 'wi',\n",
       " 'wins',\n",
       " 'wish',\n",
       " 'woman',\n",
       " 'women',\n",
       " 'workers',\n",
       " 'workshop',\n",
       " 'worry',\n",
       " 'worse',\n",
       " 'worth',\n",
       " 'written',\n",
       " 'www',\n",
       " 'xabaddea',\n",
       " 'xbox',\n",
       " 'xperia',\n",
       " 'xrz',\n",
       " 'yearold',\n",
       " 'yo',\n",
       " 'youll',\n",
       " 'young',\n",
       " 'youve',\n",
       " 'z'}"
      ]
     },
     "execution_count": 70,
     "metadata": {},
     "output_type": "execute_result"
    }
   ],
   "source": [
    "y"
   ]
  },
  {
   "cell_type": "code",
   "execution_count": 112,
   "id": "accd65ab",
   "metadata": {},
   "outputs": [
    {
     "data": {
      "text/plain": [
       "False"
      ]
     },
     "execution_count": 112,
     "metadata": {},
     "output_type": "execute_result"
    }
   ],
   "source": [
    "'cve' in y"
   ]
  },
  {
   "cell_type": "code",
   "execution_count": null,
   "id": "7373da68",
   "metadata": {},
   "outputs": [],
   "source": []
  },
  {
   "cell_type": "code",
   "execution_count": 81,
   "id": "e5d04b1b",
   "metadata": {},
   "outputs": [
    {
     "data": {
      "text/plain": [
       "[7,\n",
       " 2059,\n",
       " 64,\n",
       " 1246,\n",
       " 6264,\n",
       " 97,\n",
       " 425,\n",
       " 153,\n",
       " 83,\n",
       " 1,\n",
       " 142,\n",
       " 8,\n",
       " 207,\n",
       " 156,\n",
       " 27,\n",
       " 132,\n",
       " 4,\n",
       " 71,\n",
       " 21,\n",
       " 1056,\n",
       " 1054]"
      ]
     },
     "execution_count": 81,
     "metadata": {},
     "output_type": "execute_result"
    }
   ],
   "source": [
    "asd = []\n",
    "for f in ffff:\n",
    "    cnt = 0\n",
    "    for i in www2.values():\n",
    "        if i >= int(www2[f]):\n",
    "            cnt += 1\n",
    "    asd.append(cnt)\n",
    "asd"
   ]
  },
  {
   "cell_type": "code",
   "execution_count": 83,
   "id": "4e73d2a9",
   "metadata": {
    "scrolled": true
   },
   "outputs": [
    {
     "data": {
      "text/plain": [
       "21"
      ]
     },
     "execution_count": 83,
     "metadata": {},
     "output_type": "execute_result"
    }
   ],
   "source": [
    "len([6, 1592, 61, 1029, 4733, 97, 394, 148, 86, 1, 135, 7, 190, 144, 24, 129, 2, 76, 20, 2300, 2300])"
   ]
  },
  {
   "cell_type": "code",
   "execution_count": 84,
   "id": "5389fca2",
   "metadata": {},
   "outputs": [
    {
     "data": {
      "text/plain": [
       "21"
      ]
     },
     "execution_count": 84,
     "metadata": {},
     "output_type": "execute_result"
    }
   ],
   "source": [
    "len(ffff)"
   ]
  },
  {
   "cell_type": "code",
   "execution_count": 85,
   "id": "6572fe13",
   "metadata": {},
   "outputs": [
    {
     "data": {
      "text/plain": [
       "20"
      ]
     },
     "execution_count": 85,
     "metadata": {},
     "output_type": "execute_result"
    }
   ],
   "source": [
    "len([6, 2047, 63, 1242, 96, 424, 152, 82, 1, 141, 7, 206, 155, 26, 131, 3, 70, 20, 1054, 1053])"
   ]
  },
  {
   "cell_type": "code",
   "execution_count": null,
   "id": "8f6182b9",
   "metadata": {},
   "outputs": [],
   "source": []
  },
  {
   "cell_type": "code",
   "execution_count": 33,
   "id": "5be38673",
   "metadata": {},
   "outputs": [
    {
     "name": "stdout",
     "output_type": "stream",
     "text": [
      "371\n"
     ]
    }
   ],
   "source": [
    "print(www1['threatmeter'])"
   ]
  },
  {
   "cell_type": "code",
   "execution_count": 34,
   "id": "cb688afe",
   "metadata": {},
   "outputs": [
    {
     "name": "stdout",
     "output_type": "stream",
     "text": [
      "242\n"
     ]
    }
   ],
   "source": [
    "print(www1['hacked'])"
   ]
  },
  {
   "cell_type": "code",
   "execution_count": 38,
   "id": "c418a560",
   "metadata": {},
   "outputs": [
    {
     "name": "stdout",
     "output_type": "stream",
     "text": [
      "2599\n"
     ]
    }
   ],
   "source": [
    "print(www1['email']+ www1['emails'])"
   ]
  },
  {
   "cell_type": "code",
   "execution_count": 27,
   "id": "782433f5",
   "metadata": {},
   "outputs": [
    {
     "name": "stdout",
     "output_type": "stream",
     "text": [
      "+--------------------------------------------------------------------------------------------------------------------+----------------------------------------------------------------------------------------------------------------------------------------------------------------------------------------------------------------------------------------------------------------------------------------------------------------------------------+\n",
      "|text                                                                                                                |feature1                                                                                                                                                                                                                                                                                                                          |\n",
      "+--------------------------------------------------------------------------------------------------------------------+----------------------------------------------------------------------------------------------------------------------------------------------------------------------------------------------------------------------------------------------------------------------------------------------------------------------------------+\n",
      "|threatmeter hacked emails of san francisco muni rail system hacker reveals clues about identity and tactics kr  fin |[962, 1255, 3200, 2650, 52, 267, 3456, 606, 4706, 0, 0, 0, 0, 0, 0, 0, 0, 0, 0, 0, 0, 0, 0, 0, 0, 0, 0, 0, 0, 0, 0, 0, 0, 0, 0, 0, 0, 0, 0, 0, 0, 0, 0, 0, 0, 0, 0, 0, 0, 0, 0, 0, 0, 0, 0, 0, 0, 0, 0, 0, 0, 0, 0, 0, 0, 0, 0, 0, 0, 0, 0, 0, 0, 0, 0, 0, 0, 0, 0, 0, 0, 0, 0, 0, 0, 0, 0, 0, 0, 0, 0, 0, 0, 0, 0, 0, 0, 0, 0, 0]|\n",
      "|first android malware targeting pcs uncovered  fbxtynm                                                              |[454, 58, 447, 3169, 4938, 0, 0, 0, 0, 0, 0, 0, 0, 0, 0, 0, 0, 0, 0, 0, 0, 0, 0, 0, 0, 0, 0, 0, 0, 0, 0, 0, 0, 0, 0, 0, 0, 0, 0, 0, 0, 0, 0, 0, 0, 0, 0, 0, 0, 0, 0, 0, 0, 0, 0, 0, 0, 0, 0, 0, 0, 0, 0, 0, 0, 0, 0, 0, 0, 0, 0, 0, 0, 0, 0, 0, 0, 0, 0, 0, 0, 0, 0, 0, 0, 0, 0, 0, 0, 0, 0, 0, 0, 0, 0, 0, 0, 0, 0, 0]           |\n",
      "|adobe fixes six code execution bugs in flash  mokgxr                                                                |[105, 3326, 3759, 11, 73, 4156, 332, 0, 0, 0, 0, 0, 0, 0, 0, 0, 0, 0, 0, 0, 0, 0, 0, 0, 0, 0, 0, 0, 0, 0, 0, 0, 0, 0, 0, 0, 0, 0, 0, 0, 0, 0, 0, 0, 0, 0, 0, 0, 0, 0, 0, 0, 0, 0, 0, 0, 0, 0, 0, 0, 0, 0, 0, 0, 0, 0, 0, 0, 0, 0, 0, 0, 0, 0, 0, 0, 0, 0, 0, 0, 0, 0, 0, 0, 0, 0, 0, 0, 0, 0, 0, 0, 0, 0, 0, 0, 0, 0, 0, 0]       |\n",
      "+--------------------------------------------------------------------------------------------------------------------+----------------------------------------------------------------------------------------------------------------------------------------------------------------------------------------------------------------------------------------------------------------------------------------------------------------------------------+\n",
      "only showing top 3 rows\n",
      "\n"
     ]
    }
   ],
   "source": [
    "df_example.select('text', 'feature1').show(3, truncate=False)"
   ]
  },
  {
   "cell_type": "code",
   "execution_count": 38,
   "id": "00da7d2e",
   "metadata": {},
   "outputs": [
    {
     "ename": "NameError",
     "evalue": "name 'df_example' is not defined",
     "output_type": "error",
     "traceback": [
      "\u001b[0;31m---------------------------------------------------------------------------\u001b[0m",
      "\u001b[0;31mNameError\u001b[0m                                 Traceback (most recent call last)",
      "\u001b[0;32m<ipython-input-38-dc132bc807ae>\u001b[0m in \u001b[0;36m<module>\u001b[0;34m\u001b[0m\n\u001b[0;32m----> 1\u001b[0;31m \u001b[0mdf_example\u001b[0m\u001b[0;34m.\u001b[0m\u001b[0mrdd\u001b[0m\u001b[0;34m.\u001b[0m\u001b[0mgetNumPartitions\u001b[0m\u001b[0;34m(\u001b[0m\u001b[0;34m)\u001b[0m\u001b[0;34m\u001b[0m\u001b[0;34m\u001b[0m\u001b[0m\n\u001b[0m",
      "\u001b[0;31mNameError\u001b[0m: name 'df_example' is not defined"
     ]
    }
   ],
   "source": [
    "df_example.rdd.getNumPartitions()"
   ]
  },
  {
   "cell_type": "code",
   "execution_count": 39,
   "id": "78ba64fb",
   "metadata": {},
   "outputs": [
    {
     "ename": "NameError",
     "evalue": "name 'df_example' is not defined",
     "output_type": "error",
     "traceback": [
      "\u001b[0;31m---------------------------------------------------------------------------\u001b[0m",
      "\u001b[0;31mNameError\u001b[0m                                 Traceback (most recent call last)",
      "\u001b[0;32m<ipython-input-39-fc9a60b09de9>\u001b[0m in \u001b[0;36m<module>\u001b[0;34m\u001b[0m\n\u001b[0;32m----> 1\u001b[0;31m \u001b[0mdf_example\u001b[0m\u001b[0;34m.\u001b[0m\u001b[0mcount\u001b[0m\u001b[0;34m(\u001b[0m\u001b[0;34m)\u001b[0m\u001b[0;34m\u001b[0m\u001b[0;34m\u001b[0m\u001b[0m\n\u001b[0m",
      "\u001b[0;31mNameError\u001b[0m: name 'df_example' is not defined"
     ]
    }
   ],
   "source": [
    "df_example.count()"
   ]
  },
  {
   "cell_type": "code",
   "execution_count": 40,
   "id": "f7fc98d2",
   "metadata": {
    "scrolled": true
   },
   "outputs": [
    {
     "data": {
      "text/plain": [
       "99756"
      ]
     },
     "execution_count": 40,
     "metadata": {},
     "output_type": "execute_result"
    }
   ],
   "source": [
    "r2.count()"
   ]
  },
  {
   "cell_type": "code",
   "execution_count": 41,
   "id": "81625009",
   "metadata": {},
   "outputs": [],
   "source": [
    "glom_list =  r2.rdd.glom().collect()"
   ]
  },
  {
   "cell_type": "code",
   "execution_count": 75,
   "id": "1e176b23",
   "metadata": {},
   "outputs": [
    {
     "name": "stdout",
     "output_type": "stream",
     "text": [
      "5\n",
      "42029\n",
      "41818\n",
      "42744\n",
      "44450\n",
      "28471\n",
      "199512\n"
     ]
    }
   ],
   "source": [
    "print(len(glom_list))\n",
    "summ = 0\n",
    "for i in glom_list:\n",
    "    print(len(i))\n",
    "    summ += len(i)\n",
    "print(summ)"
   ]
  },
  {
   "cell_type": "code",
   "execution_count": 39,
   "id": "56d4ac64",
   "metadata": {},
   "outputs": [
    {
     "data": {
      "text/plain": [
       "DataFrame[key: bigint, value: array<bigint>]"
      ]
     },
     "execution_count": 39,
     "metadata": {},
     "output_type": "execute_result"
    }
   ],
   "source": [
    "# df_example.select('label','feature1').rdd.map(lambda x: x).reduceByKey(lambda a,b: a+b).toDF(['key','value'])"
   ]
  },
  {
   "cell_type": "code",
   "execution_count": 27,
   "id": "ba3e98e4",
   "metadata": {},
   "outputs": [],
   "source": [
    "glom_list =  df_example.rdd.glom().collect()"
   ]
  },
  {
   "cell_type": "code",
   "execution_count": 37,
   "id": "1000f34d",
   "metadata": {},
   "outputs": [
    {
     "ename": "NameError",
     "evalue": "name 'glom_list' is not defined",
     "output_type": "error",
     "traceback": [
      "\u001b[0;31m---------------------------------------------------------------------------\u001b[0m",
      "\u001b[0;31mNameError\u001b[0m                                 Traceback (most recent call last)",
      "\u001b[0;32m<ipython-input-37-7758d102e300>\u001b[0m in \u001b[0;36m<module>\u001b[0;34m\u001b[0m\n\u001b[0;32m----> 1\u001b[0;31m \u001b[0mprint\u001b[0m\u001b[0;34m(\u001b[0m\u001b[0mlen\u001b[0m\u001b[0;34m(\u001b[0m\u001b[0mglom_list\u001b[0m\u001b[0;34m)\u001b[0m\u001b[0;34m)\u001b[0m\u001b[0;34m\u001b[0m\u001b[0;34m\u001b[0m\u001b[0m\n\u001b[0m\u001b[1;32m      2\u001b[0m \u001b[0msumm\u001b[0m \u001b[0;34m=\u001b[0m \u001b[0;36m0\u001b[0m\u001b[0;34m\u001b[0m\u001b[0;34m\u001b[0m\u001b[0m\n\u001b[1;32m      3\u001b[0m \u001b[0;32mfor\u001b[0m \u001b[0mi\u001b[0m \u001b[0;32min\u001b[0m \u001b[0mglom_list\u001b[0m\u001b[0;34m:\u001b[0m\u001b[0;34m\u001b[0m\u001b[0;34m\u001b[0m\u001b[0m\n\u001b[1;32m      4\u001b[0m     \u001b[0mprint\u001b[0m\u001b[0;34m(\u001b[0m\u001b[0mlen\u001b[0m\u001b[0;34m(\u001b[0m\u001b[0mi\u001b[0m\u001b[0;34m)\u001b[0m\u001b[0;34m)\u001b[0m\u001b[0;34m\u001b[0m\u001b[0;34m\u001b[0m\u001b[0m\n\u001b[1;32m      5\u001b[0m     \u001b[0msumm\u001b[0m \u001b[0;34m+=\u001b[0m \u001b[0mlen\u001b[0m\u001b[0;34m(\u001b[0m\u001b[0mi\u001b[0m\u001b[0;34m)\u001b[0m\u001b[0;34m\u001b[0m\u001b[0;34m\u001b[0m\u001b[0m\n",
      "\u001b[0;31mNameError\u001b[0m: name 'glom_list' is not defined"
     ]
    }
   ],
   "source": [
    "print(len(glom_list))\n",
    "summ = 0\n",
    "for i in glom_list:\n",
    "    print(len(i))\n",
    "    summ += len(i)\n",
    "print(summ)"
   ]
  },
  {
   "cell_type": "code",
   "execution_count": 63,
   "id": "aed80def",
   "metadata": {},
   "outputs": [
    {
     "name": "stdout",
     "output_type": "stream",
     "text": [
      "+--------------------+-----+--------------------+--------------------+\n",
      "|                text|label|            feature1|            feature2|\n",
      "+--------------------+-----+--------------------+--------------------+\n",
      "|threatmeter hacke...|    1|[962, 1255, 3200,...|[1520, 1002, 2743...|\n",
      "|first android mal...|    1|[454, 58, 447, 31...|[46, 3722, 0, 0, ...|\n",
      "|adobe fixes six c...|    1|[105, 3326, 3759,...|[1596, 673, 2609,...|\n",
      "| scienceporn  in ...|    1|[1562, 0, 0, 0, 0...|[509, 0, 0, 0, 0,...|\n",
      "|riskware hmoyfzb ...|    1|[0, 0, 0, 0, 0, 0...|[0, 0, 0, 0, 0, 0...|\n",
      "+--------------------+-----+--------------------+--------------------+\n",
      "only showing top 5 rows\n",
      "\n"
     ]
    }
   ],
   "source": [
    "df_example.show(5)"
   ]
  },
  {
   "cell_type": "code",
   "execution_count": 30,
   "id": "4ac8a684",
   "metadata": {
    "scrolled": true
   },
   "outputs": [
    {
     "name": "stdout",
     "output_type": "stream",
     "text": [
      "+--------------------------------------------------------------------------------------------------------------------+----------------------------------------------------------------------------------------------------------------------------------------------------------------------------------------------------------------------------------------------------------------------------------------------------------------------------------+-------------------------------------------------------------------------------------------------------------------------------------------------------------------------------------------------------------------------------------------------------------------------------------------------------------------------------+\n",
      "|text                                                                                                                |feature1                                                                                                                                                                                                                                                                                                                          |feature2                                                                                                                                                                                                                                                                                                                       |\n",
      "+--------------------------------------------------------------------------------------------------------------------+----------------------------------------------------------------------------------------------------------------------------------------------------------------------------------------------------------------------------------------------------------------------------------------------------------------------------------+-------------------------------------------------------------------------------------------------------------------------------------------------------------------------------------------------------------------------------------------------------------------------------------------------------------------------------+\n",
      "|threatmeter hacked emails of san francisco muni rail system hacker reveals clues about identity and tactics kr  fin |[962, 1255, 3200, 2650, 52, 267, 3456, 606, 4706, 0, 0, 0, 0, 0, 0, 0, 0, 0, 0, 0, 0, 0, 0, 0, 0, 0, 0, 0, 0, 0, 0, 0, 0, 0, 0, 0, 0, 0, 0, 0, 0, 0, 0, 0, 0, 0, 0, 0, 0, 0, 0, 0, 0, 0, 0, 0, 0, 0, 0, 0, 0, 0, 0, 0, 0, 0, 0, 0, 0, 0, 0, 0, 0, 0, 0, 0, 0, 0, 0, 0, 0, 0, 0, 0, 0, 0, 0, 0, 0, 0, 0, 0, 0, 0, 0, 0, 0, 0, 0, 0]|[1548, 2316, 1184, 4417, 786, 292, 2499, 0, 0, 0, 0, 0, 0, 0, 0, 0, 0, 0, 0, 0, 0, 0, 0, 0, 0, 0, 0, 0, 0, 0, 0, 0, 0, 0, 0, 0, 0, 0, 0, 0, 0, 0, 0, 0, 0, 0, 0, 0, 0, 0, 0, 0, 0, 0, 0, 0, 0, 0, 0, 0, 0, 0, 0, 0, 0, 0, 0, 0, 0, 0, 0, 0, 0, 0, 0, 0, 0, 0, 0, 0, 0, 0, 0, 0, 0, 0, 0, 0, 0, 0, 0, 0, 0, 0, 0, 0, 0, 0, 0, 0]|\n",
      "|first android malware targeting pcs uncovered  fbxtynm                                                              |[454, 58, 447, 3169, 4938, 0, 0, 0, 0, 0, 0, 0, 0, 0, 0, 0, 0, 0, 0, 0, 0, 0, 0, 0, 0, 0, 0, 0, 0, 0, 0, 0, 0, 0, 0, 0, 0, 0, 0, 0, 0, 0, 0, 0, 0, 0, 0, 0, 0, 0, 0, 0, 0, 0, 0, 0, 0, 0, 0, 0, 0, 0, 0, 0, 0, 0, 0, 0, 0, 0, 0, 0, 0, 0, 0, 0, 0, 0, 0, 0, 0, 0, 0, 0, 0, 0, 0, 0, 0, 0, 0, 0, 0, 0, 0, 0, 0, 0, 0, 0]           |[43, 1057, 757, 0, 0, 0, 0, 0, 0, 0, 0, 0, 0, 0, 0, 0, 0, 0, 0, 0, 0, 0, 0, 0, 0, 0, 0, 0, 0, 0, 0, 0, 0, 0, 0, 0, 0, 0, 0, 0, 0, 0, 0, 0, 0, 0, 0, 0, 0, 0, 0, 0, 0, 0, 0, 0, 0, 0, 0, 0, 0, 0, 0, 0, 0, 0, 0, 0, 0, 0, 0, 0, 0, 0, 0, 0, 0, 0, 0, 0, 0, 0, 0, 0, 0, 0, 0, 0, 0, 0, 0, 0, 0, 0, 0, 0, 0, 0, 0, 0]             |\n",
      "|adobe fixes six code execution bugs in flash  mokgxr                                                                |[105, 3326, 3759, 11, 73, 4156, 332, 0, 0, 0, 0, 0, 0, 0, 0, 0, 0, 0, 0, 0, 0, 0, 0, 0, 0, 0, 0, 0, 0, 0, 0, 0, 0, 0, 0, 0, 0, 0, 0, 0, 0, 0, 0, 0, 0, 0, 0, 0, 0, 0, 0, 0, 0, 0, 0, 0, 0, 0, 0, 0, 0, 0, 0, 0, 0, 0, 0, 0, 0, 0, 0, 0, 0, 0, 0, 0, 0, 0, 0, 0, 0, 0, 0, 0, 0, 0, 0, 0, 0, 0, 0, 0, 0, 0, 0, 0, 0, 0, 0, 0]       |[3337, 1657, 466, 2049, 1909, 0, 0, 0, 0, 0, 0, 0, 0, 0, 0, 0, 0, 0, 0, 0, 0, 0, 0, 0, 0, 0, 0, 0, 0, 0, 0, 0, 0, 0, 0, 0, 0, 0, 0, 0, 0, 0, 0, 0, 0, 0, 0, 0, 0, 0, 0, 0, 0, 0, 0, 0, 0, 0, 0, 0, 0, 0, 0, 0, 0, 0, 0, 0, 0, 0, 0, 0, 0, 0, 0, 0, 0, 0, 0, 0, 0, 0, 0, 0, 0, 0, 0, 0, 0, 0, 0, 0, 0, 0, 0, 0, 0, 0, 0, 0]     |\n",
      "+--------------------------------------------------------------------------------------------------------------------+----------------------------------------------------------------------------------------------------------------------------------------------------------------------------------------------------------------------------------------------------------------------------------------------------------------------------------+-------------------------------------------------------------------------------------------------------------------------------------------------------------------------------------------------------------------------------------------------------------------------------------------------------------------------------+\n",
      "only showing top 3 rows\n",
      "\n"
     ]
    }
   ],
   "source": [
    "df_example.select('text','feature1','feature2').show(3, truncate=False)"
   ]
  },
  {
   "cell_type": "code",
   "execution_count": 35,
   "id": "f5cab200",
   "metadata": {},
   "outputs": [
    {
     "ename": "NameError",
     "evalue": "name 'df_example' is not defined",
     "output_type": "error",
     "traceback": [
      "\u001b[0;31m---------------------------------------------------------------------------\u001b[0m",
      "\u001b[0;31mNameError\u001b[0m                                 Traceback (most recent call last)",
      "\u001b[0;32m<ipython-input-35-db5881d7b66f>\u001b[0m in \u001b[0;36m<module>\u001b[0;34m\u001b[0m\n\u001b[1;32m      2\u001b[0m \u001b[0;32mfrom\u001b[0m \u001b[0mpyspark\u001b[0m\u001b[0;34m.\u001b[0m\u001b[0msql\u001b[0m\u001b[0;34m.\u001b[0m\u001b[0mfunctions\u001b[0m \u001b[0;32mimport\u001b[0m \u001b[0mudf\u001b[0m\u001b[0;34m\u001b[0m\u001b[0;34m\u001b[0m\u001b[0m\n\u001b[1;32m      3\u001b[0m \u001b[0mlist_to_vector_udf\u001b[0m \u001b[0;34m=\u001b[0m \u001b[0mudf\u001b[0m\u001b[0;34m(\u001b[0m\u001b[0;32mlambda\u001b[0m \u001b[0ml\u001b[0m\u001b[0;34m:\u001b[0m \u001b[0mVectors\u001b[0m\u001b[0;34m.\u001b[0m\u001b[0mdense\u001b[0m\u001b[0;34m(\u001b[0m\u001b[0ml\u001b[0m\u001b[0;34m)\u001b[0m\u001b[0;34m,\u001b[0m \u001b[0mVectorUDT\u001b[0m\u001b[0;34m(\u001b[0m\u001b[0;34m)\u001b[0m\u001b[0;34m)\u001b[0m\u001b[0;34m\u001b[0m\u001b[0;34m\u001b[0m\u001b[0m\n\u001b[0;32m----> 4\u001b[0;31m df_with_vectors = df_example.select(\n\u001b[0m\u001b[1;32m      5\u001b[0m     \u001b[0mdf_example\u001b[0m\u001b[0;34m[\u001b[0m\u001b[0;34m\"label\"\u001b[0m\u001b[0;34m]\u001b[0m\u001b[0;34m,\u001b[0m\u001b[0;34m\u001b[0m\u001b[0;34m\u001b[0m\u001b[0m\n\u001b[1;32m      6\u001b[0m     \u001b[0mlist_to_vector_udf\u001b[0m\u001b[0;34m(\u001b[0m\u001b[0mdf_example\u001b[0m\u001b[0;34m[\u001b[0m\u001b[0;34m\"feature1\"\u001b[0m\u001b[0;34m]\u001b[0m\u001b[0;34m)\u001b[0m\u001b[0;34m.\u001b[0m\u001b[0malias\u001b[0m\u001b[0;34m(\u001b[0m\u001b[0;34m\"feature1\"\u001b[0m\u001b[0;34m)\u001b[0m\u001b[0;34m,\u001b[0m\u001b[0;34m\u001b[0m\u001b[0;34m\u001b[0m\u001b[0m\n",
      "\u001b[0;31mNameError\u001b[0m: name 'df_example' is not defined"
     ]
    }
   ],
   "source": [
    "from pyspark.ml.linalg import Vectors, VectorUDT\n",
    "from pyspark.sql.functions import udf\n",
    "list_to_vector_udf = udf(lambda l: Vectors.dense(l), VectorUDT())\n",
    "df_with_vectors = df_example.select(\n",
    "    df_example[\"label\"], \n",
    "    list_to_vector_udf(df_example[\"feature1\"]).alias(\"feature1\"),\n",
    "    list_to_vector_udf(df_example[\"feature2\"]).alias(\"feature2\")\n",
    ")"
   ]
  },
  {
   "cell_type": "code",
   "execution_count": 36,
   "id": "5ba2e4e9",
   "metadata": {},
   "outputs": [
    {
     "ename": "NameError",
     "evalue": "name 'df_with_vectors' is not defined",
     "output_type": "error",
     "traceback": [
      "\u001b[0;31m---------------------------------------------------------------------------\u001b[0m",
      "\u001b[0;31mNameError\u001b[0m                                 Traceback (most recent call last)",
      "\u001b[0;32m<ipython-input-36-c7324cc3ec24>\u001b[0m in \u001b[0;36m<module>\u001b[0;34m\u001b[0m\n\u001b[0;32m----> 1\u001b[0;31m \u001b[0mdf_with_vectors\u001b[0m\u001b[0;34m.\u001b[0m\u001b[0mrdd\u001b[0m\u001b[0;34m.\u001b[0m\u001b[0mgetNumPartitions\u001b[0m\u001b[0;34m(\u001b[0m\u001b[0;34m)\u001b[0m\u001b[0;34m\u001b[0m\u001b[0;34m\u001b[0m\u001b[0m\n\u001b[0m",
      "\u001b[0;31mNameError\u001b[0m: name 'df_with_vectors' is not defined"
     ]
    }
   ],
   "source": [
    "df_with_vectors.rdd.getNumPartitions()"
   ]
  },
  {
   "cell_type": "code",
   "execution_count": 33,
   "id": "642f69a4",
   "metadata": {
    "scrolled": false
   },
   "outputs": [
    {
     "name": "stdout",
     "output_type": "stream",
     "text": [
      "root\n",
      " |-- label: long (nullable = true)\n",
      " |-- feature1: vector (nullable = true)\n",
      " |-- feature2: vector (nullable = true)\n",
      "\n"
     ]
    }
   ],
   "source": [
    "df_with_vectors.printSchema()"
   ]
  },
  {
   "cell_type": "code",
   "execution_count": 26,
   "id": "f906be0e",
   "metadata": {},
   "outputs": [],
   "source": [
    "label_str_index = StringIndexer(inputCol='label', outputCol='label_index')\n",
    "label_df = label_str_index.fit(df_with_vectors).transform(df_with_vectors)"
   ]
  },
  {
   "cell_type": "code",
   "execution_count": 35,
   "id": "6d01e825",
   "metadata": {},
   "outputs": [
    {
     "name": "stdout",
     "output_type": "stream",
     "text": [
      "root\n",
      " |-- label: long (nullable = true)\n",
      " |-- feature1: vector (nullable = true)\n",
      " |-- feature2: vector (nullable = true)\n",
      " |-- label_index: double (nullable = false)\n",
      "\n"
     ]
    }
   ],
   "source": [
    "label_df.printSchema()"
   ]
  },
  {
   "cell_type": "code",
   "execution_count": 34,
   "id": "9616ccab",
   "metadata": {},
   "outputs": [
    {
     "name": "stdout",
     "output_type": "stream",
     "text": [
      "306\n",
      "163\n",
      "163\n",
      "163\n",
      "163\n",
      "163\n",
      "163\n",
      "163\n",
      "163\n",
      "163\n",
      "163\n",
      "163\n",
      "163\n",
      "163\n",
      "163\n",
      "163\n",
      "163\n",
      "163\n",
      "163\n",
      "163\n",
      "163\n",
      "163\n",
      "163\n",
      "163\n",
      "163\n",
      "163\n",
      "163\n",
      "163\n",
      "163\n",
      "163\n",
      "163\n",
      "163\n",
      "163\n",
      "163\n",
      "163\n",
      "163\n",
      "163\n",
      "163\n",
      "163\n",
      "163\n",
      "163\n",
      "163\n",
      "163\n",
      "163\n",
      "163\n",
      "163\n",
      "163\n",
      "163\n",
      "163\n",
      "163\n",
      "163\n",
      "163\n",
      "163\n",
      "163\n",
      "163\n",
      "163\n",
      "163\n",
      "163\n",
      "163\n",
      "163\n",
      "163\n",
      "163\n",
      "163\n",
      "163\n",
      "163\n",
      "163\n",
      "163\n",
      "163\n",
      "163\n",
      "163\n",
      "163\n",
      "163\n",
      "163\n",
      "163\n",
      "163\n",
      "163\n",
      "163\n",
      "163\n",
      "163\n",
      "163\n",
      "163\n",
      "163\n",
      "163\n",
      "163\n",
      "163\n",
      "163\n",
      "163\n",
      "163\n",
      "163\n",
      "163\n",
      "163\n",
      "163\n",
      "163\n",
      "163\n",
      "163\n",
      "163\n",
      "163\n",
      "163\n",
      "163\n",
      "163\n",
      "163\n",
      "163\n",
      "163\n",
      "163\n",
      "163\n",
      "163\n",
      "163\n",
      "163\n",
      "163\n",
      "163\n",
      "163\n",
      "163\n",
      "163\n",
      "163\n",
      "163\n",
      "163\n",
      "163\n",
      "163\n",
      "163\n",
      "163\n",
      "163\n",
      "163\n",
      "163\n",
      "163\n",
      "163\n",
      "163\n",
      "163\n",
      "163\n",
      "163\n",
      "163\n",
      "163\n",
      "163\n",
      "163\n",
      "163\n",
      "163\n",
      "163\n",
      "163\n",
      "163\n",
      "163\n",
      "163\n",
      "163\n",
      "163\n",
      "163\n",
      "163\n",
      "163\n",
      "163\n",
      "163\n",
      "163\n",
      "163\n",
      "163\n",
      "163\n",
      "163\n",
      "163\n",
      "163\n",
      "163\n",
      "163\n",
      "163\n",
      "163\n",
      "163\n",
      "163\n",
      "163\n",
      "163\n",
      "163\n",
      "163\n",
      "163\n",
      "163\n",
      "163\n",
      "163\n",
      "163\n",
      "163\n",
      "163\n",
      "163\n",
      "163\n",
      "163\n",
      "163\n",
      "163\n",
      "163\n",
      "163\n",
      "163\n",
      "163\n",
      "163\n",
      "163\n",
      "163\n",
      "163\n",
      "163\n",
      "163\n",
      "163\n",
      "163\n",
      "163\n",
      "163\n",
      "163\n",
      "163\n",
      "163\n",
      "163\n",
      "163\n",
      "163\n",
      "163\n",
      "163\n",
      "163\n",
      "163\n",
      "163\n",
      "163\n",
      "163\n",
      "163\n",
      "163\n",
      "163\n",
      "163\n",
      "163\n",
      "163\n",
      "163\n",
      "163\n",
      "163\n",
      "163\n",
      "163\n",
      "163\n",
      "163\n",
      "163\n",
      "163\n",
      "163\n",
      "163\n",
      "163\n",
      "163\n",
      "163\n",
      "163\n",
      "163\n",
      "163\n",
      "163\n",
      "163\n",
      "163\n",
      "163\n",
      "163\n",
      "163\n",
      "163\n",
      "163\n",
      "163\n",
      "163\n",
      "163\n",
      "163\n",
      "163\n",
      "163\n",
      "163\n",
      "163\n",
      "163\n",
      "163\n",
      "163\n",
      "163\n",
      "163\n",
      "163\n",
      "163\n",
      "163\n",
      "163\n",
      "163\n",
      "163\n",
      "163\n",
      "163\n",
      "163\n",
      "163\n",
      "163\n",
      "163\n",
      "163\n",
      "163\n",
      "163\n",
      "163\n",
      "163\n",
      "163\n",
      "163\n",
      "163\n",
      "163\n",
      "163\n",
      "163\n",
      "163\n",
      "163\n",
      "163\n",
      "163\n",
      "163\n",
      "163\n",
      "163\n",
      "163\n",
      "163\n",
      "163\n",
      "163\n",
      "163\n",
      "163\n",
      "163\n",
      "163\n",
      "163\n",
      "163\n",
      "163\n",
      "163\n",
      "163\n",
      "163\n",
      "163\n",
      "163\n",
      "163\n",
      "163\n",
      "163\n",
      "163\n",
      "163\n",
      "163\n",
      "163\n",
      "163\n",
      "163\n",
      "163\n",
      "163\n",
      "163\n",
      "163\n",
      "163\n",
      "49878\n"
     ]
    }
   ],
   "source": [
    "glom_list =  label_df.rdd.glom().collect()\n",
    "print(len(glom_list))\n",
    "summ = 0\n",
    "for i in glom_list:\n",
    "    print(len(i))\n",
    "    summ += len(i)\n",
    "print(summ)"
   ]
  },
  {
   "cell_type": "code",
   "execution_count": 35,
   "id": "6816f597",
   "metadata": {},
   "outputs": [
    {
     "data": {
      "text/plain": [
       "306"
      ]
     },
     "execution_count": 35,
     "metadata": {},
     "output_type": "execute_result"
    }
   ],
   "source": [
    "label_df.rdd.getNumPartitions()"
   ]
  },
  {
   "cell_type": "code",
   "execution_count": 27,
   "id": "4bce4b22",
   "metadata": {},
   "outputs": [
    {
     "data": {
      "text/plain": [
       "2"
      ]
     },
     "execution_count": 27,
     "metadata": {},
     "output_type": "execute_result"
    }
   ],
   "source": [
    "nb_classes = label_df.select(\"label\").distinct().count()\n",
    "nb_classes"
   ]
  },
  {
   "cell_type": "code",
   "execution_count": 28,
   "id": "dbc1e947",
   "metadata": {},
   "outputs": [
    {
     "name": "stdout",
     "output_type": "stream",
     "text": [
      "Set(kafka2:33577, kafka1:43117, kafka3:42453)\n",
      "2\n"
     ]
    }
   ],
   "source": [
    "sc = spark._jsc.sc() \n",
    "\n",
    "result1 = sc.getExecutorMemoryStatus().keys() # will print all the executors + driver available\n",
    "\n",
    "result2 = len([executor.host() for executor in sc.statusTracker().getExecutorInfos() ]) -1\n",
    "\n",
    "print(result1, end ='\\n')\n",
    "print(result2)"
   ]
  },
  {
   "cell_type": "code",
   "execution_count": 29,
   "id": "2eb7ebe3",
   "metadata": {},
   "outputs": [],
   "source": [
    "from tensorflow.python.keras.models import Model, Sequential\n",
    "from tensorflow.python.keras.layers import Input, Dense, concatenate\n",
    "from tensorflow.python.keras.layers import LSTM\n",
    "from tensorflow.python.keras.layers.embeddings import Embedding\n",
    "from tensorflow.python.keras.layers import Conv1D, Flatten, GlobalMaxPooling1D, Dropout, MaxPooling1D, Activation, Bidirectional, Conv2D, GlobalMaxPooling2D"
   ]
  },
  {
   "cell_type": "code",
   "execution_count": 30,
   "id": "c67e6c13",
   "metadata": {},
   "outputs": [],
   "source": [
    "vocab_sizes = 5001\n",
    "neg_vocab_sizes = 5001\n",
    "embedding_vector_length = 100\n",
    "hidden_dims = 250\n",
    "max_length = 100"
   ]
  },
  {
   "cell_type": "code",
   "execution_count": 31,
   "id": "029cc054",
   "metadata": {},
   "outputs": [
    {
     "name": "stdout",
     "output_type": "stream",
     "text": [
      "Model: \"sequential\"\n",
      "_________________________________________________________________\n",
      "Layer (type)                 Output Shape              Param #   \n",
      "=================================================================\n",
      "embedding (Embedding)        (None, 100, 100)          500100    \n",
      "_________________________________________________________________\n",
      "bidirectional (Bidirectional (None, 256)               234496    \n",
      "_________________________________________________________________\n",
      "activation (Activation)      (None, 256)               0         \n",
      "_________________________________________________________________\n",
      "dense (Dense)                (None, 2)                 514       \n",
      "_________________________________________________________________\n",
      "activation_1 (Activation)    (None, 2)                 0         \n",
      "=================================================================\n",
      "Total params: 735,110\n",
      "Trainable params: 735,110\n",
      "Non-trainable params: 0\n",
      "_________________________________________________________________\n",
      "None\n"
     ]
    }
   ],
   "source": [
    "from tensorflow.keras.callbacks import ModelCheckpoint\n",
    "\n",
    "model = Sequential()\n",
    "model.add(Embedding(vocab_sizes, embedding_vector_length, input_length=max_length))\n",
    "\n",
    "#어휘 크기(최대 정수 인덱스+1, 고밀도 임베딩의 치수, 입력 시퀀스의 길이\n",
    "\n",
    "# 모델은 크기의 정수 행렬 (배치,\n",
    "# input_length) 및 입력에서 가장 큰 정수 (즉, 단어 인덱스)\n",
    "#은 999 (어휘 크기)보다 크지 않아야합니다.\n",
    "# 이제 model.output_shape는 (None, 10, 64)이고, 여기서`None`은 배치입니다.\n",
    "# dimension.\n",
    "\n",
    "\n",
    "# model.add(Conv1D(128, 5, activation='relu'))\n",
    "model.add(Bidirectional(LSTM(128)))\n",
    "# model.add(GlobalMaxPooling1D())\n",
    "model.add(Activation('relu'))\n",
    "model.add(Dense(nb_classes))\n",
    "model.add(Activation('sigmoid'))\n",
    "# model.add(Dense(1, activation='sigmoid'))\n",
    "model.compile(loss='binary_crossentropy', optimizer='adam', metrics=['accuracy'])\n",
    "\n",
    "# #체크포인트 생성?!\n",
    "# # checkpoint_filepath = '/root/spark/baseline/'\n",
    "# fname = \"checkpoint-{epoch:02d}-{val_loss:.2f}\"\n",
    "# checkpoint = ModelCheckpoint(fname, monitor=\"val_loss\", mode=\"min\",\n",
    "#     save_best_only=True, verbose=1)\n",
    "# callbacks = [checkpoint]\n",
    "\n",
    "print(model.summary())"
   ]
  },
  {
   "cell_type": "code",
   "execution_count": 35,
   "id": "4e4180fd",
   "metadata": {},
   "outputs": [],
   "source": [
    "from keras import optimizers, regularizers\n",
    "from tensorflow.keras import optimizers\n",
    "\n",
    "optimizer_conf = optimizers.Adam(lr=0.01)\n",
    "opt_conf = optimizers.serialize(optimizer_conf)"
   ]
  },
  {
   "cell_type": "code",
   "execution_count": 36,
   "id": "e4cca512",
   "metadata": {},
   "outputs": [
    {
     "data": {
      "text/plain": [
       "ElephasEstimator_68dcea20e778"
      ]
     },
     "execution_count": 36,
     "metadata": {},
     "output_type": "execute_result"
    }
   ],
   "source": [
    "from tensorflow.keras.models import model_from_json\n",
    "from elephas import spark_model, ml_model\n",
    "from elephas.ml_model import ElephasEstimator\n",
    "\n",
    "estimator = ElephasEstimator()\n",
    "estimator.setFeaturesCol(\"feature1\")\n",
    "estimator.setLabelCol(\"label_index\")\n",
    "estimator.set_keras_model_config(model.to_json())\n",
    "estimator.set_categorical_labels(True) # dense 1이면 False로 설정해야함\n",
    "estimator.set_nb_classes(nb_classes)\n",
    "estimator.set_num_workers(2)\n",
    "estimator.set_epochs(10)\n",
    "estimator.set_batch_size(32)\n",
    "estimator.set_verbosity(1)\n",
    "estimator.set_validation_split(0.10)\n",
    "estimator.set_optimizer_config(opt_conf)\n",
    "estimator.set_mode(\"asynchronous\")\n",
    "estimator.set_loss(\"binary_crossentropy\")\n",
    "estimator.set_metrics(['acc'])"
   ]
  },
  {
   "cell_type": "code",
   "execution_count": 37,
   "id": "10c53a85",
   "metadata": {},
   "outputs": [],
   "source": [
    "dl_pipeline = Pipeline(stages=[estimator])"
   ]
  },
  {
   "cell_type": "code",
   "execution_count": 38,
   "id": "a304597c",
   "metadata": {
    "scrolled": true
   },
   "outputs": [
    {
     "name": "stdout",
     "output_type": "stream",
     "text": [
      ">>> Fit model\n",
      " * Serving Flask app 'elephas.parameter.server' (lazy loading)\n",
      " * Environment: production\n",
      "\u001b[31m   WARNING: This is a development server. Do not use it in a production deployment.\u001b[0m\n",
      "\u001b[2m   Use a production WSGI server instead.\u001b[0m\n",
      " * Debug mode: off\n"
     ]
    },
    {
     "name": "stderr",
     "output_type": "stream",
     "text": [
      " * Running on http://172.28.0.1:4000/ (Press CTRL+C to quit)\n"
     ]
    },
    {
     "name": "stdout",
     "output_type": "stream",
     "text": [
      ">>> Initialize workers\n",
      ">>> Distribute load\n"
     ]
    },
    {
     "name": "stderr",
     "output_type": "stream",
     "text": [
      "172.28.0.3 - - [12/Oct/2021 05:40:40] \"GET /parameters HTTP/1.1\" 200 -\n",
      "172.28.0.2 - - [12/Oct/2021 05:40:40] \"GET /parameters HTTP/1.1\" 200 -\n",
      "172.28.0.2 - - [12/Oct/2021 05:43:24] \"POST /update HTTP/1.1\" 200 -\n",
      "172.28.0.2 - - [12/Oct/2021 05:43:24] \"GET /parameters HTTP/1.1\" 200 -\n",
      "172.28.0.3 - - [12/Oct/2021 05:43:26] \"POST /update HTTP/1.1\" 200 -\n",
      "172.28.0.3 - - [12/Oct/2021 05:43:26] \"GET /parameters HTTP/1.1\" 200 -\n",
      "172.28.0.2 - - [12/Oct/2021 05:45:53] \"POST /update HTTP/1.1\" 200 -\n",
      "172.28.0.2 - - [12/Oct/2021 05:45:53] \"GET /parameters HTTP/1.1\" 200 -\n",
      "172.28.0.3 - - [12/Oct/2021 05:46:36] \"POST /update HTTP/1.1\" 200 -\n",
      "172.28.0.3 - - [12/Oct/2021 05:46:36] \"GET /parameters HTTP/1.1\" 200 -\n",
      "172.28.0.2 - - [12/Oct/2021 05:48:21] \"POST /update HTTP/1.1\" 200 -\n",
      "172.28.0.2 - - [12/Oct/2021 05:48:21] \"GET /parameters HTTP/1.1\" 200 -\n",
      "172.28.0.3 - - [12/Oct/2021 05:49:52] \"POST /update HTTP/1.1\" 200 -\n",
      "172.28.0.3 - - [12/Oct/2021 05:49:52] \"GET /parameters HTTP/1.1\" 200 -\n",
      "172.28.0.2 - - [12/Oct/2021 05:50:48] \"POST /update HTTP/1.1\" 200 -\n",
      "172.28.0.2 - - [12/Oct/2021 05:50:48] \"GET /parameters HTTP/1.1\" 200 -\n",
      "172.28.0.3 - - [12/Oct/2021 05:53:07] \"POST /update HTTP/1.1\" 200 -\n",
      "172.28.0.3 - - [12/Oct/2021 05:53:07] \"GET /parameters HTTP/1.1\" 200 -\n",
      "172.28.0.2 - - [12/Oct/2021 05:53:15] \"POST /update HTTP/1.1\" 200 -\n",
      "172.28.0.2 - - [12/Oct/2021 05:53:15] \"GET /parameters HTTP/1.1\" 200 -\n",
      "172.28.0.2 - - [12/Oct/2021 05:55:42] \"POST /update HTTP/1.1\" 200 -\n",
      "172.28.0.2 - - [12/Oct/2021 05:55:42] \"GET /parameters HTTP/1.1\" 200 -\n",
      "172.28.0.3 - - [12/Oct/2021 05:56:22] \"POST /update HTTP/1.1\" 200 -\n",
      "172.28.0.3 - - [12/Oct/2021 05:56:22] \"GET /parameters HTTP/1.1\" 200 -\n",
      "172.28.0.2 - - [12/Oct/2021 05:58:09] \"POST /update HTTP/1.1\" 200 -\n",
      "172.28.0.2 - - [12/Oct/2021 05:58:09] \"GET /parameters HTTP/1.1\" 200 -\n",
      "172.28.0.3 - - [12/Oct/2021 05:59:38] \"POST /update HTTP/1.1\" 200 -\n",
      "172.28.0.3 - - [12/Oct/2021 05:59:38] \"GET /parameters HTTP/1.1\" 200 -\n",
      "172.28.0.2 - - [12/Oct/2021 06:00:36] \"POST /update HTTP/1.1\" 200 -\n",
      "172.28.0.2 - - [12/Oct/2021 06:00:36] \"GET /parameters HTTP/1.1\" 200 -\n",
      "172.28.0.3 - - [12/Oct/2021 06:02:49] \"POST /update HTTP/1.1\" 200 -\n",
      "172.28.0.3 - - [12/Oct/2021 06:02:49] \"GET /parameters HTTP/1.1\" 200 -\n",
      "172.28.0.2 - - [12/Oct/2021 06:03:13] \"POST /update HTTP/1.1\" 200 -\n",
      "172.28.0.2 - - [12/Oct/2021 06:03:13] \"GET /parameters HTTP/1.1\" 200 -\n",
      "172.28.0.3 - - [12/Oct/2021 06:05:48] \"POST /update HTTP/1.1\" 200 -\n",
      "172.28.0.3 - - [12/Oct/2021 06:05:48] \"GET /parameters HTTP/1.1\" 200 -\n",
      "172.28.0.2 - - [12/Oct/2021 06:06:12] \"POST /update HTTP/1.1\" 200 -\n",
      "172.28.0.3 - - [12/Oct/2021 06:08:09] \"POST /update HTTP/1.1\" 200 -\n",
      "172.28.0.3 - - [12/Oct/2021 06:08:09] \"GET /parameters HTTP/1.1\" 200 -\n",
      "172.28.0.3 - - [12/Oct/2021 06:10:23] \"POST /update HTTP/1.1\" 200 -\n",
      "172.28.0.1 - - [12/Oct/2021 06:10:23] \"GET /parameters HTTP/1.1\" 200 -\n"
     ]
    },
    {
     "name": "stdout",
     "output_type": "stream",
     "text": [
      ">>> Async training complete.\n",
      "1803.3999667167664\n"
     ]
    }
   ],
   "source": [
    "import time\n",
    "t1 = time.time()\n",
    "my_dl = dl_pipeline.fit(label_df)\n",
    "t2 = time.time() - t1\n",
    "print(t2)"
   ]
  },
  {
   "cell_type": "code",
   "execution_count": 43,
   "id": "56dc2844",
   "metadata": {},
   "outputs": [
    {
     "name": "stdout",
     "output_type": "stream",
     "text": [
      "2137.4992032051086\n"
     ]
    }
   ],
   "source": [
    "print(t2)"
   ]
  },
  {
   "cell_type": "code",
   "execution_count": null,
   "id": "73997016",
   "metadata": {},
   "outputs": [],
   "source": [
    "###################################################################################"
   ]
  },
  {
   "cell_type": "code",
   "execution_count": 116,
   "id": "c3d8e7a3",
   "metadata": {},
   "outputs": [
    {
     "name": "stdout",
     "output_type": "stream",
     "text": [
      "+--------------------------------------------------------------------------------------------------------------------+-----+\n",
      "|text                                                                                                                |label|\n",
      "+--------------------------------------------------------------------------------------------------------------------+-----+\n",
      "|threatmeter hacked emails of san francisco muni rail system hacker reveals clues about identity and tactics kr  fin |1    |\n",
      "|first android malware targeting pcs uncovered  fbxtynm                                                              |1    |\n",
      "|adobe fixes six code execution bugs in flash  mokgxr                                                                |1    |\n",
      "+--------------------------------------------------------------------------------------------------------------------+-----+\n",
      "only showing top 3 rows\n",
      "\n"
     ]
    }
   ],
   "source": [
    "csi_pos_neg.show(3, truncate=False)"
   ]
  },
  {
   "cell_type": "code",
   "execution_count": 101,
   "id": "0a7d91b5",
   "metadata": {},
   "outputs": [],
   "source": [
    "from sklearn.model_selection import train_test_split\n",
    "X_train, X_test, Y_train, Y_test = train_test_split(label_dft.toPandas()['feature1'].to_numpy(), label_dft.toPandas()['label_index'].to_numpy(), test_size=0.2, random_state=42)"
   ]
  },
  {
   "cell_type": "code",
   "execution_count": 106,
   "id": "7327479e",
   "metadata": {},
   "outputs": [],
   "source": [
    "from hyperopt import STATUS_OK\n",
    "from hyperas.distributions import choice, uniform\n",
    "\n",
    "def data():\n",
    "    x_train, y_train, x_test, y_test = train_test_split(label_dft.toPandas()['feature1'].to_numpy(), label_dft.toPandas()['label_index'].to_numpy(), test_size=0.2, random_state=42)\n",
    "    return x_train, y_train, x_test, y_test\n",
    "#     from tensorflow.keras.datasets import mnist\n",
    "#     from tensorflow.keras.utils import to_categorical\n",
    "#     (x_train, y_train), (x_test, y_test) = mnist.load_data()\n",
    "#     x_train = x_train.reshape(60000, 784)\n",
    "#     x_test = x_test.reshape(10000, 784)\n",
    "#     x_train = x_train.astype('float32')\n",
    "#     x_test = x_test.astype('float32')\n",
    "#     x_train /= 255\n",
    "#     x_test /= 255\n",
    "#     nb_classes = 10\n",
    "#     y_train = to_categorical(y_train, nb_classes)\n",
    "#     y_test = to_categorical(y_test, nb_classes)\n",
    "#     return x_train, y_train, x_test, y_test\n",
    "\n",
    "\n",
    "def model(x_train, y_train, x_test, y_test):\n",
    "    from tensorflow.keras.models import Sequential\n",
    "    from tensorflow.keras.layers import Dense, Dropout, Activation\n",
    "    from tensorflow.keras.optimizers import RMSprop\n",
    "\n",
    "    model = Sequential()\n",
    "    model.add(Embedding(vocab_sizes, embedding_vector_length, input_length=max_length))\n",
    "    # model.add(Conv1D(128, 5, activation='relu'))\n",
    "    model.add(Bidirectional(LSTM(128)))\n",
    "    # model.add(GlobalMaxPooling1D())\n",
    "    model.add(Activation('relu'))\n",
    "    model.add(Dense(nb_classes))\n",
    "    model.add(Activation('sigmoid'))\n",
    "    # model.add(Dense(1, activation='sigmoid'))\n",
    "\n",
    "\n",
    "#     rms = RMSprop()\n",
    "    model.compile(loss='binary_crossentropy', optimizer='adam', metrics=['accuracy'])\n",
    "\n",
    "#     model.compile(loss='categorical_crossentropy', optimizer=rms)\n",
    "\n",
    "    model.fit(x_train, y_train,\n",
    "              batch_size={{choice([64, 128])}},\n",
    "              nb_epoch=1,\n",
    "              show_accuracy=True,\n",
    "              verbose=2,\n",
    "              validation_data=(x_test, y_test))\n",
    "    score, acc = model.evaluate(x_test, y_test, show_accuracy=True, verbose=0)\n",
    "    print('Test accuracy:', acc)\n",
    "    return {'loss': -acc, 'status': STATUS_OK, 'model': model.to_json()}"
   ]
  },
  {
   "cell_type": "code",
   "execution_count": 107,
   "id": "d1874b32",
   "metadata": {},
   "outputs": [],
   "source": [
    "from elephas.hyperparam import HyperParamModel\n",
    "from pyspark import SparkContext, SparkConf\n",
    "\n",
    "# Define hyper-parameter model and run optimization\n",
    "hyperparam_model = HyperParamModel(sc)"
   ]
  },
  {
   "cell_type": "code",
   "execution_count": 110,
   "id": "fe5d81c4",
   "metadata": {
    "collapsed": true
   },
   "outputs": [
    {
     "ename": "FileNotFoundError",
     "evalue": "[Errno 2] No such file or directory: '/root/spark-2.4.7-bin-hadoop2.7/<ipython-input-110-781bd3e6a9b8>'",
     "output_type": "error",
     "traceback": [
      "\u001b[0;31m---------------------------------------------------------------------------\u001b[0m",
      "\u001b[0;31mFileNotFoundError\u001b[0m                         Traceback (most recent call last)",
      "\u001b[0;32m<ipython-input-110-781bd3e6a9b8>\u001b[0m in \u001b[0;36m<module>\u001b[0;34m\u001b[0m\n\u001b[0;32m----> 1\u001b[0;31m \u001b[0mhyperparam_model\u001b[0m\u001b[0;34m.\u001b[0m\u001b[0mminimize\u001b[0m\u001b[0;34m(\u001b[0m\u001b[0mmodel\u001b[0m\u001b[0;34m=\u001b[0m\u001b[0mmodel\u001b[0m\u001b[0;34m,\u001b[0m \u001b[0mdata\u001b[0m\u001b[0;34m=\u001b[0m\u001b[0mdata\u001b[0m\u001b[0;34m,\u001b[0m \u001b[0mmax_evals\u001b[0m\u001b[0;34m=\u001b[0m\u001b[0;36m1\u001b[0m\u001b[0;34m)\u001b[0m\u001b[0;34m\u001b[0m\u001b[0;34m\u001b[0m\u001b[0m\n\u001b[0m",
      "\u001b[0;32m/usr/local/lib/python3.6/dist-packages/elephas/hyperparam.py\u001b[0m in \u001b[0;36mminimize\u001b[0;34m(self, model, data, max_evals, notebook_name)\u001b[0m\n\u001b[1;32m     39\u001b[0m \u001b[0;34m\u001b[0m\u001b[0m\n\u001b[1;32m     40\u001b[0m         trials_list = self.compute_trials(\n\u001b[0;32m---> 41\u001b[0;31m             model, data, max_evals, notebook_name)\n\u001b[0m\u001b[1;32m     42\u001b[0m \u001b[0;34m\u001b[0m\u001b[0m\n\u001b[1;32m     43\u001b[0m         \u001b[0mbest_val\u001b[0m \u001b[0;34m=\u001b[0m \u001b[0;36m1e7\u001b[0m\u001b[0;34m\u001b[0m\u001b[0;34m\u001b[0m\u001b[0m\n",
      "\u001b[0;32m/usr/local/lib/python3.6/dist-packages/elephas/hyperparam.py\u001b[0m in \u001b[0;36mcompute_trials\u001b[0;34m(self, model, data, max_evals, notebook_name)\u001b[0m\n\u001b[1;32m     26\u001b[0m     \u001b[0;32mdef\u001b[0m \u001b[0mcompute_trials\u001b[0m\u001b[0;34m(\u001b[0m\u001b[0mself\u001b[0m\u001b[0;34m,\u001b[0m \u001b[0mmodel\u001b[0m\u001b[0;34m:\u001b[0m \u001b[0mtensorflow\u001b[0m\u001b[0;34m.\u001b[0m\u001b[0mkeras\u001b[0m\u001b[0;34m.\u001b[0m\u001b[0mmodels\u001b[0m\u001b[0;34m.\u001b[0m\u001b[0mModel\u001b[0m\u001b[0;34m,\u001b[0m \u001b[0mdata\u001b[0m\u001b[0;34m:\u001b[0m \u001b[0mnp\u001b[0m\u001b[0;34m.\u001b[0m\u001b[0marray\u001b[0m\u001b[0;34m,\u001b[0m \u001b[0mmax_evals\u001b[0m\u001b[0;34m:\u001b[0m \u001b[0mint\u001b[0m\u001b[0;34m,\u001b[0m \u001b[0mnotebook_name\u001b[0m\u001b[0;34m=\u001b[0m\u001b[0;32mNone\u001b[0m\u001b[0;34m)\u001b[0m\u001b[0;34m:\u001b[0m\u001b[0;34m\u001b[0m\u001b[0;34m\u001b[0m\u001b[0m\n\u001b[1;32m     27\u001b[0m         model_string = get_hyperopt_model_string(model=model, data=data, functions=None, notebook_name=notebook_name,\n\u001b[0;32m---> 28\u001b[0;31m                                                  verbose=False, stack=3)\n\u001b[0m\u001b[1;32m     29\u001b[0m         \u001b[0mhyperas_worker\u001b[0m \u001b[0;34m=\u001b[0m \u001b[0mHyperasWorker\u001b[0m\u001b[0;34m(\u001b[0m\u001b[0mmodel_string\u001b[0m\u001b[0;34m,\u001b[0m \u001b[0mmax_evals\u001b[0m\u001b[0;34m)\u001b[0m\u001b[0;34m\u001b[0m\u001b[0;34m\u001b[0m\u001b[0m\n\u001b[1;32m     30\u001b[0m         \u001b[0mdummy_rdd\u001b[0m \u001b[0;34m=\u001b[0m \u001b[0mself\u001b[0m\u001b[0;34m.\u001b[0m\u001b[0mspark_context\u001b[0m\u001b[0;34m.\u001b[0m\u001b[0mparallelize\u001b[0m\u001b[0;34m(\u001b[0m\u001b[0;34m[\u001b[0m\u001b[0mi\u001b[0m \u001b[0;32mfor\u001b[0m \u001b[0mi\u001b[0m \u001b[0;32min\u001b[0m \u001b[0mrange\u001b[0m\u001b[0;34m(\u001b[0m\u001b[0;36m1\u001b[0m\u001b[0;34m,\u001b[0m \u001b[0;36m1000\u001b[0m\u001b[0;34m)\u001b[0m\u001b[0;34m]\u001b[0m\u001b[0;34m)\u001b[0m\u001b[0;34m\u001b[0m\u001b[0;34m\u001b[0m\u001b[0m\n",
      "\u001b[0;32m/usr/local/lib/python3.6/dist-packages/hyperas/optim.py\u001b[0m in \u001b[0;36mget_hyperopt_model_string\u001b[0;34m(model, data, functions, notebook_name, verbose, stack)\u001b[0m\n\u001b[1;32m    183\u001b[0m     \u001b[0;32melse\u001b[0m\u001b[0;34m:\u001b[0m\u001b[0;34m\u001b[0m\u001b[0;34m\u001b[0m\u001b[0m\n\u001b[1;32m    184\u001b[0m         \u001b[0mcalling_script_file\u001b[0m \u001b[0;34m=\u001b[0m \u001b[0mos\u001b[0m\u001b[0;34m.\u001b[0m\u001b[0mpath\u001b[0m\u001b[0;34m.\u001b[0m\u001b[0mabspath\u001b[0m\u001b[0;34m(\u001b[0m\u001b[0minspect\u001b[0m\u001b[0;34m.\u001b[0m\u001b[0mstack\u001b[0m\u001b[0;34m(\u001b[0m\u001b[0;34m)\u001b[0m\u001b[0;34m[\u001b[0m\u001b[0mstack\u001b[0m\u001b[0;34m]\u001b[0m\u001b[0;34m[\u001b[0m\u001b[0;36m1\u001b[0m\u001b[0;34m]\u001b[0m\u001b[0;34m)\u001b[0m\u001b[0;34m\u001b[0m\u001b[0;34m\u001b[0m\u001b[0m\n\u001b[0;32m--> 185\u001b[0;31m         \u001b[0;32mwith\u001b[0m \u001b[0mopen\u001b[0m\u001b[0;34m(\u001b[0m\u001b[0mcalling_script_file\u001b[0m\u001b[0;34m,\u001b[0m \u001b[0;34m'r'\u001b[0m\u001b[0;34m)\u001b[0m \u001b[0;32mas\u001b[0m \u001b[0mf\u001b[0m\u001b[0;34m:\u001b[0m\u001b[0;34m\u001b[0m\u001b[0;34m\u001b[0m\u001b[0m\n\u001b[0m\u001b[1;32m    186\u001b[0m             \u001b[0msource\u001b[0m \u001b[0;34m=\u001b[0m \u001b[0mf\u001b[0m\u001b[0;34m.\u001b[0m\u001b[0mread\u001b[0m\u001b[0;34m(\u001b[0m\u001b[0;34m)\u001b[0m\u001b[0;34m\u001b[0m\u001b[0;34m\u001b[0m\u001b[0m\n\u001b[1;32m    187\u001b[0m \u001b[0;34m\u001b[0m\u001b[0m\n",
      "\u001b[0;31mFileNotFoundError\u001b[0m: [Errno 2] No such file or directory: '/root/spark-2.4.7-bin-hadoop2.7/<ipython-input-110-781bd3e6a9b8>'"
     ]
    }
   ],
   "source": [
    "hyperparam_model.minimize(model=model, data=data, max_evals=5)"
   ]
  },
  {
   "cell_type": "code",
   "execution_count": null,
   "id": "209becec",
   "metadata": {},
   "outputs": [],
   "source": [
    "result = hyperparam_model.best_ensemble(nb_ensemble_models=10, model=model, data=train_test_split(label_dft.toPandas()['feature1'].to_numpy(), label_dft.toPandas()['label_index'].to_numpy(), test_size=0.2, random_state=42), max_evals=5)"
   ]
  },
  {
   "cell_type": "code",
   "execution_count": null,
   "id": "461565e2",
   "metadata": {},
   "outputs": [],
   "source": [
    "###################################################################################"
   ]
  },
  {
   "cell_type": "code",
   "execution_count": 58,
   "id": "fa0dc8b0",
   "metadata": {},
   "outputs": [
    {
     "data": {
      "text/plain": [
       "249390"
      ]
     },
     "execution_count": 58,
     "metadata": {},
     "output_type": "execute_result"
    }
   ],
   "source": [
    "fourth_test.count()"
   ]
  },
  {
   "cell_type": "code",
   "execution_count": 45,
   "id": "5ba8c7a0",
   "metadata": {},
   "outputs": [],
   "source": [
    "# get_tokens 함수과 같은 용도\n",
    "stage_1 = RegexTokenizer(inputCol= 'text', outputCol='pos_t', pattern= '\\\\W')"
   ]
  },
  {
   "cell_type": "code",
   "execution_count": 46,
   "id": "49f36028",
   "metadata": {
    "scrolled": true
   },
   "outputs": [
    {
     "name": "stdout",
     "output_type": "stream",
     "text": [
      "+---+--------------------+-----+--------------------+\n",
      "|_c0|                text|label|               pos_t|\n",
      "+---+--------------------+-----+--------------------+\n",
      "|  0|threatmeter hacke...|    1|[threatmeter, hac...|\n",
      "|  1|first android mal...|    1|[first, android, ...|\n",
      "|  2|adobe fixes six c...|    1|[adobe, fixes, si...|\n",
      "|  3| scienceporn  in ...|    1|[scienceporn, in,...|\n",
      "|  4|riskware hmoyfzb ...|    1|[riskware, hmoyfz...|\n",
      "+---+--------------------+-----+--------------------+\n",
      "only showing top 5 rows\n",
      "\n"
     ]
    }
   ],
   "source": [
    "rt1 = stage_1.transform(first_test)\n",
    "rt1.show(5)"
   ]
  },
  {
   "cell_type": "code",
   "execution_count": 47,
   "id": "8b2c66f0",
   "metadata": {},
   "outputs": [],
   "source": [
    "# get_lemma 함수와 같은 용도\n",
    "stage_2 = StopWordsRemover(inputCol= stage_1.getOutputCol(), outputCol= 'filtered_words')"
   ]
  },
  {
   "cell_type": "code",
   "execution_count": 48,
   "id": "e6715ce3",
   "metadata": {},
   "outputs": [
    {
     "name": "stdout",
     "output_type": "stream",
     "text": [
      "+---+--------------------+-----+--------------------+--------------------+\n",
      "|_c0|                text|label|               pos_t|      filtered_words|\n",
      "+---+--------------------+-----+--------------------+--------------------+\n",
      "|  0|threatmeter hacke...|    1|[threatmeter, hac...|[threatmeter, hac...|\n",
      "|  1|first android mal...|    1|[first, android, ...|[first, android, ...|\n",
      "|  2|adobe fixes six c...|    1|[adobe, fixes, si...|[adobe, fixes, si...|\n",
      "|  3| scienceporn  in ...|    1|[scienceporn, in,...|[scienceporn, vac...|\n",
      "|  4|riskware hmoyfzb ...|    1|[riskware, hmoyfz...|[riskware, hmoyfz...|\n",
      "+---+--------------------+-----+--------------------+--------------------+\n",
      "only showing top 5 rows\n",
      "\n"
     ]
    }
   ],
   "source": [
    "rt2 = stage_2.transform(rt1)\n",
    "rt2.show(5)"
   ]
  },
  {
   "cell_type": "code",
   "execution_count": 49,
   "id": "248644d5",
   "metadata": {},
   "outputs": [
    {
     "data": {
      "text/plain": [
       "400"
      ]
     },
     "execution_count": 49,
     "metadata": {},
     "output_type": "execute_result"
    }
   ],
   "source": [
    "rt2.rdd.getNumPartitions()"
   ]
  },
  {
   "cell_type": "code",
   "execution_count": 50,
   "id": "f22d7a1f",
   "metadata": {},
   "outputs": [
    {
     "data": {
      "text/plain": [
       "99756"
      ]
     },
     "execution_count": 50,
     "metadata": {},
     "output_type": "execute_result"
    }
   ],
   "source": [
    "rt2.count()"
   ]
  },
  {
   "cell_type": "code",
   "execution_count": 69,
   "id": "9b09a820",
   "metadata": {},
   "outputs": [],
   "source": [
    "class BroadcastWrapper(object):\n",
    "    def __init__(self, data, token_list):\n",
    "        self.broadcast_var = spark.sparkContext.broadcast(data)\n",
    "#         self.last_updated_time = datetime.now()\n",
    "        self.token_list = token_list\n",
    "    \n",
    "#     def is_should_be_updated(self, data):\n",
    "#         cur_time = datetime.now()\n",
    "#         diff_sec = (cur_time - self.last_updated_time).total_seconds()\n",
    "#         return self.broadcast_var is None or diff_sec> 1\n",
    "    \n",
    "    def update_and_get_data(self, spark):\n",
    "        a = self.broadcast_var.value\n",
    "        self.broadcast_var.unpersist()\n",
    "        for i in self.token_list:\n",
    "            for j in i:\n",
    "                if j not in a.keys():\n",
    "                    a[j] = 1\n",
    "                else:\n",
    "                    a[j] += 1\n",
    "        new_data = a\n",
    "        self.broadcast_var = spark.broadcast(new_data)\n",
    "#         self.last_updated_time = datetime.now()\n",
    "#         return len(self.token_list)\n",
    "        return self.broadcast_var"
   ]
  },
  {
   "cell_type": "markdown",
   "id": "61e7fc58",
   "metadata": {},
   "source": [
    "# TEST용"
   ]
  },
  {
   "cell_type": "code",
   "execution_count": 74,
   "id": "6c001678",
   "metadata": {},
   "outputs": [],
   "source": [
    "from pyspark.ml import Transformer\n",
    "from keras.preprocessing.text import Tokenizer\n",
    "from keras.preprocessing.sequence import pad_sequences\n",
    "import pandas as pd\n",
    "from typing import Dict\n",
    "from pyspark.sql import DataFrame\n",
    "\n",
    "class TextToSequence(Transformer):\n",
    "    w1 = dict()\n",
    "    w2 = dict()\n",
    "    pos_t = Tokenizer()\n",
    "    neg_t = Tokenizer()\n",
    "    pos_vocab = []\n",
    "    neg_vocab = []\n",
    "    \n",
    "    def __init__(self, w1: Dict[str, int], w2:Dict[str, int]):\n",
    "        super(TextToSequence, self).__init__()\n",
    "        self.w1 = w1\n",
    "        self.w2 = w2\n",
    "        \n",
    "    \n",
    "    def _transform(self, df: DataFrame):\n",
    "        result_pdf = df.select(\"filtered_words\").toPandas()[:49878]\n",
    "        pos_df = result_pdf[:24939] # \n",
    "        neg_df = result_pdf[24939:]\n",
    "        \n",
    "        # csi_pos인 filtered_words에 대해서만...\n",
    "        broadcast_wrapper1 = BroadcastWrapper(self.w1, pos_df[\"filtered_words\"])\n",
    "        ww1 = broadcast_wrapper1.update_and_get_data(spark.sparkContext).value\n",
    "        \n",
    "        broadcast_wrapper2 = BroadcastWrapper(self.w2, neg_df[\"filtered_words\"])\n",
    "        ww2 = broadcast_wrapper2.update_and_get_data(spark.sparkContext).value\n",
    "        \n",
    "        www1 = {k: v for k, v in sorted(ww1.items(), key=lambda item: item[1], reverse=True)}\n",
    "        www2 = {k: v for k, v in sorted(ww2.items(), key=lambda item: item[1], reverse=True)}\n",
    "        print(www1['allow'])\n",
    "        print(www2['like'])\n",
    "        aa = [w for i, w in enumerate(www1) if i < 5000]\n",
    "        bb = [w for i, w in enumerate(www2) if i < 5000]\n",
    "        \n",
    "        self.pos_t.fit_on_texts(aa)\n",
    "        self.neg_t.fit_on_texts(bb)\n",
    "\n",
    "#         encoded_docs_pos = self.pos_t.texts_to_sequences(df.select(\"filtered_words1\").toPandas())\n",
    "#         encoded_docs_neg = self.neg_t.texts_to_sequences(df.select(\"filtered_words1\").toPandas())\n",
    "        encoded_docs_pos = self.pos_t.texts_to_sequences(result_pdf[\"filtered_words\"])\n",
    "        encoded_docs_neg = self.neg_t.texts_to_sequences(result_pdf[\"filtered_words\"])\n",
    "\n",
    "        X_p = pad_sequences(encoded_docs_pos, maxlen=100, padding='post').tolist()\n",
    "        X_n = pad_sequences(encoded_docs_neg, maxlen=100, padding='post').tolist()\n",
    "        \n",
    "        text_array = [str(row['text']) for row in df.select('text').collect()[:49878]]\n",
    "        label_array = [int(row['label']) for row in df.select('label').collect()[:49878]]\n",
    "\n",
    "        \n",
    "        zip_array = list(zip(text_array, label_array, X_p, X_n))\n",
    "        rdd = spark.sparkContext.parallelize(zip_array, numSlices=306)\n",
    "        fdf = rdd.toDF(['text','label','feature1','feature2'])\n",
    "        \n",
    "        return fdf"
   ]
  },
  {
   "cell_type": "code",
   "execution_count": 75,
   "id": "0b7dba05",
   "metadata": {
    "scrolled": true
   },
   "outputs": [
    {
     "name": "stdout",
     "output_type": "stream",
     "text": [
      "105851\n",
      "83789\n"
     ]
    }
   ],
   "source": [
    "# USE THE TRANSFORMER WITHOUT PIPELINE\n",
    "text_sequence = TextToSequence(w1 = word_counts_1.value, w2 = word_counts_2.value)\n",
    "dft_example = text_sequence.transform(rt2)"
   ]
  },
  {
   "cell_type": "code",
   "execution_count": 76,
   "id": "321797a8",
   "metadata": {},
   "outputs": [
    {
     "data": {
      "text/plain": [
       "49878"
      ]
     },
     "execution_count": 76,
     "metadata": {},
     "output_type": "execute_result"
    }
   ],
   "source": [
    "dft_example.count() # 49878"
   ]
  },
  {
   "cell_type": "code",
   "execution_count": 77,
   "id": "910b4007",
   "metadata": {
    "scrolled": true
   },
   "outputs": [
    {
     "name": "stdout",
     "output_type": "stream",
     "text": [
      "+----------------------------------------------------------------------------------------------------------------------------------------------------------------------------------------------------------------------------------------------------------------------------------------------------------------------------------+---------------------------------------------------------------------------------------------------------------------------------------------------------------------------------------------------------------------------------------------------------------------------------------------------------------------+\n",
      "|feature1                                                                                                                                                                                                                                                                                                                          |feature2                                                                                                                                                                                                                                                                                                             |\n",
      "+----------------------------------------------------------------------------------------------------------------------------------------------------------------------------------------------------------------------------------------------------------------------------------------------------------------------------------+---------------------------------------------------------------------------------------------------------------------------------------------------------------------------------------------------------------------------------------------------------------------------------------------------------------------+\n",
      "|[962, 1255, 3200, 2650, 52, 267, 3456, 606, 4706, 0, 0, 0, 0, 0, 0, 0, 0, 0, 0, 0, 0, 0, 0, 0, 0, 0, 0, 0, 0, 0, 0, 0, 0, 0, 0, 0, 0, 0, 0, 0, 0, 0, 0, 0, 0, 0, 0, 0, 0, 0, 0, 0, 0, 0, 0, 0, 0, 0, 0, 0, 0, 0, 0, 0, 0, 0, 0, 0, 0, 0, 0, 0, 0, 0, 0, 0, 0, 0, 0, 0, 0, 0, 0, 0, 0, 0, 0, 0, 0, 0, 0, 0, 0, 0, 0, 0, 0, 0, 0, 0]|[1520, 1002, 2743, 0, 0, 0, 0, 0, 0, 0, 0, 0, 0, 0, 0, 0, 0, 0, 0, 0, 0, 0, 0, 0, 0, 0, 0, 0, 0, 0, 0, 0, 0, 0, 0, 0, 0, 0, 0, 0, 0, 0, 0, 0, 0, 0, 0, 0, 0, 0, 0, 0, 0, 0, 0, 0, 0, 0, 0, 0, 0, 0, 0, 0, 0, 0, 0, 0, 0, 0, 0, 0, 0, 0, 0, 0, 0, 0, 0, 0, 0, 0, 0, 0, 0, 0, 0, 0, 0, 0, 0, 0, 0, 0, 0, 0, 0, 0, 0, 0]|\n",
      "|[454, 58, 447, 3169, 4938, 0, 0, 0, 0, 0, 0, 0, 0, 0, 0, 0, 0, 0, 0, 0, 0, 0, 0, 0, 0, 0, 0, 0, 0, 0, 0, 0, 0, 0, 0, 0, 0, 0, 0, 0, 0, 0, 0, 0, 0, 0, 0, 0, 0, 0, 0, 0, 0, 0, 0, 0, 0, 0, 0, 0, 0, 0, 0, 0, 0, 0, 0, 0, 0, 0, 0, 0, 0, 0, 0, 0, 0, 0, 0, 0, 0, 0, 0, 0, 0, 0, 0, 0, 0, 0, 0, 0, 0, 0, 0, 0, 0, 0, 0, 0]           |[46, 3722, 0, 0, 0, 0, 0, 0, 0, 0, 0, 0, 0, 0, 0, 0, 0, 0, 0, 0, 0, 0, 0, 0, 0, 0, 0, 0, 0, 0, 0, 0, 0, 0, 0, 0, 0, 0, 0, 0, 0, 0, 0, 0, 0, 0, 0, 0, 0, 0, 0, 0, 0, 0, 0, 0, 0, 0, 0, 0, 0, 0, 0, 0, 0, 0, 0, 0, 0, 0, 0, 0, 0, 0, 0, 0, 0, 0, 0, 0, 0, 0, 0, 0, 0, 0, 0, 0, 0, 0, 0, 0, 0, 0, 0, 0, 0, 0, 0, 0]     |\n",
      "|[105, 3326, 3759, 11, 73, 4156, 332, 0, 0, 0, 0, 0, 0, 0, 0, 0, 0, 0, 0, 0, 0, 0, 0, 0, 0, 0, 0, 0, 0, 0, 0, 0, 0, 0, 0, 0, 0, 0, 0, 0, 0, 0, 0, 0, 0, 0, 0, 0, 0, 0, 0, 0, 0, 0, 0, 0, 0, 0, 0, 0, 0, 0, 0, 0, 0, 0, 0, 0, 0, 0, 0, 0, 0, 0, 0, 0, 0, 0, 0, 0, 0, 0, 0, 0, 0, 0, 0, 0, 0, 0, 0, 0, 0, 0, 0, 0, 0, 0, 0, 0]       |[1596, 673, 2609, 0, 0, 0, 0, 0, 0, 0, 0, 0, 0, 0, 0, 0, 0, 0, 0, 0, 0, 0, 0, 0, 0, 0, 0, 0, 0, 0, 0, 0, 0, 0, 0, 0, 0, 0, 0, 0, 0, 0, 0, 0, 0, 0, 0, 0, 0, 0, 0, 0, 0, 0, 0, 0, 0, 0, 0, 0, 0, 0, 0, 0, 0, 0, 0, 0, 0, 0, 0, 0, 0, 0, 0, 0, 0, 0, 0, 0, 0, 0, 0, 0, 0, 0, 0, 0, 0, 0, 0, 0, 0, 0, 0, 0, 0, 0, 0, 0] |\n",
      "+----------------------------------------------------------------------------------------------------------------------------------------------------------------------------------------------------------------------------------------------------------------------------------------------------------------------------------+---------------------------------------------------------------------------------------------------------------------------------------------------------------------------------------------------------------------------------------------------------------------------------------------------------------------+\n",
      "only showing top 3 rows\n",
      "\n"
     ]
    }
   ],
   "source": [
    "dft_example.select('feature1','feature2').show(3, truncate=False)"
   ]
  },
  {
   "cell_type": "code",
   "execution_count": 78,
   "id": "f538d399",
   "metadata": {},
   "outputs": [],
   "source": [
    "from pyspark.ml.linalg import Vectors, VectorUDT\n",
    "from pyspark.sql.functions import udf\n",
    "list_to_vector_udf = udf(lambda l: Vectors.dense(l), VectorUDT())\n",
    "dft_with_vectors = dft_example.select(\n",
    "    dft_example[\"label\"], \n",
    "    list_to_vector_udf(dft_example[\"feature1\"]).alias(\"feature1\"),\n",
    "    list_to_vector_udf(dft_example[\"feature2\"]).alias(\"feature2\")\n",
    ")"
   ]
  },
  {
   "cell_type": "code",
   "execution_count": 79,
   "id": "ffeeef3e",
   "metadata": {},
   "outputs": [
    {
     "data": {
      "text/plain": [
       "306"
      ]
     },
     "execution_count": 79,
     "metadata": {},
     "output_type": "execute_result"
    }
   ],
   "source": [
    "dft_with_vectors.rdd.getNumPartitions()"
   ]
  },
  {
   "cell_type": "code",
   "execution_count": 80,
   "id": "04e4597e",
   "metadata": {
    "scrolled": true
   },
   "outputs": [
    {
     "name": "stdout",
     "output_type": "stream",
     "text": [
      "root\n",
      " |-- label: long (nullable = true)\n",
      " |-- feature1: vector (nullable = true)\n",
      " |-- feature2: vector (nullable = true)\n",
      "\n"
     ]
    }
   ],
   "source": [
    "dft_with_vectors.printSchema()"
   ]
  },
  {
   "cell_type": "code",
   "execution_count": 81,
   "id": "b9a0dcd2",
   "metadata": {},
   "outputs": [],
   "source": [
    "label_str_index = StringIndexer(inputCol='label', outputCol='label_index')\n",
    "label_dft = label_str_index.fit(dft_with_vectors).transform(dft_with_vectors)"
   ]
  },
  {
   "cell_type": "code",
   "execution_count": 64,
   "id": "86d4558d",
   "metadata": {},
   "outputs": [
    {
     "name": "stdout",
     "output_type": "stream",
     "text": [
      "root\n",
      " |-- label: string (nullable = true)\n",
      " |-- feature1: vector (nullable = true)\n",
      " |-- feature2: vector (nullable = true)\n",
      " |-- label_index: double (nullable = false)\n",
      "\n"
     ]
    }
   ],
   "source": [
    "label_dft.printSchema()"
   ]
  },
  {
   "cell_type": "code",
   "execution_count": 52,
   "id": "24f64910",
   "metadata": {},
   "outputs": [],
   "source": [
    "from pyspark.ml.evaluation import MulticlassClassificationEvaluator\n",
    "from pyspark.mllib.evaluation import MulticlassMetrics\n",
    "from pyspark.ml.evaluation import BinaryClassificationEvaluator\n",
    "from pyspark.mllib.evaluation import BinaryClassificationMetrics"
   ]
  },
  {
   "cell_type": "code",
   "execution_count": 53,
   "id": "2bd3d5f6",
   "metadata": {},
   "outputs": [
    {
     "ename": "NameError",
     "evalue": "name 'my_dl' is not defined",
     "output_type": "error",
     "traceback": [
      "\u001b[0;31m---------------------------------------------------------------------------\u001b[0m",
      "\u001b[0;31mNameError\u001b[0m                                 Traceback (most recent call last)",
      "\u001b[0;32m<ipython-input-53-38143636bb05>\u001b[0m in \u001b[0;36m<module>\u001b[0;34m\u001b[0m\n\u001b[1;32m      1\u001b[0m \u001b[0;31m# pred_train = my_dl.transform(d1)\u001b[0m\u001b[0;34m\u001b[0m\u001b[0;34m\u001b[0m\u001b[0;34m\u001b[0m\u001b[0m\n\u001b[0;32m----> 2\u001b[0;31m \u001b[0mpred_test\u001b[0m \u001b[0;34m=\u001b[0m \u001b[0mmy_dl\u001b[0m\u001b[0;34m.\u001b[0m\u001b[0mtransform\u001b[0m\u001b[0;34m(\u001b[0m\u001b[0mlabel_dft\u001b[0m\u001b[0;34m)\u001b[0m\u001b[0;34m\u001b[0m\u001b[0;34m\u001b[0m\u001b[0m\n\u001b[0m",
      "\u001b[0;31mNameError\u001b[0m: name 'my_dl' is not defined"
     ]
    }
   ],
   "source": [
    "# pred_train = my_dl.transform(d1)\n",
    "pred_test = my_dl.transform(label_dft)"
   ]
  },
  {
   "cell_type": "code",
   "execution_count": 84,
   "id": "216a9b8d",
   "metadata": {},
   "outputs": [
    {
     "name": "stdout",
     "output_type": "stream",
     "text": [
      "+-----+--------------------+--------------------+-----------+--------------------+\n",
      "|label|            feature1|            feature2|label_index|          prediction|\n",
      "+-----+--------------------+--------------------+-----------+--------------------+\n",
      "|    1|[962.0,1255.0,320...|[1520.0,1002.0,27...|        1.0|[1.01370033007697...|\n",
      "|    1|[454.0,58.0,447.0...|[46.0,3722.0,0.0,...|        1.0|[3.47197055816650...|\n",
      "|    1|[105.0,3326.0,375...|[1596.0,673.0,260...|        1.0|[2.83003537333570...|\n",
      "|    1|[1562.0,0.0,0.0,0...|[509.0,0.0,0.0,0....|        1.0|[0.67849528789520...|\n",
      "|    1|[0.0,0.0,0.0,0.0,...|[0.0,0.0,0.0,0.0,...|        1.0|[0.38029521703720...|\n",
      "+-----+--------------------+--------------------+-----------+--------------------+\n",
      "only showing top 5 rows\n",
      "\n"
     ]
    }
   ],
   "source": [
    "pred_test.show(5)"
   ]
  },
  {
   "cell_type": "code",
   "execution_count": 85,
   "id": "461c1622",
   "metadata": {},
   "outputs": [],
   "source": [
    "from pyspark.sql.functions import udf\n",
    "list_to_double = udf(lambda l: l[0], DoubleType())\n",
    "pred_test = pred_test.select(\n",
    "    pred_test[\"label_index\"], \n",
    "    list_to_double(pred_test[\"prediction\"]).alias(\"prediction2\")\n",
    ")"
   ]
  },
  {
   "cell_type": "code",
   "execution_count": 86,
   "id": "aab450d0",
   "metadata": {},
   "outputs": [
    {
     "name": "stdout",
     "output_type": "stream",
     "text": [
      "root\n",
      " |-- label_index: double (nullable = false)\n",
      " |-- prediction2: double (nullable = true)\n",
      "\n"
     ]
    }
   ],
   "source": [
    "pred_test.printSchema()"
   ]
  },
  {
   "cell_type": "code",
   "execution_count": 87,
   "id": "147f778e",
   "metadata": {},
   "outputs": [
    {
     "name": "stdout",
     "output_type": "stream",
     "text": [
      "+-----------+---------------------+\n",
      "|label_index|prediction2          |\n",
      "+-----------+---------------------+\n",
      "|1.0        |1.013700330076972E-5 |\n",
      "|1.0        |3.471970558166504E-4 |\n",
      "|1.0        |2.8300353733357042E-5|\n",
      "|1.0        |0.6784952878952026   |\n",
      "|1.0        |0.3802952170372009   |\n",
      "|1.0        |1.2230085849296302E-4|\n",
      "|1.0        |4.285579780116677E-5 |\n",
      "|1.0        |1.5866756439208984E-4|\n",
      "|1.0        |0.3802952170372009   |\n",
      "|1.0        |6.310045719146729E-4 |\n",
      "+-----------+---------------------+\n",
      "only showing top 10 rows\n",
      "\n"
     ]
    }
   ],
   "source": [
    "pred_test.show(10, truncate=False)"
   ]
  },
  {
   "cell_type": "code",
   "execution_count": 88,
   "id": "5c1f0eb3",
   "metadata": {},
   "outputs": [],
   "source": [
    "from pyspark.sql.functions import udf\n",
    "list_to_vector_udf = udf(lambda l:1.0 if l<0.5 else 0.0 , DoubleType())\n",
    "pred_test = pred_test.select(\n",
    "    pred_test[\"label_index\"], \n",
    "    list_to_vector_udf(pred_test[\"prediction2\"]).alias(\"rawPrediction\")\n",
    ")"
   ]
  },
  {
   "cell_type": "raw",
   "id": "55bf9ccc",
   "metadata": {},
   "source": []
  },
  {
   "cell_type": "code",
   "execution_count": 89,
   "id": "c6cf9090",
   "metadata": {},
   "outputs": [
    {
     "name": "stdout",
     "output_type": "stream",
     "text": [
      "+-----------+-------------+\n",
      "|label_index|rawPrediction|\n",
      "+-----------+-------------+\n",
      "|1.0        |1.0          |\n",
      "|1.0        |1.0          |\n",
      "|1.0        |1.0          |\n",
      "|1.0        |0.0          |\n",
      "|1.0        |1.0          |\n",
      "|1.0        |1.0          |\n",
      "|1.0        |1.0          |\n",
      "|1.0        |1.0          |\n",
      "|1.0        |1.0          |\n",
      "|1.0        |1.0          |\n",
      "+-----------+-------------+\n",
      "only showing top 10 rows\n",
      "\n"
     ]
    }
   ],
   "source": [
    "pred_test.show(10, truncate=False)"
   ]
  },
  {
   "cell_type": "code",
   "execution_count": 90,
   "id": "b6c489b6",
   "metadata": {},
   "outputs": [
    {
     "ename": "KeyboardInterrupt",
     "evalue": "",
     "output_type": "error",
     "traceback": [
      "\u001b[0;31m---------------------------------------------------------------------------\u001b[0m",
      "\u001b[0;31mKeyboardInterrupt\u001b[0m                         Traceback (most recent call last)",
      "\u001b[0;32m<ipython-input-90-2ee52b1db1d3>\u001b[0m in \u001b[0;36m<module>\u001b[0;34m\u001b[0m\n\u001b[0;32m----> 1\u001b[0;31m \u001b[0mpred_test\u001b[0m\u001b[0;34m.\u001b[0m\u001b[0mgroupBy\u001b[0m\u001b[0;34m(\u001b[0m\u001b[0;34m'rawPrediction'\u001b[0m\u001b[0;34m)\u001b[0m\u001b[0;34m.\u001b[0m\u001b[0mcount\u001b[0m\u001b[0;34m(\u001b[0m\u001b[0;34m)\u001b[0m\u001b[0;34m.\u001b[0m\u001b[0morderBy\u001b[0m\u001b[0;34m(\u001b[0m\u001b[0;34m'count'\u001b[0m\u001b[0;34m)\u001b[0m\u001b[0;34m.\u001b[0m\u001b[0mshow\u001b[0m\u001b[0;34m(\u001b[0m\u001b[0;34m)\u001b[0m\u001b[0;34m\u001b[0m\u001b[0;34m\u001b[0m\u001b[0m\n\u001b[0m",
      "\u001b[0;32m~/spark/python/pyspark/sql/dataframe.py\u001b[0m in \u001b[0;36mshow\u001b[0;34m(self, n, truncate, vertical)\u001b[0m\n\u001b[1;32m    379\u001b[0m         \"\"\"\n\u001b[1;32m    380\u001b[0m         \u001b[0;32mif\u001b[0m \u001b[0misinstance\u001b[0m\u001b[0;34m(\u001b[0m\u001b[0mtruncate\u001b[0m\u001b[0;34m,\u001b[0m \u001b[0mbool\u001b[0m\u001b[0;34m)\u001b[0m \u001b[0;32mand\u001b[0m \u001b[0mtruncate\u001b[0m\u001b[0;34m:\u001b[0m\u001b[0;34m\u001b[0m\u001b[0;34m\u001b[0m\u001b[0m\n\u001b[0;32m--> 381\u001b[0;31m             \u001b[0mprint\u001b[0m\u001b[0;34m(\u001b[0m\u001b[0mself\u001b[0m\u001b[0;34m.\u001b[0m\u001b[0m_jdf\u001b[0m\u001b[0;34m.\u001b[0m\u001b[0mshowString\u001b[0m\u001b[0;34m(\u001b[0m\u001b[0mn\u001b[0m\u001b[0;34m,\u001b[0m \u001b[0;36m20\u001b[0m\u001b[0;34m,\u001b[0m \u001b[0mvertical\u001b[0m\u001b[0;34m)\u001b[0m\u001b[0;34m)\u001b[0m\u001b[0;34m\u001b[0m\u001b[0;34m\u001b[0m\u001b[0m\n\u001b[0m\u001b[1;32m    382\u001b[0m         \u001b[0;32melse\u001b[0m\u001b[0;34m:\u001b[0m\u001b[0;34m\u001b[0m\u001b[0;34m\u001b[0m\u001b[0m\n\u001b[1;32m    383\u001b[0m             \u001b[0mprint\u001b[0m\u001b[0;34m(\u001b[0m\u001b[0mself\u001b[0m\u001b[0;34m.\u001b[0m\u001b[0m_jdf\u001b[0m\u001b[0;34m.\u001b[0m\u001b[0mshowString\u001b[0m\u001b[0;34m(\u001b[0m\u001b[0mn\u001b[0m\u001b[0;34m,\u001b[0m \u001b[0mint\u001b[0m\u001b[0;34m(\u001b[0m\u001b[0mtruncate\u001b[0m\u001b[0;34m)\u001b[0m\u001b[0;34m,\u001b[0m \u001b[0mvertical\u001b[0m\u001b[0;34m)\u001b[0m\u001b[0;34m)\u001b[0m\u001b[0;34m\u001b[0m\u001b[0;34m\u001b[0m\u001b[0m\n",
      "\u001b[0;32m~/spark/python/lib/py4j-0.10.7-src.zip/py4j/java_gateway.py\u001b[0m in \u001b[0;36m__call__\u001b[0;34m(self, *args)\u001b[0m\n\u001b[1;32m   1253\u001b[0m             \u001b[0mproto\u001b[0m\u001b[0;34m.\u001b[0m\u001b[0mEND_COMMAND_PART\u001b[0m\u001b[0;34m\u001b[0m\u001b[0;34m\u001b[0m\u001b[0m\n\u001b[1;32m   1254\u001b[0m \u001b[0;34m\u001b[0m\u001b[0m\n\u001b[0;32m-> 1255\u001b[0;31m         \u001b[0manswer\u001b[0m \u001b[0;34m=\u001b[0m \u001b[0mself\u001b[0m\u001b[0;34m.\u001b[0m\u001b[0mgateway_client\u001b[0m\u001b[0;34m.\u001b[0m\u001b[0msend_command\u001b[0m\u001b[0;34m(\u001b[0m\u001b[0mcommand\u001b[0m\u001b[0;34m)\u001b[0m\u001b[0;34m\u001b[0m\u001b[0;34m\u001b[0m\u001b[0m\n\u001b[0m\u001b[1;32m   1256\u001b[0m         return_value = get_return_value(\n\u001b[1;32m   1257\u001b[0m             answer, self.gateway_client, self.target_id, self.name)\n",
      "\u001b[0;32m~/spark/python/lib/py4j-0.10.7-src.zip/py4j/java_gateway.py\u001b[0m in \u001b[0;36msend_command\u001b[0;34m(self, command, retry, binary)\u001b[0m\n\u001b[1;32m    983\u001b[0m         \u001b[0mconnection\u001b[0m \u001b[0;34m=\u001b[0m \u001b[0mself\u001b[0m\u001b[0;34m.\u001b[0m\u001b[0m_get_connection\u001b[0m\u001b[0;34m(\u001b[0m\u001b[0;34m)\u001b[0m\u001b[0;34m\u001b[0m\u001b[0;34m\u001b[0m\u001b[0m\n\u001b[1;32m    984\u001b[0m         \u001b[0;32mtry\u001b[0m\u001b[0;34m:\u001b[0m\u001b[0;34m\u001b[0m\u001b[0;34m\u001b[0m\u001b[0m\n\u001b[0;32m--> 985\u001b[0;31m             \u001b[0mresponse\u001b[0m \u001b[0;34m=\u001b[0m \u001b[0mconnection\u001b[0m\u001b[0;34m.\u001b[0m\u001b[0msend_command\u001b[0m\u001b[0;34m(\u001b[0m\u001b[0mcommand\u001b[0m\u001b[0;34m)\u001b[0m\u001b[0;34m\u001b[0m\u001b[0;34m\u001b[0m\u001b[0m\n\u001b[0m\u001b[1;32m    986\u001b[0m             \u001b[0;32mif\u001b[0m \u001b[0mbinary\u001b[0m\u001b[0;34m:\u001b[0m\u001b[0;34m\u001b[0m\u001b[0;34m\u001b[0m\u001b[0m\n\u001b[1;32m    987\u001b[0m                 \u001b[0;32mreturn\u001b[0m \u001b[0mresponse\u001b[0m\u001b[0;34m,\u001b[0m \u001b[0mself\u001b[0m\u001b[0;34m.\u001b[0m\u001b[0m_create_connection_guard\u001b[0m\u001b[0;34m(\u001b[0m\u001b[0mconnection\u001b[0m\u001b[0;34m)\u001b[0m\u001b[0;34m\u001b[0m\u001b[0;34m\u001b[0m\u001b[0m\n",
      "\u001b[0;32m~/spark/python/lib/py4j-0.10.7-src.zip/py4j/java_gateway.py\u001b[0m in \u001b[0;36msend_command\u001b[0;34m(self, command)\u001b[0m\n\u001b[1;32m   1150\u001b[0m \u001b[0;34m\u001b[0m\u001b[0m\n\u001b[1;32m   1151\u001b[0m         \u001b[0;32mtry\u001b[0m\u001b[0;34m:\u001b[0m\u001b[0;34m\u001b[0m\u001b[0;34m\u001b[0m\u001b[0m\n\u001b[0;32m-> 1152\u001b[0;31m             \u001b[0manswer\u001b[0m \u001b[0;34m=\u001b[0m \u001b[0msmart_decode\u001b[0m\u001b[0;34m(\u001b[0m\u001b[0mself\u001b[0m\u001b[0;34m.\u001b[0m\u001b[0mstream\u001b[0m\u001b[0;34m.\u001b[0m\u001b[0mreadline\u001b[0m\u001b[0;34m(\u001b[0m\u001b[0;34m)\u001b[0m\u001b[0;34m[\u001b[0m\u001b[0;34m:\u001b[0m\u001b[0;34m-\u001b[0m\u001b[0;36m1\u001b[0m\u001b[0;34m]\u001b[0m\u001b[0;34m)\u001b[0m\u001b[0;34m\u001b[0m\u001b[0;34m\u001b[0m\u001b[0m\n\u001b[0m\u001b[1;32m   1153\u001b[0m             \u001b[0mlogger\u001b[0m\u001b[0;34m.\u001b[0m\u001b[0mdebug\u001b[0m\u001b[0;34m(\u001b[0m\u001b[0;34m\"Answer received: {0}\"\u001b[0m\u001b[0;34m.\u001b[0m\u001b[0mformat\u001b[0m\u001b[0;34m(\u001b[0m\u001b[0manswer\u001b[0m\u001b[0;34m)\u001b[0m\u001b[0;34m)\u001b[0m\u001b[0;34m\u001b[0m\u001b[0;34m\u001b[0m\u001b[0m\n\u001b[1;32m   1154\u001b[0m             \u001b[0;32mif\u001b[0m \u001b[0manswer\u001b[0m\u001b[0;34m.\u001b[0m\u001b[0mstartswith\u001b[0m\u001b[0;34m(\u001b[0m\u001b[0mproto\u001b[0m\u001b[0;34m.\u001b[0m\u001b[0mRETURN_MESSAGE\u001b[0m\u001b[0;34m)\u001b[0m\u001b[0;34m:\u001b[0m\u001b[0;34m\u001b[0m\u001b[0;34m\u001b[0m\u001b[0m\n",
      "\u001b[0;32m/usr/lib/python3.6/socket.py\u001b[0m in \u001b[0;36mreadinto\u001b[0;34m(self, b)\u001b[0m\n\u001b[1;32m    584\u001b[0m         \u001b[0;32mwhile\u001b[0m \u001b[0;32mTrue\u001b[0m\u001b[0;34m:\u001b[0m\u001b[0;34m\u001b[0m\u001b[0;34m\u001b[0m\u001b[0m\n\u001b[1;32m    585\u001b[0m             \u001b[0;32mtry\u001b[0m\u001b[0;34m:\u001b[0m\u001b[0;34m\u001b[0m\u001b[0;34m\u001b[0m\u001b[0m\n\u001b[0;32m--> 586\u001b[0;31m                 \u001b[0;32mreturn\u001b[0m \u001b[0mself\u001b[0m\u001b[0;34m.\u001b[0m\u001b[0m_sock\u001b[0m\u001b[0;34m.\u001b[0m\u001b[0mrecv_into\u001b[0m\u001b[0;34m(\u001b[0m\u001b[0mb\u001b[0m\u001b[0;34m)\u001b[0m\u001b[0;34m\u001b[0m\u001b[0;34m\u001b[0m\u001b[0m\n\u001b[0m\u001b[1;32m    587\u001b[0m             \u001b[0;32mexcept\u001b[0m \u001b[0mtimeout\u001b[0m\u001b[0;34m:\u001b[0m\u001b[0;34m\u001b[0m\u001b[0;34m\u001b[0m\u001b[0m\n\u001b[1;32m    588\u001b[0m                 \u001b[0mself\u001b[0m\u001b[0;34m.\u001b[0m\u001b[0m_timeout_occurred\u001b[0m \u001b[0;34m=\u001b[0m \u001b[0;32mTrue\u001b[0m\u001b[0;34m\u001b[0m\u001b[0;34m\u001b[0m\u001b[0m\n",
      "\u001b[0;31mKeyboardInterrupt\u001b[0m: "
     ]
    }
   ],
   "source": [
    "pred_test.groupBy('rawPrediction').count().orderBy('count').show()"
   ]
  },
  {
   "cell_type": "code",
   "execution_count": 69,
   "id": "b96960e3",
   "metadata": {},
   "outputs": [
    {
     "name": "stdout",
     "output_type": "stream",
     "text": [
      "+-----------+-------------+\n",
      "|label_index|rawPrediction|\n",
      "+-----------+-------------+\n",
      "|          0|            0|\n",
      "+-----------+-------------+\n",
      "\n"
     ]
    }
   ],
   "source": [
    "from pyspark.sql.functions import isnan, when, count, col\n",
    "\n",
    "pred_test.select([count(when(isnan(c), c)).alias(c) for c in pred_test.columns]).show()"
   ]
  },
  {
   "cell_type": "markdown",
   "id": "e2d9a4cc",
   "metadata": {},
   "source": [
    "#### ROC AUC구하기"
   ]
  },
  {
   "cell_type": "code",
   "execution_count": 91,
   "id": "667cfb3a",
   "metadata": {
    "scrolled": true
   },
   "outputs": [
    {
     "ename": "Py4JJavaError",
     "evalue": "An error occurred while calling o862.evaluate.\n: org.apache.spark.SparkException: Job 43 cancelled because killed via the Web UI\n\tat org.apache.spark.scheduler.DAGScheduler.org$apache$spark$scheduler$DAGScheduler$$failJobAndIndependentStages(DAGScheduler.scala:1925)\n\tat org.apache.spark.scheduler.DAGScheduler.handleJobCancellation(DAGScheduler.scala:1860)\n\tat org.apache.spark.scheduler.DAGScheduler$$anonfun$handleStageCancellation$1.apply$mcVI$sp(DAGScheduler.scala:1849)\n\tat org.apache.spark.scheduler.DAGScheduler$$anonfun$handleStageCancellation$1.apply(DAGScheduler.scala:1842)\n\tat org.apache.spark.scheduler.DAGScheduler$$anonfun$handleStageCancellation$1.apply(DAGScheduler.scala:1842)\n\tat scala.collection.IndexedSeqOptimized$class.foreach(IndexedSeqOptimized.scala:33)\n\tat scala.collection.mutable.ArrayOps$ofInt.foreach(ArrayOps.scala:234)\n\tat org.apache.spark.scheduler.DAGScheduler.handleStageCancellation(DAGScheduler.scala:1842)\n\tat org.apache.spark.scheduler.DAGSchedulerEventProcessLoop.doOnReceive(DAGScheduler.scala:2109)\n\tat org.apache.spark.scheduler.DAGSchedulerEventProcessLoop.onReceive(DAGScheduler.scala:2095)\n\tat org.apache.spark.scheduler.DAGSchedulerEventProcessLoop.onReceive(DAGScheduler.scala:2084)\n\tat org.apache.spark.util.EventLoop$$anon$1.run(EventLoop.scala:49)\n\tat org.apache.spark.scheduler.DAGScheduler.runJob(DAGScheduler.scala:759)\n\tat org.apache.spark.SparkContext.runJob(SparkContext.scala:2061)\n\tat org.apache.spark.SparkContext.runJob(SparkContext.scala:2082)\n\tat org.apache.spark.SparkContext.runJob(SparkContext.scala:2101)\n\tat org.apache.spark.SparkContext.runJob(SparkContext.scala:2126)\n\tat org.apache.spark.rdd.RDD$$anonfun$collect$1.apply(RDD.scala:990)\n\tat org.apache.spark.rdd.RDDOperationScope$.withScope(RDDOperationScope.scala:151)\n\tat org.apache.spark.rdd.RDDOperationScope$.withScope(RDDOperationScope.scala:112)\n\tat org.apache.spark.rdd.RDD.withScope(RDD.scala:385)\n\tat org.apache.spark.rdd.RDD.collect(RDD.scala:989)\n\tat org.apache.spark.RangePartitioner$.sketch(Partitioner.scala:309)\n\tat org.apache.spark.RangePartitioner.<init>(Partitioner.scala:171)\n\tat org.apache.spark.RangePartitioner.<init>(Partitioner.scala:151)\n\tat org.apache.spark.rdd.OrderedRDDFunctions$$anonfun$sortByKey$1.apply(OrderedRDDFunctions.scala:62)\n\tat org.apache.spark.rdd.OrderedRDDFunctions$$anonfun$sortByKey$1.apply(OrderedRDDFunctions.scala:61)\n\tat org.apache.spark.rdd.RDDOperationScope$.withScope(RDDOperationScope.scala:151)\n\tat org.apache.spark.rdd.RDDOperationScope$.withScope(RDDOperationScope.scala:112)\n\tat org.apache.spark.rdd.RDD.withScope(RDD.scala:385)\n\tat org.apache.spark.rdd.OrderedRDDFunctions.sortByKey(OrderedRDDFunctions.scala:61)\n\tat org.apache.spark.mllib.evaluation.BinaryClassificationMetrics.x$4$lzycompute(BinaryClassificationMetrics.scala:155)\n\tat org.apache.spark.mllib.evaluation.BinaryClassificationMetrics.x$4(BinaryClassificationMetrics.scala:146)\n\tat org.apache.spark.mllib.evaluation.BinaryClassificationMetrics.confusions$lzycompute(BinaryClassificationMetrics.scala:148)\n\tat org.apache.spark.mllib.evaluation.BinaryClassificationMetrics.confusions(BinaryClassificationMetrics.scala:148)\n\tat org.apache.spark.mllib.evaluation.BinaryClassificationMetrics.createCurve(BinaryClassificationMetrics.scala:226)\n\tat org.apache.spark.mllib.evaluation.BinaryClassificationMetrics.roc(BinaryClassificationMetrics.scala:86)\n\tat org.apache.spark.mllib.evaluation.BinaryClassificationMetrics.areaUnderROC(BinaryClassificationMetrics.scala:97)\n\tat org.apache.spark.ml.evaluation.BinaryClassificationEvaluator.evaluate(BinaryClassificationEvaluator.scala:87)\n\tat sun.reflect.NativeMethodAccessorImpl.invoke0(Native Method)\n\tat sun.reflect.NativeMethodAccessorImpl.invoke(NativeMethodAccessorImpl.java:62)\n\tat sun.reflect.DelegatingMethodAccessorImpl.invoke(DelegatingMethodAccessorImpl.java:43)\n\tat java.lang.reflect.Method.invoke(Method.java:498)\n\tat py4j.reflection.MethodInvoker.invoke(MethodInvoker.java:244)\n\tat py4j.reflection.ReflectionEngine.invoke(ReflectionEngine.java:357)\n\tat py4j.Gateway.invoke(Gateway.java:282)\n\tat py4j.commands.AbstractCommand.invokeMethod(AbstractCommand.java:132)\n\tat py4j.commands.CallCommand.execute(CallCommand.java:79)\n\tat py4j.GatewayConnection.run(GatewayConnection.java:238)\n\tat java.lang.Thread.run(Thread.java:748)\n",
     "output_type": "error",
     "traceback": [
      "\u001b[0;31m---------------------------------------------------------------------------\u001b[0m",
      "\u001b[0;31mPy4JJavaError\u001b[0m                             Traceback (most recent call last)",
      "\u001b[0;32m<ipython-input-91-7f083a853f63>\u001b[0m in \u001b[0;36m<module>\u001b[0;34m\u001b[0m\n\u001b[1;32m      5\u001b[0m \u001b[0;34m\u001b[0m\u001b[0m\n\u001b[1;32m      6\u001b[0m \u001b[0;31m# We have only two choices: area under ROC and PR curves :-(\u001b[0m\u001b[0;34m\u001b[0m\u001b[0;34m\u001b[0m\u001b[0;34m\u001b[0m\u001b[0m\n\u001b[0;32m----> 7\u001b[0;31m \u001b[0mauroc\u001b[0m \u001b[0;34m=\u001b[0m \u001b[0mevaluator\u001b[0m\u001b[0;34m.\u001b[0m\u001b[0mevaluate\u001b[0m\u001b[0;34m(\u001b[0m\u001b[0mpred_test\u001b[0m\u001b[0;34m,\u001b[0m \u001b[0;34m{\u001b[0m\u001b[0mevaluator\u001b[0m\u001b[0;34m.\u001b[0m\u001b[0mmetricName\u001b[0m\u001b[0;34m:\u001b[0m \u001b[0;34m\"areaUnderROC\"\u001b[0m\u001b[0;34m}\u001b[0m\u001b[0;34m)\u001b[0m\u001b[0;34m\u001b[0m\u001b[0;34m\u001b[0m\u001b[0m\n\u001b[0m\u001b[1;32m      8\u001b[0m \u001b[0mauprc\u001b[0m \u001b[0;34m=\u001b[0m \u001b[0mevaluator\u001b[0m\u001b[0;34m.\u001b[0m\u001b[0mevaluate\u001b[0m\u001b[0;34m(\u001b[0m\u001b[0mpred_test\u001b[0m\u001b[0;34m,\u001b[0m \u001b[0;34m{\u001b[0m\u001b[0mevaluator\u001b[0m\u001b[0;34m.\u001b[0m\u001b[0mmetricName\u001b[0m\u001b[0;34m:\u001b[0m \u001b[0;34m\"areaUnderPR\"\u001b[0m\u001b[0;34m}\u001b[0m\u001b[0;34m)\u001b[0m\u001b[0;34m\u001b[0m\u001b[0;34m\u001b[0m\u001b[0m\n\u001b[1;32m      9\u001b[0m \u001b[0mprint\u001b[0m\u001b[0;34m(\u001b[0m\u001b[0;34m\"Area under ROC Curve: {:.4f}\"\u001b[0m\u001b[0;34m.\u001b[0m\u001b[0mformat\u001b[0m\u001b[0;34m(\u001b[0m\u001b[0mauroc\u001b[0m\u001b[0;34m)\u001b[0m\u001b[0;34m)\u001b[0m\u001b[0;34m\u001b[0m\u001b[0;34m\u001b[0m\u001b[0m\n",
      "\u001b[0;32m~/spark/python/pyspark/ml/evaluation.py\u001b[0m in \u001b[0;36mevaluate\u001b[0;34m(self, dataset, params)\u001b[0m\n\u001b[1;32m     67\u001b[0m         \u001b[0;32mif\u001b[0m \u001b[0misinstance\u001b[0m\u001b[0;34m(\u001b[0m\u001b[0mparams\u001b[0m\u001b[0;34m,\u001b[0m \u001b[0mdict\u001b[0m\u001b[0;34m)\u001b[0m\u001b[0;34m:\u001b[0m\u001b[0;34m\u001b[0m\u001b[0;34m\u001b[0m\u001b[0m\n\u001b[1;32m     68\u001b[0m             \u001b[0;32mif\u001b[0m \u001b[0mparams\u001b[0m\u001b[0;34m:\u001b[0m\u001b[0;34m\u001b[0m\u001b[0;34m\u001b[0m\u001b[0m\n\u001b[0;32m---> 69\u001b[0;31m                 \u001b[0;32mreturn\u001b[0m \u001b[0mself\u001b[0m\u001b[0;34m.\u001b[0m\u001b[0mcopy\u001b[0m\u001b[0;34m(\u001b[0m\u001b[0mparams\u001b[0m\u001b[0;34m)\u001b[0m\u001b[0;34m.\u001b[0m\u001b[0m_evaluate\u001b[0m\u001b[0;34m(\u001b[0m\u001b[0mdataset\u001b[0m\u001b[0;34m)\u001b[0m\u001b[0;34m\u001b[0m\u001b[0;34m\u001b[0m\u001b[0m\n\u001b[0m\u001b[1;32m     70\u001b[0m             \u001b[0;32melse\u001b[0m\u001b[0;34m:\u001b[0m\u001b[0;34m\u001b[0m\u001b[0;34m\u001b[0m\u001b[0m\n\u001b[1;32m     71\u001b[0m                 \u001b[0;32mreturn\u001b[0m \u001b[0mself\u001b[0m\u001b[0;34m.\u001b[0m\u001b[0m_evaluate\u001b[0m\u001b[0;34m(\u001b[0m\u001b[0mdataset\u001b[0m\u001b[0;34m)\u001b[0m\u001b[0;34m\u001b[0m\u001b[0;34m\u001b[0m\u001b[0m\n",
      "\u001b[0;32m~/spark/python/pyspark/ml/evaluation.py\u001b[0m in \u001b[0;36m_evaluate\u001b[0;34m(self, dataset)\u001b[0m\n\u001b[1;32m     99\u001b[0m         \"\"\"\n\u001b[1;32m    100\u001b[0m         \u001b[0mself\u001b[0m\u001b[0;34m.\u001b[0m\u001b[0m_transfer_params_to_java\u001b[0m\u001b[0;34m(\u001b[0m\u001b[0;34m)\u001b[0m\u001b[0;34m\u001b[0m\u001b[0;34m\u001b[0m\u001b[0m\n\u001b[0;32m--> 101\u001b[0;31m         \u001b[0;32mreturn\u001b[0m \u001b[0mself\u001b[0m\u001b[0;34m.\u001b[0m\u001b[0m_java_obj\u001b[0m\u001b[0;34m.\u001b[0m\u001b[0mevaluate\u001b[0m\u001b[0;34m(\u001b[0m\u001b[0mdataset\u001b[0m\u001b[0;34m.\u001b[0m\u001b[0m_jdf\u001b[0m\u001b[0;34m)\u001b[0m\u001b[0;34m\u001b[0m\u001b[0;34m\u001b[0m\u001b[0m\n\u001b[0m\u001b[1;32m    102\u001b[0m \u001b[0;34m\u001b[0m\u001b[0m\n\u001b[1;32m    103\u001b[0m     \u001b[0;32mdef\u001b[0m \u001b[0misLargerBetter\u001b[0m\u001b[0;34m(\u001b[0m\u001b[0mself\u001b[0m\u001b[0;34m)\u001b[0m\u001b[0;34m:\u001b[0m\u001b[0;34m\u001b[0m\u001b[0;34m\u001b[0m\u001b[0m\n",
      "\u001b[0;32m~/spark/python/lib/py4j-0.10.7-src.zip/py4j/java_gateway.py\u001b[0m in \u001b[0;36m__call__\u001b[0;34m(self, *args)\u001b[0m\n\u001b[1;32m   1255\u001b[0m         \u001b[0manswer\u001b[0m \u001b[0;34m=\u001b[0m \u001b[0mself\u001b[0m\u001b[0;34m.\u001b[0m\u001b[0mgateway_client\u001b[0m\u001b[0;34m.\u001b[0m\u001b[0msend_command\u001b[0m\u001b[0;34m(\u001b[0m\u001b[0mcommand\u001b[0m\u001b[0;34m)\u001b[0m\u001b[0;34m\u001b[0m\u001b[0;34m\u001b[0m\u001b[0m\n\u001b[1;32m   1256\u001b[0m         return_value = get_return_value(\n\u001b[0;32m-> 1257\u001b[0;31m             answer, self.gateway_client, self.target_id, self.name)\n\u001b[0m\u001b[1;32m   1258\u001b[0m \u001b[0;34m\u001b[0m\u001b[0m\n\u001b[1;32m   1259\u001b[0m         \u001b[0;32mfor\u001b[0m \u001b[0mtemp_arg\u001b[0m \u001b[0;32min\u001b[0m \u001b[0mtemp_args\u001b[0m\u001b[0;34m:\u001b[0m\u001b[0;34m\u001b[0m\u001b[0;34m\u001b[0m\u001b[0m\n",
      "\u001b[0;32m~/spark/python/pyspark/sql/utils.py\u001b[0m in \u001b[0;36mdeco\u001b[0;34m(*a, **kw)\u001b[0m\n\u001b[1;32m     61\u001b[0m     \u001b[0;32mdef\u001b[0m \u001b[0mdeco\u001b[0m\u001b[0;34m(\u001b[0m\u001b[0;34m*\u001b[0m\u001b[0ma\u001b[0m\u001b[0;34m,\u001b[0m \u001b[0;34m**\u001b[0m\u001b[0mkw\u001b[0m\u001b[0;34m)\u001b[0m\u001b[0;34m:\u001b[0m\u001b[0;34m\u001b[0m\u001b[0;34m\u001b[0m\u001b[0m\n\u001b[1;32m     62\u001b[0m         \u001b[0;32mtry\u001b[0m\u001b[0;34m:\u001b[0m\u001b[0;34m\u001b[0m\u001b[0;34m\u001b[0m\u001b[0m\n\u001b[0;32m---> 63\u001b[0;31m             \u001b[0;32mreturn\u001b[0m \u001b[0mf\u001b[0m\u001b[0;34m(\u001b[0m\u001b[0;34m*\u001b[0m\u001b[0ma\u001b[0m\u001b[0;34m,\u001b[0m \u001b[0;34m**\u001b[0m\u001b[0mkw\u001b[0m\u001b[0;34m)\u001b[0m\u001b[0;34m\u001b[0m\u001b[0;34m\u001b[0m\u001b[0m\n\u001b[0m\u001b[1;32m     64\u001b[0m         \u001b[0;32mexcept\u001b[0m \u001b[0mpy4j\u001b[0m\u001b[0;34m.\u001b[0m\u001b[0mprotocol\u001b[0m\u001b[0;34m.\u001b[0m\u001b[0mPy4JJavaError\u001b[0m \u001b[0;32mas\u001b[0m \u001b[0me\u001b[0m\u001b[0;34m:\u001b[0m\u001b[0;34m\u001b[0m\u001b[0;34m\u001b[0m\u001b[0m\n\u001b[1;32m     65\u001b[0m             \u001b[0ms\u001b[0m \u001b[0;34m=\u001b[0m \u001b[0me\u001b[0m\u001b[0;34m.\u001b[0m\u001b[0mjava_exception\u001b[0m\u001b[0;34m.\u001b[0m\u001b[0mtoString\u001b[0m\u001b[0;34m(\u001b[0m\u001b[0;34m)\u001b[0m\u001b[0;34m\u001b[0m\u001b[0;34m\u001b[0m\u001b[0m\n",
      "\u001b[0;32m~/spark/python/lib/py4j-0.10.7-src.zip/py4j/protocol.py\u001b[0m in \u001b[0;36mget_return_value\u001b[0;34m(answer, gateway_client, target_id, name)\u001b[0m\n\u001b[1;32m    326\u001b[0m                 raise Py4JJavaError(\n\u001b[1;32m    327\u001b[0m                     \u001b[0;34m\"An error occurred while calling {0}{1}{2}.\\n\"\u001b[0m\u001b[0;34m.\u001b[0m\u001b[0;34m\u001b[0m\u001b[0;34m\u001b[0m\u001b[0m\n\u001b[0;32m--> 328\u001b[0;31m                     format(target_id, \".\", name), value)\n\u001b[0m\u001b[1;32m    329\u001b[0m             \u001b[0;32melse\u001b[0m\u001b[0;34m:\u001b[0m\u001b[0;34m\u001b[0m\u001b[0;34m\u001b[0m\u001b[0m\n\u001b[1;32m    330\u001b[0m                 raise Py4JError(\n",
      "\u001b[0;31mPy4JJavaError\u001b[0m: An error occurred while calling o862.evaluate.\n: org.apache.spark.SparkException: Job 43 cancelled because killed via the Web UI\n\tat org.apache.spark.scheduler.DAGScheduler.org$apache$spark$scheduler$DAGScheduler$$failJobAndIndependentStages(DAGScheduler.scala:1925)\n\tat org.apache.spark.scheduler.DAGScheduler.handleJobCancellation(DAGScheduler.scala:1860)\n\tat org.apache.spark.scheduler.DAGScheduler$$anonfun$handleStageCancellation$1.apply$mcVI$sp(DAGScheduler.scala:1849)\n\tat org.apache.spark.scheduler.DAGScheduler$$anonfun$handleStageCancellation$1.apply(DAGScheduler.scala:1842)\n\tat org.apache.spark.scheduler.DAGScheduler$$anonfun$handleStageCancellation$1.apply(DAGScheduler.scala:1842)\n\tat scala.collection.IndexedSeqOptimized$class.foreach(IndexedSeqOptimized.scala:33)\n\tat scala.collection.mutable.ArrayOps$ofInt.foreach(ArrayOps.scala:234)\n\tat org.apache.spark.scheduler.DAGScheduler.handleStageCancellation(DAGScheduler.scala:1842)\n\tat org.apache.spark.scheduler.DAGSchedulerEventProcessLoop.doOnReceive(DAGScheduler.scala:2109)\n\tat org.apache.spark.scheduler.DAGSchedulerEventProcessLoop.onReceive(DAGScheduler.scala:2095)\n\tat org.apache.spark.scheduler.DAGSchedulerEventProcessLoop.onReceive(DAGScheduler.scala:2084)\n\tat org.apache.spark.util.EventLoop$$anon$1.run(EventLoop.scala:49)\n\tat org.apache.spark.scheduler.DAGScheduler.runJob(DAGScheduler.scala:759)\n\tat org.apache.spark.SparkContext.runJob(SparkContext.scala:2061)\n\tat org.apache.spark.SparkContext.runJob(SparkContext.scala:2082)\n\tat org.apache.spark.SparkContext.runJob(SparkContext.scala:2101)\n\tat org.apache.spark.SparkContext.runJob(SparkContext.scala:2126)\n\tat org.apache.spark.rdd.RDD$$anonfun$collect$1.apply(RDD.scala:990)\n\tat org.apache.spark.rdd.RDDOperationScope$.withScope(RDDOperationScope.scala:151)\n\tat org.apache.spark.rdd.RDDOperationScope$.withScope(RDDOperationScope.scala:112)\n\tat org.apache.spark.rdd.RDD.withScope(RDD.scala:385)\n\tat org.apache.spark.rdd.RDD.collect(RDD.scala:989)\n\tat org.apache.spark.RangePartitioner$.sketch(Partitioner.scala:309)\n\tat org.apache.spark.RangePartitioner.<init>(Partitioner.scala:171)\n\tat org.apache.spark.RangePartitioner.<init>(Partitioner.scala:151)\n\tat org.apache.spark.rdd.OrderedRDDFunctions$$anonfun$sortByKey$1.apply(OrderedRDDFunctions.scala:62)\n\tat org.apache.spark.rdd.OrderedRDDFunctions$$anonfun$sortByKey$1.apply(OrderedRDDFunctions.scala:61)\n\tat org.apache.spark.rdd.RDDOperationScope$.withScope(RDDOperationScope.scala:151)\n\tat org.apache.spark.rdd.RDDOperationScope$.withScope(RDDOperationScope.scala:112)\n\tat org.apache.spark.rdd.RDD.withScope(RDD.scala:385)\n\tat org.apache.spark.rdd.OrderedRDDFunctions.sortByKey(OrderedRDDFunctions.scala:61)\n\tat org.apache.spark.mllib.evaluation.BinaryClassificationMetrics.x$4$lzycompute(BinaryClassificationMetrics.scala:155)\n\tat org.apache.spark.mllib.evaluation.BinaryClassificationMetrics.x$4(BinaryClassificationMetrics.scala:146)\n\tat org.apache.spark.mllib.evaluation.BinaryClassificationMetrics.confusions$lzycompute(BinaryClassificationMetrics.scala:148)\n\tat org.apache.spark.mllib.evaluation.BinaryClassificationMetrics.confusions(BinaryClassificationMetrics.scala:148)\n\tat org.apache.spark.mllib.evaluation.BinaryClassificationMetrics.createCurve(BinaryClassificationMetrics.scala:226)\n\tat org.apache.spark.mllib.evaluation.BinaryClassificationMetrics.roc(BinaryClassificationMetrics.scala:86)\n\tat org.apache.spark.mllib.evaluation.BinaryClassificationMetrics.areaUnderROC(BinaryClassificationMetrics.scala:97)\n\tat org.apache.spark.ml.evaluation.BinaryClassificationEvaluator.evaluate(BinaryClassificationEvaluator.scala:87)\n\tat sun.reflect.NativeMethodAccessorImpl.invoke0(Native Method)\n\tat sun.reflect.NativeMethodAccessorImpl.invoke(NativeMethodAccessorImpl.java:62)\n\tat sun.reflect.DelegatingMethodAccessorImpl.invoke(DelegatingMethodAccessorImpl.java:43)\n\tat java.lang.reflect.Method.invoke(Method.java:498)\n\tat py4j.reflection.MethodInvoker.invoke(MethodInvoker.java:244)\n\tat py4j.reflection.ReflectionEngine.invoke(ReflectionEngine.java:357)\n\tat py4j.Gateway.invoke(Gateway.java:282)\n\tat py4j.commands.AbstractCommand.invokeMethod(AbstractCommand.java:132)\n\tat py4j.commands.CallCommand.execute(CallCommand.java:79)\n\tat py4j.GatewayConnection.run(GatewayConnection.java:238)\n\tat java.lang.Thread.run(Thread.java:748)\n"
     ]
    }
   ],
   "source": [
    "from pyspark.ml.evaluation import BinaryClassificationEvaluator\n",
    "\n",
    "# Let's use the run-of-the-mill evaluator\n",
    "evaluator = BinaryClassificationEvaluator(labelCol='label_index')\n",
    "\n",
    "# We have only two choices: area under ROC and PR curves :-(\n",
    "auroc = evaluator.evaluate(pred_test, {evaluator.metricName: \"areaUnderROC\"})\n",
    "auprc = evaluator.evaluate(pred_test, {evaluator.metricName: \"areaUnderPR\"})\n",
    "print(\"Area under ROC Curve: {:.4f}\".format(auroc))\n",
    "print(\"Area under PR Curve: {:.4f}\".format(auprc))"
   ]
  },
  {
   "cell_type": "markdown",
   "id": "946f3a10",
   "metadata": {},
   "source": [
    "#### Precision, Recall 구하기"
   ]
  },
  {
   "cell_type": "code",
   "execution_count": 74,
   "id": "ad61d9d6",
   "metadata": {},
   "outputs": [],
   "source": [
    "# Select (prediction, true label) and compute test error\n",
    "evaluator = MulticlassClassificationEvaluator(\n",
    "    labelCol=\"label_index\", predictionCol=\"rawPrediction\", metricName=\"accuracy\")"
   ]
  },
  {
   "cell_type": "code",
   "execution_count": 75,
   "id": "f66398cf",
   "metadata": {},
   "outputs": [
    {
     "name": "stdout",
     "output_type": "stream",
     "text": [
      "0.8850595452905088\n"
     ]
    }
   ],
   "source": [
    "accuracy = evaluator.evaluate(pred_test)\n",
    "print(accuracy)"
   ]
  },
  {
   "cell_type": "code",
   "execution_count": 76,
   "id": "40eb6243",
   "metadata": {},
   "outputs": [],
   "source": [
    "# Select (prediction, true label) and compute test error\n",
    "evaluator = MulticlassClassificationEvaluator(\n",
    "    labelCol=\"label_index\", predictionCol=\"rawPrediction\", metricName=\"f1\")"
   ]
  },
  {
   "cell_type": "code",
   "execution_count": 77,
   "id": "ea612e9d",
   "metadata": {},
   "outputs": [
    {
     "name": "stdout",
     "output_type": "stream",
     "text": [
      "0.8843462839707513\n"
     ]
    }
   ],
   "source": [
    "f1 = evaluator.evaluate(pred_test)\n",
    "print(f1)"
   ]
  },
  {
   "cell_type": "code",
   "execution_count": 112,
   "id": "8e5515cf",
   "metadata": {},
   "outputs": [],
   "source": [
    "# Select (prediction, true label) and compute test error\n",
    "evaluator = MulticlassClassificationEvaluator(\n",
    "    labelCol=\"label_index\", predictionCol=\"rawPrediction\", metricName=\"weightedPrecision\")"
   ]
  },
  {
   "cell_type": "code",
   "execution_count": 113,
   "id": "92f4629c",
   "metadata": {},
   "outputs": [
    {
     "name": "stdout",
     "output_type": "stream",
     "text": [
      "0.9094533993401972\n"
     ]
    }
   ],
   "source": [
    "weightedPrecision = evaluator.evaluate(pred_test)\n",
    "print(weightedPrecision)"
   ]
  },
  {
   "cell_type": "code",
   "execution_count": 114,
   "id": "d950572f",
   "metadata": {},
   "outputs": [],
   "source": [
    "# Select (prediction, true label) and compute test error\n",
    "evaluator = MulticlassClassificationEvaluator(\n",
    "    labelCol=\"label_index\", predictionCol=\"rawPrediction\", metricName=\"weightedRecall\")"
   ]
  },
  {
   "cell_type": "code",
   "execution_count": 115,
   "id": "8c715f64",
   "metadata": {},
   "outputs": [
    {
     "name": "stdout",
     "output_type": "stream",
     "text": [
      "0.9093588355587634\n"
     ]
    }
   ],
   "source": [
    "weightedRecall = evaluator.evaluate(pred_test)\n",
    "print(weightedRecall)"
   ]
  },
  {
   "cell_type": "code",
   "execution_count": null,
   "id": "d79dc559",
   "metadata": {},
   "outputs": [],
   "source": []
  },
  {
   "cell_type": "code",
   "execution_count": null,
   "id": "706562d7",
   "metadata": {},
   "outputs": [],
   "source": []
  },
  {
   "cell_type": "code",
   "execution_count": null,
   "id": "3b596e84",
   "metadata": {},
   "outputs": [],
   "source": []
  },
  {
   "cell_type": "code",
   "execution_count": 72,
   "id": "2b8bf8a2",
   "metadata": {},
   "outputs": [],
   "source": [
    "# pnl_train = pred_train.select('label_index', \"prediction2\")\n",
    "pnl_test = pred_test.select('label_index', \"rawPrediction\")"
   ]
  },
  {
   "cell_type": "code",
   "execution_count": 73,
   "id": "f1a68ac1",
   "metadata": {},
   "outputs": [],
   "source": [
    "# pred_and_label_train = pnl_train.rdd.map(lambda row: (row['label_index'], row['prediction2']))\n",
    "pred_and_label_test = pnl_test.rdd.map(lambda row: (row['label_index'],row['rawPrediction']))"
   ]
  },
  {
   "cell_type": "code",
   "execution_count": 74,
   "id": "e0854cb1",
   "metadata": {},
   "outputs": [],
   "source": [
    "# metrics_train = MulticlassMetrics(pred_and_label_train)\n",
    "metrics_test = MulticlassMetrics(pred_and_label_test)"
   ]
  },
  {
   "cell_type": "code",
   "execution_count": 75,
   "id": "4eb766c4",
   "metadata": {},
   "outputs": [
    {
     "ename": "TypeError",
     "evalue": "Invalid argument, not a string or column: 0.9539476322226232 of type <class 'float'>. For column literals, use 'lit', 'array', 'struct' or 'create_map' function.",
     "output_type": "error",
     "traceback": [
      "\u001b[0;31m---------------------------------------------------------------------------\u001b[0m",
      "\u001b[0;31mTypeError\u001b[0m                                 Traceback (most recent call last)",
      "\u001b[0;32m<ipython-input-75-4e083d23747f>\u001b[0m in \u001b[0;36m<module>\u001b[0;34m\u001b[0m\n\u001b[1;32m      3\u001b[0m \u001b[0;31m# display(pnl_train.crosstab('label_index', 'prediction').toPandas())\u001b[0m\u001b[0;34m\u001b[0m\u001b[0;34m\u001b[0m\u001b[0;34m\u001b[0m\u001b[0m\n\u001b[1;32m      4\u001b[0m \u001b[0;34m\u001b[0m\u001b[0m\n\u001b[0;32m----> 5\u001b[0;31m \u001b[0mprint\u001b[0m\u001b[0;34m(\u001b[0m\u001b[0;34m\"\\nTest Data Accuracy: {}\"\u001b[0m\u001b[0;34m.\u001b[0m\u001b[0mformat\u001b[0m\u001b[0;34m(\u001b[0m\u001b[0mround\u001b[0m\u001b[0;34m(\u001b[0m\u001b[0mmetrics_test\u001b[0m\u001b[0;34m.\u001b[0m\u001b[0mprecision\u001b[0m\u001b[0;34m(\u001b[0m\u001b[0;34m)\u001b[0m\u001b[0;34m,\u001b[0m \u001b[0;36m4\u001b[0m\u001b[0;34m)\u001b[0m\u001b[0;34m)\u001b[0m\u001b[0;34m)\u001b[0m\u001b[0;34m\u001b[0m\u001b[0;34m\u001b[0m\u001b[0m\n\u001b[0m\u001b[1;32m      6\u001b[0m \u001b[0;31m# print(\"Test Data Confusion Matrix\")\u001b[0m\u001b[0;34m\u001b[0m\u001b[0;34m\u001b[0m\u001b[0;34m\u001b[0m\u001b[0m\n\u001b[1;32m      7\u001b[0m \u001b[0;31m# display(pnl_test.crosstab(\"label_index\", \"prediction\").toPandas())\u001b[0m\u001b[0;34m\u001b[0m\u001b[0;34m\u001b[0m\u001b[0;34m\u001b[0m\u001b[0m\n",
      "\u001b[0;32m~/spark/python/pyspark/sql/functions.py\u001b[0m in \u001b[0;36mround\u001b[0;34m(col, scale)\u001b[0m\n\u001b[1;32m    600\u001b[0m     \"\"\"\n\u001b[1;32m    601\u001b[0m     \u001b[0msc\u001b[0m \u001b[0;34m=\u001b[0m \u001b[0mSparkContext\u001b[0m\u001b[0;34m.\u001b[0m\u001b[0m_active_spark_context\u001b[0m\u001b[0;34m\u001b[0m\u001b[0;34m\u001b[0m\u001b[0m\n\u001b[0;32m--> 602\u001b[0;31m     \u001b[0;32mreturn\u001b[0m \u001b[0mColumn\u001b[0m\u001b[0;34m(\u001b[0m\u001b[0msc\u001b[0m\u001b[0;34m.\u001b[0m\u001b[0m_jvm\u001b[0m\u001b[0;34m.\u001b[0m\u001b[0mfunctions\u001b[0m\u001b[0;34m.\u001b[0m\u001b[0mround\u001b[0m\u001b[0;34m(\u001b[0m\u001b[0m_to_java_column\u001b[0m\u001b[0;34m(\u001b[0m\u001b[0mcol\u001b[0m\u001b[0;34m)\u001b[0m\u001b[0;34m,\u001b[0m \u001b[0mscale\u001b[0m\u001b[0;34m)\u001b[0m\u001b[0;34m)\u001b[0m\u001b[0;34m\u001b[0m\u001b[0;34m\u001b[0m\u001b[0m\n\u001b[0m\u001b[1;32m    603\u001b[0m \u001b[0;34m\u001b[0m\u001b[0m\n\u001b[1;32m    604\u001b[0m \u001b[0;34m\u001b[0m\u001b[0m\n",
      "\u001b[0;32m~/spark/python/pyspark/sql/column.py\u001b[0m in \u001b[0;36m_to_java_column\u001b[0;34m(col)\u001b[0m\n\u001b[1;32m     51\u001b[0m             \u001b[0;34m\"{0} of type {1}. \"\u001b[0m\u001b[0;34m\u001b[0m\u001b[0;34m\u001b[0m\u001b[0m\n\u001b[1;32m     52\u001b[0m             \u001b[0;34m\"For column literals, use 'lit', 'array', 'struct' or 'create_map' \"\u001b[0m\u001b[0;34m\u001b[0m\u001b[0;34m\u001b[0m\u001b[0m\n\u001b[0;32m---> 53\u001b[0;31m             \"function.\".format(col, type(col)))\n\u001b[0m\u001b[1;32m     54\u001b[0m     \u001b[0;32mreturn\u001b[0m \u001b[0mjcol\u001b[0m\u001b[0;34m\u001b[0m\u001b[0;34m\u001b[0m\u001b[0m\n\u001b[1;32m     55\u001b[0m \u001b[0;34m\u001b[0m\u001b[0m\n",
      "\u001b[0;31mTypeError\u001b[0m: Invalid argument, not a string or column: 0.9539476322226232 of type <class 'float'>. For column literals, use 'lit', 'array', 'struct' or 'create_map' function."
     ]
    }
   ],
   "source": [
    "# print(\"Training Data Accuracy: {}\".format(round(metrics_train.precision(), 4)))\n",
    "# print(\"Training Data Confusion Matrix\")\n",
    "# display(pnl_train.crosstab('label_index', 'prediction').toPandas())\n",
    "\n",
    "print(\"\\nTest Data Accuracy: {}\".format(metrics_test.precision()))\n",
    "# print(\"Test Data Confusion Matrix\")\n",
    "# display(pnl_test.crosstab(\"label_index\", \"prediction\").toPandas())"
   ]
  },
  {
   "cell_type": "code",
   "execution_count": 76,
   "id": "221f104f",
   "metadata": {},
   "outputs": [
    {
     "data": {
      "text/plain": [
       "0.9539476322226232"
      ]
     },
     "execution_count": 76,
     "metadata": {},
     "output_type": "execute_result"
    }
   ],
   "source": [
    "metrics_test.precision()"
   ]
  },
  {
   "cell_type": "code",
   "execution_count": 29,
   "id": "d98cdb73",
   "metadata": {},
   "outputs": [
    {
     "data": {
      "text/plain": [
       "105727"
      ]
     },
     "execution_count": 29,
     "metadata": {},
     "output_type": "execute_result"
    }
   ],
   "source": [
    "word_counts_1.value.get('allow')"
   ]
  },
  {
   "cell_type": "markdown",
   "id": "7bc39cd2",
   "metadata": {},
   "source": [
    "#### Broadcast 변수 update"
   ]
  },
  {
   "cell_type": "code",
   "execution_count": 63,
   "id": "39234fd8",
   "metadata": {},
   "outputs": [],
   "source": [
    "class BroadcastWrapper(object):\n",
    "    def __init__(self, data, token_list):\n",
    "        self.broadcast_var = data\n",
    "#         self.last_updated_time = datetime.now()\n",
    "        self.token_list = token_list\n",
    "        \n",
    "#     def is_should_be_updated(self, data):\n",
    "#         cur_time = datetime.now()\n",
    "#         diff_sec = (cur_time - self.last_updated_time).total_seconds()\n",
    "#         return self.broadcast_var is None or diff_sec> 1\n",
    "    \n",
    "    def update_and_get_data(self, spark):\n",
    "        a = self.broadcast_var.value\n",
    "        self.broadcast_var.unpersist()\n",
    "        for i in self.token_list:\n",
    "            a[i] += 1\n",
    "        new_data = a\n",
    "        \n",
    "        self.broadcast_var = spark.broadcast(new_data)\n",
    "#         self.last_updated_time = datetime.now()\n",
    "    \n",
    "        return self.broadcast_var"
   ]
  },
  {
   "cell_type": "code",
   "execution_count": 64,
   "id": "af3404dc",
   "metadata": {},
   "outputs": [],
   "source": [
    "import datetime\n",
    "aa = sc.broadcast({'a':1, 'b':2, 'c':3})\n",
    "broadcast_wrapper = BroadcastWrapper(aa,['a', 'c'] )"
   ]
  },
  {
   "cell_type": "code",
   "execution_count": 65,
   "id": "511c3377",
   "metadata": {},
   "outputs": [],
   "source": [
    "a = broadcast_wrapper.update_and_get_data(sc)"
   ]
  },
  {
   "cell_type": "code",
   "execution_count": 66,
   "id": "52113319",
   "metadata": {},
   "outputs": [
    {
     "data": {
      "text/plain": [
       "{'a': 2, 'b': 2, 'c': 4}"
      ]
     },
     "execution_count": 66,
     "metadata": {},
     "output_type": "execute_result"
    }
   ],
   "source": [
    "a.value"
   ]
  },
  {
   "cell_type": "code",
   "execution_count": 69,
   "id": "fc3e4dc1",
   "metadata": {},
   "outputs": [
    {
     "data": {
      "text/plain": [
       "{'a': 2, 'b': 2, 'c': 4}"
      ]
     },
     "execution_count": 69,
     "metadata": {},
     "output_type": "execute_result"
    }
   ],
   "source": [
    "broadcast_wrapper.broadcast_var.value"
   ]
  },
  {
   "cell_type": "code",
   "execution_count": 73,
   "id": "7351f1ba",
   "metadata": {},
   "outputs": [],
   "source": [
    "conf = spark.sparkContext._conf.setAll([(\"spark.streaming.concurrentJobs\", \"2\")])\n",
    "\n",
    "spark = SparkSession \\\n",
    "            .builder \\\n",
    "            .appName(\"TwitterClassification\") \\\n",
    "            .config(conf=conf) \\\n",
    "            .config(\"spark.streaming.concurrentJobs\", \"2\") \\\n",
    "            .getOrCreate()"
   ]
  },
  {
   "cell_type": "code",
   "execution_count": 74,
   "id": "95af0e90",
   "metadata": {},
   "outputs": [
    {
     "data": {
      "text/plain": [
       "[('spark.eventLog.enabled', 'true'),\n",
       " ('spark.driver.memory', '4g'),\n",
       " ('spark.executor.id', 'driver'),\n",
       " ('spark.history.fs.logDirectory', 'file:///root/spark/eventLog'),\n",
       " ('spark.driver.host', 'kafka1'),\n",
       " ('spark.network.timeout', '3600s'),\n",
       " ('spark.app.name', 'TwitterClassification'),\n",
       " ('spark.executor.memory', '6g'),\n",
       " ('spark.serializer', 'org.apache.spark.serializer.KryoSerializer'),\n",
       " ('spark.streaming.concurrentJobs', '2'),\n",
       " ('spark.sql.catalogImplementation', 'hive'),\n",
       " ('spark.driver.port', '38277'),\n",
       " ('spark.rdd.compress', 'True'),\n",
       " ('spark.app.id', 'local-1632550969090'),\n",
       " ('spark.serializer.objectStreamReset', '100'),\n",
       " ('spark.default.parallelism', '20'),\n",
       " ('spark.submit.deployMode', 'client'),\n",
       " ('spark.eventLog.dir', 'file:///root/spark/eventLog'),\n",
       " ('spark.ui.showConsoleProgress', 'true'),\n",
       " ('spark.kryoserializer.buffer.max', '2047'),\n",
       " ('spark.master', 'local[9]')]"
      ]
     },
     "execution_count": 74,
     "metadata": {},
     "output_type": "execute_result"
    }
   ],
   "source": [
    "sc.getConf().getAll()"
   ]
  },
  {
   "cell_type": "code",
   "execution_count": 68,
   "id": "65eee042",
   "metadata": {},
   "outputs": [
    {
     "data": {
      "text/html": [
       "\n",
       "            <div>\n",
       "                <p><b>SparkSession - hive</b></p>\n",
       "                \n",
       "        <div>\n",
       "            <p><b>SparkContext</b></p>\n",
       "\n",
       "            <p><a href=\"http://kafka1:4040\">Spark UI</a></p>\n",
       "\n",
       "            <dl>\n",
       "              <dt>Version</dt>\n",
       "                <dd><code>v2.4.7</code></dd>\n",
       "              <dt>Master</dt>\n",
       "                <dd><code>local[9]</code></dd>\n",
       "              <dt>AppName</dt>\n",
       "                <dd><code>PySparkShell</code></dd>\n",
       "            </dl>\n",
       "        </div>\n",
       "        \n",
       "            </div>\n",
       "        "
      ],
      "text/plain": [
       "<pyspark.sql.session.SparkSession at 0x7f738e0126a0>"
      ]
     },
     "execution_count": 68,
     "metadata": {},
     "output_type": "execute_result"
    }
   ],
   "source": [
    "spark"
   ]
  },
  {
   "cell_type": "code",
   "execution_count": null,
   "id": "ba743904",
   "metadata": {},
   "outputs": [],
   "source": [
    "dl_pipeline = Pipeline(stages=[estimator])\n",
    "model = dl_pipeline.fit(df.map())"
   ]
  },
  {
   "cell_type": "code",
   "execution_count": null,
   "id": "33ba3827",
   "metadata": {},
   "outputs": [],
   "source": [
    "if __name__ == \"__main__\":\n",
    "    spark = SparkSession \\\n",
    "            .builder \\\n",
    "            .appName(\"TwitterClassification\") \\\n",
    "            .config(\"spark.streaming.concurrentJobs\", \"2\")\n",
    "            .getOrCreate()\n",
    "\n",
    "    spark.sparkContext.setLogLevel(\"ERROR\")\n",
    "    \n",
    "    kafka_df = spark.readStream.format(\"kafka\").option(\"partition.assignment.strategy\",\"range\").option(\"kafka.bootstrap.servers\", \"kafka1:9092,kafka2:9092,kafka3:9093\").option(\"subscribe\", \"test1,test2,test3\").option(\"startingOffsets\", \"latest\").load()\n",
    "    kafka_df.printSchema()\n",
    "    kafka_df1 = kafka_df.selectExpr(\"CAST(value AS STRING)\", \"timestamp\")\n",
    "    \n",
    "    transaction_detail_schema = StructType() \\\n",
    "            .add(\"id\", StringType()) \\\n",
    "            .add(\"text\", StringType()) \\\n",
    "            .add(\"created_at\", StringType())\n",
    "    \n",
    "    kafka_df2 = kafka_df1 \\\n",
    "            .select(from_json(col(\"value\"), transaction_detail_schema).alias(\"transaction_detail\"), \"timestamp\")\n",
    "\n",
    "    kafka_df3 = kafka_df2.select(\"transaction_detail.*\", \"timestamp\")\n",
    " \n",
    "    udf_blob = udf(apply_blob, StringType())\n",
    "    \n",
    "    udf_nlkt = udf(nlkt_analysis, StringType())\n",
    "    \n",
    "    new_df = kafka_df3.withColumn(\"status\", udf_nlkt(\"text\"))\n",
    "    new_df = new_df.drop(\"text\")\n",
    "\n",
    "    def write_mongo_row(df, epoch_id):\n",
    "        mongoURL = \"mongodb://117.17.189.6:27017/tweet.kafka_tweet\"\n",
    "        df.write.format(\"com.mongodb.spark.sql.DefaultSource\").mode(\"append\").option(\"uri\", mongoURL).save()\n",
    "        df.show()\n",
    "        pass\n",
    "    query = new_df.writeStream.trigger(processingTime='1 seconds').foreachBatch(write_mongo_row).start() \n",
    "    print('---------------------------------------------')\n",
    "    query.awaitTermination()\n",
    "\n",
    "    spark.stop()\n"
   ]
  },
  {
   "cell_type": "code",
   "execution_count": null,
   "id": "3f69d3e8",
   "metadata": {},
   "outputs": [],
   "source": []
  },
  {
   "cell_type": "code",
   "execution_count": null,
   "id": "7ed22238",
   "metadata": {},
   "outputs": [],
   "source": []
  },
  {
   "cell_type": "code",
   "execution_count": null,
   "id": "608f8189",
   "metadata": {},
   "outputs": [],
   "source": []
  },
  {
   "cell_type": "code",
   "execution_count": null,
   "id": "844409f1",
   "metadata": {},
   "outputs": [],
   "source": []
  },
  {
   "cell_type": "code",
   "execution_count": null,
   "id": "5a33b925",
   "metadata": {},
   "outputs": [],
   "source": []
  },
  {
   "cell_type": "code",
   "execution_count": null,
   "id": "88ddb564",
   "metadata": {},
   "outputs": [],
   "source": []
  },
  {
   "cell_type": "code",
   "execution_count": null,
   "id": "c87e9bf0",
   "metadata": {},
   "outputs": [],
   "source": []
  },
  {
   "cell_type": "code",
   "execution_count": 147,
   "id": "4a715863",
   "metadata": {
    "scrolled": true
   },
   "outputs": [
    {
     "data": {
      "text/html": [
       "<div>\n",
       "<style scoped>\n",
       "    .dataframe tbody tr th:only-of-type {\n",
       "        vertical-align: middle;\n",
       "    }\n",
       "\n",
       "    .dataframe tbody tr th {\n",
       "        vertical-align: top;\n",
       "    }\n",
       "\n",
       "    .dataframe thead th {\n",
       "        text-align: right;\n",
       "    }\n",
       "</style>\n",
       "<table border=\"1\" class=\"dataframe\">\n",
       "  <thead>\n",
       "    <tr style=\"text-align: right;\">\n",
       "      <th></th>\n",
       "      <th>aa</th>\n",
       "      <th>nn</th>\n",
       "    </tr>\n",
       "  </thead>\n",
       "  <tbody>\n",
       "    <tr>\n",
       "      <th>0</th>\n",
       "      <td>[80, 0]</td>\n",
       "      <td>[90, 1]</td>\n",
       "    </tr>\n",
       "    <tr>\n",
       "      <th>1</th>\n",
       "      <td>[70, 13]</td>\n",
       "      <td>[80, 34]</td>\n",
       "    </tr>\n",
       "  </tbody>\n",
       "</table>\n",
       "</div>"
      ],
      "text/plain": [
       "         aa        nn\n",
       "0   [80, 0]   [90, 1]\n",
       "1  [70, 13]  [80, 34]"
      ]
     },
     "execution_count": 147,
     "metadata": {},
     "output_type": "execute_result"
    }
   ],
   "source": [
    "d1f = pd.DataFrame([[[80, 0],[90, 1]],[[70,13],[80,34]]],columns=['aa','nn'])\n",
    "d1f"
   ]
  },
  {
   "cell_type": "code",
   "execution_count": 148,
   "id": "4d943761",
   "metadata": {},
   "outputs": [
    {
     "data": {
      "text/plain": [
       "array([list([80, 0]), list([70, 13])], dtype=object)"
      ]
     },
     "execution_count": 148,
     "metadata": {},
     "output_type": "execute_result"
    }
   ],
   "source": [
    "d1f['aa'].values"
   ]
  },
  {
   "cell_type": "code",
   "execution_count": 149,
   "id": "679e1052",
   "metadata": {},
   "outputs": [
    {
     "name": "stdout",
     "output_type": "stream",
     "text": [
      "[list([80, 0]) list([90, 1])]\n",
      "[list([70, 13]) list([80, 34])]\n"
     ]
    }
   ],
   "source": [
    "cols = ['aa','nn']\n",
    "def make_original(x) :\n",
    "    print(x.values)\n",
    "    tmp = []\n",
    "    tmp.append(x.values)\n",
    "    return tmp\n",
    "d1f.insert(0, 'eee', d1f[cols].apply(lambda row: make_original(row), axis=1))"
   ]
  },
  {
   "cell_type": "code",
   "execution_count": 150,
   "id": "005fc1f3",
   "metadata": {},
   "outputs": [],
   "source": [
    "a = list([80, 0])"
   ]
  },
  {
   "cell_type": "code",
   "execution_count": 151,
   "id": "9cac3dcc",
   "metadata": {},
   "outputs": [
    {
     "data": {
      "text/plain": [
       "list"
      ]
     },
     "execution_count": 151,
     "metadata": {},
     "output_type": "execute_result"
    }
   ],
   "source": [
    "type(a)"
   ]
  },
  {
   "cell_type": "code",
   "execution_count": 152,
   "id": "606f50f2",
   "metadata": {},
   "outputs": [
    {
     "data": {
      "text/plain": [
       "80"
      ]
     },
     "execution_count": 152,
     "metadata": {},
     "output_type": "execute_result"
    }
   ],
   "source": [
    "a[0]"
   ]
  },
  {
   "cell_type": "code",
   "execution_count": 153,
   "id": "a5b6de25",
   "metadata": {},
   "outputs": [
    {
     "data": {
      "text/plain": [
       "0      [[[80, 0], [90, 1]]]\n",
       "1    [[[70, 13], [80, 34]]]\n",
       "Name: eee, dtype: object"
      ]
     },
     "execution_count": 153,
     "metadata": {},
     "output_type": "execute_result"
    }
   ],
   "source": [
    "d1f['eee']"
   ]
  },
  {
   "cell_type": "code",
   "execution_count": 155,
   "id": "b95aa2f8",
   "metadata": {},
   "outputs": [
    {
     "data": {
      "text/plain": [
       "[80, 0]"
      ]
     },
     "execution_count": 155,
     "metadata": {},
     "output_type": "execute_result"
    }
   ],
   "source": [
    "d1f['eee'].iloc[0][0][0]"
   ]
  },
  {
   "cell_type": "code",
   "execution_count": 112,
   "id": "4e7291d8",
   "metadata": {},
   "outputs": [
    {
     "data": {
      "text/html": [
       "<div>\n",
       "<style scoped>\n",
       "    .dataframe tbody tr th:only-of-type {\n",
       "        vertical-align: middle;\n",
       "    }\n",
       "\n",
       "    .dataframe tbody tr th {\n",
       "        vertical-align: top;\n",
       "    }\n",
       "\n",
       "    .dataframe thead th {\n",
       "        text-align: right;\n",
       "    }\n",
       "</style>\n",
       "<table border=\"1\" class=\"dataframe\">\n",
       "  <thead>\n",
       "    <tr style=\"text-align: right;\">\n",
       "      <th></th>\n",
       "      <th>eee</th>\n",
       "      <th>aa</th>\n",
       "      <th>nn</th>\n",
       "    </tr>\n",
       "  </thead>\n",
       "  <tbody>\n",
       "    <tr>\n",
       "      <th>0</th>\n",
       "      <td>[[[80, 0], [90, 1]]]</td>\n",
       "      <td>[80, 0]</td>\n",
       "      <td>[90, 1]</td>\n",
       "    </tr>\n",
       "    <tr>\n",
       "      <th>1</th>\n",
       "      <td>[[[70, 13], [80, 34]]]</td>\n",
       "      <td>[70, 13]</td>\n",
       "      <td>[80, 34]</td>\n",
       "    </tr>\n",
       "  </tbody>\n",
       "</table>\n",
       "</div>"
      ],
      "text/plain": [
       "                      eee        aa        nn\n",
       "0    [[[80, 0], [90, 1]]]   [80, 0]   [90, 1]\n",
       "1  [[[70, 13], [80, 34]]]  [70, 13]  [80, 34]"
      ]
     },
     "execution_count": 112,
     "metadata": {},
     "output_type": "execute_result"
    }
   ],
   "source": [
    "d1f"
   ]
  },
  {
   "cell_type": "code",
   "execution_count": null,
   "id": "9a511dc3",
   "metadata": {},
   "outputs": [],
   "source": []
  },
  {
   "cell_type": "code",
   "execution_count": null,
   "id": "145f2456",
   "metadata": {},
   "outputs": [],
   "source": []
  },
  {
   "cell_type": "code",
   "execution_count": null,
   "id": "2427f144",
   "metadata": {},
   "outputs": [],
   "source": []
  },
  {
   "cell_type": "code",
   "execution_count": null,
   "id": "25546912",
   "metadata": {},
   "outputs": [],
   "source": []
  },
  {
   "cell_type": "code",
   "execution_count": null,
   "id": "f1124320",
   "metadata": {},
   "outputs": [],
   "source": []
  },
  {
   "cell_type": "code",
   "execution_count": null,
   "id": "4004a341",
   "metadata": {},
   "outputs": [],
   "source": [
    "################################ EX ############################################"
   ]
  },
  {
   "cell_type": "code",
   "execution_count": 106,
   "id": "6a71afc0",
   "metadata": {},
   "outputs": [
    {
     "name": "stdout",
     "output_type": "stream",
     "text": [
      "+---+-----------------------------------+\n",
      "|_1 |_2                                 |\n",
      "+---+-----------------------------------+\n",
      "|0.0|Hi I heard about Spark             |\n",
      "|0.0|I wish Java could use case classes |\n",
      "|1.0|Logistic regression models are neat|\n",
      "+---+-----------------------------------+\n",
      "\n"
     ]
    }
   ],
   "source": [
    "import pyspark.sql.functions as F\n",
    "from pyspark.sql.functions import arrays_zip\n",
    "sentenceData = spark.createDataFrame([\n",
    "    (0.0, \"Hi I heard about Spark\"),\n",
    "    (0.0, \"I wish Java could use case classes\"),\n",
    "    (1.0, \"Logistic regression models are neat\")\n",
    "]\n",
    "\n",
    "df.show(truncate=False)"
   ]
  },
  {
   "cell_type": "code",
   "execution_count": 107,
   "id": "370dcbec",
   "metadata": {},
   "outputs": [
    {
     "name": "stdout",
     "output_type": "stream",
     "text": [
      "+----------------------------------------------------------------------------------------------------------------------+\n",
      "|data                                                                                                                  |\n",
      "+----------------------------------------------------------------------------------------------------------------------+\n",
      "|[[0.0, Hi I heard about Spark], [0.0, I wish Java could use case classes], [1.0, Logistic regression models are neat]]|\n",
      "+----------------------------------------------------------------------------------------------------------------------+\n",
      "\n"
     ]
    }
   ],
   "source": [
    "list_data = ['a' ,'b', 'c']\n",
    "\n",
    "df = df.select(collect_list(struct(F.col(\"*\"))).alias(\"data\"))\n",
    "df.show(truncate=False)"
   ]
  },
  {
   "cell_type": "code",
   "execution_count": 108,
   "id": "8eb07b35",
   "metadata": {},
   "outputs": [
    {
     "name": "stdout",
     "output_type": "stream",
     "text": [
      "+----------------------------------------------------------------------------------------------------------------------+---------+\n",
      "|data                                                                                                                  |list     |\n",
      "+----------------------------------------------------------------------------------------------------------------------+---------+\n",
      "|[[0.0, I wish Java could use case classes], [1.0, Logistic regression models are neat], [0.0, Hi I heard about Spark]]|[a, b, c]|\n",
      "+----------------------------------------------------------------------------------------------------------------------+---------+\n",
      "\n"
     ]
    }
   ],
   "source": [
    "df = df.withColumn(\"list\",F.array([F.lit(i) for i in list_data]))\n",
    "df.show(truncate=False)"
   ]
  },
  {
   "cell_type": "code",
   "execution_count": 109,
   "id": "bdefd577",
   "metadata": {},
   "outputs": [
    {
     "name": "stdout",
     "output_type": "stream",
     "text": [
      "+-----------------------------------------------+\n",
      "|full_data                                      |\n",
      "+-----------------------------------------------+\n",
      "|[[0.0, I wish Java could use case classes], a] |\n",
      "|[[1.0, Logistic regression models are neat], b]|\n",
      "|[[0.0, Hi I heard about Spark], c]             |\n",
      "+-----------------------------------------------+\n",
      "\n"
     ]
    }
   ],
   "source": [
    "df = df.select(F.explode(F.arrays_zip(F.col(\"data\"),F.col(\"list\"))).alias(\"full_data\"))\n",
    "df.show(truncate=False)"
   ]
  },
  {
   "cell_type": "code",
   "execution_count": 110,
   "id": "1fed24d4",
   "metadata": {
    "scrolled": true
   },
   "outputs": [
    {
     "name": "stdout",
     "output_type": "stream",
     "text": [
      "+---+-----------------------------------+----+\n",
      "|_1 |_2                                 |col3|\n",
      "+---+-----------------------------------+----+\n",
      "|0.0|Hi I heard about Spark             |a   |\n",
      "|0.0|I wish Java could use case classes |b   |\n",
      "|1.0|Logistic regression models are neat|c   |\n",
      "+---+-----------------------------------+----+\n",
      "\n"
     ]
    }
   ],
   "source": [
    "df = df.select(F.col(\"full_data.data.*\"),F.col(\"full_data.list\").alias(\"col3\"))\n",
    "df.show(truncate=False)"
   ]
  },
  {
   "cell_type": "code",
   "execution_count": null,
   "id": "97d6ad48",
   "metadata": {},
   "outputs": [],
   "source": [
    "#################### 해당 내용 list에도 적용가능한지 확인########################"
   ]
  },
  {
   "cell_type": "code",
   "execution_count": null,
   "id": "959724c0",
   "metadata": {},
   "outputs": [],
   "source": []
  },
  {
   "cell_type": "code",
   "execution_count": null,
   "id": "0ba6e846",
   "metadata": {},
   "outputs": [],
   "source": []
  },
  {
   "cell_type": "code",
   "execution_count": null,
   "id": "131b5d65",
   "metadata": {},
   "outputs": [],
   "source": []
  },
  {
   "cell_type": "code",
   "execution_count": null,
   "id": "32cb213e",
   "metadata": {},
   "outputs": [],
   "source": []
  },
  {
   "cell_type": "code",
   "execution_count": 42,
   "id": "9da0d184",
   "metadata": {},
   "outputs": [
    {
     "name": "stdout",
     "output_type": "stream",
     "text": [
      "+---+--------------------+-----+--------------------+--------------------+--------------------+--------------------+--------------------+\n",
      "|_c0|                text|label|               pos_t|               neg_t|     filtered_words1|     filtered_words2|         rawFeatures|\n",
      "+---+--------------------+-----+--------------------+--------------------+--------------------+--------------------+--------------------+\n",
      "|  0|threatmeter hacke...|    0|[threatmeter, hac...|[threatmeter, hac...|[threatmeter, hac...|[threatmeter, hac...|(100,[7,12,15,20,...|\n",
      "|  1|first android mal...|    0|[first, android, ...|[first, android, ...|[first, android, ...|[first, android, ...|(100,[3,11,40,69,...|\n",
      "|  2|adobe fixes six c...|    0|[adobe, fixes, si...|[adobe, fixes, si...|[adobe, fixes, si...|[adobe, fixes, si...|(100,[5,20,40,45,...|\n",
      "|  3| scienceporn  in ...|    0|[scienceporn, in,...|[scienceporn, in,...|[scienceporn, vac...|[scienceporn, vac...|(100,[29,38,45,70...|\n",
      "|  4|riskware hmoyfzb ...|    0|[riskware, hmoyfz...|[riskware, hmoyfz...|[riskware, hmoyfz...|[riskware, hmoyfz...|(100,[68,71],[2.0...|\n",
      "+---+--------------------+-----+--------------------+--------------------+--------------------+--------------------+--------------------+\n",
      "only showing top 5 rows\n",
      "\n"
     ]
    }
   ],
   "source": [
    "from pyspark.ml.feature import HashingTF, IDF, Tokenizer\n",
    "hashingTF = HashingTF(inputCol=\"pos_t\", outputCol=\"rawFeatures\", numFeatures=100)\n",
    "featurizedData = hashingTF.transform(r4)\n",
    "featurizedData.show(5)"
   ]
  },
  {
   "cell_type": "code",
   "execution_count": 43,
   "id": "8131b841",
   "metadata": {
    "scrolled": true
   },
   "outputs": [
    {
     "data": {
      "text/plain": [
       "(1.0, 0.0, 0.0, 0.0, 0.0, 0.0, 0.0, 0.0, 0.0, 0.0, 0.0, 0.0, 0.0, 0.0, 0.0, 0.0, 0.0, 0.0, 0.0, 0.0, 0.0, 0.0, 2.0, 0.0, 0.0, 0.0, 0.0, 0.0, 1.0, 0.0, 0.0, 0.0, 0.0, 0.0, 0.0, 0.0, 0.0, 0.0, 0.0, 0.0, 1.0, 0.0, 0.0, 0.0, 0.0, 0.0, 0.0, 0.0, 0.0, 0.0, 0.0, 0.0, 0.0, 0.0, 1.0, 0.0, 0.0, 1.0, 1.0, 0.0, 0.0, 1.0, 1.0, 0.0, 0.0, 0.0, 0.0, 1.0, 0.0, 0.0, 0.0, 0.0, 0.0, 0.0, 0.0, 0.0, 0.0, 0.0, 1.0, 0.0, 0.0, 0.0, 0.0, 0.0, 0.0, 0.0, 0.0, 0.0, 0.0, 0.0, 0.0, 0.0, 0.0, 0.0, 0.0, 0.0, 0.0, 0.0, 0.0, 0.0)    169\n",
       "(0.0, 0.0, 0.0, 0.0, 0.0, 1.0, 1.0, 0.0, 0.0, 0.0, 0.0, 0.0, 0.0, 0.0, 0.0, 0.0, 0.0, 0.0, 0.0, 0.0, 0.0, 0.0, 0.0, 0.0, 0.0, 0.0, 0.0, 0.0, 0.0, 0.0, 0.0, 0.0, 0.0, 0.0, 0.0, 0.0, 0.0, 0.0, 0.0, 0.0, 0.0, 1.0, 0.0, 1.0, 0.0, 1.0, 0.0, 0.0, 0.0, 0.0, 0.0, 0.0, 0.0, 0.0, 0.0, 1.0, 0.0, 0.0, 0.0, 1.0, 0.0, 0.0, 0.0, 0.0, 0.0, 0.0, 0.0, 0.0, 0.0, 0.0, 1.0, 0.0, 0.0, 0.0, 1.0, 0.0, 0.0, 0.0, 0.0, 0.0, 0.0, 0.0, 0.0, 0.0, 0.0, 0.0, 1.0, 0.0, 0.0, 0.0, 0.0, 0.0, 0.0, 0.0, 0.0, 0.0, 0.0, 0.0, 0.0, 0.0)    144\n",
       "(0.0, 0.0, 0.0, 0.0, 0.0, 0.0, 0.0, 1.0, 0.0, 0.0, 0.0, 0.0, 0.0, 0.0, 0.0, 0.0, 0.0, 0.0, 0.0, 0.0, 0.0, 0.0, 0.0, 0.0, 0.0, 0.0, 0.0, 0.0, 0.0, 0.0, 0.0, 0.0, 0.0, 0.0, 0.0, 0.0, 0.0, 0.0, 1.0, 0.0, 0.0, 0.0, 0.0, 0.0, 0.0, 0.0, 0.0, 0.0, 0.0, 0.0, 0.0, 0.0, 0.0, 0.0, 0.0, 0.0, 0.0, 0.0, 0.0, 0.0, 0.0, 0.0, 0.0, 0.0, 0.0, 0.0, 0.0, 0.0, 0.0, 0.0, 1.0, 0.0, 0.0, 1.0, 0.0, 0.0, 0.0, 0.0, 0.0, 0.0, 0.0, 0.0, 0.0, 1.0, 0.0, 0.0, 0.0, 0.0, 0.0, 0.0, 0.0, 0.0, 0.0, 0.0, 0.0, 0.0, 0.0, 0.0, 0.0, 0.0)    118\n",
       "(0.0, 0.0, 0.0, 0.0, 0.0, 0.0, 0.0, 0.0, 0.0, 0.0, 0.0, 0.0, 0.0, 0.0, 0.0, 0.0, 0.0, 0.0, 0.0, 0.0, 1.0, 0.0, 0.0, 0.0, 0.0, 0.0, 0.0, 0.0, 0.0, 0.0, 0.0, 0.0, 0.0, 0.0, 0.0, 0.0, 0.0, 0.0, 1.0, 0.0, 0.0, 0.0, 0.0, 0.0, 0.0, 0.0, 0.0, 0.0, 0.0, 0.0, 0.0, 0.0, 0.0, 0.0, 0.0, 0.0, 2.0, 0.0, 0.0, 0.0, 0.0, 0.0, 0.0, 0.0, 0.0, 0.0, 0.0, 0.0, 1.0, 0.0, 0.0, 0.0, 0.0, 1.0, 0.0, 0.0, 0.0, 0.0, 0.0, 0.0, 0.0, 0.0, 0.0, 0.0, 0.0, 0.0, 0.0, 0.0, 0.0, 0.0, 0.0, 0.0, 0.0, 0.0, 0.0, 0.0, 0.0, 0.0, 0.0, 0.0)    115\n",
       "(0.0, 0.0, 0.0, 0.0, 0.0, 1.0, 1.0, 0.0, 0.0, 0.0, 0.0, 0.0, 0.0, 0.0, 0.0, 0.0, 0.0, 0.0, 0.0, 0.0, 0.0, 0.0, 0.0, 0.0, 0.0, 0.0, 0.0, 0.0, 0.0, 0.0, 0.0, 0.0, 0.0, 0.0, 0.0, 0.0, 0.0, 0.0, 0.0, 0.0, 0.0, 1.0, 0.0, 0.0, 0.0, 0.0, 0.0, 0.0, 0.0, 0.0, 0.0, 0.0, 0.0, 1.0, 0.0, 1.0, 0.0, 0.0, 0.0, 0.0, 0.0, 0.0, 0.0, 0.0, 0.0, 0.0, 0.0, 0.0, 0.0, 0.0, 1.0, 0.0, 0.0, 1.0, 0.0, 0.0, 0.0, 0.0, 0.0, 0.0, 0.0, 0.0, 0.0, 0.0, 0.0, 0.0, 0.0, 0.0, 0.0, 0.0, 0.0, 0.0, 0.0, 0.0, 1.0, 1.0, 0.0, 0.0, 0.0, 0.0)    110\n",
       "                                                                                                                                                                                                                                                                                                                                                                                                                                                                                                                       ... \n",
       "(0.0, 0.0, 1.0, 0.0, 0.0, 0.0, 0.0, 0.0, 1.0, 1.0, 1.0, 0.0, 0.0, 0.0, 0.0, 0.0, 0.0, 0.0, 0.0, 0.0, 0.0, 0.0, 0.0, 0.0, 0.0, 0.0, 1.0, 0.0, 0.0, 0.0, 1.0, 0.0, 0.0, 1.0, 1.0, 0.0, 0.0, 0.0, 0.0, 0.0, 0.0, 0.0, 0.0, 0.0, 0.0, 0.0, 0.0, 0.0, 0.0, 0.0, 0.0, 0.0, 2.0, 0.0, 0.0, 0.0, 0.0, 0.0, 0.0, 0.0, 1.0, 0.0, 0.0, 0.0, 0.0, 0.0, 0.0, 0.0, 0.0, 0.0, 0.0, 0.0, 0.0, 0.0, 0.0, 0.0, 0.0, 0.0, 0.0, 0.0, 0.0, 0.0, 0.0, 0.0, 0.0, 0.0, 0.0, 1.0, 0.0, 0.0, 0.0, 0.0, 1.0, 0.0, 0.0, 0.0, 0.0, 0.0, 0.0, 0.0)      1\n",
       "(0.0, 0.0, 1.0, 0.0, 0.0, 0.0, 0.0, 0.0, 0.0, 0.0, 1.0, 0.0, 0.0, 0.0, 0.0, 0.0, 0.0, 0.0, 0.0, 0.0, 0.0, 0.0, 0.0, 0.0, 0.0, 0.0, 0.0, 0.0, 0.0, 0.0, 0.0, 0.0, 0.0, 0.0, 0.0, 0.0, 0.0, 0.0, 0.0, 0.0, 0.0, 0.0, 0.0, 0.0, 0.0, 1.0, 0.0, 0.0, 0.0, 0.0, 0.0, 0.0, 0.0, 0.0, 0.0, 0.0, 2.0, 0.0, 0.0, 0.0, 0.0, 0.0, 0.0, 0.0, 0.0, 0.0, 0.0, 0.0, 0.0, 0.0, 0.0, 0.0, 0.0, 0.0, 0.0, 0.0, 1.0, 0.0, 0.0, 0.0, 0.0, 0.0, 1.0, 0.0, 0.0, 0.0, 0.0, 0.0, 0.0, 0.0, 0.0, 0.0, 0.0, 0.0, 0.0, 0.0, 0.0, 0.0, 0.0, 0.0)      1\n",
       "(0.0, 0.0, 0.0, 0.0, 0.0, 0.0, 0.0, 0.0, 0.0, 0.0, 1.0, 0.0, 0.0, 0.0, 0.0, 0.0, 0.0, 0.0, 1.0, 0.0, 1.0, 0.0, 1.0, 0.0, 0.0, 0.0, 0.0, 0.0, 0.0, 0.0, 0.0, 0.0, 0.0, 0.0, 0.0, 0.0, 0.0, 0.0, 0.0, 0.0, 0.0, 0.0, 0.0, 0.0, 0.0, 0.0, 0.0, 0.0, 0.0, 0.0, 0.0, 0.0, 1.0, 0.0, 0.0, 1.0, 0.0, 0.0, 0.0, 0.0, 0.0, 0.0, 1.0, 0.0, 0.0, 0.0, 0.0, 0.0, 0.0, 0.0, 0.0, 0.0, 0.0, 0.0, 0.0, 0.0, 0.0, 0.0, 0.0, 0.0, 0.0, 0.0, 0.0, 0.0, 0.0, 0.0, 0.0, 0.0, 0.0, 0.0, 0.0, 1.0, 1.0, 0.0, 0.0, 0.0, 0.0, 0.0, 0.0, 0.0)      1\n",
       "(0.0, 0.0, 0.0, 0.0, 0.0, 0.0, 0.0, 0.0, 0.0, 0.0, 0.0, 0.0, 0.0, 0.0, 0.0, 0.0, 0.0, 1.0, 0.0, 0.0, 0.0, 0.0, 0.0, 0.0, 0.0, 0.0, 0.0, 0.0, 0.0, 0.0, 0.0, 0.0, 0.0, 0.0, 2.0, 0.0, 0.0, 1.0, 0.0, 1.0, 0.0, 0.0, 0.0, 0.0, 0.0, 1.0, 0.0, 0.0, 0.0, 0.0, 0.0, 0.0, 0.0, 0.0, 0.0, 0.0, 0.0, 0.0, 0.0, 0.0, 2.0, 0.0, 0.0, 0.0, 0.0, 0.0, 0.0, 0.0, 0.0, 0.0, 0.0, 1.0, 0.0, 0.0, 0.0, 0.0, 0.0, 0.0, 0.0, 0.0, 1.0, 0.0, 0.0, 0.0, 0.0, 0.0, 0.0, 0.0, 1.0, 0.0, 0.0, 0.0, 0.0, 0.0, 1.0, 0.0, 0.0, 0.0, 1.0, 0.0)      1\n",
       "(0.0, 0.0, 0.0, 0.0, 0.0, 0.0, 0.0, 0.0, 0.0, 0.0, 0.0, 0.0, 0.0, 0.0, 0.0, 0.0, 1.0, 0.0, 0.0, 0.0, 0.0, 0.0, 0.0, 0.0, 0.0, 0.0, 0.0, 0.0, 0.0, 0.0, 0.0, 0.0, 0.0, 0.0, 1.0, 0.0, 0.0, 0.0, 0.0, 0.0, 0.0, 0.0, 0.0, 0.0, 0.0, 1.0, 0.0, 0.0, 0.0, 0.0, 0.0, 0.0, 0.0, 0.0, 0.0, 0.0, 1.0, 0.0, 0.0, 0.0, 0.0, 0.0, 0.0, 0.0, 0.0, 0.0, 0.0, 0.0, 1.0, 0.0, 0.0, 0.0, 0.0, 0.0, 0.0, 0.0, 0.0, 0.0, 0.0, 0.0, 0.0, 0.0, 0.0, 1.0, 0.0, 0.0, 0.0, 0.0, 0.0, 0.0, 0.0, 0.0, 0.0, 0.0, 0.0, 0.0, 0.0, 0.0, 0.0, 0.0)      1\n",
       "Name: rawFeatures, Length: 175913, dtype: int64"
      ]
     },
     "execution_count": 43,
     "metadata": {},
     "output_type": "execute_result"
    }
   ],
   "source": [
    "featurizedData = featurizedData.toPandas()\n",
    "featurizedData['rawFeatures'].value_counts()"
   ]
  },
  {
   "cell_type": "code",
   "execution_count": 44,
   "id": "0c0e6f4b",
   "metadata": {},
   "outputs": [
    {
     "data": {
      "text/plain": [
       "100"
      ]
     },
     "execution_count": 44,
     "metadata": {},
     "output_type": "execute_result"
    }
   ],
   "source": [
    "len(featurizedData['rawFeatures'].iloc[1])"
   ]
  },
  {
   "cell_type": "code",
   "execution_count": null,
   "id": "a54a2bae",
   "metadata": {},
   "outputs": [],
   "source": [
    "### rawFeatures input으로 사용해서 모델 돌려보기"
   ]
  },
  {
   "cell_type": "code",
   "execution_count": 18,
   "id": "5cc6369b",
   "metadata": {},
   "outputs": [],
   "source": [
    "from pyspark.ml.feature import CountVectorizer\n",
    "stage_3_a = CountVectorizer(inputCol=stage_2_a.getOutputCol(), outputCol='word1', vocabSize=50, minDF=2.0)\n",
    "stage_3_b = CountVectorizer(inputCol=stage_2_b.getOutputCol(), outputCol='word2', vocabSize=50, minDF=2.0)"
   ]
  },
  {
   "cell_type": "code",
   "execution_count": 19,
   "id": "160fa55b",
   "metadata": {},
   "outputs": [],
   "source": [
    "pipeline = Pipeline(stages= [stage_1_a, stage_1_b, stage_2_a, stage_2_b, stage_3_a, stage_3_b])\n",
    "pipelineFit = pipeline.fit(csi_pos_neg)"
   ]
  },
  {
   "cell_type": "code",
   "execution_count": 29,
   "id": "831d9076",
   "metadata": {},
   "outputs": [],
   "source": [
    "df_transform = pipelineFit.transform(csi_pos_neg)\n",
    "dfdfdf = df_transform.toPandas()"
   ]
  },
  {
   "cell_type": "code",
   "execution_count": 30,
   "id": "c71536df",
   "metadata": {},
   "outputs": [
    {
     "data": {
      "text/plain": [
       "pandas.core.frame.DataFrame"
      ]
     },
     "execution_count": 30,
     "metadata": {},
     "output_type": "execute_result"
    }
   ],
   "source": [
    "type(dfdfdf)"
   ]
  },
  {
   "cell_type": "code",
   "execution_count": 36,
   "id": "585753e5",
   "metadata": {
    "scrolled": true
   },
   "outputs": [
    {
     "data": {
      "text/plain": [
       "(0.0, 0.0, 0.0, 0.0, 0.0, 0.0, 0.0, 0.0, 0.0, 0.0, 0.0, 0.0, 0.0, 0.0, 0.0, 0.0, 0.0, 0.0, 0.0, 0.0, 0.0, 0.0, 0.0, 0.0, 0.0, 0.0, 0.0, 0.0, 0.0, 0.0, 0.0, 0.0, 0.0, 0.0, 0.0, 0.0, 0.0, 0.0, 0.0, 0.0, 0.0, 0.0, 0.0, 0.0, 0.0, 0.0, 0.0, 0.0, 0.0, 0.0)    84912\n",
       "(1.0, 0.0, 0.0, 0.0, 0.0, 0.0, 0.0, 0.0, 0.0, 0.0, 0.0, 0.0, 0.0, 0.0, 0.0, 0.0, 0.0, 0.0, 0.0, 0.0, 0.0, 0.0, 0.0, 0.0, 0.0, 0.0, 0.0, 0.0, 0.0, 0.0, 0.0, 0.0, 0.0, 0.0, 0.0, 0.0, 0.0, 0.0, 0.0, 0.0, 0.0, 0.0, 0.0, 0.0, 0.0, 0.0, 0.0, 0.0, 0.0, 0.0)     5534\n",
       "(0.0, 0.0, 0.0, 0.0, 0.0, 0.0, 0.0, 0.0, 1.0, 0.0, 0.0, 0.0, 0.0, 0.0, 0.0, 0.0, 0.0, 0.0, 0.0, 0.0, 0.0, 0.0, 0.0, 0.0, 0.0, 0.0, 0.0, 0.0, 0.0, 0.0, 0.0, 0.0, 0.0, 0.0, 0.0, 0.0, 0.0, 0.0, 0.0, 0.0, 0.0, 0.0, 0.0, 0.0, 0.0, 0.0, 0.0, 0.0, 0.0, 0.0)     3799\n",
       "(0.0, 0.0, 1.0, 0.0, 0.0, 0.0, 0.0, 0.0, 0.0, 0.0, 0.0, 0.0, 0.0, 0.0, 0.0, 0.0, 0.0, 0.0, 0.0, 0.0, 0.0, 0.0, 0.0, 0.0, 0.0, 0.0, 0.0, 0.0, 0.0, 0.0, 0.0, 0.0, 0.0, 0.0, 0.0, 0.0, 0.0, 0.0, 0.0, 0.0, 0.0, 0.0, 0.0, 0.0, 0.0, 0.0, 0.0, 0.0, 0.0, 0.0)     3758\n",
       "(0.0, 1.0, 0.0, 0.0, 1.0, 0.0, 0.0, 0.0, 0.0, 0.0, 0.0, 0.0, 0.0, 0.0, 0.0, 0.0, 0.0, 0.0, 0.0, 0.0, 0.0, 0.0, 0.0, 0.0, 0.0, 0.0, 0.0, 0.0, 0.0, 0.0, 0.0, 0.0, 0.0, 0.0, 0.0, 0.0, 0.0, 0.0, 0.0, 0.0, 0.0, 0.0, 0.0, 0.0, 0.0, 0.0, 0.0, 0.0, 0.0, 0.0)     3700\n",
       "                                                                                                                                                                                                                                                              ...  \n",
       "(2.0, 0.0, 0.0, 0.0, 0.0, 0.0, 0.0, 0.0, 0.0, 0.0, 0.0, 0.0, 0.0, 0.0, 0.0, 0.0, 0.0, 0.0, 0.0, 0.0, 0.0, 0.0, 0.0, 0.0, 0.0, 0.0, 1.0, 0.0, 0.0, 1.0, 0.0, 0.0, 0.0, 0.0, 0.0, 0.0, 0.0, 0.0, 0.0, 0.0, 0.0, 0.0, 0.0, 0.0, 0.0, 0.0, 0.0, 0.0, 0.0, 0.0)        1\n",
       "(0.0, 0.0, 0.0, 0.0, 0.0, 0.0, 0.0, 0.0, 0.0, 1.0, 0.0, 0.0, 0.0, 0.0, 0.0, 0.0, 0.0, 0.0, 0.0, 0.0, 0.0, 0.0, 0.0, 0.0, 0.0, 0.0, 0.0, 0.0, 1.0, 0.0, 0.0, 0.0, 0.0, 0.0, 0.0, 1.0, 0.0, 0.0, 0.0, 0.0, 0.0, 0.0, 0.0, 0.0, 0.0, 0.0, 0.0, 0.0, 0.0, 0.0)        1\n",
       "(0.0, 0.0, 0.0, 0.0, 0.0, 0.0, 0.0, 0.0, 0.0, 0.0, 0.0, 0.0, 0.0, 0.0, 0.0, 2.0, 0.0, 0.0, 0.0, 0.0, 1.0, 0.0, 0.0, 0.0, 0.0, 0.0, 0.0, 0.0, 0.0, 0.0, 0.0, 0.0, 0.0, 0.0, 0.0, 0.0, 0.0, 0.0, 0.0, 0.0, 0.0, 0.0, 0.0, 0.0, 0.0, 0.0, 0.0, 0.0, 0.0, 0.0)        1\n",
       "(0.0, 0.0, 0.0, 0.0, 0.0, 0.0, 0.0, 1.0, 0.0, 0.0, 0.0, 1.0, 0.0, 0.0, 0.0, 0.0, 0.0, 0.0, 0.0, 0.0, 0.0, 0.0, 0.0, 0.0, 0.0, 0.0, 0.0, 0.0, 0.0, 0.0, 0.0, 0.0, 0.0, 0.0, 0.0, 0.0, 1.0, 0.0, 0.0, 1.0, 0.0, 0.0, 0.0, 0.0, 0.0, 0.0, 0.0, 0.0, 0.0, 0.0)        1\n",
       "(0.0, 0.0, 1.0, 0.0, 0.0, 0.0, 0.0, 0.0, 0.0, 0.0, 0.0, 0.0, 0.0, 0.0, 1.0, 0.0, 0.0, 0.0, 0.0, 0.0, 0.0, 1.0, 0.0, 0.0, 0.0, 0.0, 0.0, 0.0, 0.0, 0.0, 0.0, 0.0, 0.0, 0.0, 0.0, 0.0, 0.0, 0.0, 0.0, 0.0, 0.0, 0.0, 0.0, 0.0, 0.0, 0.0, 0.0, 0.0, 0.0, 0.0)        1\n",
       "Name: word1, Length: 6925, dtype: int64"
      ]
     },
     "execution_count": 36,
     "metadata": {},
     "output_type": "execute_result"
    }
   ],
   "source": [
    "dfdfdf['word1'].value_counts()"
   ]
  },
  {
   "cell_type": "code",
   "execution_count": 35,
   "id": "08e6afcb",
   "metadata": {},
   "outputs": [
    {
     "data": {
      "text/plain": [
       "50"
      ]
     },
     "execution_count": 35,
     "metadata": {},
     "output_type": "execute_result"
    }
   ],
   "source": [
    "len(dfdfdf['word1'].iloc[1])"
   ]
  },
  {
   "cell_type": "code",
   "execution_count": 21,
   "id": "10251aa9",
   "metadata": {},
   "outputs": [],
   "source": [
    "from pyspark.ml.feature import CountVectorizer\n",
    "stage_3_a = CountVectorizer(inputCol=stage_2_a.getOutputCol(), outputCol='word1', vocabSize=100, minDF=2.0)\n",
    "stage_3_b = CountVectorizer(inputCol=stage_2_b.getOutputCol(), outputCol='word2', vocabSize=100, minDF=2.0)"
   ]
  },
  {
   "cell_type": "code",
   "execution_count": 26,
   "id": "f21f8e25",
   "metadata": {},
   "outputs": [
    {
     "name": "stdout",
     "output_type": "stream",
     "text": [
      "+---+--------------------+-----+--------------------+--------------------+--------------------+--------------------+---------------+\n",
      "|_c0|                text|label|               pos_t|               neg_t|     filtered_words1|     filtered_words2|          word1|\n",
      "+---+--------------------+-----+--------------------+--------------------+--------------------+--------------------+---------------+\n",
      "|  0|threatmeter hacke...|    0|[threatmeter, hac...|[threatmeter, hac...|[threatmeter, hac...|[threatmeter, hac...| (50,[4],[1.0])|\n",
      "|  1|first android mal...|    0|[first, android, ...|[first, android, ...|[first, android, ...|[first, android, ...|(50,[29],[1.0])|\n",
      "|  2|adobe fixes six c...|    0|[adobe, fixes, si...|[adobe, fixes, si...|[adobe, fixes, si...|[adobe, fixes, si...|     (50,[],[])|\n",
      "|  3| scienceporn  in ...|    0|[scienceporn, in,...|[scienceporn, in,...|[scienceporn, vac...|[scienceporn, vac...|     (50,[],[])|\n",
      "|  4|riskware hmoyfzb ...|    0|[riskware, hmoyfz...|[riskware, hmoyfz...|[riskware, hmoyfz...|[riskware, hmoyfz...|     (50,[],[])|\n",
      "+---+--------------------+-----+--------------------+--------------------+--------------------+--------------------+---------------+\n",
      "only showing top 5 rows\n",
      "\n"
     ]
    }
   ],
   "source": [
    "model = stage_3_a.fit(r4)\n",
    "r5 = model.transform(r4)\n",
    "r5.show(5)"
   ]
  },
  {
   "cell_type": "code",
   "execution_count": 27,
   "id": "96bacea2",
   "metadata": {},
   "outputs": [
    {
     "name": "stdout",
     "output_type": "stream",
     "text": [
      "+---+--------------------+-----+--------------------+--------------------+--------------------+--------------------+---------------+---------------+\n",
      "|_c0|                text|label|               pos_t|               neg_t|     filtered_words1|     filtered_words2|          word1|          word2|\n",
      "+---+--------------------+-----+--------------------+--------------------+--------------------+--------------------+---------------+---------------+\n",
      "|  0|threatmeter hacke...|    0|[threatmeter, hac...|[threatmeter, hac...|[threatmeter, hac...|[threatmeter, hac...| (50,[4],[1.0])| (50,[4],[1.0])|\n",
      "|  1|first android mal...|    0|[first, android, ...|[first, android, ...|[first, android, ...|[first, android, ...|(50,[29],[1.0])|(50,[29],[1.0])|\n",
      "|  2|adobe fixes six c...|    0|[adobe, fixes, si...|[adobe, fixes, si...|[adobe, fixes, si...|[adobe, fixes, si...|     (50,[],[])|     (50,[],[])|\n",
      "|  3| scienceporn  in ...|    0|[scienceporn, in,...|[scienceporn, in,...|[scienceporn, vac...|[scienceporn, vac...|     (50,[],[])|     (50,[],[])|\n",
      "|  4|riskware hmoyfzb ...|    0|[riskware, hmoyfz...|[riskware, hmoyfz...|[riskware, hmoyfz...|[riskware, hmoyfz...|     (50,[],[])|     (50,[],[])|\n",
      "+---+--------------------+-----+--------------------+--------------------+--------------------+--------------------+---------------+---------------+\n",
      "only showing top 5 rows\n",
      "\n"
     ]
    }
   ],
   "source": [
    "model2 = stage_3_b.fit(r5)\n",
    "r6 = model2.transform(r5)\n",
    "r6.show(5)"
   ]
  },
  {
   "cell_type": "code",
   "execution_count": 28,
   "id": "b82fd416",
   "metadata": {},
   "outputs": [],
   "source": [
    "from pyspark.ml.feature import VectorAssembler\n",
    "vectorAssembler = VectorAssembler(inputCols= [stage_3_a.getOutputCol(), stage_3_b.getOutputCol()], outputCol= 'features')"
   ]
  },
  {
   "cell_type": "code",
   "execution_count": 34,
   "id": "2dd3fd34",
   "metadata": {
    "scrolled": true
   },
   "outputs": [
    {
     "name": "stdout",
     "output_type": "stream",
     "text": [
      "+---+--------------------------------------------------------------------------------------------------------------------+-----+-------------------------------------------------------------------------------------------------------------------------------------+-------------------------------------------------------------------------------------------------------------------------------------+---------------------------------------------------------------------------------------------------------------------+---------------------------------------------------------------------------------------------------------------------+---------------+---------------+-----------------------+\n",
      "|_c0|text                                                                                                                |label|pos_t                                                                                                                                |neg_t                                                                                                                                |filtered_words1                                                                                                      |filtered_words2                                                                                                      |word1          |word2          |features               |\n",
      "+---+--------------------------------------------------------------------------------------------------------------------+-----+-------------------------------------------------------------------------------------------------------------------------------------+-------------------------------------------------------------------------------------------------------------------------------------+---------------------------------------------------------------------------------------------------------------------+---------------------------------------------------------------------------------------------------------------------+---------------+---------------+-----------------------+\n",
      "|0  |threatmeter hacked emails of san francisco muni rail system hacker reveals clues about identity and tactics kr  fin |0    |[threatmeter, hacked, emails, of, san, francisco, muni, rail, system, hacker, reveals, clues, about, identity, and, tactics, kr, fin]|[threatmeter, hacked, emails, of, san, francisco, muni, rail, system, hacker, reveals, clues, about, identity, and, tactics, kr, fin]|[threatmeter, hacked, emails, san, francisco, muni, rail, system, hacker, reveals, clues, identity, tactics, kr, fin]|[threatmeter, hacked, emails, san, francisco, muni, rail, system, hacker, reveals, clues, identity, tactics, kr, fin]|(50,[4],[1.0]) |(50,[4],[1.0]) |(100,[4,54],[1.0,1.0]) |\n",
      "|1  |first android malware targeting pcs uncovered  fbxtynm                                                              |0    |[first, android, malware, targeting, pcs, uncovered, fbxtynm]                                                                        |[first, android, malware, targeting, pcs, uncovered, fbxtynm]                                                                        |[first, android, malware, targeting, pcs, uncovered, fbxtynm]                                                        |[first, android, malware, targeting, pcs, uncovered, fbxtynm]                                                        |(50,[29],[1.0])|(50,[29],[1.0])|(100,[29,79],[1.0,1.0])|\n",
      "|2  |adobe fixes six code execution bugs in flash  mokgxr                                                                |0    |[adobe, fixes, six, code, execution, bugs, in, flash, mokgxr]                                                                        |[adobe, fixes, six, code, execution, bugs, in, flash, mokgxr]                                                                        |[adobe, fixes, six, code, execution, bugs, flash, mokgxr]                                                            |[adobe, fixes, six, code, execution, bugs, flash, mokgxr]                                                            |(50,[],[])     |(50,[],[])     |(100,[],[])            |\n",
      "|3  | scienceporn  in a vacuum i guess                                                                                   |0    |[scienceporn, in, a, vacuum, i, guess]                                                                                               |[scienceporn, in, a, vacuum, i, guess]                                                                                               |[scienceporn, vacuum, guess]                                                                                         |[scienceporn, vacuum, guess]                                                                                         |(50,[],[])     |(50,[],[])     |(100,[],[])            |\n",
      "|4  |riskware hmoyfzb  fbjaz                                                                                             |0    |[riskware, hmoyfzb, fbjaz]                                                                                                           |[riskware, hmoyfzb, fbjaz]                                                                                                           |[riskware, hmoyfzb, fbjaz]                                                                                           |[riskware, hmoyfzb, fbjaz]                                                                                           |(50,[],[])     |(50,[],[])     |(100,[],[])            |\n",
      "+---+--------------------------------------------------------------------------------------------------------------------+-----+-------------------------------------------------------------------------------------------------------------------------------------+-------------------------------------------------------------------------------------------------------------------------------------+---------------------------------------------------------------------------------------------------------------------+---------------------------------------------------------------------------------------------------------------------+---------------+---------------+-----------------------+\n",
      "only showing top 5 rows\n",
      "\n"
     ]
    }
   ],
   "source": [
    "r7 = vectorAssembler.transform(r6)\n",
    "r7.show(5, truncate=False)"
   ]
  },
  {
   "cell_type": "code",
   "execution_count": null,
   "id": "c5559a1b",
   "metadata": {},
   "outputs": [],
   "source": []
  },
  {
   "cell_type": "code",
   "execution_count": null,
   "id": "34f26880",
   "metadata": {},
   "outputs": [],
   "source": []
  },
  {
   "cell_type": "code",
   "execution_count": null,
   "id": "a1a16762",
   "metadata": {},
   "outputs": [],
   "source": []
  },
  {
   "cell_type": "code",
   "execution_count": null,
   "id": "d2e7c731",
   "metadata": {},
   "outputs": [],
   "source": []
  },
  {
   "cell_type": "code",
   "execution_count": null,
   "id": "bb5e67bf",
   "metadata": {},
   "outputs": [],
   "source": [
    "#########################################################################################"
   ]
  },
  {
   "cell_type": "code",
   "execution_count": 37,
   "id": "d253f64c",
   "metadata": {},
   "outputs": [
    {
     "name": "stdout",
     "output_type": "stream",
     "text": [
      "+----------+------------------------------------------+\n",
      "|features  |polyFeatures                              |\n",
      "+----------+------------------------------------------+\n",
      "|[2.0,1.0] |[2.0,4.0,8.0,1.0,2.0,4.0,1.0,2.0,1.0]     |\n",
      "|[0.0,0.0] |[0.0,0.0,0.0,0.0,0.0,0.0,0.0,0.0,0.0]     |\n",
      "|[3.0,-1.0]|[3.0,9.0,27.0,-1.0,-3.0,-9.0,1.0,3.0,-1.0]|\n",
      "+----------+------------------------------------------+\n",
      "\n"
     ]
    }
   ],
   "source": [
    "from pyspark.ml.feature import PolynomialExpansion\n",
    "from pyspark.ml.linalg import Vectors\n",
    "\n",
    "df = spark.createDataFrame([\n",
    "    (Vectors.dense([2.0, 1.0]),),\n",
    "    (Vectors.dense([0.0, 0.0]),),\n",
    "    (Vectors.dense([3.0, -1.0]),)\n",
    "], [\"features\"])\n",
    "\n",
    "polyExpansion = PolynomialExpansion(degree=3, inputCol=\"features\", outputCol=\"polyFeatures\")\n",
    "polyDF = polyExpansion.transform(df)\n",
    "\n",
    "polyDF.show(truncate=False)"
   ]
  },
  {
   "cell_type": "code",
   "execution_count": 39,
   "id": "82305afb",
   "metadata": {},
   "outputs": [
    {
     "name": "stdout",
     "output_type": "stream",
     "text": [
      "+---+--------+-------------+\n",
      "| id|category|categoryIndex|\n",
      "+---+--------+-------------+\n",
      "|  0|       a|          0.0|\n",
      "|  1|       b|          2.0|\n",
      "|  2|       c|          1.0|\n",
      "|  3|       a|          0.0|\n",
      "|  4|       a|          0.0|\n",
      "|  5|       c|          1.0|\n",
      "+---+--------+-------------+\n",
      "\n"
     ]
    }
   ],
   "source": [
    "from pyspark.ml.feature import StringIndexer\n",
    "\n",
    "df = spark.createDataFrame(\n",
    "    [(0, \"a\"), (1, \"b\"), (2, \"c\"), (3, \"a\"), (4, \"a\"), (5, \"c\")],\n",
    "    [\"id\", \"category\"])\n",
    "\n",
    "indexer = StringIndexer(inputCol=\"category\", outputCol=\"categoryIndex\")\n",
    "indexed = indexer.fit(df).transform(df)\n",
    "indexed.show()"
   ]
  },
  {
   "cell_type": "code",
   "execution_count": null,
   "id": "ade28342",
   "metadata": {},
   "outputs": [],
   "source": [
    "#######################################################################################"
   ]
  },
  {
   "cell_type": "code",
   "execution_count": null,
   "id": "c8f16f4d",
   "metadata": {},
   "outputs": [],
   "source": []
  },
  {
   "cell_type": "code",
   "execution_count": null,
   "id": "2f7613ce",
   "metadata": {},
   "outputs": [],
   "source": []
  },
  {
   "cell_type": "code",
   "execution_count": null,
   "id": "d03908ce",
   "metadata": {},
   "outputs": [],
   "source": []
  },
  {
   "cell_type": "code",
   "execution_count": null,
   "id": "034e7a57",
   "metadata": {},
   "outputs": [],
   "source": []
  },
  {
   "cell_type": "code",
   "execution_count": null,
   "id": "a4229822",
   "metadata": {},
   "outputs": [],
   "source": []
  },
  {
   "cell_type": "code",
   "execution_count": null,
   "id": "c7ed9e85",
   "metadata": {},
   "outputs": [],
   "source": []
  },
  {
   "cell_type": "code",
   "execution_count": 15,
   "id": "8e23425e",
   "metadata": {},
   "outputs": [],
   "source": [
    "pipeline = Pipeline(stages= [stage_1_a, stage_1_b, stage_2_a, stage_2_b, stage_3_a, stage_3_b, vectorAssembler])\n",
    "pipelineFit = pipeline.fit(csi_pos_neg)"
   ]
  },
  {
   "cell_type": "code",
   "execution_count": 16,
   "id": "b12d4b63",
   "metadata": {},
   "outputs": [
    {
     "data": {
      "text/html": [
       "<div>\n",
       "<style scoped>\n",
       "    .dataframe tbody tr th:only-of-type {\n",
       "        vertical-align: middle;\n",
       "    }\n",
       "\n",
       "    .dataframe tbody tr th {\n",
       "        vertical-align: top;\n",
       "    }\n",
       "\n",
       "    .dataframe thead th {\n",
       "        text-align: right;\n",
       "    }\n",
       "</style>\n",
       "<table border=\"1\" class=\"dataframe\">\n",
       "  <thead>\n",
       "    <tr style=\"text-align: right;\">\n",
       "      <th></th>\n",
       "      <th>_c0</th>\n",
       "      <th>text</th>\n",
       "      <th>label</th>\n",
       "      <th>pos_t</th>\n",
       "      <th>neg_t</th>\n",
       "      <th>filtered_words1</th>\n",
       "      <th>filtered_words2</th>\n",
       "      <th>word1</th>\n",
       "      <th>word2</th>\n",
       "      <th>features</th>\n",
       "    </tr>\n",
       "  </thead>\n",
       "  <tbody>\n",
       "    <tr>\n",
       "      <th>0</th>\n",
       "      <td>0</td>\n",
       "      <td>threatmeter hacked emails of san francisco mun...</td>\n",
       "      <td>0</td>\n",
       "      <td>[threatmeter, hacked, emails, of, san, francis...</td>\n",
       "      <td>[threatmeter, hacked, emails, of, san, francis...</td>\n",
       "      <td>[threatmeter, hacked, emails, san, francisco, ...</td>\n",
       "      <td>[threatmeter, hacked, emails, san, francisco, ...</td>\n",
       "      <td>(0.0, 0.0, 0.0, 0.0, 1.0, 0.0, 0.0, 0.0, 0.0, ...</td>\n",
       "      <td>(0.0, 0.0, 0.0, 0.0, 1.0, 0.0, 0.0, 0.0, 0.0, ...</td>\n",
       "      <td>(0.0, 0.0, 0.0, 0.0, 1.0, 0.0, 0.0, 0.0, 0.0, ...</td>\n",
       "    </tr>\n",
       "    <tr>\n",
       "      <th>1</th>\n",
       "      <td>1</td>\n",
       "      <td>first android malware targeting pcs uncovered ...</td>\n",
       "      <td>0</td>\n",
       "      <td>[first, android, malware, targeting, pcs, unco...</td>\n",
       "      <td>[first, android, malware, targeting, pcs, unco...</td>\n",
       "      <td>[first, android, malware, targeting, pcs, unco...</td>\n",
       "      <td>[first, android, malware, targeting, pcs, unco...</td>\n",
       "      <td>(0.0, 0.0, 0.0, 0.0, 0.0, 0.0, 0.0, 0.0, 0.0, ...</td>\n",
       "      <td>(0.0, 0.0, 0.0, 0.0, 0.0, 0.0, 0.0, 0.0, 0.0, ...</td>\n",
       "      <td>(0.0, 0.0, 0.0, 0.0, 0.0, 0.0, 0.0, 0.0, 0.0, ...</td>\n",
       "    </tr>\n",
       "    <tr>\n",
       "      <th>2</th>\n",
       "      <td>2</td>\n",
       "      <td>adobe fixes six code execution bugs in flash  ...</td>\n",
       "      <td>0</td>\n",
       "      <td>[adobe, fixes, six, code, execution, bugs, in,...</td>\n",
       "      <td>[adobe, fixes, six, code, execution, bugs, in,...</td>\n",
       "      <td>[adobe, fixes, six, code, execution, bugs, fla...</td>\n",
       "      <td>[adobe, fixes, six, code, execution, bugs, fla...</td>\n",
       "      <td>(0.0, 0.0, 0.0, 0.0, 0.0, 0.0, 0.0, 0.0, 0.0, ...</td>\n",
       "      <td>(0.0, 0.0, 0.0, 0.0, 0.0, 0.0, 0.0, 0.0, 0.0, ...</td>\n",
       "      <td>(0.0, 0.0, 0.0, 0.0, 0.0, 0.0, 0.0, 0.0, 0.0, ...</td>\n",
       "    </tr>\n",
       "    <tr>\n",
       "      <th>3</th>\n",
       "      <td>3</td>\n",
       "      <td>scienceporn  in a vacuum i guess</td>\n",
       "      <td>0</td>\n",
       "      <td>[scienceporn, in, a, vacuum, i, guess]</td>\n",
       "      <td>[scienceporn, in, a, vacuum, i, guess]</td>\n",
       "      <td>[scienceporn, vacuum, guess]</td>\n",
       "      <td>[scienceporn, vacuum, guess]</td>\n",
       "      <td>(0.0, 0.0, 0.0, 0.0, 0.0, 0.0, 0.0, 0.0, 0.0, ...</td>\n",
       "      <td>(0.0, 0.0, 0.0, 0.0, 0.0, 0.0, 0.0, 0.0, 0.0, ...</td>\n",
       "      <td>(0.0, 0.0, 0.0, 0.0, 0.0, 0.0, 0.0, 0.0, 0.0, ...</td>\n",
       "    </tr>\n",
       "    <tr>\n",
       "      <th>4</th>\n",
       "      <td>4</td>\n",
       "      <td>riskware hmoyfzb  fbjaz</td>\n",
       "      <td>0</td>\n",
       "      <td>[riskware, hmoyfzb, fbjaz]</td>\n",
       "      <td>[riskware, hmoyfzb, fbjaz]</td>\n",
       "      <td>[riskware, hmoyfzb, fbjaz]</td>\n",
       "      <td>[riskware, hmoyfzb, fbjaz]</td>\n",
       "      <td>(0.0, 0.0, 0.0, 0.0, 0.0, 0.0, 0.0, 0.0, 0.0, ...</td>\n",
       "      <td>(0.0, 0.0, 0.0, 0.0, 0.0, 0.0, 0.0, 0.0, 0.0, ...</td>\n",
       "      <td>(0.0, 0.0, 0.0, 0.0, 0.0, 0.0, 0.0, 0.0, 0.0, ...</td>\n",
       "    </tr>\n",
       "  </tbody>\n",
       "</table>\n",
       "</div>"
      ],
      "text/plain": [
       "  _c0                                               text label  \\\n",
       "0   0  threatmeter hacked emails of san francisco mun...     0   \n",
       "1   1  first android malware targeting pcs uncovered ...     0   \n",
       "2   2  adobe fixes six code execution bugs in flash  ...     0   \n",
       "3   3                   scienceporn  in a vacuum i guess     0   \n",
       "4   4                           riskware hmoyfzb  fbjaz      0   \n",
       "\n",
       "                                               pos_t  \\\n",
       "0  [threatmeter, hacked, emails, of, san, francis...   \n",
       "1  [first, android, malware, targeting, pcs, unco...   \n",
       "2  [adobe, fixes, six, code, execution, bugs, in,...   \n",
       "3             [scienceporn, in, a, vacuum, i, guess]   \n",
       "4                         [riskware, hmoyfzb, fbjaz]   \n",
       "\n",
       "                                               neg_t  \\\n",
       "0  [threatmeter, hacked, emails, of, san, francis...   \n",
       "1  [first, android, malware, targeting, pcs, unco...   \n",
       "2  [adobe, fixes, six, code, execution, bugs, in,...   \n",
       "3             [scienceporn, in, a, vacuum, i, guess]   \n",
       "4                         [riskware, hmoyfzb, fbjaz]   \n",
       "\n",
       "                                     filtered_words1  \\\n",
       "0  [threatmeter, hacked, emails, san, francisco, ...   \n",
       "1  [first, android, malware, targeting, pcs, unco...   \n",
       "2  [adobe, fixes, six, code, execution, bugs, fla...   \n",
       "3                       [scienceporn, vacuum, guess]   \n",
       "4                         [riskware, hmoyfzb, fbjaz]   \n",
       "\n",
       "                                     filtered_words2  \\\n",
       "0  [threatmeter, hacked, emails, san, francisco, ...   \n",
       "1  [first, android, malware, targeting, pcs, unco...   \n",
       "2  [adobe, fixes, six, code, execution, bugs, fla...   \n",
       "3                       [scienceporn, vacuum, guess]   \n",
       "4                         [riskware, hmoyfzb, fbjaz]   \n",
       "\n",
       "                                               word1  \\\n",
       "0  (0.0, 0.0, 0.0, 0.0, 1.0, 0.0, 0.0, 0.0, 0.0, ...   \n",
       "1  (0.0, 0.0, 0.0, 0.0, 0.0, 0.0, 0.0, 0.0, 0.0, ...   \n",
       "2  (0.0, 0.0, 0.0, 0.0, 0.0, 0.0, 0.0, 0.0, 0.0, ...   \n",
       "3  (0.0, 0.0, 0.0, 0.0, 0.0, 0.0, 0.0, 0.0, 0.0, ...   \n",
       "4  (0.0, 0.0, 0.0, 0.0, 0.0, 0.0, 0.0, 0.0, 0.0, ...   \n",
       "\n",
       "                                               word2  \\\n",
       "0  (0.0, 0.0, 0.0, 0.0, 1.0, 0.0, 0.0, 0.0, 0.0, ...   \n",
       "1  (0.0, 0.0, 0.0, 0.0, 0.0, 0.0, 0.0, 0.0, 0.0, ...   \n",
       "2  (0.0, 0.0, 0.0, 0.0, 0.0, 0.0, 0.0, 0.0, 0.0, ...   \n",
       "3  (0.0, 0.0, 0.0, 0.0, 0.0, 0.0, 0.0, 0.0, 0.0, ...   \n",
       "4  (0.0, 0.0, 0.0, 0.0, 0.0, 0.0, 0.0, 0.0, 0.0, ...   \n",
       "\n",
       "                                            features  \n",
       "0  (0.0, 0.0, 0.0, 0.0, 1.0, 0.0, 0.0, 0.0, 0.0, ...  \n",
       "1  (0.0, 0.0, 0.0, 0.0, 0.0, 0.0, 0.0, 0.0, 0.0, ...  \n",
       "2  (0.0, 0.0, 0.0, 0.0, 0.0, 0.0, 0.0, 0.0, 0.0, ...  \n",
       "3  (0.0, 0.0, 0.0, 0.0, 0.0, 0.0, 0.0, 0.0, 0.0, ...  \n",
       "4  (0.0, 0.0, 0.0, 0.0, 0.0, 0.0, 0.0, 0.0, 0.0, ...  "
      ]
     },
     "execution_count": 16,
     "metadata": {},
     "output_type": "execute_result"
    }
   ],
   "source": [
    "df_transform = pipelineFit.transform(csi_pos_neg)\n",
    "df_transform.limit(5).toPandas()"
   ]
  },
  {
   "cell_type": "code",
   "execution_count": 17,
   "id": "227cfb41",
   "metadata": {},
   "outputs": [],
   "source": [
    "df_transform_fin = df_transform.orderBy(rand())\n",
    "nb_classes = df_transform_fin.distinct().count()"
   ]
  },
  {
   "cell_type": "code",
   "execution_count": 18,
   "id": "624eae8f",
   "metadata": {},
   "outputs": [],
   "source": [
    "vocab_sizes = 5001\n",
    "neg_vocab_sizes = 5001\n",
    "embedding_vector_length = 100\n",
    "hidden_dims = 250\n",
    "max_length = 100"
   ]
  },
  {
   "cell_type": "code",
   "execution_count": 19,
   "id": "d1c41523",
   "metadata": {},
   "outputs": [],
   "source": [
    "from tensorflow.python.keras.models import Model, Sequential\n",
    "from tensorflow.python.keras.layers import Input, Dense, concatenate\n",
    "from tensorflow.python.keras.layers import LSTM\n",
    "from tensorflow.python.keras.layers.embeddings import Embedding\n",
    "from tensorflow.python.keras.layers import Conv1D, Flatten, GlobalMaxPooling1D, Dropout, MaxPooling1D, Activation, Bidirectional, Conv2D, GlobalMaxPooling2D"
   ]
  },
  {
   "cell_type": "code",
   "execution_count": 20,
   "id": "af49ac36",
   "metadata": {},
   "outputs": [],
   "source": [
    "# CSI positive Embedding model\n",
    "inputA = Input(shape=(100,))\n",
    "x = Embedding(vocab_sizes, embedding_vector_length, input_length=max_length)(inputA)\n",
    "# x = Conv1D(128, 5, activation='relu')(x)\n",
    "# x = MaxPool1D(strides=1, padding='valid')(x)\n",
    "x = Bidirectional(LSTM(128))(x)\n",
    "x = Dropout(0.2)(x)\n",
    "x = Activation('relu')(x)\n",
    "x = Model(inputs=inputA, outputs=x)\n",
    "\n",
    "# CSI negative Embedding model\n",
    "inputC = Input(shape=(100,))\n",
    "k = Embedding(neg_vocab_sizes, embedding_vector_length, input_length=max_length)(inputC)\n",
    "# k = Conv1D(128, 5, activation='relu')(k)\n",
    "# k = MaxPool1D(strides=1, padding='valid')(k)\n",
    "k = Bidirectional(LSTM(128))(k)\n",
    "k = Dropout(0.2)(k)\n",
    "k = Activation('relu')(k)\n",
    "k = Model(inputs=inputC, outputs=k)\n",
    "\n",
    "combined = concatenate([x.output, k.output], axis=1)\n",
    "# z = Flatten()(combined)\n",
    "z = Dense(8, activation='relu')(combined)\n",
    "z = Dense(1, activation=\"sigmoid\")(z)\n",
    "\n",
    "model = Model(inputs=[x.input, k.input], outputs=z)\n",
    "model.compile(loss='binary_crossentropy', optimizer='adam', metrics=['accuracy'])\n"
   ]
  },
  {
   "cell_type": "code",
   "execution_count": 21,
   "id": "1ef73fe9",
   "metadata": {},
   "outputs": [
    {
     "name": "stdout",
     "output_type": "stream",
     "text": [
      "Model: \"model_2\"\n",
      "__________________________________________________________________________________________________\n",
      "Layer (type)                    Output Shape         Param #     Connected to                     \n",
      "==================================================================================================\n",
      "input_1 (InputLayer)            [(None, 100)]        0                                            \n",
      "__________________________________________________________________________________________________\n",
      "input_2 (InputLayer)            [(None, 100)]        0                                            \n",
      "__________________________________________________________________________________________________\n",
      "embedding (Embedding)           (None, 100, 100)     500100      input_1[0][0]                    \n",
      "__________________________________________________________________________________________________\n",
      "embedding_1 (Embedding)         (None, 100, 100)     500100      input_2[0][0]                    \n",
      "__________________________________________________________________________________________________\n",
      "bidirectional (Bidirectional)   (None, 256)          234496      embedding[0][0]                  \n",
      "__________________________________________________________________________________________________\n",
      "bidirectional_1 (Bidirectional) (None, 256)          234496      embedding_1[0][0]                \n",
      "__________________________________________________________________________________________________\n",
      "dropout (Dropout)               (None, 256)          0           bidirectional[0][0]              \n",
      "__________________________________________________________________________________________________\n",
      "dropout_1 (Dropout)             (None, 256)          0           bidirectional_1[0][0]            \n",
      "__________________________________________________________________________________________________\n",
      "activation (Activation)         (None, 256)          0           dropout[0][0]                    \n",
      "__________________________________________________________________________________________________\n",
      "activation_1 (Activation)       (None, 256)          0           dropout_1[0][0]                  \n",
      "__________________________________________________________________________________________________\n",
      "concatenate (Concatenate)       (None, 512)          0           activation[0][0]                 \n",
      "                                                                 activation_1[0][0]               \n",
      "__________________________________________________________________________________________________\n",
      "dense (Dense)                   (None, 8)            4104        concatenate[0][0]                \n",
      "__________________________________________________________________________________________________\n",
      "dense_1 (Dense)                 (None, 1)            9           dense[0][0]                      \n",
      "==================================================================================================\n",
      "Total params: 1,473,305\n",
      "Trainable params: 1,473,305\n",
      "Non-trainable params: 0\n",
      "__________________________________________________________________________________________________\n"
     ]
    }
   ],
   "source": [
    "model.summary()"
   ]
  },
  {
   "cell_type": "code",
   "execution_count": 22,
   "id": "c98031ce",
   "metadata": {},
   "outputs": [],
   "source": [
    "from keras import optimizers, regularizers\n",
    "from tensorflow.keras import optimizers\n",
    "\n",
    "optimizer_conf = optimizers.Adam(lr=0.01)\n",
    "opt_conf = optimizers.serialize(optimizer_conf)"
   ]
  },
  {
   "cell_type": "code",
   "execution_count": 41,
   "id": "c6f4a9c4",
   "metadata": {},
   "outputs": [
    {
     "data": {
      "text/plain": [
       "ElephasEstimator_907d50e28eff"
      ]
     },
     "execution_count": 41,
     "metadata": {},
     "output_type": "execute_result"
    }
   ],
   "source": [
    "from tensorflow.keras.models import model_from_json\n",
    "from elephas import spark_model, ml_model\n",
    "from elephas.ml_model import ElephasEstimator\n",
    "\n",
    "estimator = ElephasEstimator()\n",
    "estimator.setFeaturesCol(\"features\")\n",
    "estimator.setLabelCol(\"label\")\n",
    "estimator.set_keras_model_config(model.to_json())\n",
    "# estimator.set_categorical_labels(True)\n",
    "estimator.set_nb_classes(nb_classes)\n",
    "estimator.set_num_workers(2)\n",
    "estimator.set_epochs(3)\n",
    "estimator.set_batch_size(32)\n",
    "estimator.set_verbosity(1)\n",
    "estimator.set_validation_split(0.10)\n",
    "estimator.set_optimizer_config(opt_conf)\n",
    "estimator.set_mode(\"synchronous\")\n",
    "estimator.set_loss(\"binary_crossentropy\")\n",
    "# estimator.set_metrics(['acc'])\n",
    "\n",
    "dl_pipeline = Pipeline(stages=[estimator])\n",
    "my_dl = dl_pipeline.fit(df_transform_fin)"
   ]
  },
  {
   "cell_type": "code",
   "execution_count": 24,
   "id": "519b39a9",
   "metadata": {},
   "outputs": [],
   "source": [
    "dl_pipeline = Pipeline(stages=[estimator])"
   ]
  },
  {
   "cell_type": "code",
   "execution_count": 25,
   "id": "d31e20fc",
   "metadata": {
    "scrolled": false
   },
   "outputs": [
    {
     "name": "stdout",
     "output_type": "stream",
     "text": [
      ">>> Fit model\n"
     ]
    },
    {
     "ename": "KeyboardInterrupt",
     "evalue": "",
     "output_type": "error",
     "traceback": [
      "\u001b[0;31m---------------------------------------------------------------------------\u001b[0m",
      "\u001b[0;31mKeyboardInterrupt\u001b[0m                         Traceback (most recent call last)",
      "\u001b[0;32m<ipython-input-25-60558f6b0a50>\u001b[0m in \u001b[0;36m<module>\u001b[0;34m\u001b[0m\n\u001b[0;32m----> 1\u001b[0;31m \u001b[0mmy_dl\u001b[0m \u001b[0;34m=\u001b[0m \u001b[0mdl_pipeline\u001b[0m\u001b[0;34m.\u001b[0m\u001b[0mfit\u001b[0m\u001b[0;34m(\u001b[0m\u001b[0mdf_transform_fin\u001b[0m\u001b[0;34m)\u001b[0m\u001b[0;34m\u001b[0m\u001b[0;34m\u001b[0m\u001b[0m\n\u001b[0m",
      "\u001b[0;32m~/spark/python/pyspark/ml/base.py\u001b[0m in \u001b[0;36mfit\u001b[0;34m(self, dataset, params)\u001b[0m\n\u001b[1;32m    130\u001b[0m                 \u001b[0;32mreturn\u001b[0m \u001b[0mself\u001b[0m\u001b[0;34m.\u001b[0m\u001b[0mcopy\u001b[0m\u001b[0;34m(\u001b[0m\u001b[0mparams\u001b[0m\u001b[0;34m)\u001b[0m\u001b[0;34m.\u001b[0m\u001b[0m_fit\u001b[0m\u001b[0;34m(\u001b[0m\u001b[0mdataset\u001b[0m\u001b[0;34m)\u001b[0m\u001b[0;34m\u001b[0m\u001b[0;34m\u001b[0m\u001b[0m\n\u001b[1;32m    131\u001b[0m             \u001b[0;32melse\u001b[0m\u001b[0;34m:\u001b[0m\u001b[0;34m\u001b[0m\u001b[0;34m\u001b[0m\u001b[0m\n\u001b[0;32m--> 132\u001b[0;31m                 \u001b[0;32mreturn\u001b[0m \u001b[0mself\u001b[0m\u001b[0;34m.\u001b[0m\u001b[0m_fit\u001b[0m\u001b[0;34m(\u001b[0m\u001b[0mdataset\u001b[0m\u001b[0;34m)\u001b[0m\u001b[0;34m\u001b[0m\u001b[0;34m\u001b[0m\u001b[0m\n\u001b[0m\u001b[1;32m    133\u001b[0m         \u001b[0;32melse\u001b[0m\u001b[0;34m:\u001b[0m\u001b[0;34m\u001b[0m\u001b[0;34m\u001b[0m\u001b[0m\n\u001b[1;32m    134\u001b[0m             raise ValueError(\"Params must be either a param map or a list/tuple of param maps, \"\n",
      "\u001b[0;32m~/spark/python/pyspark/ml/pipeline.py\u001b[0m in \u001b[0;36m_fit\u001b[0;34m(self, dataset)\u001b[0m\n\u001b[1;32m    107\u001b[0m                     \u001b[0mdataset\u001b[0m \u001b[0;34m=\u001b[0m \u001b[0mstage\u001b[0m\u001b[0;34m.\u001b[0m\u001b[0mtransform\u001b[0m\u001b[0;34m(\u001b[0m\u001b[0mdataset\u001b[0m\u001b[0;34m)\u001b[0m\u001b[0;34m\u001b[0m\u001b[0;34m\u001b[0m\u001b[0m\n\u001b[1;32m    108\u001b[0m                 \u001b[0;32melse\u001b[0m\u001b[0;34m:\u001b[0m  \u001b[0;31m# must be an Estimator\u001b[0m\u001b[0;34m\u001b[0m\u001b[0;34m\u001b[0m\u001b[0m\n\u001b[0;32m--> 109\u001b[0;31m                     \u001b[0mmodel\u001b[0m \u001b[0;34m=\u001b[0m \u001b[0mstage\u001b[0m\u001b[0;34m.\u001b[0m\u001b[0mfit\u001b[0m\u001b[0;34m(\u001b[0m\u001b[0mdataset\u001b[0m\u001b[0;34m)\u001b[0m\u001b[0;34m\u001b[0m\u001b[0;34m\u001b[0m\u001b[0m\n\u001b[0m\u001b[1;32m    110\u001b[0m                     \u001b[0mtransformers\u001b[0m\u001b[0;34m.\u001b[0m\u001b[0mappend\u001b[0m\u001b[0;34m(\u001b[0m\u001b[0mmodel\u001b[0m\u001b[0;34m)\u001b[0m\u001b[0;34m\u001b[0m\u001b[0;34m\u001b[0m\u001b[0m\n\u001b[1;32m    111\u001b[0m                     \u001b[0;32mif\u001b[0m \u001b[0mi\u001b[0m \u001b[0;34m<\u001b[0m \u001b[0mindexOfLastEstimator\u001b[0m\u001b[0;34m:\u001b[0m\u001b[0;34m\u001b[0m\u001b[0;34m\u001b[0m\u001b[0m\n",
      "\u001b[0;32m~/spark/python/pyspark/ml/base.py\u001b[0m in \u001b[0;36mfit\u001b[0;34m(self, dataset, params)\u001b[0m\n\u001b[1;32m    130\u001b[0m                 \u001b[0;32mreturn\u001b[0m \u001b[0mself\u001b[0m\u001b[0;34m.\u001b[0m\u001b[0mcopy\u001b[0m\u001b[0;34m(\u001b[0m\u001b[0mparams\u001b[0m\u001b[0;34m)\u001b[0m\u001b[0;34m.\u001b[0m\u001b[0m_fit\u001b[0m\u001b[0;34m(\u001b[0m\u001b[0mdataset\u001b[0m\u001b[0;34m)\u001b[0m\u001b[0;34m\u001b[0m\u001b[0;34m\u001b[0m\u001b[0m\n\u001b[1;32m    131\u001b[0m             \u001b[0;32melse\u001b[0m\u001b[0;34m:\u001b[0m\u001b[0;34m\u001b[0m\u001b[0;34m\u001b[0m\u001b[0m\n\u001b[0;32m--> 132\u001b[0;31m                 \u001b[0;32mreturn\u001b[0m \u001b[0mself\u001b[0m\u001b[0;34m.\u001b[0m\u001b[0m_fit\u001b[0m\u001b[0;34m(\u001b[0m\u001b[0mdataset\u001b[0m\u001b[0;34m)\u001b[0m\u001b[0;34m\u001b[0m\u001b[0;34m\u001b[0m\u001b[0m\n\u001b[0m\u001b[1;32m    133\u001b[0m         \u001b[0;32melse\u001b[0m\u001b[0;34m:\u001b[0m\u001b[0;34m\u001b[0m\u001b[0;34m\u001b[0m\u001b[0m\n\u001b[1;32m    134\u001b[0m             raise ValueError(\"Params must be either a param map or a list/tuple of param maps, \"\n",
      "\u001b[0;32m/usr/local/lib/python3.6/dist-packages/elephas/ml_model.py\u001b[0m in \u001b[0;36m_fit\u001b[0;34m(self, df)\u001b[0m\n\u001b[1;32m     99\u001b[0m                         \u001b[0mbatch_size\u001b[0m\u001b[0;34m=\u001b[0m\u001b[0mself\u001b[0m\u001b[0;34m.\u001b[0m\u001b[0mget_batch_size\u001b[0m\u001b[0;34m(\u001b[0m\u001b[0;34m)\u001b[0m\u001b[0;34m,\u001b[0m\u001b[0;34m\u001b[0m\u001b[0;34m\u001b[0m\u001b[0m\n\u001b[1;32m    100\u001b[0m                         \u001b[0mverbose\u001b[0m\u001b[0;34m=\u001b[0m\u001b[0mself\u001b[0m\u001b[0;34m.\u001b[0m\u001b[0mget_verbosity\u001b[0m\u001b[0;34m(\u001b[0m\u001b[0;34m)\u001b[0m\u001b[0;34m,\u001b[0m\u001b[0;34m\u001b[0m\u001b[0;34m\u001b[0m\u001b[0m\n\u001b[0;32m--> 101\u001b[0;31m                         validation_split=self.get_validation_split())\n\u001b[0m\u001b[1;32m    102\u001b[0m \u001b[0;34m\u001b[0m\u001b[0m\n\u001b[1;32m    103\u001b[0m         \u001b[0mmodel_weights\u001b[0m \u001b[0;34m=\u001b[0m \u001b[0mspark_model\u001b[0m\u001b[0;34m.\u001b[0m\u001b[0mmaster_network\u001b[0m\u001b[0;34m.\u001b[0m\u001b[0mget_weights\u001b[0m\u001b[0;34m(\u001b[0m\u001b[0;34m)\u001b[0m\u001b[0;34m\u001b[0m\u001b[0;34m\u001b[0m\u001b[0m\n",
      "\u001b[0;32m/usr/local/lib/python3.6/dist-packages/elephas/spark_model.py\u001b[0m in \u001b[0;36mfit\u001b[0;34m(self, rdd, **kwargs)\u001b[0m\n\u001b[1;32m    148\u001b[0m \u001b[0;34m\u001b[0m\u001b[0m\n\u001b[1;32m    149\u001b[0m         \u001b[0;32mif\u001b[0m \u001b[0mself\u001b[0m\u001b[0;34m.\u001b[0m\u001b[0mmode\u001b[0m \u001b[0;32min\u001b[0m \u001b[0;34m[\u001b[0m\u001b[0;34m'asynchronous'\u001b[0m\u001b[0;34m,\u001b[0m \u001b[0;34m'synchronous'\u001b[0m\u001b[0;34m,\u001b[0m \u001b[0;34m'hogwild'\u001b[0m\u001b[0;34m]\u001b[0m\u001b[0;34m:\u001b[0m\u001b[0;34m\u001b[0m\u001b[0;34m\u001b[0m\u001b[0m\n\u001b[0;32m--> 150\u001b[0;31m             \u001b[0mself\u001b[0m\u001b[0;34m.\u001b[0m\u001b[0m_fit\u001b[0m\u001b[0;34m(\u001b[0m\u001b[0mrdd\u001b[0m\u001b[0;34m,\u001b[0m \u001b[0;34m**\u001b[0m\u001b[0mkwargs\u001b[0m\u001b[0;34m)\u001b[0m\u001b[0;34m\u001b[0m\u001b[0;34m\u001b[0m\u001b[0m\n\u001b[0m\u001b[1;32m    151\u001b[0m         \u001b[0;32melse\u001b[0m\u001b[0;34m:\u001b[0m\u001b[0;34m\u001b[0m\u001b[0;34m\u001b[0m\u001b[0m\n\u001b[1;32m    152\u001b[0m             raise ValueError(\n",
      "\u001b[0;32m/usr/local/lib/python3.6/dist-packages/elephas/spark_model.py\u001b[0m in \u001b[0;36m_fit\u001b[0;34m(self, rdd, **kwargs)\u001b[0m\n\u001b[1;32m    183\u001b[0m             worker = SparkWorker(yaml, parameters, train_config,\n\u001b[1;32m    184\u001b[0m                                  optimizer, loss, metrics, custom)\n\u001b[0;32m--> 185\u001b[0;31m             \u001b[0mtraining_outcomes\u001b[0m \u001b[0;34m=\u001b[0m \u001b[0mrdd\u001b[0m\u001b[0;34m.\u001b[0m\u001b[0mmapPartitions\u001b[0m\u001b[0;34m(\u001b[0m\u001b[0mworker\u001b[0m\u001b[0;34m.\u001b[0m\u001b[0mtrain\u001b[0m\u001b[0;34m)\u001b[0m\u001b[0;34m.\u001b[0m\u001b[0mcollect\u001b[0m\u001b[0;34m(\u001b[0m\u001b[0;34m)\u001b[0m\u001b[0;34m\u001b[0m\u001b[0;34m\u001b[0m\u001b[0m\n\u001b[0m\u001b[1;32m    186\u001b[0m             \u001b[0mnew_parameters\u001b[0m \u001b[0;34m=\u001b[0m \u001b[0mself\u001b[0m\u001b[0;34m.\u001b[0m\u001b[0m_master_network\u001b[0m\u001b[0;34m.\u001b[0m\u001b[0mget_weights\u001b[0m\u001b[0;34m(\u001b[0m\u001b[0;34m)\u001b[0m\u001b[0;34m\u001b[0m\u001b[0;34m\u001b[0m\u001b[0m\n\u001b[1;32m    187\u001b[0m             \u001b[0mnumber_of_sub_models\u001b[0m \u001b[0;34m=\u001b[0m \u001b[0mlen\u001b[0m\u001b[0;34m(\u001b[0m\u001b[0mtraining_outcomes\u001b[0m\u001b[0;34m)\u001b[0m\u001b[0;34m\u001b[0m\u001b[0;34m\u001b[0m\u001b[0m\n",
      "\u001b[0;32m~/spark/python/pyspark/rdd.py\u001b[0m in \u001b[0;36mcollect\u001b[0;34m(self)\u001b[0m\n\u001b[1;32m    814\u001b[0m         \"\"\"\n\u001b[1;32m    815\u001b[0m         \u001b[0;32mwith\u001b[0m \u001b[0mSCCallSiteSync\u001b[0m\u001b[0;34m(\u001b[0m\u001b[0mself\u001b[0m\u001b[0;34m.\u001b[0m\u001b[0mcontext\u001b[0m\u001b[0;34m)\u001b[0m \u001b[0;32mas\u001b[0m \u001b[0mcss\u001b[0m\u001b[0;34m:\u001b[0m\u001b[0;34m\u001b[0m\u001b[0;34m\u001b[0m\u001b[0m\n\u001b[0;32m--> 816\u001b[0;31m             \u001b[0msock_info\u001b[0m \u001b[0;34m=\u001b[0m \u001b[0mself\u001b[0m\u001b[0;34m.\u001b[0m\u001b[0mctx\u001b[0m\u001b[0;34m.\u001b[0m\u001b[0m_jvm\u001b[0m\u001b[0;34m.\u001b[0m\u001b[0mPythonRDD\u001b[0m\u001b[0;34m.\u001b[0m\u001b[0mcollectAndServe\u001b[0m\u001b[0;34m(\u001b[0m\u001b[0mself\u001b[0m\u001b[0;34m.\u001b[0m\u001b[0m_jrdd\u001b[0m\u001b[0;34m.\u001b[0m\u001b[0mrdd\u001b[0m\u001b[0;34m(\u001b[0m\u001b[0;34m)\u001b[0m\u001b[0;34m)\u001b[0m\u001b[0;34m\u001b[0m\u001b[0;34m\u001b[0m\u001b[0m\n\u001b[0m\u001b[1;32m    817\u001b[0m         \u001b[0;32mreturn\u001b[0m \u001b[0mlist\u001b[0m\u001b[0;34m(\u001b[0m\u001b[0m_load_from_socket\u001b[0m\u001b[0;34m(\u001b[0m\u001b[0msock_info\u001b[0m\u001b[0;34m,\u001b[0m \u001b[0mself\u001b[0m\u001b[0;34m.\u001b[0m\u001b[0m_jrdd_deserializer\u001b[0m\u001b[0;34m)\u001b[0m\u001b[0;34m)\u001b[0m\u001b[0;34m\u001b[0m\u001b[0;34m\u001b[0m\u001b[0m\n\u001b[1;32m    818\u001b[0m \u001b[0;34m\u001b[0m\u001b[0m\n",
      "\u001b[0;32m~/spark/python/lib/py4j-0.10.7-src.zip/py4j/java_gateway.py\u001b[0m in \u001b[0;36m__call__\u001b[0;34m(self, *args)\u001b[0m\n\u001b[1;32m   1253\u001b[0m             \u001b[0mproto\u001b[0m\u001b[0;34m.\u001b[0m\u001b[0mEND_COMMAND_PART\u001b[0m\u001b[0;34m\u001b[0m\u001b[0;34m\u001b[0m\u001b[0m\n\u001b[1;32m   1254\u001b[0m \u001b[0;34m\u001b[0m\u001b[0m\n\u001b[0;32m-> 1255\u001b[0;31m         \u001b[0manswer\u001b[0m \u001b[0;34m=\u001b[0m \u001b[0mself\u001b[0m\u001b[0;34m.\u001b[0m\u001b[0mgateway_client\u001b[0m\u001b[0;34m.\u001b[0m\u001b[0msend_command\u001b[0m\u001b[0;34m(\u001b[0m\u001b[0mcommand\u001b[0m\u001b[0;34m)\u001b[0m\u001b[0;34m\u001b[0m\u001b[0;34m\u001b[0m\u001b[0m\n\u001b[0m\u001b[1;32m   1256\u001b[0m         return_value = get_return_value(\n\u001b[1;32m   1257\u001b[0m             answer, self.gateway_client, self.target_id, self.name)\n",
      "\u001b[0;32m~/spark/python/lib/py4j-0.10.7-src.zip/py4j/java_gateway.py\u001b[0m in \u001b[0;36msend_command\u001b[0;34m(self, command, retry, binary)\u001b[0m\n\u001b[1;32m    983\u001b[0m         \u001b[0mconnection\u001b[0m \u001b[0;34m=\u001b[0m \u001b[0mself\u001b[0m\u001b[0;34m.\u001b[0m\u001b[0m_get_connection\u001b[0m\u001b[0;34m(\u001b[0m\u001b[0;34m)\u001b[0m\u001b[0;34m\u001b[0m\u001b[0;34m\u001b[0m\u001b[0m\n\u001b[1;32m    984\u001b[0m         \u001b[0;32mtry\u001b[0m\u001b[0;34m:\u001b[0m\u001b[0;34m\u001b[0m\u001b[0;34m\u001b[0m\u001b[0m\n\u001b[0;32m--> 985\u001b[0;31m             \u001b[0mresponse\u001b[0m \u001b[0;34m=\u001b[0m \u001b[0mconnection\u001b[0m\u001b[0;34m.\u001b[0m\u001b[0msend_command\u001b[0m\u001b[0;34m(\u001b[0m\u001b[0mcommand\u001b[0m\u001b[0;34m)\u001b[0m\u001b[0;34m\u001b[0m\u001b[0;34m\u001b[0m\u001b[0m\n\u001b[0m\u001b[1;32m    986\u001b[0m             \u001b[0;32mif\u001b[0m \u001b[0mbinary\u001b[0m\u001b[0;34m:\u001b[0m\u001b[0;34m\u001b[0m\u001b[0;34m\u001b[0m\u001b[0m\n\u001b[1;32m    987\u001b[0m                 \u001b[0;32mreturn\u001b[0m \u001b[0mresponse\u001b[0m\u001b[0;34m,\u001b[0m \u001b[0mself\u001b[0m\u001b[0;34m.\u001b[0m\u001b[0m_create_connection_guard\u001b[0m\u001b[0;34m(\u001b[0m\u001b[0mconnection\u001b[0m\u001b[0;34m)\u001b[0m\u001b[0;34m\u001b[0m\u001b[0;34m\u001b[0m\u001b[0m\n",
      "\u001b[0;32m~/spark/python/lib/py4j-0.10.7-src.zip/py4j/java_gateway.py\u001b[0m in \u001b[0;36msend_command\u001b[0;34m(self, command)\u001b[0m\n\u001b[1;32m   1150\u001b[0m \u001b[0;34m\u001b[0m\u001b[0m\n\u001b[1;32m   1151\u001b[0m         \u001b[0;32mtry\u001b[0m\u001b[0;34m:\u001b[0m\u001b[0;34m\u001b[0m\u001b[0;34m\u001b[0m\u001b[0m\n\u001b[0;32m-> 1152\u001b[0;31m             \u001b[0manswer\u001b[0m \u001b[0;34m=\u001b[0m \u001b[0msmart_decode\u001b[0m\u001b[0;34m(\u001b[0m\u001b[0mself\u001b[0m\u001b[0;34m.\u001b[0m\u001b[0mstream\u001b[0m\u001b[0;34m.\u001b[0m\u001b[0mreadline\u001b[0m\u001b[0;34m(\u001b[0m\u001b[0;34m)\u001b[0m\u001b[0;34m[\u001b[0m\u001b[0;34m:\u001b[0m\u001b[0;34m-\u001b[0m\u001b[0;36m1\u001b[0m\u001b[0;34m]\u001b[0m\u001b[0;34m)\u001b[0m\u001b[0;34m\u001b[0m\u001b[0;34m\u001b[0m\u001b[0m\n\u001b[0m\u001b[1;32m   1153\u001b[0m             \u001b[0mlogger\u001b[0m\u001b[0;34m.\u001b[0m\u001b[0mdebug\u001b[0m\u001b[0;34m(\u001b[0m\u001b[0;34m\"Answer received: {0}\"\u001b[0m\u001b[0;34m.\u001b[0m\u001b[0mformat\u001b[0m\u001b[0;34m(\u001b[0m\u001b[0manswer\u001b[0m\u001b[0;34m)\u001b[0m\u001b[0;34m)\u001b[0m\u001b[0;34m\u001b[0m\u001b[0;34m\u001b[0m\u001b[0m\n\u001b[1;32m   1154\u001b[0m             \u001b[0;32mif\u001b[0m \u001b[0manswer\u001b[0m\u001b[0;34m.\u001b[0m\u001b[0mstartswith\u001b[0m\u001b[0;34m(\u001b[0m\u001b[0mproto\u001b[0m\u001b[0;34m.\u001b[0m\u001b[0mRETURN_MESSAGE\u001b[0m\u001b[0;34m)\u001b[0m\u001b[0;34m:\u001b[0m\u001b[0;34m\u001b[0m\u001b[0;34m\u001b[0m\u001b[0m\n",
      "\u001b[0;32m/usr/lib/python3.6/socket.py\u001b[0m in \u001b[0;36mreadinto\u001b[0;34m(self, b)\u001b[0m\n\u001b[1;32m    584\u001b[0m         \u001b[0;32mwhile\u001b[0m \u001b[0;32mTrue\u001b[0m\u001b[0;34m:\u001b[0m\u001b[0;34m\u001b[0m\u001b[0;34m\u001b[0m\u001b[0m\n\u001b[1;32m    585\u001b[0m             \u001b[0;32mtry\u001b[0m\u001b[0;34m:\u001b[0m\u001b[0;34m\u001b[0m\u001b[0;34m\u001b[0m\u001b[0m\n\u001b[0;32m--> 586\u001b[0;31m                 \u001b[0;32mreturn\u001b[0m \u001b[0mself\u001b[0m\u001b[0;34m.\u001b[0m\u001b[0m_sock\u001b[0m\u001b[0;34m.\u001b[0m\u001b[0mrecv_into\u001b[0m\u001b[0;34m(\u001b[0m\u001b[0mb\u001b[0m\u001b[0;34m)\u001b[0m\u001b[0;34m\u001b[0m\u001b[0;34m\u001b[0m\u001b[0m\n\u001b[0m\u001b[1;32m    587\u001b[0m             \u001b[0;32mexcept\u001b[0m \u001b[0mtimeout\u001b[0m\u001b[0;34m:\u001b[0m\u001b[0;34m\u001b[0m\u001b[0;34m\u001b[0m\u001b[0m\n\u001b[1;32m    588\u001b[0m                 \u001b[0mself\u001b[0m\u001b[0;34m.\u001b[0m\u001b[0m_timeout_occurred\u001b[0m \u001b[0;34m=\u001b[0m \u001b[0;32mTrue\u001b[0m\u001b[0;34m\u001b[0m\u001b[0;34m\u001b[0m\u001b[0m\n",
      "\u001b[0;31mKeyboardInterrupt\u001b[0m: "
     ]
    }
   ],
   "source": [
    "my_dl = dl_pipeline.fit(df_transform_fin)"
   ]
  },
  {
   "cell_type": "code",
   "execution_count": null,
   "id": "48581fba",
   "metadata": {},
   "outputs": [],
   "source": [
    "my_dl.write().overwrite().save('hdfs:///user/root/model_2')"
   ]
  },
  {
   "cell_type": "code",
   "execution_count": null,
   "id": "2cd6043d",
   "metadata": {},
   "outputs": [],
   "source": []
  }
 ],
 "metadata": {
  "kernelspec": {
   "display_name": "Python 3",
   "language": "python",
   "name": "python3"
  },
  "language_info": {
   "codemirror_mode": {
    "name": "ipython",
    "version": 3
   },
   "file_extension": ".py",
   "mimetype": "text/x-python",
   "name": "python",
   "nbconvert_exporter": "python",
   "pygments_lexer": "ipython3",
   "version": "3.6.9"
  }
 },
 "nbformat": 4,
 "nbformat_minor": 5
}
