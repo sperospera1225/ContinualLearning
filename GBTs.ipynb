{
 "cells": [
  {
   "cell_type": "code",
   "execution_count": 1,
   "id": "b41fe929",
   "metadata": {},
   "outputs": [
    {
     "name": "stderr",
     "output_type": "stream",
     "text": [
      "Using TensorFlow backend.\n"
     ]
    }
   ],
   "source": [
    "from pyspark import SparkContext\n",
    "from pyspark.sql.session import SparkSession\n",
    "from pyspark.streaming import StreamingContext\n",
    "from pyspark.ml import Pipeline\n",
    "from pyspark.ml.feature import StringIndexer, OneHotEncoderEstimator, VectorAssembler\n",
    "from pyspark.ml.feature import StopWordsRemover, Word2Vec, RegexTokenizer, Tokenizer\n",
    "from pyspark.ml.classification import LogisticRegression\n",
    "from pyspark.sql import Row\n",
    "from pyspark.streaming.kafka import KafkaUtils\n",
    "import pyspark.sql.functions as f\n",
    "import json\n",
    "import re\n",
    "from pyspark.sql import SparkSession, SQLContext\n",
    "from pyspark.sql.functions import *\n",
    "import sys\n",
    "from pyspark.sql.types import *\n",
    "from pyspark.sql.types import StructType, StructField, StringType, IntegerType\n",
    "from pyspark.sql.functions import from_json\n",
    "from pyspark.sql.functions import lit\n",
    "import pickle\n",
    "import keras\n",
    "from numpy import zeros"
   ]
  },
  {
   "cell_type": "code",
   "execution_count": 87,
   "id": "a54d7c30",
   "metadata": {},
   "outputs": [],
   "source": [
    "from pyspark.ml import Pipeline\n",
    "from pyspark.ml.classification import GBTClassifier, DecisionTreeClassifier\n",
    "from pyspark.mllib.tree import RandomForest, RandomForestModel\n",
    "from pyspark.ml.regression import IsotonicRegression\n",
    "from pyspark.ml.feature import StringIndexer, VectorIndexer\n",
    "from pyspark.ml.evaluation import MulticlassClassificationEvaluator"
   ]
  },
  {
   "cell_type": "code",
   "execution_count": 3,
   "id": "272e2826",
   "metadata": {
    "scrolled": true
   },
   "outputs": [
    {
     "data": {
      "text/html": [
       "\n",
       "        <div>\n",
       "            <p><b>SparkContext</b></p>\n",
       "\n",
       "            <p><a href=\"http://kafka1:4040\">Spark UI</a></p>\n",
       "\n",
       "            <dl>\n",
       "              <dt>Version</dt>\n",
       "                <dd><code>v2.4.7</code></dd>\n",
       "              <dt>Master</dt>\n",
       "                <dd><code>yarn</code></dd>\n",
       "              <dt>AppName</dt>\n",
       "                <dd><code>PySparkShell</code></dd>\n",
       "            </dl>\n",
       "        </div>\n",
       "        "
      ],
      "text/plain": [
       "<SparkContext master=yarn appName=PySparkShell>"
      ]
     },
     "execution_count": 3,
     "metadata": {},
     "output_type": "execute_result"
    }
   ],
   "source": [
    "sc"
   ]
  },
  {
   "cell_type": "code",
   "execution_count": 4,
   "id": "3efa0351",
   "metadata": {},
   "outputs": [
    {
     "data": {
      "text/html": [
       "\n",
       "            <div>\n",
       "                <p><b>SparkSession - hive</b></p>\n",
       "                \n",
       "        <div>\n",
       "            <p><b>SparkContext</b></p>\n",
       "\n",
       "            <p><a href=\"http://kafka1:4040\">Spark UI</a></p>\n",
       "\n",
       "            <dl>\n",
       "              <dt>Version</dt>\n",
       "                <dd><code>v2.4.7</code></dd>\n",
       "              <dt>Master</dt>\n",
       "                <dd><code>yarn</code></dd>\n",
       "              <dt>AppName</dt>\n",
       "                <dd><code>PySparkShell</code></dd>\n",
       "            </dl>\n",
       "        </div>\n",
       "        \n",
       "            </div>\n",
       "        "
      ],
      "text/plain": [
       "<pyspark.sql.session.SparkSession at 0x7fa87d340978>"
      ]
     },
     "execution_count": 4,
     "metadata": {},
     "output_type": "execute_result"
    }
   ],
   "source": [
    "spark"
   ]
  },
  {
   "cell_type": "code",
   "execution_count": 5,
   "id": "79951cff",
   "metadata": {},
   "outputs": [
    {
     "data": {
      "text/plain": [
       "<pyspark.sql.context.SQLContext at 0x7fa868d70588>"
      ]
     },
     "execution_count": 5,
     "metadata": {},
     "output_type": "execute_result"
    }
   ],
   "source": [
    "sql_context = SQLContext(sc)\n",
    "sql_context"
   ]
  },
  {
   "cell_type": "code",
   "execution_count": 29,
   "id": "397e2ed6",
   "metadata": {},
   "outputs": [],
   "source": [
    "loaded_data = spark.read.csv(\"hdfs:///user/spark/datafile/testdf.csv\", header=True, inferSchema=True)"
   ]
  },
  {
   "cell_type": "code",
   "execution_count": 30,
   "id": "91aced27",
   "metadata": {},
   "outputs": [
    {
     "data": {
      "text/plain": [
       "[('TIMESTAMP', 'timestamp'),\n",
       " ('누적전력량', 'double'),\n",
       " ('무효전력평균', 'double'),\n",
       " ('상전압평균', 'double'),\n",
       " ('선간전압평균', 'double'),\n",
       " ('역률평균', 'double'),\n",
       " ('온도', 'double'),\n",
       " ('유효전력평균', 'double'),\n",
       " ('전류고조파평균', 'double'),\n",
       " ('전류평균', 'double'),\n",
       " ('전압고조파평균', 'double'),\n",
       " ('주파수', 'double'),\n",
       " ('DEVICE_ID', 'int'),\n",
       " ('LABEL_역률평균', 'int'),\n",
       " ('LABEL_전압고조파평균', 'int'),\n",
       " ('LABEL_전류고조파평균', 'int'),\n",
       " ('LABEL_NAME', 'int')]"
      ]
     },
     "execution_count": 30,
     "metadata": {},
     "output_type": "execute_result"
    }
   ],
   "source": [
    "loaded_data.dtypes"
   ]
  },
  {
   "cell_type": "code",
   "execution_count": 15,
   "id": "ebd213b3",
   "metadata": {},
   "outputs": [],
   "source": [
    "import pickle\n",
    "with open(\"/root/rounded_df\", \"rb\") as file:\n",
    "    loaded_data = pickle.load(file)"
   ]
  },
  {
   "cell_type": "code",
   "execution_count": 16,
   "id": "5d146a54",
   "metadata": {},
   "outputs": [],
   "source": [
    "df = spark.createDataFrame(loaded_data)"
   ]
  },
  {
   "cell_type": "code",
   "execution_count": 22,
   "id": "452d3667",
   "metadata": {},
   "outputs": [
    {
     "name": "stdout",
     "output_type": "stream",
     "text": [
      "+----------+-----+---------+--------------+----------+------------+----+------------+--------------+--------+------------+--------+------+\n",
      "|누적전력량|label|DEVICE_ID|전압고조파평균|상전압평균|선간전압평균|온도|무효전력평균|전류고조파평균|전류평균|유효전력평균|역률평균|주파수|\n",
      "+----------+-----+---------+--------------+----------+------------+----+------------+--------------+--------+------------+--------+------+\n",
      "|       0.0|    0|     5252|          6.45|    226.25|      391.75|35.0|     10440.5|         10.19|   19.38|      8100.5|    0.61| 59.92|\n",
      "+----------+-----+---------+--------------+----------+------------+----+------------+--------------+--------+------------+--------+------+\n",
      "only showing top 1 row\n",
      "\n"
     ]
    }
   ],
   "source": [
    "df.show(1)"
   ]
  },
  {
   "cell_type": "code",
   "execution_count": 31,
   "id": "d8dc22bc",
   "metadata": {
    "scrolled": true
   },
   "outputs": [
    {
     "name": "stdout",
     "output_type": "stream",
     "text": [
      "+-------------------+----------+------------+----------+------------+--------+-----+------------+--------------+--------+--------------+---------+---------+--------------+--------------------+--------------------+----------+\n",
      "|          TIMESTAMP|누적전력량|무효전력평균|상전압평균|선간전압평균|역률평균| 온도|유효전력평균|전류고조파평균|전류평균|전압고조파평균|   주파수|DEVICE_ID|LABEL_역률평균|LABEL_전압고조파평균|LABEL_전류고조파평균|LABEL_NAME|\n",
      "+-------------------+----------+------------+----------+------------+--------+-----+------------+--------------+--------+--------------+---------+---------+--------------+--------------------+--------------------+----------+\n",
      "|2021-01-19 00:00:48| 1523.2915|         0.0|132.916672|  230.083328|     0.0|38.75|         0.0|           0.0|     0.0|      3.287761|59.835415|     7303|             2|                   0|                   0|         1|\n",
      "+-------------------+----------+------------+----------+------------+--------+-----+------------+--------------+--------+--------------+---------+---------+--------------+--------------------+--------------------+----------+\n",
      "only showing top 1 row\n",
      "\n"
     ]
    }
   ],
   "source": [
    "loaded_data.show(1)"
   ]
  },
  {
   "cell_type": "code",
   "execution_count": 24,
   "id": "e03d1a2a",
   "metadata": {},
   "outputs": [
    {
     "data": {
      "text/plain": [
       "['누적전력량',\n",
       " 'label',\n",
       " 'DEVICE_ID',\n",
       " '전압고조파평균',\n",
       " '상전압평균',\n",
       " '선간전압평균',\n",
       " '온도',\n",
       " '무효전력평균',\n",
       " '전류고조파평균',\n",
       " '전류평균',\n",
       " '유효전력평균',\n",
       " '역률평균',\n",
       " '주파수']"
      ]
     },
     "execution_count": 24,
     "metadata": {},
     "output_type": "execute_result"
    }
   ],
   "source": [
    "df.columns"
   ]
  },
  {
   "cell_type": "code",
   "execution_count": 23,
   "id": "eeb7a735",
   "metadata": {},
   "outputs": [
    {
     "data": {
      "text/plain": [
       "['TIMESTAMP',\n",
       " '누적전력량',\n",
       " '무효전력평균',\n",
       " '상전압평균',\n",
       " '선간전압평균',\n",
       " '역률평균',\n",
       " '온도',\n",
       " '유효전력평균',\n",
       " '전류고조파평균',\n",
       " '전류평균',\n",
       " '전압고조파평균',\n",
       " '주파수',\n",
       " 'DEVICE_ID',\n",
       " 'LABEL_역률평균',\n",
       " 'LABEL_전압고조파평균',\n",
       " 'LABEL_전류고조파평균',\n",
       " 'LABEL_NAME']"
      ]
     },
     "execution_count": 23,
     "metadata": {},
     "output_type": "execute_result"
    }
   ],
   "source": [
    "loaded_data.columns"
   ]
  },
  {
   "cell_type": "code",
   "execution_count": 88,
   "id": "d3d5b11a",
   "metadata": {},
   "outputs": [],
   "source": [
    "features = ['누적전력량', 'DEVICE_ID', '전압고조파평균', '상전압평균', '선간전압평균', '온도', '무효전력평균', '전류고조파평균', '전류평균', '유효전력평균', '역률평균', '주파수']"
   ]
  },
  {
   "cell_type": "code",
   "execution_count": 89,
   "id": "c4303e82",
   "metadata": {
    "scrolled": true
   },
   "outputs": [],
   "source": [
    "va = VectorAssembler(inputCols=features, outputCol='features')"
   ]
  },
  {
   "cell_type": "code",
   "execution_count": 90,
   "id": "a1feb230",
   "metadata": {},
   "outputs": [],
   "source": [
    "va_df = va.transform(loaded_data)"
   ]
  },
  {
   "cell_type": "code",
   "execution_count": 91,
   "id": "3e65d908",
   "metadata": {},
   "outputs": [
    {
     "data": {
      "text/plain": [
       "DataFrame[TIMESTAMP: timestamp, 누적전력량: double, 무효전력평균: double, 상전압평균: double, 선간전압평균: double, 역률평균: double, 온도: double, 유효전력평균: double, 전류고조파평균: double, 전류평균: double, 전압고조파평균: double, 주파수: double, DEVICE_ID: int, LABEL_역률평균: int, LABEL_전압고조파평균: int, LABEL_전류고조파평균: int, LABEL_NAME: int, features: vector]"
      ]
     },
     "execution_count": 91,
     "metadata": {},
     "output_type": "execute_result"
    }
   ],
   "source": [
    "va_df"
   ]
  },
  {
   "cell_type": "code",
   "execution_count": 92,
   "id": "dd47f48d",
   "metadata": {},
   "outputs": [],
   "source": [
    "labelIndexer = StringIndexer(inputCol='LABEL_NAME', outputCol=\"indexedLabel\").fit(va_df)"
   ]
  },
  {
   "cell_type": "code",
   "execution_count": 98,
   "id": "2135ad80",
   "metadata": {},
   "outputs": [],
   "source": [
    "featureIndexer = VectorIndexer(inputCol=\"features\", outputCol=\"indexedFeatures\", maxCategories=23).fit(va_df)"
   ]
  },
  {
   "cell_type": "code",
   "execution_count": 99,
   "id": "5b30126d",
   "metadata": {},
   "outputs": [],
   "source": [
    "(train, test) = va_df.randomSplit([0.8, 0.2])"
   ]
  },
  {
   "cell_type": "code",
   "execution_count": 100,
   "id": "1c317835",
   "metadata": {},
   "outputs": [],
   "source": [
    "from pyspark.ml.tuning import ParamGridBuilder\n",
    "from pyspark.ml.tuning import TrainValidationSplit\n",
    "from pyspark.ml.evaluation import MulticlassClassificationEvaluator"
   ]
  },
  {
   "cell_type": "code",
   "execution_count": 101,
   "id": "fcc34ece",
   "metadata": {
    "scrolled": true
   },
   "outputs": [],
   "source": [
    "gbt = GBTClassifier(labelCol=\"indexedLabel\", featuresCol=\"indexedFeatures\", maxIter=10, maxBins=77)\n",
    "# paramGrid = ParamGridBuilder().addGrid(gbt.maxBins,77).addGrid(gbt.maxIter, [4, 6, 8]).addGrid(gbt.lossType, [\"entropy\", \"gini\"]).build()"
   ]
  },
  {
   "cell_type": "code",
   "execution_count": 102,
   "id": "fea01dac",
   "metadata": {},
   "outputs": [],
   "source": [
    "pipeline = Pipeline(stages=[labelIndexer, featureIndexer, gbt])"
   ]
  },
  {
   "cell_type": "code",
   "execution_count": 103,
   "id": "bbf013a2",
   "metadata": {},
   "outputs": [],
   "source": [
    "model = pipeline.fit(train)"
   ]
  },
  {
   "cell_type": "code",
   "execution_count": 104,
   "id": "79dfd9fb",
   "metadata": {},
   "outputs": [],
   "source": [
    "predictions = model.transform(test)"
   ]
  },
  {
   "cell_type": "code",
   "execution_count": 105,
   "id": "5a7d7db3",
   "metadata": {},
   "outputs": [
    {
     "name": "stdout",
     "output_type": "stream",
     "text": [
      "+-------------------+------------+--------------------+\n",
      "|         prediction|indexedLabel|            features|\n",
      "+-------------------+------------+--------------------+\n",
      "| 0.4270438064724936|         0.0|[19235.63,1385.0,...|\n",
      "|0.39699430823660115|         0.0|[19235.63,1385.0,...|\n",
      "| 0.4026359744770577|         0.0|[19235.63,1385.0,...|\n",
      "|0.41851471035913956|         0.0|[19235.63,1385.0,...|\n",
      "| 0.4270438064724936|         0.0|[19235.63,1385.0,...|\n",
      "|0.39699430823660115|         0.0|[19235.63,1385.0,...|\n",
      "|0.39699430823660115|         0.0|[19235.63,1385.0,...|\n",
      "|0.39699430823660115|         0.0|[19235.63,1385.0,...|\n",
      "|0.39699430823660115|         0.0|[19235.63,1385.0,...|\n",
      "| 0.4026359744770577|         0.0|[19235.63,1385.0,...|\n",
      "| 0.3912753872513461|         0.0|[19235.63,1385.0,...|\n",
      "| 0.3912753872513461|         0.0|[19235.63,1385.0,...|\n",
      "|0.39699430823660115|         0.0|[19235.63,1385.0,...|\n",
      "|0.39699430823660115|         0.0|[19235.63,1385.0,...|\n",
      "|0.39699430823660115|         0.0|[19235.63,1385.0,...|\n",
      "|0.38846521212324714|         0.0|[19235.63,1385.0,...|\n",
      "| 0.4026359744770577|         0.0|[19235.63,1385.0,...|\n",
      "| 0.3912753872513461|         0.0|[19235.63,1385.0,...|\n",
      "|0.38846521212324714|         0.0|[19235.63,1385.0,...|\n",
      "|0.38846521212324714|         0.0|[19235.63,1385.0,...|\n",
      "|0.39699430823660115|         0.0|[19235.63,1385.0,...|\n",
      "|0.38846521212324714|         0.0|[19235.63,1385.0,...|\n",
      "|0.38846521212324714|         0.0|[19235.63,1385.0,...|\n",
      "|0.38846521212324714|         0.0|[19235.63,1385.0,...|\n",
      "|0.38846521212324714|         0.0|[19235.63,1385.0,...|\n",
      "|0.38846521212324714|         0.0|[19235.63,1385.0,...|\n",
      "|0.38846521212324714|         0.0|[19235.63,1385.0,...|\n",
      "|0.38846521212324714|         0.0|[19235.63,1385.0,...|\n",
      "|0.38846521212324714|         0.0|[19235.63,1385.0,...|\n",
      "|0.38846521212324714|         0.0|[19235.63,1385.0,...|\n",
      "|0.38846521212324714|         0.0|[19235.63,1385.0,...|\n",
      "|0.39699430823660115|         0.0|[19235.63,1385.0,...|\n",
      "|0.38846521212324714|         0.0|[19235.63,1385.0,...|\n",
      "|0.38846521212324714|         0.0|[19235.63,1385.0,...|\n",
      "|0.38846521212324714|         0.0|[19235.63,1385.0,...|\n",
      "|0.38846521212324714|         0.0|[19235.63,1385.0,...|\n",
      "|0.38846521212324714|         0.0|[19235.63,1385.0,...|\n",
      "|0.38846521212324714|         0.0|[19235.63,1385.0,...|\n",
      "|0.38846521212324714|         0.0|[19235.63,1385.0,...|\n",
      "|0.38846521212324714|         0.0|[19235.63,1385.0,...|\n",
      "|0.38846521212324714|         0.0|[19235.63,1385.0,...|\n",
      "|0.38846521212324714|         0.0|[19235.63,1385.0,...|\n",
      "|0.38846521212324714|         0.0|[19235.63,1385.0,...|\n",
      "|0.38846521212324714|         0.0|[19235.63,1385.0,...|\n",
      "|0.38846521212324714|         0.0|[19235.63,1385.0,...|\n",
      "|0.38846521212324714|         0.0|[19235.63,1385.0,...|\n",
      "|0.38846521212324714|         0.0|[19235.63,1385.0,...|\n",
      "|0.38846521212324714|         0.0|[19235.63,1385.0,...|\n",
      "|0.38846521212324714|         0.0|[19235.63,1385.0,...|\n",
      "|0.38846521212324714|         0.0|[19235.63,1385.0,...|\n",
      "|0.38846521212324714|         0.0|[19235.63,1385.0,...|\n",
      "|0.38846521212324714|         0.0|[19235.63,1385.0,...|\n",
      "|0.38846521212324714|         0.0|[19235.63,1385.0,...|\n",
      "|0.38846521212324714|         0.0|[19235.63,1385.0,...|\n",
      "|0.38846521212324714|         0.0|[19235.63,1385.0,...|\n",
      "|0.38846521212324714|         0.0|[19235.63,1385.0,...|\n",
      "|0.38846521212324714|         0.0|[19235.63,1385.0,...|\n",
      "|0.38846521212324714|         0.0|[19235.63,1385.0,...|\n",
      "|0.38846521212324714|         0.0|[19235.63,1385.0,...|\n",
      "|0.38846521212324714|         0.0|[19235.63,1385.0,...|\n",
      "|0.38846521212324714|         0.0|[19235.63,1385.0,...|\n",
      "|0.38846521212324714|         0.0|[19235.63,1385.0,...|\n",
      "|0.38846521212324714|         0.0|[19235.63,1385.0,...|\n",
      "|0.38846521212324714|         0.0|[19235.63,1385.0,...|\n",
      "|0.38846521212324714|         0.0|[19235.63,1385.0,...|\n",
      "|0.38846521212324714|         0.0|[19235.63,1385.0,...|\n",
      "|0.38846521212324714|         0.0|[19235.63,1385.0,...|\n",
      "|0.38846521212324714|         0.0|[19235.63,1385.0,...|\n",
      "|0.38846521212324714|         0.0|[19235.63,1385.0,...|\n",
      "|0.38846521212324714|         0.0|[19235.63,1385.0,...|\n",
      "|0.38846521212324714|         0.0|[19235.63,1385.0,...|\n",
      "|0.38846521212324714|         0.0|[19235.63,1385.0,...|\n",
      "|0.38846521212324714|         0.0|[19235.63,1385.0,...|\n",
      "| 0.3827462911379921|         0.0|[19235.63,1385.0,...|\n",
      "| 0.3827462911379921|         0.0|[19235.63,1385.0,...|\n",
      "| 0.3827462911379921|         0.0|[19235.63,1385.0,...|\n",
      "| 0.3827462911379921|         0.0|[19235.63,1385.0,...|\n",
      "| 0.3827462911379921|         0.0|[19235.63,1385.0,...|\n",
      "| 0.3827462911379921|         0.0|[19235.63,1385.0,...|\n",
      "| 0.3827462911379921|         0.0|[19235.63,1385.0,...|\n",
      "| 0.3827462911379921|         0.0|[19235.63,1385.0,...|\n",
      "|0.38846521212324714|         0.0|[19235.63,1385.0,...|\n",
      "|0.38846521212324714|         0.0|[19235.63,1385.0,...|\n",
      "|0.38846521212324714|         0.0|[19235.63,1385.0,...|\n",
      "|0.38846521212324714|         0.0|[19235.63,1385.0,...|\n",
      "|0.38846521212324714|         0.0|[19235.63,1385.0,...|\n",
      "|0.38846521212324714|         0.0|[19235.63,1385.0,...|\n",
      "|0.38846521212324714|         0.0|[19235.63,1385.0,...|\n",
      "|0.38846521212324714|         0.0|[19235.63,1385.0,...|\n",
      "|0.38846521212324714|         0.0|[19235.63,1385.0,...|\n",
      "|0.38846521212324714|         0.0|[19235.63,1385.0,...|\n",
      "|0.38846521212324714|         0.0|[19235.63,1385.0,...|\n",
      "|0.38846521212324714|         0.0|[19235.63,1385.0,...|\n",
      "|0.38846521212324714|         0.0|[19235.63,1385.0,...|\n",
      "|0.38846521212324714|         0.0|[19235.63,1385.0,...|\n",
      "|0.38846521212324714|         0.0|[19235.63,1385.0,...|\n",
      "|0.38846521212324714|         0.0|[19235.63,1385.0,...|\n",
      "|0.38846521212324714|         0.0|[19235.63,1385.0,...|\n",
      "|0.38846521212324714|         0.0|[19235.63,1385.0,...|\n",
      "|0.38846521212324714|         0.0|[19235.63,1385.0,...|\n",
      "+-------------------+------------+--------------------+\n",
      "only showing top 100 rows\n",
      "\n"
     ]
    }
   ],
   "source": [
    "# Select example rows to display.\n",
    "predictions.select(\"prediction\", \"indexedLabel\", \"features\").show(100)"
   ]
  },
  {
   "cell_type": "code",
   "execution_count": 106,
   "id": "5c27452d",
   "metadata": {},
   "outputs": [],
   "source": [
    "# Select (prediction, true label) and compute test error\n",
    "evaluator = MulticlassClassificationEvaluator(\n",
    "    labelCol=\"indexedLabel\", predictionCol=\"prediction\", metricName=\"accuracy\")"
   ]
  },
  {
   "cell_type": "code",
   "execution_count": 107,
   "id": "4611893a",
   "metadata": {},
   "outputs": [
    {
     "name": "stdout",
     "output_type": "stream",
     "text": [
      "Test Error = 1\n"
     ]
    }
   ],
   "source": [
    "accuracy = evaluator.evaluate(predictions)\n",
    "print(\"Test Error = %g\" % (1.0 - accuracy))"
   ]
  },
  {
   "cell_type": "code",
   "execution_count": 108,
   "id": "69ad80f7",
   "metadata": {
    "scrolled": true
   },
   "outputs": [
    {
     "name": "stdout",
     "output_type": "stream",
     "text": [
      "0.0\n"
     ]
    }
   ],
   "source": [
    "print(accuracy)"
   ]
  },
  {
   "cell_type": "code",
   "execution_count": 85,
   "id": "3588efbc",
   "metadata": {},
   "outputs": [
    {
     "name": "stdout",
     "output_type": "stream",
     "text": [
      "DecisionTreeClassificationModel (uid=DecisionTreeClassifier_26344de776ba) of depth 5 with 41 nodes\n"
     ]
    }
   ],
   "source": [
    "gbtModel = model.stages[2]\n",
    "print(gbtModel)  # summary only"
   ]
  },
  {
   "cell_type": "code",
   "execution_count": null,
   "id": "ae9adf7e",
   "metadata": {},
   "outputs": [],
   "source": []
  }
 ],
 "metadata": {
  "kernelspec": {
   "display_name": "Python 3",
   "language": "python",
   "name": "python3"
  },
  "language_info": {
   "codemirror_mode": {
    "name": "ipython",
    "version": 3
   },
   "file_extension": ".py",
   "mimetype": "text/x-python",
   "name": "python",
   "nbconvert_exporter": "python",
   "pygments_lexer": "ipython3",
   "version": "3.6.9"
  }
 },
 "nbformat": 4,
 "nbformat_minor": 5
}
